{
  "nbformat": 4,
  "nbformat_minor": 0,
  "metadata": {
    "colab": {
      "name": "topological_sortings.ipynb",
      "provenance": [],
      "collapsed_sections": []
    },
    "kernelspec": {
      "name": "python3",
      "display_name": "Python 3"
    }
  },
  "cells": [
    {
      "cell_type": "markdown",
      "metadata": {
        "id": "CDqMnRq2go9p"
      },
      "source": [
        "## Topological Sortings\n",
        "\n",
        "Given below is a acyclic directed graph in the format of an adjacency list.  \n",
        "How many topological sortings does the graph have? (correct answer: 6)  \n",
        "\n",
        "0: 1, 2, 3, 5  \n",
        "1: 2, 4, 5  \n",
        "2: 3, 6  \n",
        "3: 6  \n",
        "4:  \n",
        "5:  \n",
        "6:  "
      ]
    },
    {
      "cell_type": "markdown",
      "metadata": {
        "id": "hQ6iIsicoRku"
      },
      "source": [
        "How to generate all permutations of a list?  \n",
        "https://stackoverflow.com/questions/104420/how-to-generate-all-permutations-of-a-list   \n",
        "\n",
        "\n",
        "All Topological Sorts of a Directed Acyclic Graph   \n",
        "https://www.geeksforgeeks.org/all-topological-sorts-of-a-directed-acyclic-graph/  \n",
        "\n",
        "Find all Possible Topological Orderings of a DAG - Techie Delight  \n",
        "https://www.techiedelight.com/find-all-possible-topological-orderings-of-dag/"
      ]
    },
    {
      "cell_type": "code",
      "metadata": {
        "id": "Ef5Kg8P4bdVL",
        "colab": {
          "base_uri": "https://localhost:8080/",
          "height": 357
        },
        "outputId": "7eee33b4-8f33-4814-dfb5-608bef692e1b"
      },
      "source": [
        "import itertools\n",
        "\n",
        "nodes = [0,1,2,3,4,5,6]\n",
        "graph = {0:{1,2,3,5}, 1:{2,4,5}, 2:{3,6}, 3:{6}}\n",
        "sortings = list(itertools.permutations(nodes))\n",
        "\n",
        "def is_valid_sorting(a,g):\n",
        "  for i in g:\n",
        "    for j in g[i]:\n",
        "      if a.index(i) > a.index(j):\n",
        "        return False\n",
        "  return True\n",
        "\n",
        "c = 0\n",
        "for a in sortings:\n",
        "  if is_valid_sorting(a,graph):\n",
        "    c += 1\n",
        "    print(c,a)"
      ],
      "execution_count": null,
      "outputs": [
        {
          "output_type": "stream",
          "text": [
            "1 (0, 1, 2, 3, 4, 5, 6)\n",
            "2 (0, 1, 2, 3, 4, 6, 5)\n",
            "3 (0, 1, 2, 3, 5, 4, 6)\n",
            "4 (0, 1, 2, 3, 5, 6, 4)\n",
            "5 (0, 1, 2, 3, 6, 4, 5)\n",
            "6 (0, 1, 2, 3, 6, 5, 4)\n",
            "7 (0, 1, 2, 4, 3, 5, 6)\n",
            "8 (0, 1, 2, 4, 3, 6, 5)\n",
            "9 (0, 1, 2, 4, 5, 3, 6)\n",
            "10 (0, 1, 2, 5, 3, 4, 6)\n",
            "11 (0, 1, 2, 5, 3, 6, 4)\n",
            "12 (0, 1, 2, 5, 4, 3, 6)\n",
            "13 (0, 1, 4, 2, 3, 5, 6)\n",
            "14 (0, 1, 4, 2, 3, 6, 5)\n",
            "15 (0, 1, 4, 2, 5, 3, 6)\n",
            "16 (0, 1, 4, 5, 2, 3, 6)\n",
            "17 (0, 1, 5, 2, 3, 4, 6)\n",
            "18 (0, 1, 5, 2, 3, 6, 4)\n",
            "19 (0, 1, 5, 2, 4, 3, 6)\n",
            "20 (0, 1, 5, 4, 2, 3, 6)\n"
          ],
          "name": "stdout"
        }
      ]
    },
    {
      "cell_type": "code",
      "metadata": {
        "id": "_4dw9oP6kqUL",
        "colab": {
          "base_uri": "https://localhost:8080/",
          "height": 119
        },
        "outputId": "4f54d1bb-1e65-4c46-e258-9cbb5fdea50e"
      },
      "source": [
        "# another nice approach \n",
        "# instead of itertools.permutations\n",
        "\n",
        "def all_perms(elements):\n",
        "    if len(elements) <=1:\n",
        "        yield elements\n",
        "    else:\n",
        "        for perm in all_perms(elements[1:]):\n",
        "            for i in range(len(elements)):\n",
        "                yield perm[:i] + elements[0:1] + perm[i:]\n",
        "\n",
        "c = 0\n",
        "for p in all_perms([1,2,3]):\n",
        "  c += 1\n",
        "  print(c,p)"
      ],
      "execution_count": null,
      "outputs": [
        {
          "output_type": "stream",
          "text": [
            "1 [1, 2, 3]\n",
            "2 [2, 1, 3]\n",
            "3 [2, 3, 1]\n",
            "4 [1, 3, 2]\n",
            "5 [3, 1, 2]\n",
            "6 [3, 2, 1]\n"
          ],
          "name": "stdout"
        }
      ]
    },
    {
      "cell_type": "code",
      "metadata": {
        "id": "XPYtke7JpeCJ",
        "colab": {
          "base_uri": "https://localhost:8080/",
          "height": 357
        },
        "outputId": "b159003b-f86d-48d9-b58b-04f676f932b7"
      },
      "source": [
        "# class to represent a graph object:\n",
        "class Graph:\n",
        "\n",
        "    # Constructor\n",
        "    def __init__(self, edges, N):\n",
        "\n",
        "        # A List of Lists to represent an adjacency list\n",
        "        self.adjList = [[] for _ in range(N)]\n",
        "\n",
        "        # stores in-degree of a vertex\n",
        "        # initialize in-degree of each vertex by 0\n",
        "        self.indegree = [0] * N\n",
        "\n",
        "        # add edges to the undirected graph\n",
        "        for (src, dest) in edges:\n",
        "\n",
        "            # add an edge from source to destination\n",
        "            self.adjList[src].append(dest)\n",
        "\n",
        "            # increment in-degree of destination vertex by 1\n",
        "            self.indegree[dest] = self.indegree[dest] + 1\n",
        "\n",
        "\n",
        "# Recursive function to find all topological orderings of a given DAG\n",
        "def findAllTopologicalOrders(graph, path, discovered, N):\n",
        "\n",
        "    # do for every vertex\n",
        "    for v in range(N):\n",
        "\n",
        "        # proceed only if in-degree of current node is 0 and\n",
        "        # current node is not processed yet\n",
        "        if graph.indegree[v] == 0 and not discovered[v]:\n",
        "\n",
        "            # for every adjacent vertex u of v, reduce in-degree of u by 1\n",
        "            for u in graph.adjList[v]:\n",
        "                graph.indegree[u] = graph.indegree[u] - 1\n",
        "\n",
        "            # include current node in the path and mark it as discovered\n",
        "            path.append(v)\n",
        "            discovered[v] = True\n",
        "\n",
        "            # recur\n",
        "            findAllTopologicalOrders(graph, path, discovered, N)\n",
        "\n",
        "            # backtrack: reset in-degree information for the current node\n",
        "            for u in graph.adjList[v]:\n",
        "                graph.indegree[u] = graph.indegree[u] + 1\n",
        "\n",
        "            # backtrack: remove current node from the path and\n",
        "            # mark it as undiscovered\n",
        "            path.pop()\n",
        "            discovered[v] = False\n",
        "\n",
        "    # print the topological order if all vertices are included in the path\n",
        "    if len(path) == N:\n",
        "        print(path)\n",
        "\n",
        "\n",
        "# Print all topological orderings of a given DAG\n",
        "def printAllTopologicalOrders(graph):\n",
        "\n",
        "    # get number of nodes in the graph\n",
        "    N = len(graph.adjList)\n",
        "\n",
        "    # create an auxiliary space to keep track of whether vertex is discovered\n",
        "    discovered = [False] * N\n",
        "\n",
        "    # list to store the topological order\n",
        "    path = []\n",
        "\n",
        "    # find all topological ordering and print them\n",
        "    findAllTopologicalOrders(graph, path, discovered, N)\n",
        "\n",
        "\n",
        "if __name__ == '__main__':\n",
        "\n",
        "    # List of graph edges as per above diagram\n",
        "    # graph = {0:{1,2,3,5}, 1:{2,4,5}, 2:{3,6}, 3:{6}}\n",
        "    edges = [(0,1),(0,2),(0,3),(0,5),(1,2),(1,4),(1,5),(2,3),(2,6),(3,6)]\n",
        "\n",
        "    # Number of nodes in the graph\n",
        "    N = 7\n",
        "\n",
        "    # create a graph from edges\n",
        "    graph = Graph(edges, N)\n",
        "\n",
        "    # print all topological ordering of the graph\n",
        "    printAllTopologicalOrders(graph)"
      ],
      "execution_count": null,
      "outputs": [
        {
          "output_type": "stream",
          "text": [
            "[0, 1, 2, 3, 4, 5, 6]\n",
            "[0, 1, 2, 3, 4, 6, 5]\n",
            "[0, 1, 2, 3, 5, 4, 6]\n",
            "[0, 1, 2, 3, 5, 6, 4]\n",
            "[0, 1, 2, 3, 6, 4, 5]\n",
            "[0, 1, 2, 3, 6, 5, 4]\n",
            "[0, 1, 2, 4, 3, 5, 6]\n",
            "[0, 1, 2, 4, 3, 6, 5]\n",
            "[0, 1, 2, 4, 5, 3, 6]\n",
            "[0, 1, 2, 5, 3, 4, 6]\n",
            "[0, 1, 2, 5, 3, 6, 4]\n",
            "[0, 1, 2, 5, 4, 3, 6]\n",
            "[0, 1, 4, 2, 3, 5, 6]\n",
            "[0, 1, 4, 2, 3, 6, 5]\n",
            "[0, 1, 4, 2, 5, 3, 6]\n",
            "[0, 1, 4, 5, 2, 3, 6]\n",
            "[0, 1, 5, 2, 3, 4, 6]\n",
            "[0, 1, 5, 2, 3, 6, 4]\n",
            "[0, 1, 5, 2, 4, 3, 6]\n",
            "[0, 1, 5, 4, 2, 3, 6]\n"
          ],
          "name": "stdout"
        }
      ]
    }
  ]
}