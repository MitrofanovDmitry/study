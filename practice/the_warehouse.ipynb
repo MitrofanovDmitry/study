{
  "nbformat": 4,
  "nbformat_minor": 0,
  "metadata": {
    "colab": {
      "name": "the_warehouse.ipynb",
      "provenance": [],
      "collapsed_sections": []
    },
    "kernelspec": {
      "name": "python3",
      "display_name": "Python 3"
    }
  },
  "cells": [
    {
      "cell_type": "markdown",
      "metadata": {
        "id": "w9eoX0_DdXbJ"
      },
      "source": [
        "https://en.m.wikibooks.org/wiki/SQL_Exercises/The_warehouse  "
      ]
    },
    {
      "cell_type": "code",
      "metadata": {
        "id": "bPYFt3_ZdZSV"
      },
      "source": [
        "%load_ext sql\n",
        "%sql sqlite:///db.db3"
      ],
      "execution_count": null,
      "outputs": []
    },
    {
      "cell_type": "code",
      "metadata": {
        "id": "RxuMx2kMdbVN"
      },
      "source": [
        "%%sql sqlite://\n",
        "\n",
        "CREATE TABLE Warehouses (\n",
        "   Code INTEGER PRIMARY KEY NOT NULL,\n",
        "   Location TEXT NOT NULL ,\n",
        "   Capacity INTEGER NOT NULL \n",
        ");\n",
        " \n",
        "CREATE TABLE Boxes (\n",
        "   Code TEXT PRIMARY KEY NOT NULL,\n",
        "   Contents TEXT NOT NULL ,\n",
        "   Value REAL NOT NULL ,\n",
        "   Warehouse INTEGER NOT NULL, \n",
        "   CONSTRAINT fk_Warehouses_Code FOREIGN KEY (Warehouse) REFERENCES Warehouses(Code)\n",
        ");\n",
        "\n",
        "INSERT INTO Warehouses(Code,Location,Capacity) VALUES(1,'Chicago',3);\n",
        "INSERT INTO Warehouses(Code,Location,Capacity) VALUES(2,'Chicago',4);\n",
        "INSERT INTO Warehouses(Code,Location,Capacity) VALUES(3,'New York',7);\n",
        "INSERT INTO Warehouses(Code,Location,Capacity) VALUES(4,'Los Angeles',2);\n",
        "INSERT INTO Warehouses(Code,Location,Capacity) VALUES(5,'San Francisco',8);\n",
        " \n",
        "INSERT INTO Boxes(Code,Contents,Value,Warehouse) VALUES('0MN7','Rocks',180,3);\n",
        "INSERT INTO Boxes(Code,Contents,Value,Warehouse) VALUES('4H8P','Rocks',250,1);\n",
        "INSERT INTO Boxes(Code,Contents,Value,Warehouse) VALUES('4RT3','Scissors',190,4);\n",
        "INSERT INTO Boxes(Code,Contents,Value,Warehouse) VALUES('7G3H','Rocks',200,1);\n",
        "INSERT INTO Boxes(Code,Contents,Value,Warehouse) VALUES('8JN6','Papers',75,1);\n",
        "INSERT INTO Boxes(Code,Contents,Value,Warehouse) VALUES('8Y6U','Papers',50,3);\n",
        "INSERT INTO Boxes(Code,Contents,Value,Warehouse) VALUES('9J6F','Papers',175,2);\n",
        "INSERT INTO Boxes(Code,Contents,Value,Warehouse) VALUES('LL08','Rocks',140,4);\n",
        "INSERT INTO Boxes(Code,Contents,Value,Warehouse) VALUES('P0H6','Scissors',125,1);\n",
        "INSERT INTO Boxes(Code,Contents,Value,Warehouse) VALUES('P2T6','Scissors',150,2);\n",
        "INSERT INTO Boxes(Code,Contents,Value,Warehouse) VALUES('TU55','Papers',90,5);"
      ],
      "execution_count": null,
      "outputs": []
    },
    {
      "cell_type": "code",
      "metadata": {
        "id": "NmwSXEGWdn8Z"
      },
      "source": [
        "# 1. Select all warehouses.\n",
        "%sql select * from warehouses;"
      ],
      "execution_count": null,
      "outputs": []
    },
    {
      "cell_type": "code",
      "metadata": {
        "id": "O9tCXpJCdtFx"
      },
      "source": [
        "# 2. Select all boxes with a value larger than $150.\n",
        "%sql select * from boxes where value > 150;"
      ],
      "execution_count": null,
      "outputs": []
    },
    {
      "cell_type": "code",
      "metadata": {
        "id": "-GWtDndVdutp"
      },
      "source": [
        "# 3. Select all distinct contents in all the boxes.\n",
        "%sql select distinct contents from boxes;"
      ],
      "execution_count": null,
      "outputs": []
    },
    {
      "cell_type": "code",
      "metadata": {
        "id": "CbuijDwEdwSw"
      },
      "source": [
        "# 4. Select the average value of all the boxes.\n",
        "%sql select avg(value) from boxes;"
      ],
      "execution_count": null,
      "outputs": []
    },
    {
      "cell_type": "code",
      "metadata": {
        "id": "fP1b0NoYdy1j"
      },
      "source": [
        "# 5. Select the warehouse code and the average value of the boxes in each warehouse.\n",
        "%sql select code, (select avg(value) from boxes where warehouse = warehouses.code) from warehouses;"
      ],
      "execution_count": null,
      "outputs": []
    },
    {
      "cell_type": "code",
      "metadata": {
        "id": "C3OTp1nBzWxJ"
      },
      "source": [
        "%sql select w.code, avg(b.value) from boxes as b inner join warehouses as w on b.warehouse = w.code group by w.code;"
      ],
      "execution_count": null,
      "outputs": []
    },
    {
      "cell_type": "code",
      "metadata": {
        "id": "EHAA2suXznoT"
      },
      "source": [
        "%sql select warehouse, avg(value) from boxes group by warehouse;"
      ],
      "execution_count": null,
      "outputs": []
    },
    {
      "cell_type": "code",
      "metadata": {
        "id": "5o5qjBKEdzcr"
      },
      "source": [
        "# 6. Same as previous exercise, but select only those warehouses where the average value of the boxes is greater than 150.\n",
        "%sql select warehouse, avg(value) from boxes group by warehouse having avg(value) > 150;"
      ],
      "execution_count": null,
      "outputs": []
    },
    {
      "cell_type": "code",
      "metadata": {
        "id": "tTWY0nZTd1mr"
      },
      "source": [
        "# 7. Select the code of each box, along with the name of the city the box is located in.\n",
        "%sql select b.code, w.location from boxes as b inner join warehouses as w on b.warehouse = w.code;"
      ],
      "execution_count": null,
      "outputs": []
    },
    {
      "cell_type": "code",
      "metadata": {
        "id": "uKXuDPvQd3P1"
      },
      "source": [
        "# 8. Select the warehouse codes, along with the number of boxes in each warehouse. Optionally, take into account that some warehouses are empty (i.e., the box count should show up as zero, instead of omitting the warehouse from the result).\n",
        "%sql select w.code, count(b.code) from boxes as b left join warehouses as w on b.warehouse = w.code group by w.code;"
      ],
      "execution_count": null,
      "outputs": []
    },
    {
      "cell_type": "code",
      "metadata": {
        "id": "hZwlf9zZ0mjt"
      },
      "source": [
        "%sql select w.code, count(b.code) from warehouses as w left join boxes as b on b.warehouse = w.code group by w.code;"
      ],
      "execution_count": null,
      "outputs": []
    },
    {
      "cell_type": "code",
      "metadata": {
        "id": "2QcbUNJd0yE1"
      },
      "source": [
        "%sql select warehouse, count(*) from boxes group by warehouse;"
      ],
      "execution_count": null,
      "outputs": []
    },
    {
      "cell_type": "code",
      "metadata": {
        "id": "aRH-uz1hd6lE"
      },
      "source": [
        "# 9. Select the codes of all warehouses that are saturated (a warehouse is saturated if the number of boxes in it is larger than the warehouse's capacity).\n",
        "%sql select w.code from warehouses as w inner join boxes as b on w.code = b.warehouse group by w.code having count(*) > w.capacity;"
      ],
      "execution_count": null,
      "outputs": []
    },
    {
      "cell_type": "code",
      "metadata": {
        "id": "hA3A7cOv1lUE"
      },
      "source": [
        "%sql select code from warehouses where capacity < (select count(*) from boxes where warehouse = warehouses.code);"
      ],
      "execution_count": null,
      "outputs": []
    },
    {
      "cell_type": "code",
      "metadata": {
        "id": "xCqLSfiUd8Uc"
      },
      "source": [
        "# 10. Select the codes of all the boxes located in Chicago.\n",
        "%sql select code from boxes where warehouse in (select code from warehouses where location = 'Chicago');"
      ],
      "execution_count": null,
      "outputs": []
    },
    {
      "cell_type": "code",
      "metadata": {
        "id": "XxF9Btw72ykn"
      },
      "source": [
        "%sql select b.code from boxes as b left join warehouses as w on b.warehouse = w.code where w.location = 'Chicago';"
      ],
      "execution_count": null,
      "outputs": []
    },
    {
      "cell_type": "code",
      "metadata": {
        "id": "w-K4Ky15d-F9"
      },
      "source": [
        "# 11. Create a new warehouse in New York with a capacity for 3 boxes.\n",
        "%sql insert into warehouses (location, capacity) values ('New York', 3);"
      ],
      "execution_count": null,
      "outputs": []
    },
    {
      "cell_type": "code",
      "metadata": {
        "id": "upj7vayzd_w0"
      },
      "source": [
        "# 12. Create a new box, with code \"H5RT\", containing \"Papers\" with a value of $200, and located in warehouse 2.\n",
        "%sql insert into boxes values ('H5RT', 'Papers', 200, 2);"
      ],
      "execution_count": null,
      "outputs": []
    },
    {
      "cell_type": "code",
      "metadata": {
        "id": "_CNs-jPoeCje"
      },
      "source": [
        "# 13. Reduce the value of all boxes by 15%.\n",
        "%sql update boxes set value = value * 0.85;"
      ],
      "execution_count": null,
      "outputs": []
    },
    {
      "cell_type": "code",
      "metadata": {
        "id": "M2pEqrUEeFPu"
      },
      "source": [
        "# 14. Apply a 20% value reduction to boxes with a value larger than the average value of all the boxes.\n",
        "%sql update boxes set value = value * 0.85 where value > (select avg(value) from boxes);"
      ],
      "execution_count": null,
      "outputs": []
    },
    {
      "cell_type": "code",
      "metadata": {
        "id": "f1NY69ujeIS2"
      },
      "source": [
        "# 15. Remove all boxes with a value lower than $100.\n",
        "%sql delete from boxes where value < 100;"
      ],
      "execution_count": null,
      "outputs": []
    },
    {
      "cell_type": "code",
      "metadata": {
        "id": "p0lyxd0WeJ9X"
      },
      "source": [
        "# 16. Remove all boxes from saturated warehouses.\n",
        "%sql delete from boxes where warehouse in (select code from warehouses where capacity < (select count(*) from boxes where warehouse = warehouses.code));"
      ],
      "execution_count": null,
      "outputs": []
    }
  ]
}