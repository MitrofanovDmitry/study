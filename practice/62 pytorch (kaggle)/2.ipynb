{
 "cells": [
  {
   "cell_type": "markdown",
   "id": "coupled-cylinder",
   "metadata": {},
   "source": [
    "https://www.kaggle.com/krishanudb/pytorch-tutorial-for-beginners  "
   ]
  },
  {
   "cell_type": "code",
   "execution_count": 3,
   "id": "broken-roberts",
   "metadata": {},
   "outputs": [],
   "source": [
    "import torch\n",
    "import torch.nn as nn\n",
    "import torch.nn.functional as F"
   ]
  },
  {
   "cell_type": "code",
   "execution_count": 4,
   "id": "underlying-bonus",
   "metadata": {},
   "outputs": [
    {
     "name": "stdout",
     "output_type": "stream",
     "text": [
      "Net(\n",
      "  (conv1): Conv2d(1, 6, kernel_size=(5, 5), stride=(1, 1))\n",
      "  (conv2): Conv2d(6, 16, kernel_size=(5, 5), stride=(1, 1))\n",
      "  (fc1): Linear(in_features=400, out_features=120, bias=True)\n",
      "  (fc2): Linear(in_features=120, out_features=84, bias=True)\n",
      "  (fc3): Linear(in_features=84, out_features=10, bias=True)\n",
      ")\n"
     ]
    }
   ],
   "source": [
    "class Net(nn.Module):\n",
    "    \n",
    "    def __init__(self):\n",
    "        super(Net, self).__init__()\n",
    "        # The convolutional layers are defined. Note that these are all functions but are defined like attributes\n",
    "        # input channels = 1, output channels = 6, window size = 5\n",
    "        self.conv1 = nn.Conv2d(1, 6, 5)\n",
    "        # input channels = 6, output channels = 16, window size = 5\n",
    "        self.conv2 = nn.Conv2d(6, 16, 5) \n",
    "        # The fully connected layers are defined\n",
    "        # input nodes = 16 * 5 * 5 (since each of the 16 channels are of the size 5 * 5), output = 120\n",
    "        self.fc1 = nn.Linear(16 * 5 * 5, 120)\n",
    "        # input = 120 output = 84\n",
    "        self.fc2 = nn.Linear(120, 84)\n",
    "        # last layer: input = 84, output = 10\n",
    "        self.fc3 = nn.Linear(84, 10)\n",
    "    \n",
    "    def forward(self, x):\n",
    "        # The first convolutional layer with all the max pooling and relu layers: there is a 2X2 max pooling\n",
    "        x = F.max_pool2d(F.relu(self.conv1(x)), (2, 2))\n",
    "        # The second conv layer: 2 X 2 max pooling\n",
    "        x = F.max_pool2d(F.relu(self.conv2(x)), 2)\n",
    "        # The reshape (flattening) layer which changes the shape of the tensor from that of a multichannel 2D tensor to a 1D tensor\n",
    "        x = x.view(-1, self.num_flat_features(x))\n",
    "        # Fully connected layer with activation\n",
    "        x = F.relu(self.fc1(x))\n",
    "        # Fully connected layer with activation\n",
    "        x = F.relu(self.fc2(x))\n",
    "        # Output layer\n",
    "        x = self.fc3(x)\n",
    "        return x\n",
    "    \n",
    "    def num_flat_features(self, x):\n",
    "        # The shape of the tensor without the first dimension which defines the number of samples\n",
    "        size = x.size()[1:]\n",
    "        # the shapes are are multiplied together to give the number of features\n",
    "        num_features = 1\n",
    "        for s in size: num_features *= s\n",
    "        return num_features\n",
    "    \n",
    "net = Net()\n",
    "print(net)"
   ]
  },
  {
   "cell_type": "code",
   "execution_count": 8,
   "id": "loaded-sweden",
   "metadata": {},
   "outputs": [
    {
     "name": "stdout",
     "output_type": "stream",
     "text": [
      "10\n",
      "torch.Size([6, 1, 5, 5])\n",
      "torch.Size([6])\n",
      "torch.Size([16, 6, 5, 5])\n",
      "torch.Size([16])\n",
      "torch.Size([120, 400])\n",
      "torch.Size([120])\n",
      "torch.Size([84, 120])\n",
      "torch.Size([84])\n",
      "torch.Size([10, 84])\n",
      "torch.Size([10])\n"
     ]
    }
   ],
   "source": [
    "params = list(net.parameters())\n",
    "print(len(params))\n",
    "for i in range(len(params)):\n",
    "    print(params[i].size())"
   ]
  },
  {
   "cell_type": "code",
   "execution_count": 9,
   "id": "registered-session",
   "metadata": {},
   "outputs": [
    {
     "name": "stdout",
     "output_type": "stream",
     "text": [
      "tensor([[ 0.1544,  0.0610,  0.1013, -0.0285, -0.0681,  0.0851, -0.1465,  0.0749,\n",
      "          0.0215, -0.1236]], grad_fn=<AddmmBackward>)\n"
     ]
    }
   ],
   "source": [
    "# Now, we define a simple random tensor and compute the output\n",
    "inp = torch.randn(1, 1, 32, 32)\n",
    "out = net(inp)\n",
    "print(out)"
   ]
  },
  {
   "cell_type": "code",
   "execution_count": 10,
   "id": "frequent-kitchen",
   "metadata": {},
   "outputs": [],
   "source": [
    "# We zero the gradient buffers of all the parameters\n",
    "net.zero_grad()"
   ]
  },
  {
   "cell_type": "code",
   "execution_count": 11,
   "id": "increased-attribute",
   "metadata": {},
   "outputs": [],
   "source": [
    "# The backprops are initialized with random gradients\n",
    "out.backward(torch.randn(1, 10))"
   ]
  },
  {
   "cell_type": "code",
   "execution_count": 12,
   "id": "finnish-wrapping",
   "metadata": {},
   "outputs": [
    {
     "name": "stdout",
     "output_type": "stream",
     "text": [
      "tensor(0.6018, grad_fn=<MseLossBackward>)\n"
     ]
    }
   ],
   "source": [
    "# Now we define the loss function.\n",
    "out = net(inp)\n",
    "target = torch.randn(10)\n",
    "target = target.view(1, -1)\n",
    "criteria = nn.MSELoss()\n",
    "loss = criteria(out, target)\n",
    "print(loss)"
   ]
  },
  {
   "cell_type": "code",
   "execution_count": 13,
   "id": "illegal-manitoba",
   "metadata": {},
   "outputs": [
    {
     "name": "stdout",
     "output_type": "stream",
     "text": [
      "<MseLossBackward object at 0x7fa73d0edee0>\n",
      "<AddmmBackward object at 0x7fa73d0ed910>\n",
      "<AccumulateGrad object at 0x7fa73d0edee0>\n"
     ]
    }
   ],
   "source": [
    "print(loss.grad_fn)\n",
    "print(loss.grad_fn.next_functions[0][0])\n",
    "print(loss.grad_fn.next_functions[0][0].next_functions[0][0])"
   ]
  },
  {
   "cell_type": "code",
   "execution_count": 14,
   "id": "separate-hygiene",
   "metadata": {},
   "outputs": [
    {
     "name": "stdout",
     "output_type": "stream",
     "text": [
      "Conv 1 bias before backward()\n",
      "tensor([0., 0., 0., 0., 0., 0.])\n",
      "Conv 2 bias after backward()\n",
      "tensor([ 0.0128,  0.0142,  0.0032,  0.0220, -0.0196,  0.0058])\n"
     ]
    }
   ],
   "source": [
    "net.zero_grad()\n",
    "print(\"Conv 1 bias before backward()\")\n",
    "print(net.conv1.bias.grad)\n",
    "loss.backward()\n",
    "print(\"Conv 2 bias after backward()\")\n",
    "print(net.conv1.bias.grad)"
   ]
  },
  {
   "cell_type": "code",
   "execution_count": 15,
   "id": "arbitrary-rapid",
   "metadata": {},
   "outputs": [],
   "source": [
    "learning_rate = 0.001\n",
    "for f in net.parameters():\n",
    "    f.data.sub_(f.grad.data * learning_rate)"
   ]
  },
  {
   "cell_type": "code",
   "execution_count": 16,
   "id": "bright-rental",
   "metadata": {},
   "outputs": [],
   "source": [
    "import torch.optim as optim\n",
    "optimizer = optim.SGD(net.parameters(), lr = 0.01)\n",
    "optimizer.zero_grad()\n",
    "out = net(inp)\n",
    "loss = criteria(out, target)\n",
    "loss.backward()\n",
    "optimizer.step()"
   ]
  }
 ],
 "metadata": {
  "kernelspec": {
   "display_name": "Python 3",
   "language": "python",
   "name": "python3"
  },
  "language_info": {
   "codemirror_mode": {
    "name": "ipython",
    "version": 3
   },
   "file_extension": ".py",
   "mimetype": "text/x-python",
   "name": "python",
   "nbconvert_exporter": "python",
   "pygments_lexer": "ipython3",
   "version": "3.9.2"
  }
 },
 "nbformat": 4,
 "nbformat_minor": 5
}
