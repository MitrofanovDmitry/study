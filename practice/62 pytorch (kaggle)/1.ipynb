{
 "cells": [
  {
   "cell_type": "markdown",
   "id": "sunset-outline",
   "metadata": {},
   "source": [
    "https://www.kaggle.com/krishanudb/pytorch-tutorial-for-beginners  "
   ]
  },
  {
   "cell_type": "code",
   "execution_count": 1,
   "id": "collected-start",
   "metadata": {},
   "outputs": [],
   "source": [
    "import torch"
   ]
  },
  {
   "cell_type": "code",
   "execution_count": 2,
   "id": "pleasant-somerset",
   "metadata": {},
   "outputs": [
    {
     "data": {
      "text/plain": [
       "'1.7.1+cpu'"
      ]
     },
     "execution_count": 2,
     "metadata": {},
     "output_type": "execute_result"
    }
   ],
   "source": [
    "torch.__version__"
   ]
  },
  {
   "cell_type": "code",
   "execution_count": 7,
   "id": "infrared-satisfaction",
   "metadata": {},
   "outputs": [
    {
     "data": {
      "text/plain": [
       "tensor([[3.7329e-11, 4.5859e-41, 8.1437e-37],\n",
       "        [0.0000e+00, 1.5568e-19, 4.5859e-41],\n",
       "        [0.0000e+00, 0.0000e+00, 0.0000e+00],\n",
       "        [0.0000e+00, 0.0000e+00, 0.0000e+00],\n",
       "        [0.0000e+00, 0.0000e+00, 0.0000e+00]])"
      ]
     },
     "execution_count": 7,
     "metadata": {},
     "output_type": "execute_result"
    }
   ],
   "source": [
    "torch.empty([5, 3])"
   ]
  },
  {
   "cell_type": "code",
   "execution_count": 8,
   "id": "banned-reducing",
   "metadata": {},
   "outputs": [
    {
     "data": {
      "text/plain": [
       "tensor([[0.0000e+00, 0.0000e+00, 0.0000e+00],\n",
       "        [0.0000e+00, 8.1131e-37, 0.0000e+00],\n",
       "        [0.0000e+00, 0.0000e+00, 7.9703e-37],\n",
       "        [0.0000e+00, 7.9703e-37, 0.0000e+00],\n",
       "        [7.9704e-37, 0.0000e+00, 0.0000e+00]])"
      ]
     },
     "execution_count": 8,
     "metadata": {},
     "output_type": "execute_result"
    }
   ],
   "source": [
    "torch.empty(5, 3)"
   ]
  },
  {
   "cell_type": "code",
   "execution_count": 9,
   "id": "ceramic-cattle",
   "metadata": {},
   "outputs": [
    {
     "data": {
      "text/plain": [
       "tensor([[0.1168, 0.7177, 0.2310, 0.8503],\n",
       "        [0.7604, 0.4255, 0.1938, 0.8721],\n",
       "        [0.5883, 0.8031, 0.7286, 0.4074],\n",
       "        [0.8950, 0.0518, 0.4779, 0.5699],\n",
       "        [0.2897, 0.3655, 0.5240, 0.1734]])"
      ]
     },
     "execution_count": 9,
     "metadata": {},
     "output_type": "execute_result"
    }
   ],
   "source": [
    "torch.rand(5, 4)"
   ]
  },
  {
   "cell_type": "code",
   "execution_count": 10,
   "id": "hollow-arrival",
   "metadata": {},
   "outputs": [
    {
     "data": {
      "text/plain": [
       "tensor([[0, 0, 0],\n",
       "        [0, 0, 0],\n",
       "        [0, 0, 0],\n",
       "        [0, 0, 0],\n",
       "        [0, 0, 0]])"
      ]
     },
     "execution_count": 10,
     "metadata": {},
     "output_type": "execute_result"
    }
   ],
   "source": [
    "torch.zeros(5, 3, dtype=torch.long)"
   ]
  },
  {
   "cell_type": "code",
   "execution_count": 11,
   "id": "governing-silence",
   "metadata": {},
   "outputs": [
    {
     "data": {
      "text/plain": [
       "tensor([5.0900, 3.0000])"
      ]
     },
     "execution_count": 11,
     "metadata": {},
     "output_type": "execute_result"
    }
   ],
   "source": [
    "torch.tensor([5.09, 3])"
   ]
  },
  {
   "cell_type": "code",
   "execution_count": 14,
   "id": "handled-estate",
   "metadata": {},
   "outputs": [],
   "source": [
    "z = torch.tensor([5.09, 3])\n",
    "c = torch.randn_like(z, dtype=torch.float32)"
   ]
  },
  {
   "cell_type": "code",
   "execution_count": 16,
   "id": "infrared-smell",
   "metadata": {},
   "outputs": [
    {
     "data": {
      "text/plain": [
       "tensor([[1., 1., 1., 1., 1., 1.],\n",
       "        [1., 1., 1., 1., 1., 1.],\n",
       "        [1., 1., 1., 1., 1., 1.],\n",
       "        [1., 1., 1., 1., 1., 1.],\n",
       "        [1., 1., 1., 1., 1., 1.]], dtype=torch.float64)"
      ]
     },
     "execution_count": 16,
     "metadata": {},
     "output_type": "execute_result"
    }
   ],
   "source": [
    "c = c.new_ones(5, 6, dtype=torch.double)\n",
    "c"
   ]
  },
  {
   "cell_type": "code",
   "execution_count": 21,
   "id": "interesting-burning",
   "metadata": {},
   "outputs": [
    {
     "data": {
      "text/plain": [
       "torch.Size([5, 6])"
      ]
     },
     "execution_count": 21,
     "metadata": {},
     "output_type": "execute_result"
    }
   ],
   "source": [
    "c.size()"
   ]
  },
  {
   "cell_type": "code",
   "execution_count": 23,
   "id": "danish-recycling",
   "metadata": {},
   "outputs": [
    {
     "data": {
      "text/plain": [
       "tensor([[ 2.5460,  2.0187,  1.0938,  1.8710,  1.2305,  2.9570],\n",
       "        [ 0.9437,  0.1476, -0.8965,  0.6347,  1.9060,  1.7669],\n",
       "        [ 1.3527,  1.3946,  0.8661,  1.5366,  1.2078,  1.4986],\n",
       "        [ 1.5331, -0.1550,  2.4074, -0.1772,  0.9237,  0.8872],\n",
       "        [ 0.6743,  0.5181,  0.3173,  0.2909,  0.1339,  0.3405]],\n",
       "       dtype=torch.float64)"
      ]
     },
     "execution_count": 23,
     "metadata": {},
     "output_type": "execute_result"
    }
   ],
   "source": [
    "d = torch.randn(5, 6, dtype=torch.double)\n",
    "c + d"
   ]
  },
  {
   "cell_type": "code",
   "execution_count": 26,
   "id": "ranging-operator",
   "metadata": {},
   "outputs": [
    {
     "data": {
      "text/plain": [
       "tensor([[ 1.9538,  0.7757, -1.0642, -0.4111,  0.8674,  2.2285],\n",
       "        [ 1.5915,  0.9738,  0.5108, -0.2370,  0.7437,  3.7423],\n",
       "        [ 0.4352,  1.3081,  0.6201,  1.0112,  0.5462,  1.7255],\n",
       "        [ 1.3624, -0.2190,  0.2069,  2.2815,  0.3186,  0.2639],\n",
       "        [ 1.2136,  1.4742,  1.2075, -0.0397,  0.7701,  1.8023]],\n",
       "       dtype=torch.float64)"
      ]
     },
     "execution_count": 26,
     "metadata": {},
     "output_type": "execute_result"
    }
   ],
   "source": [
    "e = torch.randn(5, 6, dtype = torch.float)\n",
    "c + e"
   ]
  },
  {
   "cell_type": "code",
   "execution_count": 27,
   "id": "surprised-harvest",
   "metadata": {},
   "outputs": [
    {
     "data": {
      "text/plain": [
       "tensor([[ 2.5460,  2.0187,  1.0938,  1.8710,  1.2305,  2.9570],\n",
       "        [ 0.9437,  0.1476, -0.8965,  0.6347,  1.9060,  1.7669],\n",
       "        [ 1.3527,  1.3946,  0.8661,  1.5366,  1.2078,  1.4986],\n",
       "        [ 1.5331, -0.1550,  2.4074, -0.1772,  0.9237,  0.8872],\n",
       "        [ 0.6743,  0.5181,  0.3173,  0.2909,  0.1339,  0.3405]],\n",
       "       dtype=torch.float64)"
      ]
     },
     "execution_count": 27,
     "metadata": {},
     "output_type": "execute_result"
    }
   ],
   "source": [
    "torch.add(c, d)"
   ]
  },
  {
   "cell_type": "code",
   "execution_count": 29,
   "id": "statutory-shopping",
   "metadata": {},
   "outputs": [
    {
     "data": {
      "text/plain": [
       "tensor([[ 2.5460,  2.0187,  1.0938,  1.8710,  1.2305,  2.9570],\n",
       "        [ 0.9437,  0.1476, -0.8965,  0.6347,  1.9060,  1.7669],\n",
       "        [ 1.3527,  1.3946,  0.8661,  1.5366,  1.2078,  1.4986],\n",
       "        [ 1.5331, -0.1550,  2.4074, -0.1772,  0.9237,  0.8872],\n",
       "        [ 0.6743,  0.5181,  0.3173,  0.2909,  0.1339,  0.3405]],\n",
       "       dtype=torch.float64)"
      ]
     },
     "execution_count": 29,
     "metadata": {},
     "output_type": "execute_result"
    }
   ],
   "source": [
    "result = torch.empty(5, 6, dtype=torch.double)\n",
    "torch.add(c, d, out=result)\n",
    "result"
   ]
  },
  {
   "cell_type": "code",
   "execution_count": 30,
   "id": "universal-annual",
   "metadata": {},
   "outputs": [
    {
     "data": {
      "text/plain": [
       "tensor([[ 2.5460,  2.0187,  1.0938,  1.8710,  1.2305,  2.9570],\n",
       "        [ 0.9437,  0.1476, -0.8965,  0.6347,  1.9060,  1.7669],\n",
       "        [ 1.3527,  1.3946,  0.8661,  1.5366,  1.2078,  1.4986],\n",
       "        [ 1.5331, -0.1550,  2.4074, -0.1772,  0.9237,  0.8872],\n",
       "        [ 0.6743,  0.5181,  0.3173,  0.2909,  0.1339,  0.3405]],\n",
       "       dtype=torch.float64)"
      ]
     },
     "execution_count": 30,
     "metadata": {},
     "output_type": "execute_result"
    }
   ],
   "source": [
    "e = d\n",
    "e.add_(c)\n",
    "e"
   ]
  },
  {
   "cell_type": "code",
   "execution_count": 31,
   "id": "representative-wrapping",
   "metadata": {},
   "outputs": [
    {
     "data": {
      "text/plain": [
       "tensor([ 2.0187,  0.1476,  1.3946, -0.1550,  0.5181], dtype=torch.float64)"
      ]
     },
     "execution_count": 31,
     "metadata": {},
     "output_type": "execute_result"
    }
   ],
   "source": [
    "e[:, 1]"
   ]
  },
  {
   "cell_type": "code",
   "execution_count": 33,
   "id": "reserved-checkout",
   "metadata": {},
   "outputs": [
    {
     "data": {
      "text/plain": [
       "(torch.Size([4, 5]), torch.Size([20]), torch.Size([5, 2, 2]))"
      ]
     },
     "execution_count": 33,
     "metadata": {},
     "output_type": "execute_result"
    }
   ],
   "source": [
    "x = torch.randn(4, 5)\n",
    "y = x.view(20)\n",
    "z = x.view(-1, 2, 2)\n",
    "x.size(), y.size(), z.size()"
   ]
  },
  {
   "cell_type": "code",
   "execution_count": 34,
   "id": "first-player",
   "metadata": {},
   "outputs": [
    {
     "data": {
      "text/plain": [
       "array([[ 2.54595536,  2.01871443,  1.09377593,  1.87098549,  1.23047205,\n",
       "         2.95698416],\n",
       "       [ 0.94372107,  0.1475954 , -0.89646244,  0.6346826 ,  1.90600761,\n",
       "         1.76689964],\n",
       "       [ 1.352696  ,  1.39463573,  0.86611195,  1.53655923,  1.207821  ,\n",
       "         1.49858627],\n",
       "       [ 1.53313134, -0.15501297,  2.407384  , -0.1771679 ,  0.92374614,\n",
       "         0.88723432],\n",
       "       [ 0.67425869,  0.51808215,  0.31726656,  0.29090417,  0.13387351,\n",
       "         0.34046252]])"
      ]
     },
     "execution_count": 34,
     "metadata": {},
     "output_type": "execute_result"
    }
   ],
   "source": [
    "e.numpy()"
   ]
  },
  {
   "cell_type": "code",
   "execution_count": 37,
   "id": "normal-seller",
   "metadata": {},
   "outputs": [
    {
     "name": "stdout",
     "output_type": "stream",
     "text": [
      "[[1. 1. 1.]\n",
      " [1. 1. 1.]]\n",
      "tensor([[2., 2., 2.],\n",
      "        [2., 2., 2.]])\n",
      "[[2. 2. 2.]\n",
      " [2. 2. 2.]]\n"
     ]
    }
   ],
   "source": [
    "a = torch.ones(2, 3)\n",
    "b = a.numpy()\n",
    "print(b)\n",
    "a = a.add_(1)\n",
    "print(a)\n",
    "print(b)"
   ]
  },
  {
   "cell_type": "code",
   "execution_count": 38,
   "id": "intense-consensus",
   "metadata": {},
   "outputs": [
    {
     "name": "stdout",
     "output_type": "stream",
     "text": [
      "tensor([[1., 1.],\n",
      "        [1., 1.],\n",
      "        [1., 1.],\n",
      "        [1., 1.],\n",
      "        [1., 1.]], dtype=torch.float64)\n",
      "[[4. 4.]\n",
      " [4. 4.]\n",
      " [4. 4.]\n",
      " [4. 4.]\n",
      " [4. 4.]]\n",
      "tensor([[4., 4.],\n",
      "        [4., 4.],\n",
      "        [4., 4.],\n",
      "        [4., 4.],\n",
      "        [4., 4.]], dtype=torch.float64)\n"
     ]
    }
   ],
   "source": [
    "import numpy as np\n",
    "a = np.ones((5, 2))\n",
    "b = torch.from_numpy(a) ## This is the command\n",
    "print(b)\n",
    "np.add(a, 3, out = a)\n",
    "print(a)\n",
    "print(b)"
   ]
  },
  {
   "cell_type": "code",
   "execution_count": 39,
   "id": "entitled-exchange",
   "metadata": {},
   "outputs": [
    {
     "name": "stdout",
     "output_type": "stream",
     "text": [
      "tensor([[1., 1., 1.],\n",
      "        [1., 1., 1.]], requires_grad=True)\n"
     ]
    }
   ],
   "source": [
    "x = torch.ones(2, 3, requires_grad=True)\n",
    "print(x)"
   ]
  },
  {
   "cell_type": "code",
   "execution_count": 40,
   "id": "bacterial-premium",
   "metadata": {},
   "outputs": [
    {
     "name": "stdout",
     "output_type": "stream",
     "text": [
      "tensor([[3., 3., 3.],\n",
      "        [3., 3., 3.]], grad_fn=<AddBackward0>)\n"
     ]
    }
   ],
   "source": [
    "y = x + 2\n",
    "print(y)"
   ]
  },
  {
   "cell_type": "code",
   "execution_count": 41,
   "id": "recorded-april",
   "metadata": {},
   "outputs": [
    {
     "name": "stdout",
     "output_type": "stream",
     "text": [
      "<AddBackward0 object at 0x7fd5eedac760>\n"
     ]
    }
   ],
   "source": [
    "print(y.grad_fn)"
   ]
  },
  {
   "cell_type": "code",
   "execution_count": 42,
   "id": "republican-mailman",
   "metadata": {},
   "outputs": [
    {
     "name": "stdout",
     "output_type": "stream",
     "text": [
      "tensor([[27., 27., 27.],\n",
      "        [27., 27., 27.]], grad_fn=<MulBackward0>)\n",
      "tensor(27., grad_fn=<MeanBackward0>)\n"
     ]
    }
   ],
   "source": [
    "z = y * y * 3\n",
    "out = z.mean()\n",
    "print(z)\n",
    "print(out)"
   ]
  },
  {
   "cell_type": "code",
   "execution_count": 43,
   "id": "acoustic-linux",
   "metadata": {},
   "outputs": [],
   "source": [
    "out.backward()"
   ]
  },
  {
   "cell_type": "code",
   "execution_count": 44,
   "id": "incident-portuguese",
   "metadata": {},
   "outputs": [
    {
     "name": "stdout",
     "output_type": "stream",
     "text": [
      "tensor([[3., 3., 3.],\n",
      "        [3., 3., 3.]])\n"
     ]
    }
   ],
   "source": [
    "print(x.grad)"
   ]
  }
 ],
 "metadata": {
  "kernelspec": {
   "display_name": "Python 3",
   "language": "python",
   "name": "python3"
  },
  "language_info": {
   "codemirror_mode": {
    "name": "ipython",
    "version": 3
   },
   "file_extension": ".py",
   "mimetype": "text/x-python",
   "name": "python",
   "nbconvert_exporter": "python",
   "pygments_lexer": "ipython3",
   "version": "3.9.2"
  }
 },
 "nbformat": 4,
 "nbformat_minor": 5
}
