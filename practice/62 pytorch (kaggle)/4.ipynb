{
 "cells": [
  {
   "cell_type": "markdown",
   "id": "separate-compilation",
   "metadata": {},
   "source": [
    "https://www.kaggle.com/krishanudb/basic-computation-graph-using-pytorch  "
   ]
  },
  {
   "cell_type": "code",
   "execution_count": 22,
   "id": "valuable-hollow",
   "metadata": {},
   "outputs": [],
   "source": [
    "import numpy as np\n",
    "import matplotlib.pyplot as plt\n",
    "\n",
    "import torch\n",
    "import torch.nn as nn\n",
    "import torch.optim as optim\n",
    "import torch.nn.functional as F\n",
    "\n",
    "import torchvision\n",
    "import torchvision.transforms as transforms"
   ]
  },
  {
   "cell_type": "code",
   "execution_count": 2,
   "id": "secondary-bunny",
   "metadata": {},
   "outputs": [],
   "source": [
    "# Defining the Hyperparameters\n",
    "input_size = 1\n",
    "output_size = 1\n",
    "num_epochs = 10000\n",
    "learning_rate = 0.001"
   ]
  },
  {
   "cell_type": "code",
   "execution_count": 3,
   "id": "endless-small",
   "metadata": {},
   "outputs": [],
   "source": [
    "# Defining a Toy Dataset\n",
    "x_train = np.array([[3.3], [4.4], [5.5], [6.71], [6.93], [4.168],[9.779], [6.182], [7.59], [2.167], [7.042], [10.791], [5.313], [7.997], [3.1]], dtype=np.float32)\n",
    "y_train = np.array([[1.7], [2.76], [2.09], [3.19], [1.694], [1.573], [3.366], [2.596], [2.53], [1.221], [2.827], [3.465], [1.65], [2.904], [1.3]], dtype=np.float32)"
   ]
  },
  {
   "cell_type": "code",
   "execution_count": 5,
   "id": "chief-mistress",
   "metadata": {},
   "outputs": [],
   "source": [
    "# Linear Regression Model\n",
    "model = nn.Linear(input_size, output_size)\n",
    "criterion = nn.MSELoss()\n",
    "optimizer = optim.SGD(model.parameters(), lr=learning_rate)"
   ]
  },
  {
   "cell_type": "code",
   "execution_count": 6,
   "id": "associate-viewer",
   "metadata": {},
   "outputs": [
    {
     "name": "stdout",
     "output_type": "stream",
     "text": [
      "Epoch: 1000/10000; \tLoss: 0.1699303239583969\n",
      "Epoch: 2000/10000; \tLoss: 0.1695225089788437\n",
      "Epoch: 3000/10000; \tLoss: 0.1692786067724228\n",
      "Epoch: 4000/10000; \tLoss: 0.16913264989852905\n",
      "Epoch: 5000/10000; \tLoss: 0.1690453439950943\n",
      "Epoch: 6000/10000; \tLoss: 0.16899307072162628\n",
      "Epoch: 7000/10000; \tLoss: 0.16896182298660278\n",
      "Epoch: 8000/10000; \tLoss: 0.1689431369304657\n",
      "Epoch: 9000/10000; \tLoss: 0.16893194615840912\n",
      "Epoch: 10000/10000; \tLoss: 0.1689252406358719\n"
     ]
    }
   ],
   "source": [
    "# Training the Model\n",
    "for epoch in range(num_epochs):\n",
    "    inputs = torch.from_numpy(x_train)\n",
    "    targets = torch.from_numpy(y_train)\n",
    "    \n",
    "    outputs = model(inputs)\n",
    "    loss = criterion(outputs, targets)\n",
    "    \n",
    "    optimizer.zero_grad()\n",
    "    loss.backward()\n",
    "    optimizer.step()\n",
    "    \n",
    "    if (epoch + 1) % 1000 == 0:\n",
    "        print(\"Epoch: {}/{}; \\tLoss: {}\".format(epoch + 1, num_epochs, loss.item()))"
   ]
  },
  {
   "cell_type": "code",
   "execution_count": 7,
   "id": "executive-topic",
   "metadata": {},
   "outputs": [
    {
     "data": {
      "image/png": "[encoded data removed]",
      "text/plain": [
       "<Figure size 432x288 with 1 Axes>"
      ]
     },
     "metadata": {
      "needs_background": "light"
     },
     "output_type": "display_data"
    }
   ],
   "source": [
    "# Plotting the outputs\n",
    "predicted = model(torch.from_numpy(x_train)).detach().numpy()\n",
    "plt.scatter(x_train, y_train, label='original data')\n",
    "plt.scatter(x_train, predicted, label='predicted data')\n",
    "plt.legend()\n",
    "plt.show()"
   ]
  },
  {
   "cell_type": "code",
   "execution_count": 10,
   "id": "exclusive-excerpt",
   "metadata": {},
   "outputs": [],
   "source": [
    "# Logistic Regression Model\n",
    "# Defining Hyperparameters\n",
    "input_size = 784\n",
    "num_classes = 10\n",
    "num_epochs = 20\n",
    "batch_size = 100\n",
    "learning_rate = 0.001"
   ]
  },
  {
   "cell_type": "code",
   "execution_count": 11,
   "id": "naked-driver",
   "metadata": {},
   "outputs": [
    {
     "name": "stdout",
     "output_type": "stream",
     "text": [
      "Downloading http://yann.lecun.com/exdb/mnist/train-images-idx3-ubyte.gz to ./data/MNIST/raw/train-images-idx3-ubyte.gz\n"
     ]
    },
    {
     "name": "stderr",
     "output_type": "stream",
     "text": [
      "100.1%"
     ]
    },
    {
     "name": "stdout",
     "output_type": "stream",
     "text": [
      "Extracting ./data/MNIST/raw/train-images-idx3-ubyte.gz to ./data/MNIST/raw\n",
      "Downloading http://yann.lecun.com/exdb/mnist/train-labels-idx1-ubyte.gz to ./data/MNIST/raw/train-labels-idx1-ubyte.gz\n"
     ]
    },
    {
     "name": "stderr",
     "output_type": "stream",
     "text": [
      "113.5%"
     ]
    },
    {
     "name": "stdout",
     "output_type": "stream",
     "text": [
      "Extracting ./data/MNIST/raw/train-labels-idx1-ubyte.gz to ./data/MNIST/raw\n",
      "Downloading http://yann.lecun.com/exdb/mnist/t10k-images-idx3-ubyte.gz to ./data/MNIST/raw/t10k-images-idx3-ubyte.gz\n"
     ]
    },
    {
     "name": "stderr",
     "output_type": "stream",
     "text": [
      "100.4%"
     ]
    },
    {
     "name": "stdout",
     "output_type": "stream",
     "text": [
      "Extracting ./data/MNIST/raw/t10k-images-idx3-ubyte.gz to ./data/MNIST/raw\n",
      "Downloading http://yann.lecun.com/exdb/mnist/t10k-labels-idx1-ubyte.gz to ./data/MNIST/raw/t10k-labels-idx1-ubyte.gz\n"
     ]
    },
    {
     "name": "stderr",
     "output_type": "stream",
     "text": [
      "180.4%"
     ]
    },
    {
     "name": "stdout",
     "output_type": "stream",
     "text": [
      "Extracting ./data/MNIST/raw/t10k-labels-idx1-ubyte.gz to ./data/MNIST/raw\n",
      "Processing...\n",
      "Done!\n"
     ]
    },
    {
     "name": "stderr",
     "output_type": "stream",
     "text": [
      "/usr/local/lib/python3.9/dist-packages/torchvision/datasets/mnist.py:480: UserWarning: The given NumPy array is not writeable, and PyTorch does not support non-writeable tensors. This means you can write to the underlying (supposedly non-writeable) NumPy array using the tensor. You may want to copy the array to protect its data or make it writeable before converting it to a tensor. This type of warning will be suppressed for the rest of this program. (Triggered internally at  /pytorch/torch/csrc/utils/tensor_numpy.cpp:141.)\n",
      "  return torch.from_numpy(parsed.astype(m[2], copy=False)).view(*s)\n"
     ]
    }
   ],
   "source": [
    "# loding the Dataset\n",
    "train_dataset = torchvision.datasets.MNIST(root=\"./data\", train=True, transform=transforms.ToTensor(), download=True)\n",
    "test_dataset = torchvision.datasets.MNIST(root=\"./data\", train = False, transform=transforms.ToTensor(), download=True)"
   ]
  },
  {
   "cell_type": "code",
   "execution_count": 13,
   "id": "convenient-fundamentals",
   "metadata": {},
   "outputs": [
    {
     "data": {
      "image/png": "[encoded data removed]",
      "text/plain": [
       "<Figure size 432x288 with 1 Axes>"
      ]
     },
     "metadata": {
      "needs_background": "light"
     },
     "output_type": "display_data"
    }
   ],
   "source": [
    "plt.imshow(train_dataset.train_data[0], cmap='gray_r');"
   ]
  },
  {
   "cell_type": "code",
   "execution_count": 14,
   "id": "useful-century",
   "metadata": {},
   "outputs": [],
   "source": [
    "# Create DataLoader objects\n",
    "trainloader = torch.utils.data.DataLoader(dataset=train_dataset, batch_size=batch_size, shuffle=True)\n",
    "testloader = torch.utils.data.DataLoader(dataset=train_dataset, batch_size=batch_size, shuffle=True)"
   ]
  },
  {
   "cell_type": "code",
   "execution_count": 15,
   "id": "efficient-stable",
   "metadata": {},
   "outputs": [],
   "source": [
    "model = nn.Linear(input_size, num_classes)\n",
    "criterion = nn.CrossEntropyLoss()\n",
    "optimizer = optim.SGD(model.parameters(), lr=learning_rate)"
   ]
  },
  {
   "cell_type": "code",
   "execution_count": 16,
   "id": "hindu-special",
   "metadata": {},
   "outputs": [
    {
     "name": "stdout",
     "output_type": "stream",
     "text": [
      "Epoch: 1/20, \tIteration: 200/600, \tLoss: 2.104520559310913\n",
      "Epoch: 1/20, \tIteration: 400/600, \tLoss: 1.9826343059539795\n",
      "Epoch: 1/20, \tIteration: 600/600, \tLoss: 1.8069018125534058\n",
      "Epoch: 2/20, \tIteration: 200/600, \tLoss: 1.7149571180343628\n",
      "Epoch: 2/20, \tIteration: 400/600, \tLoss: 1.5796902179718018\n",
      "Epoch: 2/20, \tIteration: 600/600, \tLoss: 1.3905000686645508\n",
      "Epoch: 3/20, \tIteration: 200/600, \tLoss: 1.352664589881897\n",
      "Epoch: 3/20, \tIteration: 400/600, \tLoss: 1.3142096996307373\n",
      "Epoch: 3/20, \tIteration: 600/600, \tLoss: 1.259871006011963\n",
      "Epoch: 4/20, \tIteration: 200/600, \tLoss: 1.2251907587051392\n",
      "Epoch: 4/20, \tIteration: 400/600, \tLoss: 1.1554583311080933\n",
      "Epoch: 4/20, \tIteration: 600/600, \tLoss: 1.0980323553085327\n",
      "Epoch: 5/20, \tIteration: 200/600, \tLoss: 1.1192119121551514\n",
      "Epoch: 5/20, \tIteration: 400/600, \tLoss: 1.0442242622375488\n",
      "Epoch: 5/20, \tIteration: 600/600, \tLoss: 1.0401078462600708\n",
      "Epoch: 6/20, \tIteration: 200/600, \tLoss: 0.8784672021865845\n",
      "Epoch: 6/20, \tIteration: 400/600, \tLoss: 0.9196921586990356\n",
      "Epoch: 6/20, \tIteration: 600/600, \tLoss: 0.9531068205833435\n",
      "Epoch: 7/20, \tIteration: 200/600, \tLoss: 0.9623211622238159\n",
      "Epoch: 7/20, \tIteration: 400/600, \tLoss: 0.8895233273506165\n",
      "Epoch: 7/20, \tIteration: 600/600, \tLoss: 0.8761837482452393\n",
      "Epoch: 8/20, \tIteration: 200/600, \tLoss: 0.7852035760879517\n",
      "Epoch: 8/20, \tIteration: 400/600, \tLoss: 0.7955050468444824\n",
      "Epoch: 8/20, \tIteration: 600/600, \tLoss: 0.886231005191803\n",
      "Epoch: 9/20, \tIteration: 200/600, \tLoss: 0.7229300141334534\n",
      "Epoch: 9/20, \tIteration: 400/600, \tLoss: 0.8666515350341797\n",
      "Epoch: 9/20, \tIteration: 600/600, \tLoss: 0.7224274277687073\n",
      "Epoch: 10/20, \tIteration: 200/600, \tLoss: 0.6974990367889404\n",
      "Epoch: 10/20, \tIteration: 400/600, \tLoss: 0.7379356622695923\n",
      "Epoch: 10/20, \tIteration: 600/600, \tLoss: 0.7849018573760986\n",
      "Epoch: 11/20, \tIteration: 200/600, \tLoss: 0.7146829962730408\n",
      "Epoch: 11/20, \tIteration: 400/600, \tLoss: 0.7461894154548645\n",
      "Epoch: 11/20, \tIteration: 600/600, \tLoss: 0.748472273349762\n",
      "Epoch: 12/20, \tIteration: 200/600, \tLoss: 0.6832996606826782\n",
      "Epoch: 12/20, \tIteration: 400/600, \tLoss: 0.6924384236335754\n",
      "Epoch: 12/20, \tIteration: 600/600, \tLoss: 0.6994976997375488\n",
      "Epoch: 13/20, \tIteration: 200/600, \tLoss: 0.5746400356292725\n",
      "Epoch: 13/20, \tIteration: 400/600, \tLoss: 0.631192147731781\n",
      "Epoch: 13/20, \tIteration: 600/600, \tLoss: 0.7253322005271912\n",
      "Epoch: 14/20, \tIteration: 200/600, \tLoss: 0.6600337028503418\n",
      "Epoch: 14/20, \tIteration: 400/600, \tLoss: 0.6342170238494873\n",
      "Epoch: 14/20, \tIteration: 600/600, \tLoss: 0.5940806865692139\n",
      "Epoch: 15/20, \tIteration: 200/600, \tLoss: 0.5598767399787903\n",
      "Epoch: 15/20, \tIteration: 400/600, \tLoss: 0.7523225545883179\n",
      "Epoch: 15/20, \tIteration: 600/600, \tLoss: 0.6621050834655762\n",
      "Epoch: 16/20, \tIteration: 200/600, \tLoss: 0.6737198829650879\n",
      "Epoch: 16/20, \tIteration: 400/600, \tLoss: 0.5992310047149658\n",
      "Epoch: 16/20, \tIteration: 600/600, \tLoss: 0.6619160175323486\n",
      "Epoch: 17/20, \tIteration: 200/600, \tLoss: 0.572549045085907\n",
      "Epoch: 17/20, \tIteration: 400/600, \tLoss: 0.5763912200927734\n",
      "Epoch: 17/20, \tIteration: 600/600, \tLoss: 0.5934767127037048\n",
      "Epoch: 18/20, \tIteration: 200/600, \tLoss: 0.541531503200531\n",
      "Epoch: 18/20, \tIteration: 400/600, \tLoss: 0.6062994599342346\n",
      "Epoch: 18/20, \tIteration: 600/600, \tLoss: 0.6057134866714478\n",
      "Epoch: 19/20, \tIteration: 200/600, \tLoss: 0.6196805834770203\n",
      "Epoch: 19/20, \tIteration: 400/600, \tLoss: 0.5107129216194153\n",
      "Epoch: 19/20, \tIteration: 600/600, \tLoss: 0.5349079966545105\n",
      "Epoch: 20/20, \tIteration: 200/600, \tLoss: 0.553961992263794\n",
      "Epoch: 20/20, \tIteration: 400/600, \tLoss: 0.7429515719413757\n",
      "Epoch: 20/20, \tIteration: 600/600, \tLoss: 0.5545377135276794\n"
     ]
    }
   ],
   "source": [
    "# Training the Model\n",
    "total_step = 0\n",
    "for epoch in range(num_epochs):\n",
    "    for i, (images, labels) in enumerate(trainloader):\n",
    "        images = images.reshape(-1, 28 * 28)\n",
    "        outputs = model(images)\n",
    "        loss = criterion(outputs, labels)\n",
    "        \n",
    "        optimizer.zero_grad()\n",
    "        loss.backward()\n",
    "        \n",
    "        optimizer.step()\n",
    "        \n",
    "        if (i + 1) % 200 == 0:\n",
    "            print(\"Epoch: {}/{}, \\tIteration: {}/{}, \\tLoss: {}\".format(epoch + 1, num_epochs, i + 1, len(trainloader), loss.item()))"
   ]
  },
  {
   "cell_type": "code",
   "execution_count": 17,
   "id": "burning-mounting",
   "metadata": {},
   "outputs": [
    {
     "name": "stdout",
     "output_type": "stream",
     "text": [
      "Accuracy of the model: 0.8653333333333333\n"
     ]
    }
   ],
   "source": [
    "# Testing the model\n",
    "with torch.no_grad():\n",
    "    correct = 0\n",
    "    total = 0\n",
    "    for images, labels in testloader:\n",
    "        images = images.reshape(-1, 28 * 28)\n",
    "        outputs = model(images)\n",
    "        _, predicted = torch.max(outputs.data, 1)\n",
    "        correct += (predicted == labels).sum()\n",
    "        total += labels.size(0)\n",
    "    print(\"Accuracy of the model: {}\".format(float(correct) / float(total)))"
   ]
  },
  {
   "cell_type": "code",
   "execution_count": 18,
   "id": "marine-given",
   "metadata": {},
   "outputs": [],
   "source": [
    "# Feed Forward Neural Network Model\n",
    "# Defining the network parameters\n",
    "input_size = 28 * 28\n",
    "hidden_size = 500\n",
    "num_classes = 10\n",
    "num_epochs = 20\n",
    "batch_size = 100\n",
    "learning_rate = 0.001"
   ]
  },
  {
   "cell_type": "code",
   "execution_count": 19,
   "id": "random-optimum",
   "metadata": {},
   "outputs": [],
   "source": [
    "# Create DataLoader Objects\n",
    "train_loader = torch.utils.data.DataLoader(train_dataset, batch_size=batch_size, shuffle = True)\n",
    "test_loader = torch.utils.data.DataLoader(test_dataset, batch_size=batch_size, shuffle = True)"
   ]
  },
  {
   "cell_type": "code",
   "execution_count": 20,
   "id": "secret-match",
   "metadata": {},
   "outputs": [],
   "source": [
    "# Device Configuration\n",
    "device = torch.device('cuda' if torch.cuda.is_available() else 'cpu')"
   ]
  },
  {
   "cell_type": "code",
   "execution_count": 23,
   "id": "owned-finnish",
   "metadata": {},
   "outputs": [],
   "source": [
    "# Model definition\n",
    "class NeuralNet(nn.Module):\n",
    "    def __init__(self, input_size, hidden_size, num_classes):\n",
    "        super(NeuralNet, self).__init__()\n",
    "        self.fc1 = nn.Linear(input_size, hidden_size)\n",
    "        self.fc2 = nn.Linear(hidden_size, num_classes)\n",
    "    \n",
    "    def forward(self, x):\n",
    "        out = F.relu(self.fc1(x))\n",
    "        out = self.fc2(out)\n",
    "        return out"
   ]
  },
  {
   "cell_type": "code",
   "execution_count": 24,
   "id": "affected-number",
   "metadata": {},
   "outputs": [],
   "source": [
    "model = NeuralNet(input_size, hidden_size, num_classes)\n",
    "criterion = nn.CrossEntropyLoss()\n",
    "optimizer = optim.SGD(model.parameters(), lr=learning_rate)"
   ]
  },
  {
   "cell_type": "code",
   "execution_count": 25,
   "id": "returning-shore",
   "metadata": {},
   "outputs": [
    {
     "name": "stdout",
     "output_type": "stream",
     "text": [
      "Epoch: 1/20;\tIteration: 200/600; Loss: 2.262850761413574\n",
      "Epoch: 1/20;\tIteration: 400/600; Loss: 2.2144739627838135\n",
      "Epoch: 1/20;\tIteration: 600/600; Loss: 2.172609806060791\n",
      "Epoch: 2/20;\tIteration: 200/600; Loss: 2.116544246673584\n",
      "Epoch: 2/20;\tIteration: 400/600; Loss: 2.0764412879943848\n",
      "Epoch: 2/20;\tIteration: 600/600; Loss: 1.9877212047576904\n",
      "Epoch: 3/20;\tIteration: 200/600; Loss: 1.9398133754730225\n",
      "Epoch: 3/20;\tIteration: 400/600; Loss: 1.8850815296173096\n",
      "Epoch: 3/20;\tIteration: 600/600; Loss: 1.7898401021957397\n",
      "Epoch: 4/20;\tIteration: 200/600; Loss: 1.6916694641113281\n",
      "Epoch: 4/20;\tIteration: 400/600; Loss: 1.6672512292861938\n",
      "Epoch: 4/20;\tIteration: 600/600; Loss: 1.6237313747406006\n",
      "Epoch: 5/20;\tIteration: 200/600; Loss: 1.5764994621276855\n",
      "Epoch: 5/20;\tIteration: 400/600; Loss: 1.455335259437561\n",
      "Epoch: 5/20;\tIteration: 600/600; Loss: 1.436743140220642\n",
      "Epoch: 6/20;\tIteration: 200/600; Loss: 1.3855292797088623\n",
      "Epoch: 6/20;\tIteration: 400/600; Loss: 1.2550292015075684\n",
      "Epoch: 6/20;\tIteration: 600/600; Loss: 1.1416548490524292\n",
      "Epoch: 7/20;\tIteration: 200/600; Loss: 1.1811758279800415\n",
      "Epoch: 7/20;\tIteration: 400/600; Loss: 1.1086078882217407\n",
      "Epoch: 7/20;\tIteration: 600/600; Loss: 1.0325275659561157\n",
      "Epoch: 8/20;\tIteration: 200/600; Loss: 1.0928690433502197\n",
      "Epoch: 8/20;\tIteration: 400/600; Loss: 0.9827016592025757\n",
      "Epoch: 8/20;\tIteration: 600/600; Loss: 0.9983435869216919\n",
      "Epoch: 9/20;\tIteration: 200/600; Loss: 0.9924092292785645\n",
      "Epoch: 9/20;\tIteration: 400/600; Loss: 0.8056002855300903\n",
      "Epoch: 9/20;\tIteration: 600/600; Loss: 0.850954532623291\n",
      "Epoch: 10/20;\tIteration: 200/600; Loss: 0.8380562663078308\n",
      "Epoch: 10/20;\tIteration: 400/600; Loss: 0.8397927284240723\n",
      "Epoch: 10/20;\tIteration: 600/600; Loss: 0.8430905342102051\n",
      "Epoch: 11/20;\tIteration: 200/600; Loss: 0.720543622970581\n",
      "Epoch: 11/20;\tIteration: 400/600; Loss: 0.657411515712738\n",
      "Epoch: 11/20;\tIteration: 600/600; Loss: 0.6556056141853333\n",
      "Epoch: 12/20;\tIteration: 200/600; Loss: 0.793830394744873\n",
      "Epoch: 12/20;\tIteration: 400/600; Loss: 0.6458313465118408\n",
      "Epoch: 12/20;\tIteration: 600/600; Loss: 0.8193366527557373\n",
      "Epoch: 13/20;\tIteration: 200/600; Loss: 0.8331394791603088\n",
      "Epoch: 13/20;\tIteration: 400/600; Loss: 0.626802384853363\n",
      "Epoch: 13/20;\tIteration: 600/600; Loss: 0.6076183915138245\n",
      "Epoch: 14/20;\tIteration: 200/600; Loss: 0.7156575918197632\n",
      "Epoch: 14/20;\tIteration: 400/600; Loss: 0.6678679585456848\n",
      "Epoch: 14/20;\tIteration: 600/600; Loss: 0.6178093552589417\n",
      "Epoch: 15/20;\tIteration: 200/600; Loss: 0.6129958629608154\n",
      "Epoch: 15/20;\tIteration: 400/600; Loss: 0.5802575349807739\n",
      "Epoch: 15/20;\tIteration: 600/600; Loss: 0.48470538854599\n",
      "Epoch: 16/20;\tIteration: 200/600; Loss: 0.7076053619384766\n",
      "Epoch: 16/20;\tIteration: 400/600; Loss: 0.5390292406082153\n",
      "Epoch: 16/20;\tIteration: 600/600; Loss: 0.6916710138320923\n",
      "Epoch: 17/20;\tIteration: 200/600; Loss: 0.6328569650650024\n",
      "Epoch: 17/20;\tIteration: 400/600; Loss: 0.6131226420402527\n",
      "Epoch: 17/20;\tIteration: 600/600; Loss: 0.41373398900032043\n",
      "Epoch: 18/20;\tIteration: 200/600; Loss: 0.6117215156555176\n",
      "Epoch: 18/20;\tIteration: 400/600; Loss: 0.5396355390548706\n",
      "Epoch: 18/20;\tIteration: 600/600; Loss: 0.4222540259361267\n",
      "Epoch: 19/20;\tIteration: 200/600; Loss: 0.5759475231170654\n",
      "Epoch: 19/20;\tIteration: 400/600; Loss: 0.6310343742370605\n",
      "Epoch: 19/20;\tIteration: 600/600; Loss: 0.5109333395957947\n",
      "Epoch: 20/20;\tIteration: 200/600; Loss: 0.4381095767021179\n",
      "Epoch: 20/20;\tIteration: 400/600; Loss: 0.5244746208190918\n",
      "Epoch: 20/20;\tIteration: 600/600; Loss: 0.5865141153335571\n"
     ]
    }
   ],
   "source": [
    "# Training the Model\n",
    "for epoch in range(num_epochs):\n",
    "    for i, (images, labels) in enumerate(train_loader):\n",
    "        images = images.reshape(-1, 28 * 28).to(device)\n",
    "        labels = labels.to(device)\n",
    "        outputs = model(images)\n",
    "        loss = criterion(outputs, labels)\n",
    "        optimizer.zero_grad()\n",
    "        loss.backward()\n",
    "        optimizer.step()\n",
    "        \n",
    "        if (i + 1) % 200 == 0:\n",
    "            print(\"Epoch: {}/{};\\tIteration: {}/{}; Loss: {}\".format(epoch + 1, num_epochs, i + 1, len(train_loader), loss.item()))"
   ]
  },
  {
   "cell_type": "code",
   "execution_count": 26,
   "id": "digital-inspection",
   "metadata": {},
   "outputs": [
    {
     "name": "stdout",
     "output_type": "stream",
     "text": [
      "Accuracy of the model 0.8808\n"
     ]
    }
   ],
   "source": [
    "with torch.no_grad():\n",
    "    correct = 0\n",
    "    total = 0\n",
    "    for i, (images, labels) in enumerate(test_loader):\n",
    "        images = images.reshape(-1, 28 * 28).to(device)\n",
    "        labels = labels.to(device)\n",
    "        \n",
    "        outputs = model(images)\n",
    "        _, predicted = torch.max(outputs, 1)\n",
    "        correct += (predicted == labels).sum()\n",
    "        total += labels.size(0)\n",
    "print(\"Accuracy of the model {}\".format(float(correct)/float(total)))"
   ]
  }
 ],
 "metadata": {
  "kernelspec": {
   "display_name": "Python 3",
   "language": "python",
   "name": "python3"
  },
  "language_info": {
   "codemirror_mode": {
    "name": "ipython",
    "version": 3
   },
   "file_extension": ".py",
   "mimetype": "text/x-python",
   "name": "python",
   "nbconvert_exporter": "python",
   "pygments_lexer": "ipython3",
   "version": "3.9.2"
  }
 },
 "nbformat": 4,
 "nbformat_minor": 5
}
