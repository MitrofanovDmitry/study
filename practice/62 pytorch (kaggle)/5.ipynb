{
 "cells": [
  {
   "cell_type": "markdown",
   "id": "historic-borough",
   "metadata": {},
   "source": [
    "https://www.kaggle.com/krishanudb/tutorial-on-convolutional-nets-in-pytorch  "
   ]
  },
  {
   "cell_type": "code",
   "execution_count": 1,
   "id": "forbidden-pioneer",
   "metadata": {},
   "outputs": [],
   "source": [
    "import torch\n",
    "import torch.nn as nn\n",
    "import torch.optim as optim\n",
    "import torch.nn.functional as F\n",
    "import torchvision\n",
    "import torchvision.transforms as transforms"
   ]
  },
  {
   "cell_type": "code",
   "execution_count": 2,
   "id": "bridal-woman",
   "metadata": {},
   "outputs": [],
   "source": [
    "input_size = [28, 28]\n",
    "num_epochs = 10\n",
    "num_classes = 10\n",
    "batch_size = 100\n",
    "learning_rate = 0.001"
   ]
  },
  {
   "cell_type": "code",
   "execution_count": 5,
   "id": "tested-producer",
   "metadata": {},
   "outputs": [
    {
     "name": "stdout",
     "output_type": "stream",
     "text": [
      "Downloading http://yann.lecun.com/exdb/mnist/train-images-idx3-ubyte.gz to ./data/MNIST/raw/train-images-idx3-ubyte.gz\n"
     ]
    },
    {
     "name": "stderr",
     "output_type": "stream",
     "text": [
      "100.1%"
     ]
    },
    {
     "name": "stdout",
     "output_type": "stream",
     "text": [
      "Extracting ./data/MNIST/raw/train-images-idx3-ubyte.gz to ./data/MNIST/raw\n",
      "Downloading http://yann.lecun.com/exdb/mnist/train-labels-idx1-ubyte.gz to ./data/MNIST/raw/train-labels-idx1-ubyte.gz\n"
     ]
    },
    {
     "name": "stderr",
     "output_type": "stream",
     "text": [
      "113.5%"
     ]
    },
    {
     "name": "stdout",
     "output_type": "stream",
     "text": [
      "Extracting ./data/MNIST/raw/train-labels-idx1-ubyte.gz to ./data/MNIST/raw\n",
      "Downloading http://yann.lecun.com/exdb/mnist/t10k-images-idx3-ubyte.gz to ./data/MNIST/raw/t10k-images-idx3-ubyte.gz\n"
     ]
    },
    {
     "name": "stderr",
     "output_type": "stream",
     "text": [
      "100.4%"
     ]
    },
    {
     "name": "stdout",
     "output_type": "stream",
     "text": [
      "Extracting ./data/MNIST/raw/t10k-images-idx3-ubyte.gz to ./data/MNIST/raw\n",
      "Downloading http://yann.lecun.com/exdb/mnist/t10k-labels-idx1-ubyte.gz to ./data/MNIST/raw/t10k-labels-idx1-ubyte.gz\n"
     ]
    },
    {
     "name": "stderr",
     "output_type": "stream",
     "text": [
      "180.4%"
     ]
    },
    {
     "name": "stdout",
     "output_type": "stream",
     "text": [
      "Extracting ./data/MNIST/raw/t10k-labels-idx1-ubyte.gz to ./data/MNIST/raw\n",
      "Processing...\n",
      "Done!\n"
     ]
    },
    {
     "name": "stderr",
     "output_type": "stream",
     "text": [
      "/usr/local/lib/python3.9/dist-packages/torchvision/datasets/mnist.py:480: UserWarning: The given NumPy array is not writeable, and PyTorch does not support non-writeable tensors. This means you can write to the underlying (supposedly non-writeable) NumPy array using the tensor. You may want to copy the array to protect its data or make it writeable before converting it to a tensor. This type of warning will be suppressed for the rest of this program. (Triggered internally at  /pytorch/torch/csrc/utils/tensor_numpy.cpp:141.)\n",
      "  return torch.from_numpy(parsed.astype(m[2], copy=False)).view(*s)\n"
     ]
    }
   ],
   "source": [
    "traindata = torchvision.datasets.MNIST(root=\"./data\", train = True, transform=transforms.ToTensor(), download = True)\n",
    "testdata = torchvision.datasets.MNIST(root=\"./data\", train=False, transform=transforms.ToTensor(), download = True)"
   ]
  },
  {
   "cell_type": "code",
   "execution_count": 6,
   "id": "considered-cisco",
   "metadata": {},
   "outputs": [
    {
     "name": "stdout",
     "output_type": "stream",
     "text": [
      "torch.Size([60000, 28, 28])\n",
      "torch.Size([10000, 28, 28])\n"
     ]
    },
    {
     "name": "stderr",
     "output_type": "stream",
     "text": [
      "/usr/local/lib/python3.9/dist-packages/torchvision/datasets/mnist.py:58: UserWarning: train_data has been renamed data\n",
      "  warnings.warn(\"train_data has been renamed data\")\n",
      "/usr/local/lib/python3.9/dist-packages/torchvision/datasets/mnist.py:63: UserWarning: test_data has been renamed data\n",
      "  warnings.warn(\"test_data has been renamed data\")\n"
     ]
    }
   ],
   "source": [
    "print(traindata.train_data.size())\n",
    "print(testdata.test_data.size())"
   ]
  },
  {
   "cell_type": "code",
   "execution_count": 7,
   "id": "framed-dispute",
   "metadata": {},
   "outputs": [],
   "source": [
    "trainloader = torch.utils.data.DataLoader(dataset=traindata, batch_size=batch_size, shuffle=True)\n",
    "testloader = torch.utils.data.DataLoader(dataset=testdata, batch_size=batch_size, shuffle=False)"
   ]
  },
  {
   "cell_type": "code",
   "execution_count": 8,
   "id": "sized-laser",
   "metadata": {},
   "outputs": [],
   "source": [
    "class ConvNet(nn.Module):\n",
    "    def __init__(self, num_classes):\n",
    "        super(ConvNet, self).__init__()\n",
    "        \n",
    "        self.conv1 = nn.Sequential(nn.Conv2d(1, 6, kernel_size=5, padding = 2),\n",
    "                                   nn.BatchNorm2d(6),\n",
    "                                   nn.ReLU(),\n",
    "                                   nn.MaxPool2d(kernel_size=2, stride=2))\n",
    "        \n",
    "        self.conv2 = nn.Sequential(nn.Conv2d(6, 16, kernel_size=3, padding = 2),\n",
    "                                   nn.BatchNorm2d(16),\n",
    "                                   nn.ReLU(),\n",
    "                                   nn.MaxPool2d(kernel_size=2, stride=2))\n",
    "        self.conv3 = nn.Sequential(nn.Conv2d(16, 32, kernel_size=3, padding = 1),\n",
    "                                   nn.BatchNorm2d(32),\n",
    "                                   nn.ReLU(),\n",
    "                                   nn.MaxPool2d(kernel_size=2, stride = 2))\n",
    "        self.output = nn.Linear(4 * 4 * 32, num_classes)\n",
    "        \n",
    "    def forward(self, x):\n",
    "        out = self.conv1(x)\n",
    "        out = self.conv2(out)\n",
    "        out = self.conv3(out)\n",
    "        out = out.reshape(-1, 4 * 4 * 32)\n",
    "        out = self.output(out)\n",
    "        return out\n",
    "\n",
    "model = ConvNet(10)"
   ]
  },
  {
   "cell_type": "code",
   "execution_count": 9,
   "id": "peaceful-garbage",
   "metadata": {},
   "outputs": [],
   "source": [
    "criterion = nn.CrossEntropyLoss()\n",
    "optimizer = optim.Adam(model.parameters(), lr=0.001)"
   ]
  },
  {
   "cell_type": "code",
   "execution_count": 10,
   "id": "northern-football",
   "metadata": {},
   "outputs": [
    {
     "name": "stdout",
     "output_type": "stream",
     "text": [
      "Epoch [1/10], Step [200/600], Loss: 0.1247\n",
      "Epoch [1/10], Step [400/600], Loss: 0.0519\n",
      "Epoch [1/10], Step [600/600], Loss: 0.0516\n",
      "Epoch [2/10], Step [200/600], Loss: 0.0370\n",
      "Epoch [2/10], Step [400/600], Loss: 0.0358\n",
      "Epoch [2/10], Step [600/600], Loss: 0.0806\n",
      "Epoch [3/10], Step [200/600], Loss: 0.0222\n",
      "Epoch [3/10], Step [400/600], Loss: 0.0565\n",
      "Epoch [3/10], Step [600/600], Loss: 0.0372\n",
      "Epoch [4/10], Step [200/600], Loss: 0.0691\n",
      "Epoch [4/10], Step [400/600], Loss: 0.0094\n",
      "Epoch [4/10], Step [600/600], Loss: 0.0603\n",
      "Epoch [5/10], Step [200/600], Loss: 0.0295\n",
      "Epoch [5/10], Step [400/600], Loss: 0.0826\n",
      "Epoch [5/10], Step [600/600], Loss: 0.1098\n",
      "Epoch [6/10], Step [200/600], Loss: 0.0040\n",
      "Epoch [6/10], Step [400/600], Loss: 0.0053\n",
      "Epoch [6/10], Step [600/600], Loss: 0.0138\n",
      "Epoch [7/10], Step [200/600], Loss: 0.0068\n",
      "Epoch [7/10], Step [400/600], Loss: 0.0163\n",
      "Epoch [7/10], Step [600/600], Loss: 0.0261\n",
      "Epoch [8/10], Step [200/600], Loss: 0.0065\n",
      "Epoch [8/10], Step [400/600], Loss: 0.0282\n",
      "Epoch [8/10], Step [600/600], Loss: 0.0277\n",
      "Epoch [9/10], Step [200/600], Loss: 0.0016\n",
      "Epoch [9/10], Step [400/600], Loss: 0.0039\n",
      "Epoch [9/10], Step [600/600], Loss: 0.0108\n",
      "Epoch [10/10], Step [200/600], Loss: 0.0165\n",
      "Epoch [10/10], Step [400/600], Loss: 0.0097\n",
      "Epoch [10/10], Step [600/600], Loss: 0.0233\n"
     ]
    }
   ],
   "source": [
    "for epoch in range(num_epochs):\n",
    "    for i, (images, labels) in enumerate(trainloader):\n",
    "        outputs = model(images)\n",
    "        loss = criterion(outputs, labels)\n",
    "        optimizer.zero_grad()\n",
    "        loss.backward()\n",
    "        optimizer.step()\n",
    "        \n",
    "        if (i + 1) % 200 == 0:\n",
    "            print ('Epoch [{}/{}], Step [{}/{}], Loss: {:.4f}' \n",
    "                   .format(epoch+1, num_epochs, i+1, len(trainloader), loss.item()))"
   ]
  },
  {
   "cell_type": "code",
   "execution_count": 14,
   "id": "residential-japan",
   "metadata": {},
   "outputs": [
    {
     "name": "stdout",
     "output_type": "stream",
     "text": [
      "Prediction accuracy of the above model is: 0.9899\n"
     ]
    }
   ],
   "source": [
    "with torch.no_grad():\n",
    "    correct = 0\n",
    "    total = 0\n",
    "    for i, (image, labels) in enumerate(testloader):\n",
    "        outputs = model(image)\n",
    "        _, predicted = torch.max(outputs.data, 1)\n",
    "        correct += (predicted == labels).sum().item()\n",
    "        total += labels.size(0)\n",
    "        \n",
    "print(\"Prediction accuracy of the above model is: {}\".format(float(correct) / float(total)))"
   ]
  }
 ],
 "metadata": {
  "kernelspec": {
   "display_name": "Python 3",
   "language": "python",
   "name": "python3"
  },
  "language_info": {
   "codemirror_mode": {
    "name": "ipython",
    "version": 3
   },
   "file_extension": ".py",
   "mimetype": "text/x-python",
   "name": "python",
   "nbconvert_exporter": "python",
   "pygments_lexer": "ipython3",
   "version": "3.9.2"
  }
 },
 "nbformat": 4,
 "nbformat_minor": 5
}
