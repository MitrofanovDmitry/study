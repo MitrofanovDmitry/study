{
 "cells": [
  {
   "cell_type": "markdown",
   "id": "historic-borough",
   "metadata": {},
   "source": [
    "https://www.kaggle.com/krishanudb/tutorial-on-convolutional-nets-in-pytorch  "
   ]
  }
 ],
 "metadata": {
  "kernelspec": {
   "display_name": "Python 3",
   "language": "python",
   "name": "python3"
  },
  "language_info": {
   "codemirror_mode": {
    "name": "ipython",
    "version": 3
   },
   "file_extension": ".py",
   "mimetype": "text/x-python",
   "name": "python",
   "nbconvert_exporter": "python",
   "pygments_lexer": "ipython3",
   "version": "3.9.2"
  }
 },
 "nbformat": 4,
 "nbformat_minor": 5
}
