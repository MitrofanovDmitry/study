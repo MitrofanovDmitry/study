{
  "nbformat": 4,
  "nbformat_minor": 0,
  "metadata": {
    "colab": {
      "name": "movie_theatres.ipynb",
      "provenance": [],
      "collapsed_sections": []
    },
    "kernelspec": {
      "name": "python3",
      "display_name": "Python 3"
    }
  },
  "cells": [
    {
      "cell_type": "markdown",
      "metadata": {
        "id": "SDLZQasoeZhl"
      },
      "source": [
        "https://en.m.wikibooks.org/wiki/SQL_Exercises/Movie_theatres  "
      ]
    },
    {
      "cell_type": "code",
      "metadata": {
        "id": "P7MEHtygeVX0"
      },
      "source": [
        "%load_ext sql\n",
        "%sql sqlite:///db.db3"
      ],
      "execution_count": null,
      "outputs": []
    },
    {
      "cell_type": "code",
      "metadata": {
        "id": "MQ8nfBhTeces"
      },
      "source": [
        "%%sql sqlite://\n",
        "\n",
        "CREATE TABLE Movies (\n",
        "   Code INTEGER PRIMARY KEY NOT NULL,\n",
        "   Title TEXT NOT NULL,\n",
        "   Rating TEXT \n",
        ");\n",
        "  \n",
        "CREATE TABLE MovieTheaters (\n",
        "   Code INTEGER PRIMARY KEY NOT NULL,\n",
        "   Name TEXT NOT NULL,\n",
        "   Movie INTEGER  \n",
        "     CONSTRAINT fk_Movies_Code REFERENCES Movies(Code)\n",
        ");\n",
        "\n",
        "INSERT INTO Movies(Code,Title,Rating) VALUES(9,'Citizen King','G');\n",
        "INSERT INTO Movies(Code,Title,Rating) VALUES(1,'Citizen Kane','PG');\n",
        "INSERT INTO Movies(Code,Title,Rating) VALUES(2,'Singin'' in the Rain','G');\n",
        "INSERT INTO Movies(Code,Title,Rating) VALUES(3,'The Wizard of Oz','G');\n",
        "INSERT INTO Movies(Code,Title,Rating) VALUES(4,'The Quiet Man',NULL);\n",
        "INSERT INTO Movies(Code,Title,Rating) VALUES(5,'North by Northwest',NULL);\n",
        "INSERT INTO Movies(Code,Title,Rating) VALUES(6,'The Last Tango in Paris','NC-17');\n",
        "INSERT INTO Movies(Code,Title,Rating) VALUES(7,'Some Like it Hot','PG-13');\n",
        "INSERT INTO Movies(Code,Title,Rating) VALUES(8,'A Night at the Opera',NULL);\n",
        " \n",
        "INSERT INTO MovieTheaters(Code,Name,Movie) VALUES(1,'Odeon',5);\n",
        "INSERT INTO MovieTheaters(Code,Name,Movie) VALUES(2,'Imperial',1);\n",
        "INSERT INTO MovieTheaters(Code,Name,Movie) VALUES(3,'Majestic',NULL);\n",
        "INSERT INTO MovieTheaters(Code,Name,Movie) VALUES(4,'Royale',6);\n",
        "INSERT INTO MovieTheaters(Code,Name,Movie) VALUES(5,'Paraiso',3);\n",
        "INSERT INTO MovieTheaters(Code,Name,Movie) VALUES(6,'Nickelodeon',NULL);"
      ],
      "execution_count": null,
      "outputs": []
    },
    {
      "cell_type": "code",
      "metadata": {
        "id": "MIYSnunke255"
      },
      "source": [
        "# 1. Select the title of all movies.\n",
        "%sql select title from movies;"
      ],
      "execution_count": null,
      "outputs": []
    },
    {
      "cell_type": "code",
      "metadata": {
        "id": "dlL2hvc_e5ai"
      },
      "source": [
        "# 2. Show all the distinct ratings in the database.\n",
        "%sql select distinct rating from movies;"
      ],
      "execution_count": null,
      "outputs": []
    },
    {
      "cell_type": "code",
      "metadata": {
        "id": "tTyVgO4Se60C"
      },
      "source": [
        "# 3. Show all unrated movies.\n",
        "%sql select * from movies where rating is null;"
      ],
      "execution_count": null,
      "outputs": []
    },
    {
      "cell_type": "code",
      "metadata": {
        "id": "bOnzR7dEe8ka"
      },
      "source": [
        "# 4. Select all movie theaters that are not currently showing a movie.\n",
        "%sql select * from movietheaters where movie is null;"
      ],
      "execution_count": null,
      "outputs": []
    },
    {
      "cell_type": "code",
      "metadata": {
        "id": "STqOuXTce-Ol"
      },
      "source": [
        "# 5. Select all data from all movie theaters and, additionally, the data from the movie that is being shown in the theater (if one is being shown).\n",
        "%sql select * from movietheaters left join movies on movietheaters.movie = movies.code;"
      ],
      "execution_count": null,
      "outputs": []
    },
    {
      "cell_type": "code",
      "metadata": {
        "id": "-43AbovJfAjK"
      },
      "source": [
        "# 6. Select all data from all movies and, if that movie is being shown in a theater, show the data from the theater.\n",
        "%sql select * from movies left join movietheaters on movies.code = movietheaters.movie;"
      ],
      "execution_count": null,
      "outputs": []
    },
    {
      "cell_type": "code",
      "metadata": {
        "id": "sAqAbwGGfCet"
      },
      "source": [
        "# 7. Show the titles of movies not currently being shown in any theaters.\n",
        "%sql select title from movies left join movietheaters on movies.code = movietheaters.movie where movie is null;"
      ],
      "execution_count": null,
      "outputs": []
    },
    {
      "cell_type": "code",
      "metadata": {
        "id": "M7rfAwE0fD-L"
      },
      "source": [
        "# 8. Add the unrated movie \"One, Two, Three\".\n",
        "%sql insert into movies (title, rating) values ('One, Two, Three', null);"
      ],
      "execution_count": null,
      "outputs": []
    },
    {
      "cell_type": "code",
      "metadata": {
        "id": "sc6jSbhpfF3c"
      },
      "source": [
        "# 9. Set the rating of all unrated movies to \"G\".\n",
        "%sql update movies set rating = 'G' where rating is null;"
      ],
      "execution_count": null,
      "outputs": []
    },
    {
      "cell_type": "code",
      "metadata": {
        "id": "wQV8_-YxfHk2"
      },
      "source": [
        "# 10. Remove movie theaters projecting movies rated \"NC-17\".\n",
        "%sql delete from movietheaters where movie in (select code from movies where rating = 'NC-17');"
      ],
      "execution_count": null,
      "outputs": []
    }
  ]
}