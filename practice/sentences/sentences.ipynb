{
 "cells": [
  {
   "cell_type": "markdown",
   "metadata": {},
   "source": [
    "### Математика и Python для анализа данных  \n",
    "Линейная алгебра: сходство текстов и аппроксимация функций  \n",
    "https://www.coursera.org/learn/mathematics-and-python/programming/QySgp/linieinaia-alghiebra-skhodstvo-tiekstov-i-approksimatsiia-funktsii "
   ]
  },
  {
   "cell_type": "code",
   "execution_count": 183,
   "metadata": {},
   "outputs": [
    {
     "data": {
      "text/plain": [
       "[(0, 0.0),\n",
       " (6, 0.7327387580875756),\n",
       " (4, 0.7770887149698589),\n",
       " (21, 0.8250364469440588),\n",
       " (10, 0.8328165362273942),\n",
       " (12, 0.8396432548525454),\n",
       " (16, 0.8406361854220809),\n",
       " (20, 0.8427572744917122),\n",
       " (2, 0.8644738145642124),\n",
       " (13, 0.8703592552895671),\n",
       " (14, 0.8740118423302576),\n",
       " (11, 0.8804771390665607),\n",
       " (8, 0.8842724875284311),\n",
       " (19, 0.8885443574849294),\n",
       " (3, 0.8951715163278082),\n",
       " (9, 0.9055088817476932),\n",
       " (7, 0.9258750683338899),\n",
       " (5, 0.9402385695332803),\n",
       " (15, 0.9442721787424647),\n",
       " (18, 0.9442721787424647),\n",
       " (1, 0.9527544408738466),\n",
       " (17, 0.956644501523794)]"
      ]
     },
     "execution_count": 183,
     "metadata": {},
     "output_type": "execute_result"
    }
   ],
   "source": [
    "import re\n",
    "from scipy.spatial import distance\n",
    "\n",
    "def split(s): \n",
    "    return [w for w in re.split('[^a-z]', s) if w]\n",
    "\n",
    "with open('sentences.txt') as f:\n",
    "    sentences = [split(line.lower()) for line in f]\n",
    "    words = sorted({w for s in sentences for w in s})\n",
    "\n",
    "n, d = len(sentences), len(words)\n",
    "A = [[0] * d for _ in range(n)]\n",
    "\n",
    "for i in range(n):\n",
    "    for j in range(d):\n",
    "        A[i][j] = sentences[i].count(words[j])\n",
    "\n",
    "dist = [distance.cosine(A[0], A[i]) for i in range(n)]\n",
    "dist = sorted(enumerate(dist), key=lambda x: x[1])\n",
    "dist"
   ]
  },
  {
   "cell_type": "code",
   "execution_count": 184,
   "metadata": {},
   "outputs": [],
   "source": [
    "with open('submission-1.txt','w') as f: \n",
    "    f.write(f'{dist[1][0]} {dist[2][0]}')"
   ]
  }
 ],
 "metadata": {
  "kernelspec": {
   "display_name": "Python 3",
   "language": "python",
   "name": "python3"
  },
  "language_info": {
   "codemirror_mode": {
    "name": "ipython",
    "version": 3
   },
   "file_extension": ".py",
   "mimetype": "text/x-python",
   "name": "python",
   "nbconvert_exporter": "python",
   "pygments_lexer": "ipython3",
   "version": "3.8.5"
  }
 },
 "nbformat": 4,
 "nbformat_minor": 4
}
