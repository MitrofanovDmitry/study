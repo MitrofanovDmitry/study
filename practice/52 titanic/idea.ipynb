{
 "cells": [
  {
   "cell_type": "markdown",
   "metadata": {},
   "source": [
    "https://neurohive.io/ru/osnovy-data-science/razbor-resheniya-zadachi-titanik-na-kaggle-dlya-nachinajushhih/  \n",
    "https://github.com/sumitmukhija/Titanic/blob/master/Tip%20of%20the%20Iceberg.ipynb  \n",
    "https://www.kaggle.com/konstantinmasich/titanic-0-82-0-83/notebook  \n",
    "https://github.com/ramansah/kaggle-titanic/blob/master/Analysis.ipynb  \n",
    "https://www.kaggle.com/startupsci/titanic-data-science-solutions  \n",
    "https://www.kaggle.com/makarevich/missing-values-that-you-can-t-miss-in-titanic  \n",
    "https://www.kaggle.com/vradore/titanic-survival-analysis-with-missing-values  \n",
    "https://www.kaggle.com/c/titanic/discussion/62321  \n",
    "https://www.kaggle.com/jack89roberts/titanic-using-ticket-groupings  \n",
    "http://rstudio-pubs-static.s3.amazonaws.com/227239_a42941af5d7d457398ed3721f9ad0f6f.html  \n",
    "https://www.encyclopedia-titanica.org/titanic-victims/  "
   ]
  },
  {
   "cell_type": "raw",
   "metadata": {},
   "source": [
    "1. использовать все категории (mr, miss...)\n",
    "2. группировать по sex и title\n",
    "3. title как фича\n",
    "4. убрать sibs и parch\n",
    "5. get_dummies - отдельная функция\n",
    "6. заполнять пропуски по всем данным - train + test\n",
    "7. family by last_name -> cabin.fillna\n",
    "8. убрать cabin\n",
    "9. NA ticket => crew member\n",
    "10. все женщины и дети в семьях\n",
    "11. label encoder - hash ?"
   ]
  },
  {
   "cell_type": "code",
   "execution_count": 18,
   "metadata": {},
   "outputs": [
    {
     "data": {
      "image/png": "[encoded data removed]",
      "text/plain": [
       "<Figure size 432x288 with 1 Axes>"
      ]
     },
     "metadata": {
      "needs_background": "light"
     },
     "output_type": "display_data"
    }
   ],
   "source": [
    "import numpy as np\n",
    "import pandas as pd\n",
    "import seaborn as sns\n",
    "train_data = pd.read_csv('train.csv')\n",
    "train_data['Fare'] = train_data['Fare'].fillna(train_data['Fare'].median())\n",
    "train_data['Fare'] = train_data.groupby('Ticket')['Fare'].transform(lambda x: x / len(x))\n",
    "train_data['Family'] = train_data['SibSp'] + train_data['Parch']\n",
    "sns.histplot(np.log1p(train_data['Fare']));"
   ]
  },
  {
   "cell_type": "code",
   "execution_count": null,
   "metadata": {},
   "outputs": [],
   "source": [
    "from sklearn.model_selection import GridSearchCV\n",
    "m = LogisticRegression()\n",
    "grid = {'C':[0.001,0.01,0.1,1,10,100,1000],'penalty':['l1','l2'],'solver': ['liblinear']}\n",
    "cv = GridSearchCV(m, grid, scoring='accuracy', cv=3)\n",
    "cv.fit(X_train, y_train)\n",
    "cv.best_estimator_, cv.best_score_"
   ]
  },
  {
   "cell_type": "code",
   "execution_count": null,
   "metadata": {},
   "outputs": [],
   "source": [
    "# scaler, scaled = MinMaxScaler(), ['SibSp','Parch']\n",
    "# X_train[scaled] = scaler.fit_transform(X_train[scaled])\n",
    "# X_test[scaled] = scaler.transform(X_test[scaled])"
   ]
  },
  {
   "cell_type": "code",
   "execution_count": null,
   "metadata": {},
   "outputs": [],
   "source": [
    "# label = LabelEncoder()\n",
    "# df['Fare'] = label.fit_transform(df['Fare'])\n",
    "# df['Sex'] = label.fit_transform(df['Sex'])\n",
    "# df['Ticket'] = label.fit_transform(df['Ticket'])\n",
    "# df['Age'] = label.fit_transform(df['Age'])\n",
    "# df['Embarked'] = label.fit_transform(df['Embarked'])"
   ]
  },
  {
   "cell_type": "code",
   "execution_count": null,
   "metadata": {},
   "outputs": [],
   "source": [
    "import numpy as np\n",
    "import pandas as pd\n",
    "train_data = pd.read_csv('train.csv')\n",
    "test_data = pd.read_csv('test.csv')\n",
    "train_len = len(train_data)\n",
    "df = pd.concat([train_data, test_data])\n",
    "df['Ticket'] = df.groupby(['Ticket']).ngroup()\n",
    "df['Ticket'] = df.groupby('Ticket')['Ticket'].transform(lambda x: -1 if len(x) < 3 else x)\n",
    "df.sort_values(by='Ticket')\n",
    "len(df['Ticket'].unique())"
   ]
  },
  {
   "cell_type": "code",
   "execution_count": null,
   "metadata": {},
   "outputs": [],
   "source": [
    "import numpy as np\n",
    "import pandas as pd\n",
    "train_data = pd.read_csv('train.csv')\n",
    "test_data = pd.read_csv('test.csv')\n",
    "train_len = len(train_data)\n",
    "df = pd.concat([train_data, test_data])\n",
    "df['Last_Name'] = df['Name'].str.split(\",\").str.get(0)\n",
    "df['Family'] = df.groupby(['Ticket','Last_Name']).ngroup()\n",
    "df['Family'] = df.groupby('Family')['Family'].transform(lambda x: -1 if len(x) < 3 else x)\n",
    "df.sort_values(by='Family')\n",
    "len(df['Family'].unique())"
   ]
  },
  {
   "cell_type": "code",
   "execution_count": null,
   "metadata": {},
   "outputs": [],
   "source": [
    "import numpy as np\n",
    "import pandas as pd\n",
    "train_data = pd.read_csv('train.csv')\n",
    "test_data = pd.read_csv('test.csv')\n",
    "train_len = len(train_data)\n",
    "df = pd.concat([train_data, test_data])\n",
    "df['Ticket'] = df.groupby('Ticket')['Ticket'].transform(lambda x: '< 3' if len(x) < 3 else x)\n",
    "df.sort_values(by='Ticket')\n",
    "len(df['Ticket'].unique())"
   ]
  },
  {
   "cell_type": "code",
   "execution_count": null,
   "metadata": {},
   "outputs": [],
   "source": [
    "import numpy as np\n",
    "import pandas as pd\n",
    "\n",
    "train_data = pd.read_csv('train.csv')\n",
    "test_data = pd.read_csv('test.csv')\n",
    "df = pd.concat([train_data, test_data])\n",
    "\n",
    "for name, group in df.groupby(['Ticket']):\n",
    "    if len(group) > 1: \n",
    "        print(group[['Cabin','Ticket','Survived']])\n",
    "        print(len(group))"
   ]
  },
  {
   "cell_type": "code",
   "execution_count": null,
   "metadata": {},
   "outputs": [],
   "source": [
    "import numpy as np\n",
    "import pandas as pd\n",
    "\n",
    "train_data = pd.read_csv('train.csv')\n",
    "test_data = pd.read_csv('test.csv')\n",
    "train_len = len(train_data)\n",
    "df = pd.concat([train_data, test_data])\n",
    "df['Last_Name'] = df['Name'].str.split(\",\").str.get(0)\n",
    "\n",
    "for name, group in df.groupby(['Ticket','Last_Name']):\n",
    "    if len(group) > 1: \n",
    "        print(group[['Last_Name','Cabin','Ticket','Survived']])\n",
    "        print(len(group))"
   ]
  },
  {
   "cell_type": "code",
   "execution_count": null,
   "metadata": {},
   "outputs": [],
   "source": [
    "train_data['Ticket'].isnull().sum()"
   ]
  },
  {
   "cell_type": "code",
   "execution_count": null,
   "metadata": {},
   "outputs": [],
   "source": [
    "# df['Family'] = df['SibSp'] + df['Parch']\n",
    "# df['Alone'] = (df['SibSp'] + df['Parch'] == 0).astype(int)\n",
    "# df['Cabin'] = df['Cabin'].fillna('NA')\n",
    "# df['Family'] = df.groupby(['Ticket','Last_Name']).ngroup()\n",
    "# df['Family'] = df.groupby('Family')['Family'].transform(lambda x: -1 if len(x) < 3 else x)\n",
    "# df['Ticket'] = df.groupby(['Ticket']).ngroup()\n",
    "# df['Ticket'] = df.groupby('Ticket')['Ticket'].transform(lambda x: -1 if len(x) < 3 else x)"
   ]
  },
  {
   "cell_type": "code",
   "execution_count": null,
   "metadata": {},
   "outputs": [],
   "source": [
    "import numpy as np\n",
    "import pandas as pd\n",
    "\n",
    "train_data = pd.read_csv('train.csv')\n",
    "test_data = pd.read_csv('test.csv')\n",
    "train_len = len(train_data)\n",
    "df = pd.concat([train_data, test_data])\n",
    "df['Last_Name'] = df['Name'].str.split(\",\").str.get(0)\n",
    "\n",
    "for name, group in df.groupby(['Pclass','Last_Name']):\n",
    "    if len(group) > 9: \n",
    "        print(group[['Last_Name','Cabin','Ticket']])\n",
    "        print(len(group))"
   ]
  },
  {
   "cell_type": "code",
   "execution_count": null,
   "metadata": {},
   "outputs": [],
   "source": [
    "one_hot_encoded = ['Pclass','Sex','Age','SibSp','Parch','Cabin','Embarked','Fare','Alone']\n",
    "X_train = pd.get_dummies(X_train, columns=one_hot_encoded)\n",
    "X_test = pd.get_dummies(X_test, columns=one_hot_encoded)\n",
    "X_train, X_test = X_train.align(X_test, join='outer', axis=1, fill_value=0)"
   ]
  },
  {
   "cell_type": "code",
   "execution_count": 17,
   "metadata": {},
   "outputs": [],
   "source": [
    "import pandas as pd\n",
    "df1 = pd.read_csv('titanic.csv')\n",
    "df2 = pd.read_csv('test.csv')\n",
    "df1 = df1.drop(['Boat','Body','Home.dest'], axis=1)\n",
    "df = pd.concat([df1, df2])\n",
    "df = df[df.duplicated(['Name'], keep=False)]\n",
    "df = df.sort_values(by='Name')\n",
    "df = df[df['Survived'].notnull()]\n",
    "df.to_csv('my_test.csv', index=False)"
   ]
  },
  {
   "cell_type": "code",
   "execution_count": null,
   "metadata": {},
   "outputs": [],
   "source": [
    "df1 = pd.read_csv('titanic.csv')\n",
    "df2 = pd.read_csv('train.csv')\n",
    "df3 = pd.read_csv('test.csv')\n",
    "df4 = pd.concat([df1,df2]).drop_duplicates(subset='Name', keep=\"last\")\n",
    "df1.shape, df2.shape, df3.shape, df4.shape"
   ]
  },
  {
   "cell_type": "code",
   "execution_count": null,
   "metadata": {},
   "outputs": [],
   "source": [
    "from sklearn.model_selection import GridSearchCV\n",
    "m = LogisticRegression()\n",
    "grid = {'C':[0.001,0.01,0.1,1,10,100,1000],'penalty':['l1','l2'],'solver': ['liblinear']}\n",
    "cv = GridSearchCV(m, grid, scoring='accuracy', cv=3)\n",
    "cv.fit(X_train, y_train)\n",
    "cv.best_estimator_, cv.best_score_"
   ]
  },
  {
   "cell_type": "code",
   "execution_count": null,
   "metadata": {},
   "outputs": [],
   "source": [
    "train_data['Name'].str.contains('Don').sum()"
   ]
  },
  {
   "cell_type": "code",
   "execution_count": null,
   "metadata": {},
   "outputs": [],
   "source": [
    "(train_data['Fare'] / (train_data['SibSp'] + train_data['Parch'] + 1) < 1).sum()"
   ]
  },
  {
   "cell_type": "code",
   "execution_count": null,
   "metadata": {},
   "outputs": [],
   "source": [
    "train_data['Pclass'].isnull().sum()"
   ]
  },
  {
   "cell_type": "code",
   "execution_count": null,
   "metadata": {},
   "outputs": [],
   "source": [
    "train_data.groupby('Sex').apply(lambda x: x['Survived'].sum() / len(x))"
   ]
  },
  {
   "cell_type": "code",
   "execution_count": null,
   "metadata": {},
   "outputs": [],
   "source": [
    "train_data.Survived[train_data['Sex'] == 'male'].value_counts().plot(kind='pie')"
   ]
  },
  {
   "cell_type": "code",
   "execution_count": null,
   "metadata": {},
   "outputs": [],
   "source": [
    "train_data.Survived[train_data['Sex'] == 'female'].value_counts().plot(kind='pie')"
   ]
  },
  {
   "cell_type": "code",
   "execution_count": null,
   "metadata": {},
   "outputs": [],
   "source": [
    "train_data.loc[train_data['Sex'] == 'male', 'Survived'].mean()\n",
    "train_data.loc[train_data['Sex'] == 'female', 'Survived'].mean()"
   ]
  },
  {
   "cell_type": "code",
   "execution_count": null,
   "metadata": {},
   "outputs": [],
   "source": [
    "train_data['Age_c'] = pd.cut(train_data['Age'], 4)\n",
    "# train_data['Age_c'] = pd.cut(train_data['Age'], bins=[0,7.90,14.45,31.28,120])\n",
    "s = train_data.groupby('Age_c').apply(lambda x: x['Survived'].sum() / len(x))\n",
    "plt.bar(s.index.astype(str), s.values)\n",
    "plt.xticks(rotation=45);"
   ]
  },
  {
   "cell_type": "code",
   "execution_count": null,
   "metadata": {},
   "outputs": [],
   "source": [
    "women = train_data[train_data['Sex']=='female']\n",
    "men = train_data[train_data['Sex']=='male']\n",
    "# women[women['Survived']==0].Age.dropna().hist()\n",
    "women[women['Survived']==1].Age.dropna().hist()"
   ]
  },
  {
   "cell_type": "code",
   "execution_count": null,
   "metadata": {},
   "outputs": [],
   "source": [
    "#women = train_data[train_data['Sex']=='female']\n",
    "#men = train_data[train_data['Sex']=='male']\n",
    "#sns.displot(men[men['Survived']==1].Age.dropna(), bins=18)\n",
    "#sns.displot(men[men['Survived']==0].Age.dropna(), bins=18)\n",
    "#sns.displot(women[women['Survived']==1].Age.dropna(), bins=18)\n",
    "#sns.displot(women[women['Survived']==0].Age.dropna(), bins=18)"
   ]
  },
  {
   "cell_type": "code",
   "execution_count": null,
   "metadata": {},
   "outputs": [],
   "source": [
    "s = train_data.groupby('Sex').apply(lambda x: x['Survived'].sum() / len(x))\n",
    "plt.bar(s.index.astype(str), s.values);"
   ]
  },
  {
   "cell_type": "code",
   "execution_count": null,
   "metadata": {},
   "outputs": [],
   "source": [
    "train_data['Age_c'] = pd.cut(train_data['Age'], 5)\n",
    "train_data.groupby('Age_c').apply(lambda x: x['Survived'].sum() / len(x))"
   ]
  },
  {
   "cell_type": "code",
   "execution_count": null,
   "metadata": {},
   "outputs": [],
   "source": [
    "s = train_data.groupby('Pclass').apply(lambda x: x['Survived'].sum() / len(x))\n",
    "plt.bar(s.index.astype(str), s.values);"
   ]
  },
  {
   "cell_type": "code",
   "execution_count": null,
   "metadata": {},
   "outputs": [],
   "source": [
    "train_data['n'] = train_data.groupby('Ticket')['Fare'].transform(lambda x: len(x))\n",
    "train_data['Fare1'] = train_data.groupby('Ticket')['Fare'].transform(lambda x: x / len(x))\n",
    "train_data['Fare1'] = pd.cut(train_data['Fare1'], bins=[0,10,20,30,100])"
   ]
  },
  {
   "cell_type": "code",
   "execution_count": null,
   "metadata": {},
   "outputs": [],
   "source": [
    "import matplotlib.pyplot as plt\n",
    "s = train_data.groupby('Fare1').apply(lambda x: x['Survived'].sum() / len(x))\n",
    "plt.bar(s.index.astype(str), s.values);\n",
    "s"
   ]
  },
  {
   "cell_type": "code",
   "execution_count": null,
   "metadata": {},
   "outputs": [],
   "source": [
    "# train_data['Age'].isnull().sum()\n",
    "# train_data['Title'].isnull().sum()\n",
    "# X['Age'] = X['Age'].fillna(X['Age'].mean())\n",
    "train_data['Title'] = train_data['Name'].str.extract('(Mrs|Mr|Miss)').fillna('NA')\n",
    "train_data['Age'] = train_data.groupby('Title').transform(lambda g: g.fillna(g.mean()))\n",
    "# train_data['Age'] = train_data.groupby('Title')['Age'].apply(lambda g: g.fillna(g.median()))"
   ]
  },
  {
   "cell_type": "code",
   "execution_count": null,
   "metadata": {},
   "outputs": [],
   "source": [
    "X = train_data\n",
    "X['Title'] = X['Name'].str.extract('([A-Za-z]+)\\.').fillna('NA')\n",
    "# X['Title'] = X['Title'].map({'Mlle':'Miss','Major':'Mr','Col':'Mr','Sir':'Mr','Don':'Mr','Mme':'Miss','Lady':'Mrs','Jonkheer':'Mr','Capt':'Mr','Countess':'Mrs','Ms':'Miss','Dona':'Mrs'})           \n",
    "\n",
    "X['Title'].unique()\n",
    "\n",
    "X['Title'].replace({'Mlle':'Miss','Major':'Mr','Col':'Mr','Sir':'Mr','Don':'Mr','Mme':'Miss','Lady':'Mrs','Jonkheer':'Mr','Capt':'Mr','Countess':'Mrs','Ms':'Miss','Dona':'Mrs'})\n",
    "X['Age'] = X.groupby(['Pclass','Title'])['Age'].transform(lambda g: g.fillna(g.mean()))\n",
    "X['Age']"
   ]
  },
  {
   "cell_type": "code",
   "execution_count": null,
   "metadata": {},
   "outputs": [],
   "source": [
    "X['Age'] = pd.cut(X['Age'], bins=[0,7.90,14.45,31.28,120])\n",
    "X['Fare'] = pd.cut(X['Fare'], bins=[0,10,20,30,100])\n",
    "\n",
    "pd.qcut(train_data['Fare'], 5, labels=[1,2,3,4,5]) # without one hot\n",
    "pd.qcut(train_data['Age'], 4, labels=[1,2,3,4]) # without one hot\n",
    "train_data['Sex'].map({'male':0,'female':1}) # without one hot\n",
    "\n",
    "from sklearn.preprocessing import LabelEncoder\n",
    "#label = LabelEncoder()\n",
    "#train_data['Fare'] = label.fit_transform(train_data['Fare'])\n",
    "#train_data['Fare']"
   ]
  },
  {
   "cell_type": "code",
   "execution_count": null,
   "metadata": {},
   "outputs": [],
   "source": [
    "import matplotlib.pyplot as plt\n",
    "\n",
    "train_data = pd.read_csv('train.csv')\n",
    "\n",
    "train_data['Title'] = train_data['Name'].str.extract('([A-Za-z]+)\\.').fillna('NA')\n",
    "train_data['Title'] = train_data['Title'].replace({'Mlle':'Miss','Major':'Mr','Col':'Mr','Sir':'Mr','Don':'Mr',\n",
    "       'Mme':'Miss','Lady':'Mrs','Jonkheer':'Mr','Capt':'Mr','Countess':'Mrs','Ms':'Miss','Dona':'Mrs'})\n",
    "\n",
    "train_data['Age'] = train_data.groupby(['Pclass','Title'])['Age'].transform(lambda g: g.fillna(g.mean()))\n",
    "train_data['Age'] = pd.cut(train_data['Age'], 10) # bins=[0,7.90,14.45,31.28,120]\n",
    "\n",
    "s = train_data.groupby('Age').apply(lambda x: x['Survived'].sum() / len(x))\n",
    "plt.bar(s.index.astype(str), s.values);"
   ]
  },
  {
   "cell_type": "code",
   "execution_count": null,
   "metadata": {},
   "outputs": [],
   "source": [
    "import numpy as np\n",
    "import pandas as pd\n",
    "import seaborn as sns\n",
    "import matplotlib.pyplot as plt\n",
    "from sklearn.linear_model import LogisticRegression\n",
    "from sklearn.neighbors import KNeighborsClassifier\n",
    "from sklearn.model_selection import cross_val_score\n",
    "from sklearn.metrics import accuracy_score\n",
    "from sklearn.metrics import confusion_matrix\n",
    "from sklearn.preprocessing import StandardScaler\n",
    "from sklearn.preprocessing import MinMaxScaler\n",
    "from sklearn.preprocessing import LabelEncoder\n",
    "from sklearn.model_selection import GridSearchCV\n",
    "\n",
    "train_data = pd.read_csv(\"/kaggle/input/titanic/train.csv\")\n",
    "test_data = pd.read_csv(\"/kaggle/input/titanic/test.csv\")\n",
    "\n",
    "y_train = train_data['Survived'].copy()\n",
    "X_train = train_data[['Pclass','Sex','SibSp','Parch','Age','Fare','Embarked','Cabin']].copy()\n",
    "X_test = test_data[['Pclass','Sex','SibSp','Parch','Age','Fare','Embarked','Cabin']].copy()\n",
    "\n",
    "X_train['Age'] = X_train['Age'].fillna(X_train['Age'].mean())\n",
    "X_test['Age'] = X_test['Age'].fillna(X_test['Age'].mean())\n",
    "X_train['Fare'] = X_train['Fare'].fillna(X_train['Fare'].mean())\n",
    "X_test['Fare'] = X_test['Fare'].fillna(X_test['Fare'].mean())\n",
    "X_train['Embarked'] = X_train['Fare'].fillna(X_train['Embarked'].mode()[0])\n",
    "X_test['Embarked'] = X_test['Fare'].fillna(X_test['Embarked'].mode()[0])\n",
    "X_train['Cabin'] = X_train['Cabin'].fillna('NA')\n",
    "X_test['Cabin'] = X_test['Cabin'].fillna('NA')\n",
    "\n",
    "X_train['Family'] = X_train['Parch'] + X_train['SibSp']\n",
    "X_train['Is_Alone'] = (X_train['Family'] == 0)\n",
    "\n",
    "X_train['Age'] = pd.cut(X_train['Age'], 80, labels=range(80))\n",
    "X_test['Age'] = pd.cut(X_test['Age'], 80, labels=range(80))\n",
    "X_train['Fare'] = pd.cut(X_train['Fare'], bins=[0,7.90,14.45,31.28,120], labels=range(4))\n",
    "X_test['Fare'] = pd.cut(X_test['Fare'], bins=[0,7.90,14.45,31.28,120], labels=range(4))\n",
    "\n",
    "# X_train['Sex'] = X_train['Sex'].map({'male':0,'female':1})\n",
    "# X_test['Sex'] = X_test['Sex'].map({'male':0,'female':1})\n",
    "X_train['Sex'] = LabelEncoder().fit_transform(X_train['Sex'])\n",
    "X_test['Sex'] = LabelEncoder().fit_transform(X_test['Sex'])\n",
    "X_train['Embarked'] = LabelEncoder().fit_transform(X_train['Embarked'])\n",
    "X_test['Embarked'] = LabelEncoder().fit_transform(X_test['Embarked'])\n",
    "X_train['Cabin'] = LabelEncoder().fit_transform(X_train['Cabin'])\n",
    "X_test['Cabin'] = LabelEncoder().fit_transform(X_test['Cabin'])\n",
    "\n",
    "# scaler = StandardScaler()\n",
    "# X_train[['Age']] = scaler.fit_transform(X_train[['Age']])\n",
    "# X_test[['Age']] = scaler.transform(X_test[['Age']])\n",
    "\n",
    "# scaler = MinMaxScaler()\n",
    "# X_train[['Fare']] = scaler.fit_transform(X_train[['Fare']])\n",
    "# X_test[['Fare']] = scaler.transform(X_test[['Fare']])\n",
    "\n",
    "X_train = pd.get_dummies(X_train, columns=['Pclass','Sex','SibSp','Parch','Age','Fare','Embarked','Cabin'])\n",
    "X_test = pd.get_dummies(X_test, columns=['Pclass','Sex','SibSp','Parch', 'Age', 'Fare','Embarked','Cabin'])\n",
    "X_train, X_test = X_train.align(X_test, join='outer', axis=1, fill_value=0)\n",
    "\n",
    "lr = LogisticRegression(C=1, solver='liblinear')\n",
    "lr.fit(X_train, y_train)\n",
    "\n",
    "output = pd.DataFrame()\n",
    "output['PassengerId'] = test_data.PassengerId\n",
    "output['Survived'] = lr.predict(X_test)\n",
    "output.to_csv('my_submission.csv', index=False)\n",
    "\n",
    "cross_val_score(lr, X_train, y_train, scoring='accuracy', cv=3).mean()\n",
    "# accuracy_score(y_train, lr.predict(X_train))\n",
    "\n",
    "output.shape"
   ]
  },
  {
   "cell_type": "code",
   "execution_count": null,
   "metadata": {},
   "outputs": [],
   "source": [
    "X_test.shape"
   ]
  },
  {
   "cell_type": "code",
   "execution_count": null,
   "metadata": {},
   "outputs": [],
   "source": [
    "lr = LogisticRegression()\n",
    "\n",
    "grid = {\n",
    "    'C': [0.001, 0.01, 0.1, 1, 10, 100, 1000],\n",
    "    'penalty': ['l1','l2'],\n",
    "    'solver': ['liblinear']\n",
    "}\n",
    "\n",
    "cv = GridSearchCV(lr, grid, scoring='accuracy', cv=3)\n",
    "cv.fit(X_train, y_train)\n",
    "cv.best_estimator_, cv.best_score_"
   ]
  },
  {
   "cell_type": "code",
   "execution_count": null,
   "metadata": {},
   "outputs": [],
   "source": [
    "plt.plot(train_data['Survived'], train_data['Fare'], '.')"
   ]
  },
  {
   "cell_type": "code",
   "execution_count": null,
   "metadata": {},
   "outputs": [],
   "source": [
    "train_data['Fare'].hist()"
   ]
  },
  {
   "cell_type": "code",
   "execution_count": null,
   "metadata": {},
   "outputs": [],
   "source": [
    "train_data.groupby('Fare')['Survived'].sum()"
   ]
  },
  {
   "cell_type": "code",
   "execution_count": null,
   "metadata": {},
   "outputs": [],
   "source": [
    "# X_test = X_test.drop('Parch_9', axis=1)\n",
    "# train_data[train_data['Age'].isnull()]\n",
    "# train_data['Cabin'].unique()\n",
    "# (test_data['Fare'] == 0).sum()\n",
    "# X_train['Age'].mean()\n",
    "# pd.cut(train_data['Age'], 5, labels=[1,2,3,4,5])\n",
    "# X_train.isnull().sum()"
   ]
  },
  {
   "cell_type": "code",
   "execution_count": null,
   "metadata": {},
   "outputs": [],
   "source": [
    "def age_category(age):\n",
    "    if age < 16: return 1\n",
    "    if age < 35: return 2\n",
    "    return 3\n",
    "\n",
    "# train_data['Age'].apply(age_category)"
   ]
  },
  {
   "cell_type": "code",
   "execution_count": null,
   "metadata": {},
   "outputs": [],
   "source": [
    "'''\n",
    "def age_category(age):\n",
    "    if age < 18: return 1\n",
    "    if age < 35: return 2\n",
    "    return 3\n",
    "\n",
    "X_train['Age'] = X_train['Age'].apply(age_category)\n",
    "X_test['Age'] = X_test['Age'].apply(age_category)\n",
    "'''"
   ]
  },
  {
   "cell_type": "code",
   "execution_count": null,
   "metadata": {},
   "outputs": [],
   "source": [
    "# X_train[:5]"
   ]
  },
  {
   "cell_type": "code",
   "execution_count": null,
   "metadata": {},
   "outputs": [],
   "source": [
    "'''\n",
    "train_data = pd.read_csv(\"/kaggle/input/titanic/train.csv\")\n",
    "test_data = pd.read_csv(\"/kaggle/input/titanic/test.csv\")\n",
    "\n",
    "features = ['Pclass','Sex','SibSp','Parch']\n",
    "y_train = train_data['Survived'].copy()\n",
    "\n",
    "X_train = train_data[features].copy()\n",
    "X_train['Sex'] = X_train['Sex'].map({'male':0,'female':1})\n",
    "X_train = pd.get_dummies(X_train, columns=features)\n",
    "\n",
    "X_test = test_data[features].copy()\n",
    "X_test['Sex'] = X_test['Sex'].map({'male':0,'female':1})\n",
    "X_test = pd.get_dummies(X_test, columns=features)\n",
    "X_test = X_test.drop('Parch_9', axis=1)\n",
    "\n",
    "knn = KNeighborsClassifier()\n",
    "knn.fit(X_train, y_train)\n",
    "output = pd.DataFrame()\n",
    "output['PassengerId'] = test_data.PassengerId\n",
    "output['Survived'] = knn.predict(X_test)\n",
    "output.to_csv('my_submission.csv', index=False)\n",
    "'''"
   ]
  },
  {
   "cell_type": "code",
   "execution_count": null,
   "metadata": {},
   "outputs": [],
   "source": [
    "# train_data[:5]"
   ]
  },
  {
   "cell_type": "code",
   "execution_count": null,
   "metadata": {},
   "outputs": [],
   "source": [
    "# train_data.groupby('Age').size().sort_index().plot()\n",
    "# plt.plot(s.index, s.values)"
   ]
  },
  {
   "cell_type": "code",
   "execution_count": null,
   "metadata": {},
   "outputs": [],
   "source": [
    "# train_data.groupby('Sex').size()"
   ]
  },
  {
   "cell_type": "code",
   "execution_count": null,
   "metadata": {},
   "outputs": [],
   "source": [
    "'''\n",
    "accuracy_score(y_train, knn.predict(X_train))\n",
    "accuracy_score(y_train, lr.predict(X_train))\n",
    "sns.pairplot(train_data, hue='Survived')\n",
    "plt.scatter(x=train_data['SibSp'], y=train_data['Pclass'])\n",
    "train_data['Sex'].hist()\n",
    "cross_val_score(lr, X_train, y_train, scoring='accuracy', cv=3)\n",
    "confusion_matrix(y_train, lr.predict(X_train))\n",
    "cat my_submission.csv\n",
    "lr.coef_\n",
    "X_train.isnull().sum()\n",
    "X_train.info()\n",
    "X_train = X_train.replace(['male','female'], [0,1])\n",
    "X_train['Sex'] = X_train['Sex'].replace(['male','female'], [0,1])\n",
    "X_train['Sex'] = X_train['Sex'].replace({'male':0,'female':1})\n",
    "X_train['Sex'] = X_train['Sex'].map({'male':0,'female':1})\n",
    "X_train['Sex'] = 1 #X_train['Sex'].apply(lambda x: {'male':0,'female':1}[x])\n",
    "X_train['Sex'].isnull().sum()\n",
    "train_data[:5]\n",
    "'''"
   ]
  },
  {
   "cell_type": "code",
   "execution_count": null,
   "metadata": {},
   "outputs": [],
   "source": [
    "'''\n",
    "from sklearn.ensemble import RandomForestClassifier\n",
    "y = train_data[\"Survived\"]\n",
    "features = [\"Pclass\", \"Sex\", \"SibSp\", \"Parch\"]\n",
    "X = pd.get_dummies(train_data[features])\n",
    "X_test = pd.get_dummies(test_data[features])\n",
    "model = RandomForestClassifier(n_estimators=100, max_depth=5, random_state=1)\n",
    "model.fit(X, y)\n",
    "predictions = model.predict(X_test)\n",
    "output = pd.DataFrame({'PassengerId': test_data.PassengerId, 'Survived': predictions})\n",
    "output.to_csv('my_submission.csv', index=False)\n",
    "print(\"Your submission was successfully saved!\")\n",
    "'''"
   ]
  },
  {
   "cell_type": "code",
   "execution_count": null,
   "metadata": {},
   "outputs": [],
   "source": [
    "import numpy as np\n",
    "import pandas as pd\n",
    "import seaborn as sns\n",
    "import matplotlib.pyplot as plt\n",
    "from sklearn.linear_model import LogisticRegression\n",
    "from sklearn.neighbors import KNeighborsClassifier\n",
    "from sklearn.model_selection import cross_val_score\n",
    "from sklearn.metrics import accuracy_score\n",
    "from sklearn.metrics import confusion_matrix\n",
    "from sklearn.preprocessing import StandardScaler\n",
    "from sklearn.preprocessing import MinMaxScaler\n",
    "from sklearn.preprocessing import LabelEncoder\n",
    "from sklearn.model_selection import GridSearchCV\n",
    "\n",
    "train_data = pd.read_csv(\"/kaggle/input/titanic/train.csv\")\n",
    "test_data = pd.read_csv(\"/kaggle/input/titanic/test.csv\")\n",
    "\n",
    "y_train = train_data['Survived'].copy()\n",
    "X_train = train_data[['Pclass','Sex','SibSp','Parch','Age','Fare','Embarked','Cabin']].copy()\n",
    "X_test = test_data[['Pclass','Sex','SibSp','Parch','Age','Fare','Embarked','Cabin']].copy()\n",
    "\n",
    "X_train['Age'] = X_train['Age'].fillna(X_train['Age'].mean())\n",
    "X_test['Age'] = X_test['Age'].fillna(X_test['Age'].mean())\n",
    "X_train['Fare'] = X_train['Fare'].fillna(X_train['Fare'].mean())\n",
    "X_test['Fare'] = X_test['Fare'].fillna(X_test['Fare'].mean())\n",
    "X_train['Embarked'] = X_train['Embarked'].fillna(X_train['Embarked'].mode()[0])\n",
    "X_test['Embarked'] = X_test['Embarked'].fillna(X_test['Embarked'].mode()[0])\n",
    "X_train['Cabin'] = X_train['Cabin'].fillna('NA')\n",
    "X_test['Cabin'] = X_test['Cabin'].fillna('NA')\n",
    "\n",
    "X_train['Family'] = X_train['Parch'] + X_train['SibSp']\n",
    "X_train['Is_Alone'] = (X_train['Family'] == 0)\n",
    "\n",
    "X_train['Age'] = pd.cut(X_train['Age'], 80, labels=range(80))\n",
    "X_test['Age'] = pd.cut(X_test['Age'], 80, labels=range(80))\n",
    "X_train['Fare'] = pd.cut(X_train['Fare'], bins=[0,7.90,14.45,31.28,120], labels=range(4))\n",
    "X_test['Fare'] = pd.cut(X_test['Fare'], bins=[0,7.90,14.45,31.28,120], labels=range(4))\n",
    "\n",
    "# X_train['Sex'] = X_train['Sex'].map({'male':0,'female':1})\n",
    "# X_test['Sex'] = X_test['Sex'].map({'male':0,'female':1})\n",
    "X_train['Sex'] = LabelEncoder().fit_transform(X_train['Sex'])\n",
    "X_test['Sex'] = LabelEncoder().fit_transform(X_test['Sex'])\n",
    "X_train['Embarked'] = LabelEncoder().fit_transform(X_train['Embarked'])\n",
    "X_test['Embarked'] = LabelEncoder().fit_transform(X_test['Embarked'])\n",
    "X_train['Cabin'] = LabelEncoder().fit_transform(X_train['Cabin'])\n",
    "X_test['Cabin'] = LabelEncoder().fit_transform(X_test['Cabin'])\n",
    "\n",
    "# scaler = StandardScaler()\n",
    "# X_train[['Age']] = scaler.fit_transform(X_train[['Age']])\n",
    "# X_test[['Age']] = scaler.transform(X_test[['Age']])\n",
    "\n",
    "# scaler = MinMaxScaler()\n",
    "# X_train[['Fare']] = scaler.fit_transform(X_train[['Fare']])\n",
    "# X_test[['Fare']] = scaler.transform(X_test[['Fare']])\n",
    "\n",
    "X_train = pd.get_dummies(X_train, columns=['Pclass','Sex','SibSp','Parch','Age','Fare','Embarked','Cabin'])\n",
    "X_test = pd.get_dummies(X_test, columns=['Pclass','Sex','SibSp','Parch', 'Age', 'Fare','Embarked','Cabin'])\n",
    "X_train, X_test = X_train.align(X_test, join='outer', axis=1, fill_value=0)\n",
    "\n",
    "lr = LogisticRegression(C=1, solver='liblinear')\n",
    "lr.fit(X_train, y_train)\n",
    "\n",
    "output = pd.DataFrame()\n",
    "output['PassengerId'] = test_data.PassengerId\n",
    "output['Survived'] = lr.predict(X_test)\n",
    "output.to_csv('my_submission.csv', index=False)\n",
    "\n",
    "cross_val_score(lr, X_train, y_train, scoring='accuracy', cv=3).mean()\n",
    "# accuracy_score(y_train, lr.predict(X_train))\n",
    "\n",
    "output.shape"
   ]
  }
 ],
 "metadata": {
  "kernelspec": {
   "display_name": "Python 3",
   "language": "python",
   "name": "python3"
  },
  "language_info": {
   "codemirror_mode": {
    "name": "ipython",
    "version": 3
   },
   "file_extension": ".py",
   "mimetype": "text/x-python",
   "name": "python",
   "nbconvert_exporter": "python",
   "pygments_lexer": "ipython3",
   "version": "3.9.2"
  }
 },
 "nbformat": 4,
 "nbformat_minor": 4
}
