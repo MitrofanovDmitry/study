{
 "cells": [
  {
   "cell_type": "code",
   "execution_count": 673,
   "id": "marked-finish",
   "metadata": {},
   "outputs": [
    {
     "data": {
      "text/plain": [
       "0.7989949748743719"
      ]
     },
     "execution_count": 673,
     "metadata": {},
     "output_type": "execute_result"
    }
   ],
   "source": [
    "import numpy as np\n",
    "import pandas as pd\n",
    "from sklearn.linear_model import LogisticRegression\n",
    "from sklearn.neighbors import KNeighborsClassifier\n",
    "from sklearn.ensemble import RandomForestClassifier\n",
    "from sklearn.preprocessing import MinMaxScaler\n",
    "from sklearn.preprocessing import StandardScaler\n",
    "from sklearn.model_selection import cross_val_score\n",
    "from sklearn.metrics import accuracy_score\n",
    "\n",
    "def extract_features(data):   \n",
    "    X = data[['Name','Pclass','Age','Sex','Fare','Ticket','Embarked','SibSp','Parch']].copy()\n",
    "    X['Title'] = X['Name'].str.extract('([A-Za-z]+)\\.').fillna('NA')\n",
    "    X['Title'] = X['Title'].replace({'Mlle':'Miss','Major':'Mr','Col':'Mr','Sir':'Mr','Don':'Mr',\n",
    "       'Mme':'Miss','Lady':'Mrs','Jonkheer':'Mr','Capt':'Mr','Countess':'Mrs','Ms':'Miss','Dona':'Mrs'})\n",
    "    X['Age'] = X.groupby(['Title'])['Age'].transform(lambda g: g.fillna(g.median()))\n",
    "    X['Fare'] = X['Fare'].fillna(X['Fare'].median())\n",
    "    X['Fare'] = X.groupby('Ticket')['Fare'].transform(lambda x: x / len(x))\n",
    "    X['Female'] = X['Sex'].map({'male':0,'female':1})\n",
    "    X['Family'] = X['SibSp'] + X['Parch']\n",
    "    X['Embarked'] = X['Embarked'].fillna(X['Embarked'].mode()[0])\n",
    "    X['Fare'] = pd.cut(X['Fare'], bins=[0,10,20,30,100])\n",
    "    X['Age'] = pd.cut(X['Age'], bins=[0,9,14,30,100])\n",
    "    X['Family'] = pd.cut(X['Family'], bins=[0,1,6,20])\n",
    "    X = pd.get_dummies(X, columns=['Age','Embarked','Fare','Family','Pclass'])\n",
    "    return X.drop(['Name','Title','Ticket','Sex','SibSp','Parch','Family_(0, 1]','Age_(9, 14]'], axis=1)\n",
    "\n",
    "def scale_features(X_train, X_test):\n",
    "    scaler, features = MinMaxScaler(), ['Family']\n",
    "    X_train[features] = scaler.fit_transform(X_train[features])\n",
    "    X_test[features] = scaler.transform(X_test[features])\n",
    "    return X_train, X_test\n",
    "\n",
    "def align_features(X_train, X_test):\n",
    "    return X_train.align(X_test, join='outer', axis=1, fill_value=0)\n",
    "\n",
    "def extract_target(data):\n",
    "    return data['Survived'].copy()\n",
    "\n",
    "train_data = pd.read_csv('train.csv')\n",
    "test_data = pd.read_csv('my_test.csv') #@!\n",
    "\n",
    "y_train = extract_target(train_data)\n",
    "y_test = extract_target(test_data) #@!\n",
    "X_train = extract_features(train_data)\n",
    "X_test = extract_features(test_data)\n",
    "# X_train, X_test = scale_features(X_train, X_test)\n",
    "X_train, X_test = align_features(X_train, X_test)\n",
    "\n",
    "m = LogisticRegression()\n",
    "# m = KNeighborsClassifier(n_neighbors=8)\n",
    "# m = RandomForestClassifier(n_estimators=400)\n",
    "m.fit(X_train, y_train)\n",
    "\n",
    "# out = pd.DataFrame()\n",
    "# out['PassengerId'] = test_data.PassengerId\n",
    "# out['Survived'] = m.predict(X_test)\n",
    "# out.to_csv('my_submission.csv', index=False)\n",
    "\n",
    "# cross_val_score(m, X_train, y_train, scoring='accuracy', cv=3).mean()\n",
    "accuracy_score(y_test, m.predict(X_test)) #@!"
   ]
  },
  {
   "cell_type": "code",
   "execution_count": 636,
   "id": "general-cache",
   "metadata": {},
   "outputs": [
    {
     "data": {
      "text/plain": [
       "(LogisticRegression(C=1, penalty='l1', solver='liblinear'), 0.8013468013468014)"
      ]
     },
     "execution_count": 636,
     "metadata": {},
     "output_type": "execute_result"
    }
   ],
   "source": [
    "from sklearn.model_selection import GridSearchCV\n",
    "m = LogisticRegression()\n",
    "grid = {'C':[0.001,0.01,0.1,1,10,100,1000],'penalty':['l1','l2'],'solver': ['liblinear']}\n",
    "cv = GridSearchCV(m, grid, scoring='accuracy', cv=3)\n",
    "cv.fit(X_train, y_train)\n",
    "cv.best_estimator_, cv.best_score_"
   ]
  },
  {
   "cell_type": "code",
   "execution_count": 373,
   "id": "centered-investing",
   "metadata": {},
   "outputs": [],
   "source": [
    "# X_train.columns.values[np.argsort(np.abs(m.coef_[0]))].tolist()\n",
    "# sorted(zip(X_train.columns.values, np.abs(m.coef_[0])), key=lambda x: x[1], reverse=True)"
   ]
  },
  {
   "cell_type": "code",
   "execution_count": 674,
   "id": "governing-bubble",
   "metadata": {},
   "outputs": [
    {
     "data": {
      "image/png": "[encoded data removed]",
      "text/plain": [
       "<Figure size 576x360 with 1 Axes>"
      ]
     },
     "metadata": {
      "needs_background": "light"
     },
     "output_type": "display_data"
    }
   ],
   "source": [
    "import matplotlib.pyplot as plt\n",
    "plt.figure(figsize=(8,5))\n",
    "plt.barh(X_train.columns.values, m.coef_[0]);"
   ]
  },
  {
   "cell_type": "code",
   "execution_count": 818,
   "id": "gross-progress",
   "metadata": {},
   "outputs": [
    {
     "data": {
      "text/plain": [
       "0.7989949748743719"
      ]
     },
     "execution_count": 818,
     "metadata": {},
     "output_type": "execute_result"
    }
   ],
   "source": [
    "import numpy as np\n",
    "import pandas as pd\n",
    "from sklearn.linear_model import LogisticRegression\n",
    "from sklearn.neighbors import KNeighborsClassifier\n",
    "from sklearn.ensemble import RandomForestClassifier\n",
    "from sklearn.model_selection import cross_val_score\n",
    "from sklearn.metrics import accuracy_score\n",
    "from sklearn.preprocessing import MinMaxScaler\n",
    "from sklearn.preprocessing import LabelEncoder\n",
    "\n",
    "train_data = pd.read_csv('train.csv')\n",
    "test_data = pd.read_csv('my_test.csv') #@!\n",
    "train_len = len(train_data)\n",
    "\n",
    "df = pd.concat([train_data, test_data])\n",
    "df['Title'] = df['Name'].str.extract('([A-Za-z]+)\\.').fillna('NA')\n",
    "df['Last_Name'] = df['Name'].str.split(\",\").str.get(0)\n",
    "df['Age'] = df.groupby(['Title'])['Age'].transform(lambda g: g.fillna(g.median()))\n",
    "df['Fare'] = df['Fare'].fillna(df['Fare'].median())\n",
    "df['Fare'] = df.groupby('Ticket')['Fare'].transform(lambda x: x / len(x))\n",
    "df['Embarked'] = df['Embarked'].fillna(df['Embarked'].mode()[0])\n",
    "df['Ticket'] = df.groupby('Ticket')['Ticket'].transform(lambda x: '< 3' if len(x) < 3 else x)\n",
    "df = df.drop(['PassengerId','Name','Title','Last_Name','Cabin','SibSp','Parch'], axis=1)\n",
    "\n",
    "df['Fare'] = pd.cut(df['Fare'], bins=[0,10,20,30,100])\n",
    "df['Age'] = pd.cut(df['Age'], bins=[0,8,14,31,100])\n",
    "df = pd.get_dummies(df, columns=['Pclass','Sex','Age','Embarked','Fare','Ticket'])\n",
    "\n",
    "y_train = df[:train_len]['Survived']\n",
    "y_test = df[train_len:]['Survived'] #@!\n",
    "X_train = df[:train_len].drop(['Survived'], axis=1)\n",
    "X_test = df[train_len:].drop(['Survived'], axis=1)\n",
    "\n",
    "m = LogisticRegression()\n",
    "# m = KNeighborsClassifier(n_neighbors=3, weights='distance')\n",
    "# m = RandomForestClassifier()\n",
    "m.fit(X_train, y_train)\n",
    "\n",
    "out = pd.DataFrame()\n",
    "out['PassengerId'] = test_data.PassengerId\n",
    "out['Survived'] = m.predict(X_test)\n",
    "out.to_csv('my_submission.csv', index=False)\n",
    "\n",
    "# cross_val_score(m, X_train, y_train, scoring='accuracy', cv=3).mean()\n",
    "accuracy_score(y_test, m.predict(X_test)) #@!"
   ]
  },
  {
   "cell_type": "code",
   "execution_count": 826,
   "id": "hired-california",
   "metadata": {},
   "outputs": [],
   "source": [
    "train_data = pd.read_csv('train.csv')\n",
    "test_data = pd.read_csv('my_test.csv') #@!\n",
    "train_len = len(train_data)\n",
    "\n",
    "df = pd.concat([train_data, test_data])\n",
    "df['Title'] = df['Name'].str.extract('([A-Za-z]+)\\.').fillna('NA')\n",
    "df['Last_Name'] = df['Name'].str.split(\",\").str.get(0)\n",
    "df['Age'] = df.groupby(['Title'])['Age'].transform(lambda g: g.fillna(g.median()))\n",
    "df['Fare'] = df['Fare'].fillna(df['Fare'].median())\n",
    "df['Fare'] = df.groupby('Ticket')['Fare'].transform(lambda x: x / len(x))\n",
    "df['Embarked'] = df['Embarked'].fillna(df['Embarked'].mode()[0])\n",
    "# df['Ticket'] = df.groupby('Ticket')['Ticket'].transform(lambda x: '< 3' if len(x) < 3 else x)\n",
    "df = df.drop(['PassengerId','Name','Title','Last_Name','Cabin','SibSp','Parch'], axis=1)\n",
    "\n",
    "df['Fare'] = pd.cut(df['Fare'], bins=[0,10,20,30,100])\n",
    "df['Age'] = pd.cut(df['Age'], bins=[0,8,15,30,100]) #[0,7.90,14.45,31.28,120]\n",
    "# df = pd.get_dummies(df, columns=['Pclass','Sex','Age','Embarked','Fare','Ticket'])\n",
    "# df['Ticket'].unique()"
   ]
  }
 ],
 "metadata": {
  "kernelspec": {
   "display_name": "Python 3",
   "language": "python",
   "name": "python3"
  },
  "language_info": {
   "codemirror_mode": {
    "name": "ipython",
    "version": 3
   },
   "file_extension": ".py",
   "mimetype": "text/x-python",
   "name": "python",
   "nbconvert_exporter": "python",
   "pygments_lexer": "ipython3",
   "version": "3.9.2"
  }
 },
 "nbformat": 4,
 "nbformat_minor": 5
}
