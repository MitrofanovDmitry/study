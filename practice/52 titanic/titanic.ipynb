{
 "cells": [
  {
   "cell_type": "code",
   "execution_count": 1,
   "id": "equal-kelly",
   "metadata": {},
   "outputs": [
    {
     "data": {
      "text/plain": [
       "0.8115577889447236"
      ]
     },
     "execution_count": 1,
     "metadata": {},
     "output_type": "execute_result"
    }
   ],
   "source": [
    "import numpy as np\n",
    "import pandas as pd\n",
    "from sklearn.linear_model import LogisticRegression\n",
    "from sklearn.model_selection import cross_val_score\n",
    "from sklearn.metrics import accuracy_score\n",
    "\n",
    "train_data = pd.read_csv('train.csv')\n",
    "test_data = pd.read_csv('my_test.csv')\n",
    "train_len = len(train_data)\n",
    "\n",
    "df = pd.concat([train_data, test_data])\n",
    "df['Family'] = df['SibSp'] + df['Parch']\n",
    "df['Female'] = (df['Sex'] == 'female').astype(int)\n",
    "df['Title'] = df['Name'].str.extract('([A-Za-z]+)\\.').fillna('NA')\n",
    "df['Age'] = df.groupby(['Title'])['Age'].transform(lambda g: g.fillna(g.median()))\n",
    "df['Fare'] = df['Fare'].fillna(df['Fare'].median())\n",
    "df['Fare'] = df.groupby('Ticket')['Fare'].transform(lambda x: x / len(x))\n",
    "df['Embarked'] = df['Embarked'].fillna(df['Embarked'].mode()[0])\n",
    "df['Boy'] = ((df['Age'] < 14) & (df['Sex'] == 'male')).astype(int)\n",
    "df['Group'] = df['Pclass'].astype(str) + df['Embarked'] + df['Fare'].astype(str)\n",
    "df['Age'] = pd.cut(df['Age'], bins=[0,9,20,30,100])\n",
    "df['Family'] = pd.cut(df['Family'], bins=[0,1,6,20])\n",
    "df['Fare'] = pd.cut(df['Fare'], bins=[0,10,20,30,100])\n",
    "df = pd.get_dummies(df, columns=['Pclass','Embarked','Age','Fare','Family','Group'])\n",
    "df = df.drop(['PassengerId','Name','Title','Cabin','SibSp','Parch','Sex','Ticket'], axis=1)\n",
    "\n",
    "y_train = df[:train_len]['Survived']\n",
    "y_test = df[train_len:]['Survived'] #@!\n",
    "X_train = df[:train_len].drop(['Survived'], axis=1)\n",
    "X_test = df[train_len:].drop(['Survived'], axis=1)\n",
    "\n",
    "m = LogisticRegression()\n",
    "m.fit(X_train, y_train)\n",
    "\n",
    "# out = pd.DataFrame()\n",
    "# out['PassengerId'] = test_data.PassengerId\n",
    "# out['Survived'] = m.predict(X_test).astype(int)\n",
    "# out.to_csv('my_submission.csv', index=False)\n",
    "\n",
    "# cross_val_score(m, X_train, y_train, scoring='accuracy', cv=3).mean()\n",
    "accuracy_score(y_test, m.predict(X_test)) #@!"
   ]
  },
  {
   "cell_type": "code",
   "execution_count": 2,
   "id": "marked-finish",
   "metadata": {},
   "outputs": [
    {
     "data": {
      "text/plain": [
       "0.8040201005025126"
      ]
     },
     "execution_count": 2,
     "metadata": {},
     "output_type": "execute_result"
    }
   ],
   "source": [
    "import numpy as np\n",
    "import pandas as pd\n",
    "from sklearn.linear_model import LogisticRegression\n",
    "from sklearn.neighbors import KNeighborsClassifier\n",
    "from sklearn.ensemble import RandomForestClassifier\n",
    "from sklearn.model_selection import cross_val_score\n",
    "from sklearn.metrics import accuracy_score\n",
    "\n",
    "def extract_features(data):   \n",
    "    X = data[['Name','Pclass','Age','Sex','Fare','Ticket','Embarked','SibSp','Parch']].copy()\n",
    "    X['Family'] = X['SibSp'] + X['Parch']\n",
    "    X['Female'] = X['Sex'].map({'male':0,'female':1})\n",
    "    X['Fare'] = X['Fare'].fillna(X['Fare'].median())\n",
    "    X['Embarked'] = X['Embarked'].fillna(X['Embarked'].mode()[0])\n",
    "    X['Title'] = X['Name'].str.extract('([A-Za-z]+)\\.').fillna('NA')\n",
    "    X['Title'] = X['Title'].replace(['Major','Col','Sir','Don','Jonkheer','Capt','Rev','Dr'], 'Mr')\n",
    "    X['Title'] = X['Title'].replace(['Lady','Countess','Dona'], 'Mrs')\n",
    "    X['Title'] = X['Title'].replace(['Mlle','Mme','Ms'], 'Miss')\n",
    "    X['Age'] = X.groupby(['Title'])['Age'].transform(lambda g: g.fillna(g.median()))\n",
    "    X['Fare'] = X.groupby('Ticket')['Fare'].transform(lambda x: x / len(x))\n",
    "    X['Boy'] = ((X['Age'] < 16) & (X['Sex'] == 'male') & (X['Family'] > 0)).astype(int)\n",
    "    # X['Alone'] = (X['Family'] == 0).astype(int)\n",
    "    X['Group'] = X['Pclass'].astype(str) + X['Ticket'].str[:-1] + X['Embarked'] + X['Fare'].astype(str)\n",
    "    # X['Group'] = X.groupby('Group')['Group'].transform(lambda x: '-' if len(x) < 2 else x)\n",
    "    X.loc[X['Family'] == 1, 'Group'] = '-'\n",
    "    X['Age'] = pd.cut(X['Age'], bins=[0,9,16,30,100])\n",
    "    X['Family'] = pd.cut(X['Family'], bins=[0,1,6,20])\n",
    "    X['Fare'] = pd.cut(X['Fare'], bins=[0,10,20,30,100])\n",
    "    X = pd.get_dummies(X, columns=['Pclass','Embarked','Age','Fare','Family','Group'])\n",
    "    return X.drop(['Name','Ticket','Sex','SibSp','Title','Parch'], axis=1)\n",
    "\n",
    "def align_features(X_train, X_test):\n",
    "    return X_train.align(X_test, join='outer', axis=1, fill_value=0)\n",
    "\n",
    "def extract_target(data):\n",
    "    return data['Survived'].copy()\n",
    "\n",
    "train_data = pd.read_csv('train.csv')\n",
    "test_data = pd.read_csv('my_test.csv') #@!\n",
    "\n",
    "y_train = extract_target(train_data)\n",
    "y_test = extract_target(test_data) #@!\n",
    "X_train = extract_features(train_data)\n",
    "X_test = extract_features(test_data)\n",
    "X_train, X_test = align_features(X_train, X_test)\n",
    "\n",
    "m = LogisticRegression()\n",
    "# m = KNeighborsClassifier(n_neighbors=12)\n",
    "# m = RandomForestClassifier(n_estimators=300)\n",
    "m.fit(X_train, y_train)\n",
    "\n",
    "# out = pd.DataFrame()\n",
    "# out['PassengerId'] = test_data.PassengerId\n",
    "# out['Survived'] = m.predict(X_test)\n",
    "# out.to_csv('my_submission2.csv', index=False)\n",
    "\n",
    "# cross_val_score(m, X_train, y_train, scoring='accuracy', cv=3).mean()\n",
    "accuracy_score(y_test, m.predict(X_test)) #@!"
   ]
  }
 ],
 "metadata": {
  "kernelspec": {
   "display_name": "Python 3",
   "language": "python",
   "name": "python3"
  },
  "language_info": {
   "codemirror_mode": {
    "name": "ipython",
    "version": 3
   },
   "file_extension": ".py",
   "mimetype": "text/x-python",
   "name": "python",
   "nbconvert_exporter": "python",
   "pygments_lexer": "ipython3",
   "version": "3.9.2"
  }
 },
 "nbformat": 4,
 "nbformat_minor": 5
}
