{
 "cells": [
  {
   "cell_type": "code",
   "execution_count": 290,
   "id": "tender-command",
   "metadata": {},
   "outputs": [],
   "source": [
    "import warnings\n",
    "warnings.filterwarnings('ignore')"
   ]
  },
  {
   "cell_type": "code",
   "execution_count": 291,
   "id": "dental-porter",
   "metadata": {},
   "outputs": [],
   "source": [
    "import numpy as np\n",
    "import pandas as pd\n",
    "import matplotlib.pyplot as plt\n",
    "%matplotlib inline"
   ]
  },
  {
   "cell_type": "code",
   "execution_count": 357,
   "id": "insured-deposit",
   "metadata": {},
   "outputs": [],
   "source": [
    "from sklearn.linear_model import LogisticRegression\n",
    "from sklearn.feature_extraction import DictVectorizer\n",
    "from sklearn.model_selection import train_test_split\n",
    "from sklearn.model_selection import GridSearchCV\n",
    "from sklearn.metrics import roc_auc_score\n",
    "from sklearn.metrics import roc_curve\n",
    "from sklearn.preprocessing import StandardScaler\n",
    "from sklearn.preprocessing import PolynomialFeatures"
   ]
  },
  {
   "cell_type": "code",
   "execution_count": 270,
   "id": "israeli-sustainability",
   "metadata": {},
   "outputs": [
    {
     "data": {
      "text/html": [
       "<div>\n",
       "<style scoped>\n",
       "    .dataframe tbody tr th:only-of-type {\n",
       "        vertical-align: middle;\n",
       "    }\n",
       "\n",
       "    .dataframe tbody tr th {\n",
       "        vertical-align: top;\n",
       "    }\n",
       "\n",
       "    .dataframe thead th {\n",
       "        text-align: right;\n",
       "    }\n",
       "</style>\n",
       "<table border=\"1\" class=\"dataframe\">\n",
       "  <thead>\n",
       "    <tr style=\"text-align: right;\">\n",
       "      <th></th>\n",
       "      <th>Grant.Status</th>\n",
       "      <th>Sponsor.Code</th>\n",
       "      <th>Grant.Category.Code</th>\n",
       "      <th>Contract.Value.Band...see.note.A</th>\n",
       "      <th>RFCD.Code.1</th>\n",
       "      <th>RFCD.Percentage.1</th>\n",
       "      <th>RFCD.Code.2</th>\n",
       "      <th>RFCD.Percentage.2</th>\n",
       "      <th>RFCD.Code.3</th>\n",
       "      <th>RFCD.Percentage.3</th>\n",
       "      <th>...</th>\n",
       "      <th>Dept.No..1</th>\n",
       "      <th>Faculty.No..1</th>\n",
       "      <th>With.PHD.1</th>\n",
       "      <th>No..of.Years.in.Uni.at.Time.of.Grant.1</th>\n",
       "      <th>Number.of.Successful.Grant.1</th>\n",
       "      <th>Number.of.Unsuccessful.Grant.1</th>\n",
       "      <th>A..1</th>\n",
       "      <th>A.1</th>\n",
       "      <th>B.1</th>\n",
       "      <th>C.1</th>\n",
       "    </tr>\n",
       "  </thead>\n",
       "  <tbody>\n",
       "    <tr>\n",
       "      <th>0</th>\n",
       "      <td>1</td>\n",
       "      <td>21A</td>\n",
       "      <td>50A</td>\n",
       "      <td>A</td>\n",
       "      <td>230202.0</td>\n",
       "      <td>50.0</td>\n",
       "      <td>230203.0</td>\n",
       "      <td>30.0</td>\n",
       "      <td>230204.0</td>\n",
       "      <td>20.0</td>\n",
       "      <td>...</td>\n",
       "      <td>3098.0</td>\n",
       "      <td>31.0</td>\n",
       "      <td>Yes</td>\n",
       "      <td>&gt;=0 to 5</td>\n",
       "      <td>2.0</td>\n",
       "      <td>0.0</td>\n",
       "      <td>0.0</td>\n",
       "      <td>4.0</td>\n",
       "      <td>2.0</td>\n",
       "      <td>0.0</td>\n",
       "    </tr>\n",
       "    <tr>\n",
       "      <th>1</th>\n",
       "      <td>1</td>\n",
       "      <td>4D</td>\n",
       "      <td>10A</td>\n",
       "      <td>D</td>\n",
       "      <td>320801.0</td>\n",
       "      <td>100.0</td>\n",
       "      <td>0.0</td>\n",
       "      <td>0.0</td>\n",
       "      <td>0.0</td>\n",
       "      <td>0.0</td>\n",
       "      <td>...</td>\n",
       "      <td>2553.0</td>\n",
       "      <td>25.0</td>\n",
       "      <td>Yes</td>\n",
       "      <td>&gt;=0 to 5</td>\n",
       "      <td>3.0</td>\n",
       "      <td>1.0</td>\n",
       "      <td>0.0</td>\n",
       "      <td>2.0</td>\n",
       "      <td>0.0</td>\n",
       "      <td>0.0</td>\n",
       "    </tr>\n",
       "    <tr>\n",
       "      <th>2</th>\n",
       "      <td>0</td>\n",
       "      <td>NaN</td>\n",
       "      <td>NaN</td>\n",
       "      <td>NaN</td>\n",
       "      <td>320602.0</td>\n",
       "      <td>50.0</td>\n",
       "      <td>321004.0</td>\n",
       "      <td>30.0</td>\n",
       "      <td>321015.0</td>\n",
       "      <td>20.0</td>\n",
       "      <td>...</td>\n",
       "      <td>2813.0</td>\n",
       "      <td>25.0</td>\n",
       "      <td>NaN</td>\n",
       "      <td>Less than 0</td>\n",
       "      <td>1.0</td>\n",
       "      <td>5.0</td>\n",
       "      <td>0.0</td>\n",
       "      <td>7.0</td>\n",
       "      <td>2.0</td>\n",
       "      <td>0.0</td>\n",
       "    </tr>\n",
       "    <tr>\n",
       "      <th>3</th>\n",
       "      <td>0</td>\n",
       "      <td>51C</td>\n",
       "      <td>20C</td>\n",
       "      <td>A</td>\n",
       "      <td>291503.0</td>\n",
       "      <td>60.0</td>\n",
       "      <td>321402.0</td>\n",
       "      <td>40.0</td>\n",
       "      <td>0.0</td>\n",
       "      <td>0.0</td>\n",
       "      <td>...</td>\n",
       "      <td>2553.0</td>\n",
       "      <td>25.0</td>\n",
       "      <td>NaN</td>\n",
       "      <td>more than 15</td>\n",
       "      <td>2.0</td>\n",
       "      <td>1.0</td>\n",
       "      <td>5.0</td>\n",
       "      <td>6.0</td>\n",
       "      <td>9.0</td>\n",
       "      <td>1.0</td>\n",
       "    </tr>\n",
       "    <tr>\n",
       "      <th>4</th>\n",
       "      <td>0</td>\n",
       "      <td>24D</td>\n",
       "      <td>30B</td>\n",
       "      <td>NaN</td>\n",
       "      <td>380107.0</td>\n",
       "      <td>100.0</td>\n",
       "      <td>0.0</td>\n",
       "      <td>0.0</td>\n",
       "      <td>0.0</td>\n",
       "      <td>0.0</td>\n",
       "      <td>...</td>\n",
       "      <td>2923.0</td>\n",
       "      <td>25.0</td>\n",
       "      <td>NaN</td>\n",
       "      <td>Less than 0</td>\n",
       "      <td>0.0</td>\n",
       "      <td>2.0</td>\n",
       "      <td>0.0</td>\n",
       "      <td>0.0</td>\n",
       "      <td>0.0</td>\n",
       "      <td>0.0</td>\n",
       "    </tr>\n",
       "  </tbody>\n",
       "</table>\n",
       "<p>5 rows × 39 columns</p>\n",
       "</div>"
      ],
      "text/plain": [
       "   Grant.Status Sponsor.Code Grant.Category.Code  \\\n",
       "0             1          21A                 50A   \n",
       "1             1           4D                 10A   \n",
       "2             0          NaN                 NaN   \n",
       "3             0          51C                 20C   \n",
       "4             0          24D                 30B   \n",
       "\n",
       "  Contract.Value.Band...see.note.A  RFCD.Code.1  RFCD.Percentage.1  \\\n",
       "0                               A      230202.0               50.0   \n",
       "1                               D      320801.0              100.0   \n",
       "2                              NaN     320602.0               50.0   \n",
       "3                               A      291503.0               60.0   \n",
       "4                              NaN     380107.0              100.0   \n",
       "\n",
       "   RFCD.Code.2  RFCD.Percentage.2  RFCD.Code.3  RFCD.Percentage.3  ...  \\\n",
       "0     230203.0               30.0     230204.0               20.0  ...   \n",
       "1          0.0                0.0          0.0                0.0  ...   \n",
       "2     321004.0               30.0     321015.0               20.0  ...   \n",
       "3     321402.0               40.0          0.0                0.0  ...   \n",
       "4          0.0                0.0          0.0                0.0  ...   \n",
       "\n",
       "   Dept.No..1  Faculty.No..1  With.PHD.1  \\\n",
       "0      3098.0           31.0        Yes    \n",
       "1      2553.0           25.0        Yes    \n",
       "2      2813.0           25.0         NaN   \n",
       "3      2553.0           25.0         NaN   \n",
       "4      2923.0           25.0         NaN   \n",
       "\n",
       "   No..of.Years.in.Uni.at.Time.of.Grant.1  Number.of.Successful.Grant.1  \\\n",
       "0                                >=0 to 5                           2.0   \n",
       "1                                >=0 to 5                           3.0   \n",
       "2                             Less than 0                           1.0   \n",
       "3                            more than 15                           2.0   \n",
       "4                             Less than 0                           0.0   \n",
       "\n",
       "   Number.of.Unsuccessful.Grant.1  A..1  A.1  B.1  C.1  \n",
       "0                             0.0   0.0  4.0  2.0  0.0  \n",
       "1                             1.0   0.0  2.0  0.0  0.0  \n",
       "2                             5.0   0.0  7.0  2.0  0.0  \n",
       "3                             1.0   5.0  6.0  9.0  1.0  \n",
       "4                             2.0   0.0  0.0  0.0  0.0  \n",
       "\n",
       "[5 rows x 39 columns]"
      ]
     },
     "execution_count": 270,
     "metadata": {},
     "output_type": "execute_result"
    }
   ],
   "source": [
    "data = pd.read_csv('data.csv')\n",
    "data.head(5)"
   ]
  },
  {
   "cell_type": "code",
   "execution_count": 271,
   "id": "direct-india",
   "metadata": {},
   "outputs": [],
   "source": [
    "X = data.iloc[:,1:]\n",
    "y = data.iloc[:,0]"
   ]
  },
  {
   "cell_type": "code",
   "execution_count": 272,
   "id": "previous-mountain",
   "metadata": {},
   "outputs": [],
   "source": [
    "X = data.drop('Grant.Status', axis=1)\n",
    "y = data['Grant.Status']"
   ]
  },
  {
   "cell_type": "code",
   "execution_count": 273,
   "id": "cooked-foundation",
   "metadata": {},
   "outputs": [],
   "source": [
    "numeric_cols = [\n",
    "    'RFCD.Percentage.1', \n",
    "    'RFCD.Percentage.2', \n",
    "    'RFCD.Percentage.3', \n",
    "    'RFCD.Percentage.4', \n",
    "    'RFCD.Percentage.5', \n",
    "    'SEO.Percentage.1', \n",
    "    'SEO.Percentage.2', \n",
    "    'SEO.Percentage.3', \n",
    "    'SEO.Percentage.4', \n",
    "    'SEO.Percentage.5',\n",
    "    'Year.of.Birth.1', \n",
    "    'Number.of.Successful.Grant.1', \n",
    "    'Number.of.Unsuccessful.Grant.1'\n",
    "]"
   ]
  },
  {
   "cell_type": "code",
   "execution_count": 274,
   "id": "historical-fountain",
   "metadata": {},
   "outputs": [],
   "source": [
    "categorical_cols = list(set(X.columns.values.tolist()) - set(numeric_cols))"
   ]
  },
  {
   "cell_type": "code",
   "execution_count": 275,
   "id": "correct-classification",
   "metadata": {},
   "outputs": [
    {
     "data": {
      "text/plain": [
       "(213, 39)"
      ]
     },
     "execution_count": 275,
     "metadata": {},
     "output_type": "execute_result"
    }
   ],
   "source": [
    "data.dropna().shape # gonna lose too much data, won't do this"
   ]
  },
  {
   "cell_type": "code",
   "execution_count": 276,
   "id": "possible-immune",
   "metadata": {},
   "outputs": [],
   "source": [
    "X_real_zeros = data[numeric_cols].fillna(value=0)\n",
    "X_real_mean = data[numeric_cols].fillna(value=data[numeric_cols].mean())\n",
    "X_cat = data[categorical_cols].fillna('NA', axis=0).astype(str) #.applymap(str)"
   ]
  },
  {
   "cell_type": "code",
   "execution_count": 278,
   "id": "polar-petersburg",
   "metadata": {},
   "outputs": [],
   "source": [
    "encoder = DictVectorizer(sparse=False)\n",
    "X_cat_oh = encoder.fit_transform(X_cat.T.to_dict().values())"
   ]
  },
  {
   "cell_type": "code",
   "execution_count": 279,
   "id": "improving-butterfly",
   "metadata": {},
   "outputs": [],
   "source": [
    "X_train_real_zeros, X_test_real_zeros = train_test_split(X_real_zeros, test_size=0.3, random_state=0)\n",
    "X_train_real_mean, X_test_real_mean = train_test_split(X_real_mean, test_size=0.3, random_state=0)\n",
    "X_train_cat_oh, X_test_cat_oh = train_test_split(X_cat_oh, test_size=0.3, random_state=0)\n",
    "y_train, y_test = train_test_split(y, test_size=0.3, random_state=0)"
   ]
  },
  {
   "cell_type": "code",
   "execution_count": 280,
   "id": "together-archives",
   "metadata": {},
   "outputs": [],
   "source": [
    "(X_train_real_zeros, X_test_real_zeros, \n",
    " X_train_real_mean, X_test_real_mean, \n",
    " X_train_cat_oh, X_test_cat_oh, \n",
    " y_train, y_test) = train_test_split(X_real_zeros, X_real_mean, X_cat_oh, y, test_size=0.3, random_state=0)"
   ]
  },
  {
   "cell_type": "code",
   "execution_count": 281,
   "id": "backed-uncle",
   "metadata": {},
   "outputs": [],
   "source": [
    "X_train_zeros = np.hstack((X_train_real_zeros, X_train_cat_oh))\n",
    "X_train_mean = np.hstack((X_train_real_mean, X_train_cat_oh))\n",
    "X_test_zeros = np.hstack((X_test_real_zeros, X_test_cat_oh))\n",
    "X_test_mean = np.hstack((X_test_real_mean, X_test_cat_oh))"
   ]
  },
  {
   "cell_type": "code",
   "execution_count": 282,
   "id": "owned-rotation",
   "metadata": {},
   "outputs": [],
   "source": [
    "param_grid = {'C': [0.01, 0.05, 0.1, 0.5, 1, 5, 10]}"
   ]
  },
  {
   "cell_type": "code",
   "execution_count": 283,
   "id": "occasional-original",
   "metadata": {},
   "outputs": [
    {
     "data": {
      "text/plain": [
       "LogisticRegression(C=10)"
      ]
     },
     "execution_count": 283,
     "metadata": {},
     "output_type": "execute_result"
    }
   ],
   "source": [
    "estimator = LogisticRegression()\n",
    "clf_zeros = GridSearchCV(estimator=estimator, param_grid=param_grid, cv=3)\n",
    "clf_zeros.fit(X_train_zeros, y_train)\n",
    "clf_zeros.best_estimator_"
   ]
  },
  {
   "cell_type": "code",
   "execution_count": 284,
   "id": "relevant-louis",
   "metadata": {},
   "outputs": [
    {
     "data": {
      "text/plain": [
       "LogisticRegression(C=0.5)"
      ]
     },
     "execution_count": 284,
     "metadata": {},
     "output_type": "execute_result"
    }
   ],
   "source": [
    "estimator = LogisticRegression()\n",
    "clf_mean = GridSearchCV(estimator=estimator, param_grid=param_grid, cv=3)\n",
    "clf_mean.fit(X_train_mean, y_train)\n",
    "clf_mean.best_estimator_"
   ]
  },
  {
   "cell_type": "code",
   "execution_count": 285,
   "id": "eight-assessment",
   "metadata": {},
   "outputs": [
    {
     "data": {
      "text/plain": [
       "0.8014486154196432"
      ]
     },
     "execution_count": 285,
     "metadata": {},
     "output_type": "execute_result"
    }
   ],
   "source": [
    "y_zeros = clf_zeros.predict_proba(X_test_zeros)[:,-1]\n",
    "roc_auc_zeros = roc_auc_score(y_test, y_zeros)\n",
    "roc_auc_zeros"
   ]
  },
  {
   "cell_type": "code",
   "execution_count": 293,
   "id": "regular-dominican",
   "metadata": {},
   "outputs": [
    {
     "data": {
      "text/plain": [
       "0.7951131657326416"
      ]
     },
     "execution_count": 293,
     "metadata": {},
     "output_type": "execute_result"
    }
   ],
   "source": [
    "y_mean = clf_mean.predict_proba(X_test_mean)[:,-1]\n",
    "roc_auc_mean = roc_auc_score(y_test, y_mean)\n",
    "roc_auc_mean"
   ]
  },
  {
   "cell_type": "code",
   "execution_count": 296,
   "id": "ignored-poker",
   "metadata": {},
   "outputs": [
    {
     "data": {
      "text/plain": [
       "[<matplotlib.lines.Line2D at 0x7f857fe7b6d0>]"
      ]
     },
     "execution_count": 296,
     "metadata": {},
     "output_type": "execute_result"
    },
    {
     "data": {
      "image/png": "[encoded data removed]",
      "text/plain": [
       "<Figure size 432x288 with 1 Axes>"
      ]
     },
     "metadata": {
      "needs_background": "light"
     },
     "output_type": "display_data"
    }
   ],
   "source": [
    "fpr_mean, tpr_mean, thresholds_mean = roc_curve(y_test, y_mean)\n",
    "fpr_zeros, tpr_zeros, thresholds_zeros = roc_curve(y_test, y_zeros)\n",
    "plt.plot(fpr_mean, tpr_mean)\n",
    "plt.plot(fpr_zeros, tpr_zeros)"
   ]
  },
  {
   "cell_type": "code",
   "execution_count": 307,
   "id": "killing-customer",
   "metadata": {},
   "outputs": [
    {
     "data": {
      "image/png": "[encoded data removed]",
      "text/plain": [
       "<Figure size 720x720 with 9 Axes>"
      ]
     },
     "metadata": {
      "needs_background": "light"
     },
     "output_type": "display_data"
    }
   ],
   "source": [
    "cols = ['Number.of.Successful.Grant.1', 'SEO.Percentage.2', 'Year.of.Birth.1']\n",
    "pd.plotting.scatter_matrix(X_train_real_zeros[cols], alpha=0.5, figsize=(10, 10));"
   ]
  },
  {
   "cell_type": "code",
   "execution_count": 318,
   "id": "chemical-august",
   "metadata": {},
   "outputs": [],
   "source": [
    "scaler = StandardScaler()\n",
    "X_train_real_scaled = scaler.fit_transform(X_train_real_zeros)\n",
    "X_test_real_scaled = scaler.transform(X_test_real_zeros)"
   ]
  },
  {
   "cell_type": "code",
   "execution_count": 325,
   "id": "stupid-cursor",
   "metadata": {},
   "outputs": [
    {
     "data": {
      "image/png": "[encoded data removed]",
      "text/plain": [
       "<Figure size 720x720 with 9 Axes>"
      ]
     },
     "metadata": {
      "needs_background": "light"
     },
     "output_type": "display_data"
    }
   ],
   "source": [
    "X_train_real_scaled = pd.DataFrame(X_train_real_scaled, columns=numeric_cols)\n",
    "cols = ['Number.of.Successful.Grant.1', 'SEO.Percentage.2', 'Year.of.Birth.1']\n",
    "pd.plotting.scatter_matrix(X_train_real_scaled[cols], alpha=0.5, figsize=(10, 10));"
   ]
  },
  {
   "cell_type": "code",
   "execution_count": 326,
   "id": "coastal-prevention",
   "metadata": {},
   "outputs": [],
   "source": [
    "X_train_scaled = np.hstack((X_train_real_scaled, X_train_cat_oh))\n",
    "X_test_scaled = np.hstack((X_test_real_scaled, X_test_cat_oh))"
   ]
  },
  {
   "cell_type": "code",
   "execution_count": 328,
   "id": "nominated-programmer",
   "metadata": {},
   "outputs": [
    {
     "data": {
      "text/plain": [
       "LogisticRegression(C=0.05)"
      ]
     },
     "execution_count": 328,
     "metadata": {},
     "output_type": "execute_result"
    }
   ],
   "source": [
    "estimator = LogisticRegression()\n",
    "clf_scaled = GridSearchCV(estimator, param_grid, cv=3)\n",
    "clf_scaled.fit(X_train_scaled, y_train)\n",
    "clf_scaled.best_estimator_"
   ]
  },
  {
   "cell_type": "code",
   "execution_count": 331,
   "id": "legal-billion",
   "metadata": {},
   "outputs": [
    {
     "data": {
      "text/plain": [
       "0.8851594565867021"
      ]
     },
     "execution_count": 331,
     "metadata": {},
     "output_type": "execute_result"
    }
   ],
   "source": [
    "y_scaled = clf_scaled.predict_proba(X_test_scaled)[:,1]\n",
    "roc_auc_scaled = roc_auc_score(y_test, y_scaled)\n",
    "roc_auc_scaled"
   ]
  },
  {
   "cell_type": "code",
   "execution_count": 332,
   "id": "generous-insight",
   "metadata": {},
   "outputs": [
    {
     "name": "stdout",
     "output_type": "stream",
     "text": [
      "2316\n",
      "1884\n"
     ]
    }
   ],
   "source": [
    "print(np.sum(y_train==0))\n",
    "print(np.sum(y_train==1))"
   ]
  },
  {
   "cell_type": "code",
   "execution_count": 337,
   "id": "respiratory-shoulder",
   "metadata": {},
   "outputs": [
    {
     "data": {
      "text/plain": [
       "LogisticRegression(C=0.1, class_weight='balanced')"
      ]
     },
     "execution_count": 337,
     "metadata": {},
     "output_type": "execute_result"
    }
   ],
   "source": [
    "estimator = LogisticRegression(class_weight='balanced')\n",
    "clf_balanced = GridSearchCV(estimator, param_grid, cv=3)\n",
    "clf_balanced.fit(X_train_scaled, y_train)\n",
    "clf_balanced.best_estimator_"
   ]
  },
  {
   "cell_type": "code",
   "execution_count": 340,
   "id": "intimate-matrix",
   "metadata": {},
   "outputs": [
    {
     "data": {
      "text/plain": [
       "0.8872147655574267"
      ]
     },
     "execution_count": 340,
     "metadata": {},
     "output_type": "execute_result"
    }
   ],
   "source": [
    "y_balanced = clf_balanced.predict_proba(X_test_scaled)[:,1]\n",
    "roc_auc_balanced = roc_auc_score(y_test, y_balanced)\n",
    "roc_auc_balanced"
   ]
  },
  {
   "cell_type": "code",
   "execution_count": 343,
   "id": "brutal-coach",
   "metadata": {},
   "outputs": [],
   "source": [
    "(X_train_real_stratify, \n",
    " X_test_real_stratify, \n",
    " X_train_cat_stratify, \n",
    " X_test_cat_stratify, \n",
    " y_train_stratify, \n",
    " y_test_stratify) = train_test_split(X_real_zeros, X_cat_oh, y, test_size=0.3, random_state=0, stratify=y)"
   ]
  },
  {
   "cell_type": "code",
   "execution_count": 347,
   "id": "extra-nurse",
   "metadata": {},
   "outputs": [],
   "source": [
    "scaler = StandardScaler()\n",
    "X_train_real_stratify_scaled = scaler.fit_transform(X_train_real_stratify)\n",
    "X_test_real_stratify_scaled = scaler.transform(X_test_real_stratify)"
   ]
  },
  {
   "cell_type": "code",
   "execution_count": 348,
   "id": "noticed-meditation",
   "metadata": {},
   "outputs": [],
   "source": [
    "X_train_stratify = np.hstack([X_train_real_stratify_scaled, X_train_cat_stratify])\n",
    "X_test_stratify = np.hstack([X_test_real_stratify_scaled, X_test_cat_stratify])"
   ]
  },
  {
   "cell_type": "code",
   "execution_count": 352,
   "id": "nutritional-marks",
   "metadata": {},
   "outputs": [
    {
     "data": {
      "text/plain": [
       "LogisticRegression(C=0.1, class_weight='balanced')"
      ]
     },
     "execution_count": 352,
     "metadata": {},
     "output_type": "execute_result"
    }
   ],
   "source": [
    "estimator = LogisticRegression(class_weight='balanced')\n",
    "clf_stratify = GridSearchCV(estimator, param_grid, cv=3)\n",
    "clf_stratify.fit(X_train_stratify, y_train_stratify)\n",
    "clf_stratify.best_estimator_"
   ]
  },
  {
   "cell_type": "code",
   "execution_count": 356,
   "id": "nuclear-twenty",
   "metadata": {},
   "outputs": [
    {
     "data": {
      "text/plain": [
       "0.8794133964245021"
      ]
     },
     "execution_count": 356,
     "metadata": {},
     "output_type": "execute_result"
    }
   ],
   "source": [
    "y_stratify = clf_stratify.predict_proba(X_test_stratify)[:, 1]\n",
    "roc_auc_stratify = roc_auc_score(y_test_stratify, y_stratify)\n",
    "roc_auc_stratify"
   ]
  },
  {
   "cell_type": "code",
   "execution_count": 361,
   "id": "above-interview",
   "metadata": {},
   "outputs": [],
   "source": [
    "transform = PolynomialFeatures(2)\n",
    "X_train_real_poly = transform.fit_transform(X_train_real_stratify)\n",
    "X_test_real_poly = transform.fit_transform(X_test_real_stratify)"
   ]
  },
  {
   "cell_type": "code",
   "execution_count": 366,
   "id": "fifth-worst",
   "metadata": {},
   "outputs": [],
   "source": [
    "scaler = StandardScaler()\n",
    "X_train_real_poly_scaled = scaler.fit_transform(X_train_real_poly)\n",
    "X_test_real_poly_scaled = scaler.transform(X_test_real_poly)"
   ]
  },
  {
   "cell_type": "code",
   "execution_count": 367,
   "id": "driving-firmware",
   "metadata": {},
   "outputs": [],
   "source": [
    "X_train_poly = np.hstack([X_train_real_poly_scaled, X_train_cat_stratify])\n",
    "X_test_poly = np.hstack([X_test_real_poly_scaled, X_test_cat_stratify])"
   ]
  },
  {
   "cell_type": "code",
   "execution_count": 371,
   "id": "spectacular-estate",
   "metadata": {},
   "outputs": [
    {
     "data": {
      "text/plain": [
       "LogisticRegression(C=0.1, class_weight='balanced', fit_intercept=False)"
      ]
     },
     "execution_count": 371,
     "metadata": {},
     "output_type": "execute_result"
    }
   ],
   "source": [
    "estimator = LogisticRegression(fit_intercept=False, class_weight='balanced')\n",
    "clf_poly = GridSearchCV(estimator, param_grid, cv=3)\n",
    "clf_poly.fit(X_train_poly, y_train_stratify)\n",
    "clf_poly.best_estimator_"
   ]
  },
  {
   "cell_type": "code",
   "execution_count": 372,
   "id": "advance-bottle",
   "metadata": {},
   "outputs": [
    {
     "data": {
      "text/plain": [
       "0.8869888147517899"
      ]
     },
     "execution_count": 372,
     "metadata": {},
     "output_type": "execute_result"
    }
   ],
   "source": [
    "y_poly = clf_poly.predict_proba(X_test_poly)[:,1]\n",
    "roc_auc_poly = roc_auc_score(y_test_stratify, y_poly)\n",
    "roc_auc_poly"
   ]
  },
  {
   "cell_type": "code",
   "execution_count": 380,
   "id": "metallic-colorado",
   "metadata": {},
   "outputs": [
    {
     "data": {
      "text/plain": [
       "LogisticRegression(C=1, class_weight='balanced', penalty='l1',\n",
       "                   solver='liblinear')"
      ]
     },
     "execution_count": 380,
     "metadata": {},
     "output_type": "execute_result"
    }
   ],
   "source": [
    "estimator = LogisticRegression(penalty='l1', class_weight='balanced', solver='liblinear')\n",
    "clf_lasso = GridSearchCV(estimator, param_grid, cv=3)\n",
    "clf_lasso.fit(X_train_stratify, y_train_stratify)\n",
    "clf_lasso.best_estimator_"
   ]
  },
  {
   "cell_type": "code",
   "execution_count": 382,
   "id": "controlling-resort",
   "metadata": {},
   "outputs": [
    {
     "data": {
      "text/plain": [
       "0.8765934500619468"
      ]
     },
     "execution_count": 382,
     "metadata": {},
     "output_type": "execute_result"
    }
   ],
   "source": [
    "y_lasso = clf_lasso.predict_proba(X_test_stratify)[:,1]\n",
    "roc_auc_lasso = roc_auc_score(y_test_stratify, y_lasso)\n",
    "roc_auc_lasso"
   ]
  },
  {
   "cell_type": "code",
   "execution_count": 397,
   "id": "cross-location",
   "metadata": {},
   "outputs": [
    {
     "data": {
      "text/plain": [
       "array([[ 0.01134456,  0.04098862, -0.08882055, ...,  0.76177406,\n",
       "         0.        ,  0.3464476 ]])"
      ]
     },
     "execution_count": 397,
     "metadata": {},
     "output_type": "execute_result"
    }
   ],
   "source": [
    "lasso_coefs = clf_lasso.best_estimator_.coef_\n",
    "lasso_coefs"
   ]
  },
  {
   "cell_type": "code",
   "execution_count": 402,
   "id": "violent-instruction",
   "metadata": {},
   "outputs": [
    {
     "data": {
      "text/plain": [
       "([4, 6, 7, 14, 16], 5086)"
      ]
     },
     "execution_count": 402,
     "metadata": {},
     "output_type": "execute_result"
    }
   ],
   "source": [
    "zero_coefs = np.where(lasso_coefs == 0)[1].tolist()\n",
    "zero_coefs[:5], len(zero_coefs)"
   ]
  },
  {
   "cell_type": "code",
   "execution_count": 403,
   "id": "rational-welcome",
   "metadata": {},
   "outputs": [
    {
     "data": {
      "text/plain": [
       "[4, 6, 7]"
      ]
     },
     "execution_count": 403,
     "metadata": {},
     "output_type": "execute_result"
    }
   ],
   "source": [
    "list(filter(lambda x: x < 13, zero_coefs))"
   ]
  }
 ],
 "metadata": {
  "kernelspec": {
   "display_name": "Python 3",
   "language": "python",
   "name": "python3"
  },
  "language_info": {
   "codemirror_mode": {
    "name": "ipython",
    "version": 3
   },
   "file_extension": ".py",
   "mimetype": "text/x-python",
   "name": "python",
   "nbconvert_exporter": "python",
   "pygments_lexer": "ipython3",
   "version": "3.9.1+"
  }
 },
 "nbformat": 4,
 "nbformat_minor": 5
}
