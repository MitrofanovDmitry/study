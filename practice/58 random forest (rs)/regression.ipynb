{
 "cells": [
  {
   "cell_type": "code",
   "execution_count": 1,
   "id": "seventh-assets",
   "metadata": {},
   "outputs": [],
   "source": [
    "import random\n",
    "import numpy as np\n",
    "import pandas as pd\n",
    "from sklearn.metrics import accuracy_score\n",
    "from sklearn.metrics import mean_squared_error\n",
    "from sklearn.model_selection import train_test_split\n",
    "from sklearn import tree\n",
    "from sklearn import ensemble"
   ]
  },
  {
   "cell_type": "code",
   "execution_count": 2,
   "id": "isolated-scratch",
   "metadata": {},
   "outputs": [],
   "source": [
    "def mse_index(x):\n",
    "    # return ((x - x.mean()) ** 2).mean()\n",
    "    # return np.square(x - x.mean()).mean()\n",
    "    return x.var()\n",
    "\n",
    "def mse_gain(parent_node, splits):   \n",
    "    splits_mse = np.sum([mse_index(split)*(len(split)/len(parent_node)) for split in splits])\n",
    "    return mse_index(parent_node) - splits_mse\n",
    "\n",
    "def split(X, y, value):      \n",
    "    left_mask = X < value\n",
    "    right_mask = X >= value\n",
    "    return y[left_mask], y[right_mask]\n",
    "\n",
    "def split_dataset(X, y, column, value):     \n",
    "    left_mask = X[:, column] < value\n",
    "    right_mask = X[:, column] >= value\n",
    "    left_y, right_y = y[left_mask], y[right_mask]\n",
    "    left_X, right_X = X[left_mask], X[right_mask]\n",
    "    return left_X, right_X, left_y, right_y"
   ]
  },
  {
   "cell_type": "code",
   "execution_count": 3,
   "id": "armed-craps",
   "metadata": {},
   "outputs": [],
   "source": [
    "class DecisionTreeRegressor(object):\n",
    "\n",
    "    def __init__(self, criterion=None):\n",
    "        self.impurity = None\n",
    "        self.threshold = None\n",
    "        self.column_index = None\n",
    "        self.outcome_probs = None\n",
    "        self.criterion = criterion\n",
    "        self.left_child = None\n",
    "        self.right_child = None\n",
    "\n",
    "    @property\n",
    "    def is_terminal(self):         \n",
    "        return not bool(self.left_child and self.right_child)\n",
    "\n",
    "    def _find_splits(self, X):\n",
    "        split_values = set()\n",
    "        x_unique = list(np.unique(X))\n",
    "        for i in range(1, len(x_unique)):\n",
    "            # average = (x_unique[i - 1] + x_unique[i]) / 2.\n",
    "            average = np.mean((x_unique[i - 1], x_unique[i]))\n",
    "            split_values.add(average)\n",
    "\n",
    "        return list(split_values)\n",
    "\n",
    "    def _find_best_split(self, X, y, n_features):\n",
    "        random.seed(42)\n",
    "        subset = random.sample(list(range(0, X.shape[1])), n_features)\n",
    "        max_gain, max_col, max_val = None, None, None\n",
    "        for column in subset:\n",
    "            split_values = self._find_splits(X[:, column])\n",
    "            for value in split_values:\n",
    "                splits = split(X[:, column], y, value)\n",
    "                gain = self.criterion(y, splits)\n",
    "                if (max_gain is None) or (gain > max_gain):\n",
    "                    max_col, max_val, max_gain = column, value, gain\n",
    "        return max_col, max_val, max_gain\n",
    "\n",
    "    def fit(self, X, y, n_features=None, max_depth=None):    \n",
    "        try:\n",
    "            if max_depth is not None:\n",
    "                assert max_depth > 0\n",
    "                max_depth -= 1\n",
    "\n",
    "            if n_features is None:\n",
    "                n_features = X.shape[1]\n",
    "\n",
    "            column, value, gain = self._find_best_split(X, y, n_features)\n",
    "            assert gain is not None\n",
    "\n",
    "            self.column_index = column\n",
    "            self.threshold = value\n",
    "            self.impurity = gain\n",
    "\n",
    "            left_X, right_X, left_target, right_target = split_dataset(X, y, column, value)\n",
    "\n",
    "            self.left_child = DecisionTreeRegressor(self.criterion)\n",
    "            self.left_child.fit(\n",
    "                left_X, left_target, n_features, max_depth\n",
    "            )\n",
    "\n",
    "            self.right_child = DecisionTreeRegressor(self.criterion)\n",
    "            self.right_child.fit(\n",
    "                right_X, right_target, n_features, max_depth\n",
    "            )\n",
    "        except AssertionError:\n",
    "            self.outcome_probs = np.sum(y) / y.shape[0] #@!\n",
    "            \n",
    "    def predict_row(self, row):\n",
    "        \n",
    "        if not self.is_terminal:\n",
    "            if row[self.column_index] < self.threshold:\n",
    "                return self.left_child.predict_row(row)\n",
    "            else:\n",
    "                return self.right_child.predict_row(row)\n",
    "        return self.outcome_probs\n",
    "\n",
    "    def predict(self, X):\n",
    "        result = np.zeros(X.shape[0])\n",
    "        for i in range(X.shape[0]):\n",
    "            result[i] = self.predict_row(X[i, :])\n",
    "        return result"
   ]
  },
  {
   "cell_type": "code",
   "execution_count": 4,
   "id": "fixed-journey",
   "metadata": {},
   "outputs": [],
   "source": [
    "class RandomForestRegressor(object):\n",
    "\n",
    "    def __init__(self, n_estimators=10, max_depth=None, n_features=None, criterion=\"mse\", bootstrap=True):\n",
    "        self.n_estimators = n_estimators\n",
    "        self.max_depth = max_depth\n",
    "        self.n_features = n_features\n",
    "        self.bootstrap = bootstrap\n",
    "        \n",
    "        if criterion == \"mse\": #@!\n",
    "            self.criterion = mse_gain\n",
    "        else:\n",
    "            raise ValueError(f\"Unknown criterion '{criterion}'\")\n",
    "            \n",
    "        self.trees = [DecisionTreeRegressor(criterion=self.criterion) for _ in range(n_estimators)]\n",
    "        \n",
    "    def _init_data(self, X, y):\n",
    "\n",
    "        self.size = len(X)\n",
    "        \n",
    "        if not isinstance(X, np.ndarray):\n",
    "            self.X = np.array(X)\n",
    "        else:\n",
    "            self.X = X\n",
    "\n",
    "        if not isinstance(y, np.ndarray):\n",
    "            self.y = np.array(y)\n",
    "        else:\n",
    "            self.y = y\n",
    "            \n",
    "    def bootstrap_data(self, size):\n",
    "        np.random.seed(42)\n",
    "        return np.random.randint(size, size=size)\n",
    "    \n",
    "    def fit(self, X, y):\n",
    "       \n",
    "        if self.n_features is None:\n",
    "            self.n_features = int(np.sqrt(X.shape[1]))\n",
    "        elif X.shape[1] < self.n_features:\n",
    "            raise ValueError(f\"'n_features should be <= n_features'\")\n",
    "            \n",
    "        self._init_data(X, y)\n",
    "        \n",
    "        for tree in self.trees:\n",
    "            if self.bootstrap:\n",
    "                idxs = self.bootstrap_data(self.size)\n",
    "                X = self.X[idxs]\n",
    "                y = self.y[idxs]\n",
    "            else:\n",
    "                X = self.X\n",
    "                y = self.y\n",
    "                \n",
    "            tree.fit(\n",
    "                X,\n",
    "                y,\n",
    "                n_features=self.n_features,\n",
    "                max_depth=self.max_depth,\n",
    "            )\n",
    "            \n",
    "    def predict(self, X):\n",
    "           \n",
    "        if not isinstance(X, np.ndarray):\n",
    "            X = np.array(X)\n",
    "\n",
    "        if self.X is not None:\n",
    "            predictions = np.zeros(len(X))\n",
    "            for i in range(len(X)):\n",
    "                row_pred = 0.\n",
    "                for tree in self.trees:\n",
    "                    row_pred += tree.predict_row(X[i, :])\n",
    "\n",
    "                row_pred /= self.n_estimators\n",
    "                predictions[i] = row_pred #@!\n",
    "            return predictions  \n",
    "        else:\n",
    "            raise ValueError(\"You should fit a model before `predict`\")"
   ]
  },
  {
   "cell_type": "code",
   "execution_count": 5,
   "id": "everyday-carpet",
   "metadata": {},
   "outputs": [],
   "source": [
    "def f(X): \n",
    "    return X[:, 0]**3 + np.log(np.exp(X[:, 1]) + np.exp(X[:, 2])) + np.sqrt(abs(X[:, 3])) * X[:, 4]\n",
    "\n",
    "n_samples = 100\n",
    "stdv = 1. / np.sqrt(5)\n",
    "X = np.random.uniform(-stdv, stdv, size = (n_samples, 5))\n",
    "y = f(X)"
   ]
  },
  {
   "cell_type": "code",
   "execution_count": 31,
   "id": "matched-premiere",
   "metadata": {},
   "outputs": [
    {
     "name": "stdout",
     "output_type": "stream",
     "text": [
      "MSE is: 0.001869299243728372\n"
     ]
    }
   ],
   "source": [
    "t1 = DecisionTreeRegressor(criterion=mse_gain)\n",
    "t1.fit(X, y, max_depth=5)\n",
    "y1 = t1.predict(X)\n",
    "print(f\"MSE is: {mean_squared_error(y, y1)}\")"
   ]
  },
  {
   "cell_type": "code",
   "execution_count": 32,
   "id": "stone-sister",
   "metadata": {},
   "outputs": [
    {
     "name": "stdout",
     "output_type": "stream",
     "text": [
      "MSE is: 0.001869299243728372\n"
     ]
    }
   ],
   "source": [
    "t2 = tree.DecisionTreeRegressor(criterion='mse', max_depth=5, random_state=42, max_features=5, splitter='best', min_samples_split=2, min_samples_leaf=1)\n",
    "t2.fit(X, y)\n",
    "y2 = t2.predict(X)\n",
    "print(f\"MSE is: {mean_squared_error(y, y2)}\")"
   ]
  },
  {
   "cell_type": "code",
   "execution_count": 33,
   "id": "tracked-nothing",
   "metadata": {},
   "outputs": [
    {
     "data": {
      "text/plain": [
       "(-0.21197722203507108, 2)"
      ]
     },
     "execution_count": 33,
     "metadata": {},
     "output_type": "execute_result"
    }
   ],
   "source": [
    "t1.threshold, t1.column_index"
   ]
  },
  {
   "cell_type": "code",
   "execution_count": 34,
   "id": "romance-diary",
   "metadata": {},
   "outputs": [
    {
     "data": {
      "text/plain": [
       "(-0.21197722107172012, 2)"
      ]
     },
     "execution_count": 34,
     "metadata": {},
     "output_type": "execute_result"
    }
   ],
   "source": [
    "t2.tree_.threshold[0], t2.tree_.feature[0]"
   ]
  },
  {
   "cell_type": "code",
   "execution_count": 35,
   "id": "lined-dallas",
   "metadata": {},
   "outputs": [
    {
     "data": {
      "text/plain": [
       "(0.6075477180903875, 0.6075477180903875)"
      ]
     },
     "execution_count": 35,
     "metadata": {},
     "output_type": "execute_result"
    }
   ],
   "source": [
    "# y1[y1 != y2], y2[y1 != y2]\n",
    "# y1 != y2\n",
    "y1[3], y2[3]"
   ]
  },
  {
   "cell_type": "code",
   "execution_count": 40,
   "id": "beautiful-address",
   "metadata": {},
   "outputs": [
    {
     "name": "stdout",
     "output_type": "stream",
     "text": [
      "MSE is: 0.02817857721432049\n"
     ]
    }
   ],
   "source": [
    "f1 = RandomForestRegressor(n_estimators=10, max_depth=4, criterion='mse')\n",
    "f1.fit(X, y)\n",
    "y1 = f1.predict(X)\n",
    "print(f\"MSE is: {mean_squared_error(y, y1)}\")"
   ]
  },
  {
   "cell_type": "code",
   "execution_count": 41,
   "id": "placed-arthur",
   "metadata": {},
   "outputs": [
    {
     "name": "stdout",
     "output_type": "stream",
     "text": [
      "MSE is: 0.004190721858253212\n"
     ]
    }
   ],
   "source": [
    "f2 = ensemble.RandomForestRegressor(n_estimators=10, max_depth=4, criterion='mse', random_state=42)\n",
    "f2.fit(X, y)\n",
    "y2 = f2.predict(X)\n",
    "print(f\"MSE is: {mean_squared_error(y, y2)}\")"
   ]
  },
  {
   "cell_type": "code",
   "execution_count": 52,
   "id": "handmade-gospel",
   "metadata": {},
   "outputs": [
    {
     "data": {
      "text/plain": [
       "(array([0.10267444, 0.85609033]), array([0.51914222, 0.87432236]))"
      ]
     },
     "execution_count": 52,
     "metadata": {},
     "output_type": "execute_result"
    }
   ],
   "source": [
    "y1[:2], y2[:2]"
   ]
  }
 ],
 "metadata": {
  "kernelspec": {
   "display_name": "Python 3",
   "language": "python",
   "name": "python3"
  },
  "language_info": {
   "codemirror_mode": {
    "name": "ipython",
    "version": 3
   },
   "file_extension": ".py",
   "mimetype": "text/x-python",
   "name": "python",
   "nbconvert_exporter": "python",
   "pygments_lexer": "ipython3",
   "version": "3.9.2"
  }
 },
 "nbformat": 4,
 "nbformat_minor": 5
}
