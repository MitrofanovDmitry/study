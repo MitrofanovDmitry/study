{
 "cells": [
  {
   "cell_type": "code",
   "execution_count": 333,
   "id": "qualified-impact",
   "metadata": {},
   "outputs": [],
   "source": [
    "import numpy as np\n",
    "import pandas as pd\n",
    "from sklearn.metrics import accuracy_score\n",
    "from sklearn.model_selection import train_test_split\n",
    "from sklearn.ensemble import RandomForestClassifier\n",
    "import matplotlib.pyplot as plt\n",
    "from sklearn.model_selection import GridSearchCV\n",
    "from sklearn.model_selection import RandomizedSearchCV"
   ]
  },
  {
   "cell_type": "code",
   "execution_count": 334,
   "id": "civilian-tournament",
   "metadata": {},
   "outputs": [],
   "source": [
    "PATH = 'data/'\n",
    "df = pd.read_csv(PATH+'sonar-all-data.csv', header=None)\n",
    "df.columns = [f'feat_{col}' if col!=60 else 'target' for col in df.columns]\n",
    "df['target'] = df['target'].map({'M': 1, 'R': 0})"
   ]
  },
  {
   "cell_type": "code",
   "execution_count": 326,
   "id": "located-choir",
   "metadata": {},
   "outputs": [],
   "source": [
    "# X, y = df.drop(columns='target'), df['target']\n",
    "# X_train, X_test, y_train, y_test = train_test_split(X, y, test_size=0.4, random_state=42)\n",
    "# X_test, X_val, y_test, y_val = train_test_split(X_test, y_test, test_size=0.5, random_state=42)\n",
    "# X_train.shape[0], X_test.shape[0], X_val.shape[0]"
   ]
  },
  {
   "cell_type": "code",
   "execution_count": 335,
   "id": "emotional-roulette",
   "metadata": {},
   "outputs": [
    {
     "data": {
      "text/plain": [
       "(124, 42, 42)"
      ]
     },
     "execution_count": 335,
     "metadata": {},
     "output_type": "execute_result"
    }
   ],
   "source": [
    "X, y = df.drop(columns='target'), df['target']\n",
    "X_full, X_val, y_full, y_val = train_test_split(X, y, test_size=0.2, random_state=42)\n",
    "X_train, X_test, y_train, y_test = train_test_split(X_full, y_full, test_size=0.25, random_state=42)\n",
    "X_train.shape[0], X_test.shape[0], X_val.shape[0]"
   ]
  },
  {
   "cell_type": "code",
   "execution_count": 336,
   "id": "remarkable-exclusion",
   "metadata": {},
   "outputs": [
    {
     "data": {
      "text/plain": [
       "(0.9516129032258065, 0.7380952380952381)"
      ]
     },
     "execution_count": 336,
     "metadata": {},
     "output_type": "execute_result"
    }
   ],
   "source": [
    "clf = RandomForestClassifier(n_estimators=30, max_depth=3, random_state=42)\n",
    "clf.fit(X_train, y_train)\n",
    "clf.score(X_train, y_train), clf.score(X_test, y_test)"
   ]
  },
  {
   "cell_type": "code",
   "execution_count": 337,
   "id": "designed-webster",
   "metadata": {},
   "outputs": [],
   "source": [
    "trees_num = np.arange(1, 500, 20, dtype=int) # range(1,500,5)\n",
    "clfs = [RandomForestClassifier(n_estimators=n, random_state=42).fit(X_train, y_train) for n in trees_num]\n",
    "# scores_train = [clf.score(X_train, y_train) for clf in clfs]\n",
    "# scores_test = [clf.score(X_test, y_test) for clf in clfs]\n",
    "scores_train = [accuracy_score(y_train, clf.predict(X_train)) for clf in clfs]\n",
    "scores_test = [accuracy_score(y_test, clf.predict(X_test)) for clf in clfs]"
   ]
  },
  {
   "cell_type": "code",
   "execution_count": 338,
   "id": "future-segment",
   "metadata": {
    "scrolled": false
   },
   "outputs": [
    {
     "data": {
      "image/png": "[encoded data removed]",
      "text/plain": [
       "<Figure size 576x360 with 1 Axes>"
      ]
     },
     "metadata": {
      "needs_background": "light"
     },
     "output_type": "display_data"
    }
   ],
   "source": [
    "plt.figure(figsize=(8,5))\n",
    "plt.plot(trees_num, scores_train, label='train')\n",
    "plt.plot(trees_num, scores_test, label='test')\n",
    "plt.xlabel('trees')\n",
    "plt.ylabel('score')\n",
    "plt.legend();"
   ]
  },
  {
   "cell_type": "code",
   "execution_count": 357,
   "id": "continental-nowhere",
   "metadata": {},
   "outputs": [
    {
     "data": {
      "text/plain": [
       "(1.0, 0.8809523809523809)"
      ]
     },
     "execution_count": 357,
     "metadata": {},
     "output_type": "execute_result"
    }
   ],
   "source": [
    "clf = RandomForestClassifier(n_estimators=30, criterion='gini', random_state=42)\n",
    "clf.fit(X_train, y_train)\n",
    "clf.score(X_train, y_train), clf.score(X_test, y_test)"
   ]
  },
  {
   "cell_type": "code",
   "execution_count": 358,
   "id": "agreed-walter",
   "metadata": {},
   "outputs": [
    {
     "data": {
      "text/plain": [
       "(1.0, 0.8095238095238095)"
      ]
     },
     "execution_count": 358,
     "metadata": {},
     "output_type": "execute_result"
    }
   ],
   "source": [
    "clf = RandomForestClassifier(n_estimators=30, criterion='entropy', random_state=42)\n",
    "clf.fit(X_train, y_train)\n",
    "clf.score(X_train, y_train), clf.score(X_test, y_test)"
   ]
  },
  {
   "cell_type": "code",
   "execution_count": 371,
   "id": "tutorial-methodology",
   "metadata": {},
   "outputs": [
    {
     "data": {
      "text/plain": [
       "(1.0, 0.8809523809523809)"
      ]
     },
     "execution_count": 371,
     "metadata": {},
     "output_type": "execute_result"
    }
   ],
   "source": [
    "clf = RandomForestClassifier(n_estimators=30, criterion='gini', max_depth=9, random_state=42)\n",
    "clf.fit(X_train, y_train)\n",
    "clf.score(X_train, y_train), clf.score(X_test, y_test)"
   ]
  },
  {
   "cell_type": "code",
   "execution_count": 397,
   "id": "trying-daniel",
   "metadata": {},
   "outputs": [
    {
     "data": {
      "text/plain": [
       "(1.0, 0.8809523809523809)"
      ]
     },
     "execution_count": 397,
     "metadata": {},
     "output_type": "execute_result"
    }
   ],
   "source": [
    "clf = RandomForestClassifier(n_estimators=30, criterion='gini', max_depth=9, \n",
    "                             min_samples_split=2, random_state=42)\n",
    "clf.fit(X_train, y_train)\n",
    "clf.score(X_train, y_train), clf.score(X_test, y_test)"
   ]
  },
  {
   "cell_type": "code",
   "execution_count": 404,
   "id": "accepting-story",
   "metadata": {},
   "outputs": [
    {
     "data": {
      "text/plain": [
       "(1.0, 0.8809523809523809)"
      ]
     },
     "execution_count": 404,
     "metadata": {},
     "output_type": "execute_result"
    }
   ],
   "source": [
    "clf = RandomForestClassifier(n_estimators=30, criterion='gini', max_depth=9, \n",
    "                             min_samples_split=2, min_samples_leaf=1, random_state=42)\n",
    "clf.fit(X_train, y_train)\n",
    "clf.score(X_train, y_train), clf.score(X_test, y_test)"
   ]
  },
  {
   "cell_type": "code",
   "execution_count": 405,
   "id": "royal-bible",
   "metadata": {},
   "outputs": [
    {
     "data": {
      "text/plain": [
       "(1.0, 0.8095238095238095)"
      ]
     },
     "execution_count": 405,
     "metadata": {},
     "output_type": "execute_result"
    }
   ],
   "source": [
    "clf = RandomForestClassifier(n_estimators=32, criterion='entropy', max_depth=9, \n",
    "                             min_samples_split=2, min_samples_leaf=1, random_state=42)\n",
    "clf.fit(X_train, y_train)\n",
    "clf.score(X_train, y_train), clf.score(X_test, y_test)"
   ]
  },
  {
   "cell_type": "code",
   "execution_count": 406,
   "id": "numeric-little",
   "metadata": {},
   "outputs": [
    {
     "data": {
      "text/plain": [
       "(1.0, 0.8809523809523809)"
      ]
     },
     "execution_count": 406,
     "metadata": {},
     "output_type": "execute_result"
    }
   ],
   "source": [
    "clf = RandomForestClassifier(n_estimators=30, criterion='gini', max_depth=9, \n",
    "                             min_samples_split=2, min_samples_leaf=1, random_state=42)\n",
    "clf.fit(X_train, y_train)\n",
    "clf.score(X_train, y_train), clf.score(X_test, y_test)"
   ]
  },
  {
   "cell_type": "code",
   "execution_count": 407,
   "id": "japanese-frame",
   "metadata": {},
   "outputs": [
    {
     "data": {
      "text/plain": [
       "0.8095238095238095"
      ]
     },
     "execution_count": 407,
     "metadata": {},
     "output_type": "execute_result"
    }
   ],
   "source": [
    "clf = RandomForestClassifier(n_estimators=30, criterion='gini', max_depth=9, \n",
    "                             min_samples_split=2, min_samples_leaf=1, random_state=42)\n",
    "clf.fit(X_train, y_train)\n",
    "clf.score(X_val, y_val)"
   ]
  },
  {
   "cell_type": "code",
   "execution_count": 408,
   "id": "starting-ethernet",
   "metadata": {},
   "outputs": [
    {
     "data": {
      "text/plain": [
       "(RandomForestClassifier(max_depth=6, min_samples_split=5, n_estimators=20,\n",
       "                        random_state=42),\n",
       " 0.8435064935064934)"
      ]
     },
     "execution_count": 408,
     "metadata": {},
     "output_type": "execute_result"
    }
   ],
   "source": [
    "grid = {\n",
    "    'criterion': ['gini','entropy'], \n",
    "    'n_estimators': [2,6,10,20,30],\n",
    "    'max_depth': [2,4,6,8],\n",
    "    'min_samples_split': [2,5,8],\n",
    "    'min_samples_leaf': [1,2,3]\n",
    "}\n",
    "\n",
    "cv = GridSearchCV(clf, grid, scoring='accuracy', cv=3)\n",
    "cv.fit(X_full, y_full)\n",
    "cv.best_estimator_, cv.best_score_"
   ]
  },
  {
   "cell_type": "code",
   "execution_count": 409,
   "id": "australian-jefferson",
   "metadata": {},
   "outputs": [
    {
     "data": {
      "text/plain": [
       "(RandomForestClassifier(criterion='entropy', max_depth=2, min_samples_leaf=3,\n",
       "                        min_samples_split=5, n_estimators=20, random_state=42),\n",
       " 0.8135281385281385)"
      ]
     },
     "execution_count": 409,
     "metadata": {},
     "output_type": "execute_result"
    }
   ],
   "source": [
    "grid = {\n",
    "    'criterion': ['gini','entropy'], \n",
    "    'n_estimators': [2,6,10,20,30],\n",
    "    'max_depth': [2,4,6,8],\n",
    "    'min_samples_split': [2,5,8],\n",
    "    'min_samples_leaf': [1,2,3]\n",
    "}\n",
    "\n",
    "cv = RandomizedSearchCV(clf, grid, scoring='accuracy', cv=3)\n",
    "cv.fit(X_full, y_full)\n",
    "cv.best_estimator_, cv.best_score_"
   ]
  }
 ],
 "metadata": {
  "kernelspec": {
   "display_name": "Python 3",
   "language": "python",
   "name": "python3"
  },
  "language_info": {
   "codemirror_mode": {
    "name": "ipython",
    "version": 3
   },
   "file_extension": ".py",
   "mimetype": "text/x-python",
   "name": "python",
   "nbconvert_exporter": "python",
   "pygments_lexer": "ipython3",
   "version": "3.9.2"
  }
 },
 "nbformat": 4,
 "nbformat_minor": 5
}
