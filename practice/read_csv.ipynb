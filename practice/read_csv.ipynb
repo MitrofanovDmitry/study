{
  "nbformat": 4,
  "nbformat_minor": 0,
  "metadata": {
    "colab": {
      "name": "read_csv.ipynb",
      "provenance": [],
      "collapsed_sections": []
    },
    "kernelspec": {
      "name": "python3",
      "display_name": "Python 3"
    }
  },
  "cells": [
    {
      "cell_type": "markdown",
      "metadata": {
        "id": "EdmU2HVdmjiG"
      },
      "source": [
        "https://medium.com/analytics-vidhya/colab-and-google-sheets-surprisingly-powerful-combination-for-data-science-part-1-bbbb11cbd8e\n",
        "\n",
        "https://colab.research.google.com/drive/1-gYY4UsVCtldK-pXbGVi-QdBuSunljvN#scrollTo=APzKZQ8oKpoZ"
      ]
    },
    {
      "cell_type": "code",
      "metadata": {
        "id": "85ekitHylIJ9"
      },
      "source": [
        "# create csv file\n",
        "content = \"\"\"\n",
        "area,price\n",
        "2600,550000\n",
        "3000,565000\n",
        "3200,610000\n",
        "3600,680000\n",
        "4000,725000\n",
        "\"\"\"\n",
        "file = open('homeprices.csv', 'w')\n",
        "file.write(content)\n",
        "file.close()"
      ],
      "execution_count": null,
      "outputs": []
    },
    {
      "cell_type": "code",
      "metadata": {
        "id": "dADuXYhhlrUs"
      },
      "source": [
        "from io import StringIO\n",
        "\n",
        "HOME_PRICES_CSV_STR = \"\"\"\n",
        "area,price\n",
        "2600,550000\n",
        "3000,565000\n",
        "3200,610000\n",
        "3600,680000\n",
        "4000,725000\n",
        "\"\"\"\n",
        "\n",
        "# hdf = pd.read_csv('homeprices.csv')\n",
        "hdf = pd.read_csv(StringIO(HOME_PRICES_CSV_STR))\n",
        "hdf.head()"
      ],
      "execution_count": null,
      "outputs": []
    },
    {
      "cell_type": "code",
      "metadata": {
        "id": "tiTqwBMkkxqo"
      },
      "source": [
        "# create data frame\n",
        "import pandas as pd\n",
        "df = pd.DataFrame([[1,2,3,4],[5,6,7,8]], columns=list('ABCD'))\n",
        "df"
      ],
      "execution_count": null,
      "outputs": []
    },
    {
      "cell_type": "code",
      "metadata": {
        "id": "as7ovGH7k65F"
      },
      "source": [
        "# upload file\n",
        "from google.colab import files\n",
        "upload = files.upload()"
      ],
      "execution_count": null,
      "outputs": []
    },
    {
      "cell_type": "code",
      "metadata": {
        "id": "Nap5DH8bk9gq"
      },
      "source": [
        "# mount google drive\n",
        "from google.colab import drive\n",
        "drive.mount('/content/drive')"
      ],
      "execution_count": null,
      "outputs": []
    },
    {
      "cell_type": "code",
      "metadata": {
        "id": "CP2G0IizlBFi"
      },
      "source": [
        "# authorize google sheets\n",
        "import gspread\n",
        "from google.colab import auth\n",
        "from oauth2client.client import GoogleCredentials\n",
        "auth.authenticate_user()\n",
        "gc = gspread.authorize(GoogleCredentials.get_application_default())"
      ],
      "execution_count": null,
      "outputs": []
    },
    {
      "cell_type": "code",
      "metadata": {
        "id": "CXWmXmdAlDcD"
      },
      "source": [
        "# open google sheets document\n",
        "import pandas as pd\n",
        "\n",
        "wb = gc.open_by_url('https://docs.google.com/spreadsheets/d/1XyX3KkBhN1yFfSGJslbXnPbMUugZu1SKO6OtVZWmPP0/edit#gid=0')\n",
        "sheet = wb.sheet1\n",
        "data = sheet.get_all_values()\n",
        "df = pd.DataFrame(data)\n",
        "df.columns = df.iloc[0]\n",
        "df = df.iloc[1:]\n",
        "\n",
        "schema = {\n",
        "  'area': df['area'].astype(float),\n",
        "  'price': df['price'].astype(float)\n",
        "}\n",
        "\n",
        "df = pd.DataFrame(schema)\n",
        "df"
      ],
      "execution_count": null,
      "outputs": []
    }
  ]
}