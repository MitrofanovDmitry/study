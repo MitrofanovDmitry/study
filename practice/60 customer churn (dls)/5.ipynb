{
 "cells": [
  {
   "cell_type": "code",
   "execution_count": 2,
   "id": "suburban-method",
   "metadata": {},
   "outputs": [],
   "source": [
    "import numpy as np\n",
    "import pandas as pd\n",
    "import seaborn as sns\n",
    "import matplotlib.pyplot as plt"
   ]
  },
  {
   "cell_type": "code",
   "execution_count": 1,
   "id": "middle-hawaii",
   "metadata": {},
   "outputs": [],
   "source": [
    "num_cols = [\n",
    "    'ClientPeriod',\n",
    "    'MonthlySpending',\n",
    "    'TotalSpent'\n",
    "]\n",
    "\n",
    "cat_cols = [\n",
    "    'Sex',\n",
    "    'IsSeniorCitizen',\n",
    "    'HasPartner',\n",
    "    'HasChild',\n",
    "    'HasPhoneService',\n",
    "    'HasMultiplePhoneNumbers',\n",
    "    'HasInternetService',\n",
    "    'HasOnlineSecurityService',\n",
    "    'HasOnlineBackup',\n",
    "    'HasDeviceProtection',\n",
    "    'HasTechSupportAccess',\n",
    "    'HasOnlineTV',\n",
    "    'HasMovieSubscription',\n",
    "    'HasContractPhone',\n",
    "    'IsBillingPaperless',\n",
    "    'PaymentMethod'\n",
    "]\n",
    "\n",
    "target_col = 'Churn'"
   ]
  },
  {
   "cell_type": "code",
   "execution_count": 130,
   "id": "floppy-landing",
   "metadata": {},
   "outputs": [],
   "source": [
    "# loading data\n",
    "test_data = pd.read_csv('./test.csv')\n",
    "train_data = pd.read_csv('./train.csv')"
   ]
  },
  {
   "cell_type": "code",
   "execution_count": 131,
   "id": "incorporate-crawford",
   "metadata": {},
   "outputs": [
    {
     "name": "stdout",
     "output_type": "stream",
     "text": [
      "26.2% class 1 (target)\n"
     ]
    }
   ],
   "source": [
    "# imbalanced classes (but not too much)\n",
    "print(f'{train_data[target_col].mean() * 100:.1f}% class 1 (target)')"
   ]
  },
  {
   "cell_type": "code",
   "execution_count": 132,
   "id": "innovative-honduras",
   "metadata": {},
   "outputs": [
    {
     "name": "stdout",
     "output_type": "stream",
     "text": [
      "cat_cols_na: 0, 0 (train, test)\n"
     ]
    }
   ],
   "source": [
    "# no missing values in categorical features\n",
    "test_cat_na = test_data[cat_cols].isna().sum().sum()\n",
    "train_cat_na = train_data[cat_cols].isna().sum().sum()\n",
    "print(f'cat_cols_na: {train_cat_na}, {test_cat_na} (train, test)')"
   ]
  },
  {
   "cell_type": "code",
   "execution_count": 133,
   "id": "secondary-bandwidth",
   "metadata": {},
   "outputs": [
    {
     "data": {
      "text/html": [
       "<div>\n",
       "<style scoped>\n",
       "    .dataframe tbody tr th:only-of-type {\n",
       "        vertical-align: middle;\n",
       "    }\n",
       "\n",
       "    .dataframe tbody tr th {\n",
       "        vertical-align: top;\n",
       "    }\n",
       "\n",
       "    .dataframe thead th {\n",
       "        text-align: right;\n",
       "    }\n",
       "</style>\n",
       "<table border=\"1\" class=\"dataframe\">\n",
       "  <thead>\n",
       "    <tr style=\"text-align: right;\">\n",
       "      <th></th>\n",
       "      <th>dtype</th>\n",
       "      <th>na</th>\n",
       "      <th>zero</th>\n",
       "    </tr>\n",
       "  </thead>\n",
       "  <tbody>\n",
       "    <tr>\n",
       "      <th>ClientPeriod</th>\n",
       "      <td>int64</td>\n",
       "      <td>0</td>\n",
       "      <td>9</td>\n",
       "    </tr>\n",
       "    <tr>\n",
       "      <th>MonthlySpending</th>\n",
       "      <td>float64</td>\n",
       "      <td>0</td>\n",
       "      <td>0</td>\n",
       "    </tr>\n",
       "    <tr>\n",
       "      <th>TotalSpent</th>\n",
       "      <td>object</td>\n",
       "      <td>0</td>\n",
       "      <td>0</td>\n",
       "    </tr>\n",
       "    <tr>\n",
       "      <th>TotalSpent_float</th>\n",
       "      <td>float64</td>\n",
       "      <td>9</td>\n",
       "      <td>0</td>\n",
       "    </tr>\n",
       "  </tbody>\n",
       "</table>\n",
       "</div>"
      ],
      "text/plain": [
       "                    dtype  na  zero\n",
       "ClientPeriod        int64   0     9\n",
       "MonthlySpending   float64   0     0\n",
       "TotalSpent         object   0     0\n",
       "TotalSpent_float  float64   9     0"
      ]
     },
     "execution_count": 133,
     "metadata": {},
     "output_type": "execute_result"
    }
   ],
   "source": [
    "# Numerical Features (train)\n",
    "# TotalSpent: wrong dtype\n",
    "# TotalSpent: 9 missing values\n",
    "# ClientPeriod: 9 zeros (missing values)\n",
    "data = train_data[num_cols].copy()\n",
    "data['TotalSpent_float'] = pd.to_numeric(data['TotalSpent'], errors='coerce')\n",
    "pd.DataFrame({'dtype': data.dtypes, 'na': data.isna().sum(), 'zero': (data == 0).sum()})"
   ]
  },
  {
   "cell_type": "code",
   "execution_count": 134,
   "id": "aging-saturday",
   "metadata": {},
   "outputs": [
    {
     "data": {
      "text/html": [
       "<div>\n",
       "<style scoped>\n",
       "    .dataframe tbody tr th:only-of-type {\n",
       "        vertical-align: middle;\n",
       "    }\n",
       "\n",
       "    .dataframe tbody tr th {\n",
       "        vertical-align: top;\n",
       "    }\n",
       "\n",
       "    .dataframe thead th {\n",
       "        text-align: right;\n",
       "    }\n",
       "</style>\n",
       "<table border=\"1\" class=\"dataframe\">\n",
       "  <thead>\n",
       "    <tr style=\"text-align: right;\">\n",
       "      <th></th>\n",
       "      <th>dtype</th>\n",
       "      <th>na</th>\n",
       "      <th>zero</th>\n",
       "    </tr>\n",
       "  </thead>\n",
       "  <tbody>\n",
       "    <tr>\n",
       "      <th>ClientPeriod</th>\n",
       "      <td>int64</td>\n",
       "      <td>0</td>\n",
       "      <td>2</td>\n",
       "    </tr>\n",
       "    <tr>\n",
       "      <th>MonthlySpending</th>\n",
       "      <td>float64</td>\n",
       "      <td>0</td>\n",
       "      <td>0</td>\n",
       "    </tr>\n",
       "    <tr>\n",
       "      <th>TotalSpent</th>\n",
       "      <td>object</td>\n",
       "      <td>0</td>\n",
       "      <td>0</td>\n",
       "    </tr>\n",
       "    <tr>\n",
       "      <th>TotalSpent_float</th>\n",
       "      <td>float64</td>\n",
       "      <td>2</td>\n",
       "      <td>0</td>\n",
       "    </tr>\n",
       "  </tbody>\n",
       "</table>\n",
       "</div>"
      ],
      "text/plain": [
       "                    dtype  na  zero\n",
       "ClientPeriod        int64   0     2\n",
       "MonthlySpending   float64   0     0\n",
       "TotalSpent         object   0     0\n",
       "TotalSpent_float  float64   2     0"
      ]
     },
     "execution_count": 134,
     "metadata": {},
     "output_type": "execute_result"
    }
   ],
   "source": [
    "# Numerical Features (test)\n",
    "# TotalSpent: wrong dtype\n",
    "# TotalSpent: 2 missing values\n",
    "# ClientPeriod: 2 zeros (missing values)\n",
    "data = test_data[num_cols].copy()\n",
    "data['TotalSpent_float'] = pd.to_numeric(data['TotalSpent'], errors='coerce')\n",
    "pd.DataFrame({'dtype': data.dtypes, 'na': data.isna().sum(), 'zero': (data == 0).sum()})"
   ]
  },
  {
   "cell_type": "code",
   "execution_count": 135,
   "id": "threatened-tuner",
   "metadata": {},
   "outputs": [
    {
     "data": {
      "text/html": [
       "<div>\n",
       "<style scoped>\n",
       "    .dataframe tbody tr th:only-of-type {\n",
       "        vertical-align: middle;\n",
       "    }\n",
       "\n",
       "    .dataframe tbody tr th {\n",
       "        vertical-align: top;\n",
       "    }\n",
       "\n",
       "    .dataframe thead th {\n",
       "        text-align: right;\n",
       "    }\n",
       "</style>\n",
       "<table border=\"1\" class=\"dataframe\">\n",
       "  <thead>\n",
       "    <tr style=\"text-align: right;\">\n",
       "      <th></th>\n",
       "      <th>size</th>\n",
       "      <th>mean</th>\n",
       "      <th>median</th>\n",
       "      <th>mode</th>\n",
       "      <th>std</th>\n",
       "      <th>na</th>\n",
       "      <th>zero</th>\n",
       "    </tr>\n",
       "    <tr>\n",
       "      <th>HasContractPhone</th>\n",
       "      <th></th>\n",
       "      <th></th>\n",
       "      <th></th>\n",
       "      <th></th>\n",
       "      <th></th>\n",
       "      <th></th>\n",
       "      <th></th>\n",
       "    </tr>\n",
       "  </thead>\n",
       "  <tbody>\n",
       "    <tr>\n",
       "      <th>Month-to-month</th>\n",
       "      <td>2920</td>\n",
       "      <td>18.147603</td>\n",
       "      <td>12</td>\n",
       "      <td>1</td>\n",
       "      <td>17.684934</td>\n",
       "      <td>0</td>\n",
       "      <td>0</td>\n",
       "    </tr>\n",
       "    <tr>\n",
       "      <th>One year</th>\n",
       "      <td>1082</td>\n",
       "      <td>41.929760</td>\n",
       "      <td>44</td>\n",
       "      <td>53</td>\n",
       "      <td>18.891057</td>\n",
       "      <td>0</td>\n",
       "      <td>1</td>\n",
       "    </tr>\n",
       "    <tr>\n",
       "      <th>Two year</th>\n",
       "      <td>1280</td>\n",
       "      <td>56.845312</td>\n",
       "      <td>65</td>\n",
       "      <td>72</td>\n",
       "      <td>18.291818</td>\n",
       "      <td>0</td>\n",
       "      <td>8</td>\n",
       "    </tr>\n",
       "  </tbody>\n",
       "</table>\n",
       "</div>"
      ],
      "text/plain": [
       "                  size       mean  median  mode        std  na  zero\n",
       "HasContractPhone                                                    \n",
       "Month-to-month    2920  18.147603      12     1  17.684934   0     0\n",
       "One year          1082  41.929760      44    53  18.891057   0     1\n",
       "Two year          1280  56.845312      65    72  18.291818   0     8"
      ]
     },
     "metadata": {},
     "output_type": "display_data"
    },
    {
     "data": {
      "text/html": [
       "<div>\n",
       "<style scoped>\n",
       "    .dataframe tbody tr th:only-of-type {\n",
       "        vertical-align: middle;\n",
       "    }\n",
       "\n",
       "    .dataframe tbody tr th {\n",
       "        vertical-align: top;\n",
       "    }\n",
       "\n",
       "    .dataframe thead th {\n",
       "        text-align: right;\n",
       "    }\n",
       "</style>\n",
       "<table border=\"1\" class=\"dataframe\">\n",
       "  <thead>\n",
       "    <tr style=\"text-align: right;\">\n",
       "      <th></th>\n",
       "      <th>size</th>\n",
       "      <th>mean</th>\n",
       "      <th>median</th>\n",
       "      <th>mode</th>\n",
       "      <th>std</th>\n",
       "      <th>na</th>\n",
       "      <th>zero</th>\n",
       "    </tr>\n",
       "    <tr>\n",
       "      <th>HasContractPhone</th>\n",
       "      <th></th>\n",
       "      <th></th>\n",
       "      <th></th>\n",
       "      <th></th>\n",
       "      <th></th>\n",
       "      <th></th>\n",
       "      <th></th>\n",
       "    </tr>\n",
       "  </thead>\n",
       "  <tbody>\n",
       "    <tr>\n",
       "      <th>Month-to-month</th>\n",
       "      <td>955</td>\n",
       "      <td>17.697382</td>\n",
       "      <td>12</td>\n",
       "      <td>1</td>\n",
       "      <td>17.706599</td>\n",
       "      <td>0</td>\n",
       "      <td>0</td>\n",
       "    </tr>\n",
       "    <tr>\n",
       "      <th>One year</th>\n",
       "      <td>391</td>\n",
       "      <td>42.363171</td>\n",
       "      <td>44</td>\n",
       "      <td>69</td>\n",
       "      <td>19.452007</td>\n",
       "      <td>0</td>\n",
       "      <td>0</td>\n",
       "    </tr>\n",
       "    <tr>\n",
       "      <th>Two year</th>\n",
       "      <td>415</td>\n",
       "      <td>56.395181</td>\n",
       "      <td>63</td>\n",
       "      <td>72</td>\n",
       "      <td>17.970265</td>\n",
       "      <td>0</td>\n",
       "      <td>2</td>\n",
       "    </tr>\n",
       "  </tbody>\n",
       "</table>\n",
       "</div>"
      ],
      "text/plain": [
       "                  size       mean  median  mode        std  na  zero\n",
       "HasContractPhone                                                    \n",
       "Month-to-month     955  17.697382      12     1  17.706599   0     0\n",
       "One year           391  42.363171      44    69  19.452007   0     0\n",
       "Two year           415  56.395181      63    72  17.970265   0     2"
      ]
     },
     "metadata": {},
     "output_type": "display_data"
    },
    {
     "data": {
      "image/png": "[encoded data removed]",
      "text/plain": [
       "<Figure size 576x72 with 3 Axes>"
      ]
     },
     "metadata": {
      "needs_background": "light"
     },
     "output_type": "display_data"
    },
    {
     "data": {
      "image/png": "[encoded data removed]",
      "text/plain": [
       "<Figure size 576x72 with 3 Axes>"
      ]
     },
     "metadata": {
      "needs_background": "light"
     },
     "output_type": "display_data"
    }
   ],
   "source": [
    "# ClientPeriod: choosing strategy for filling zeros\n",
    "# 'HasContractPhone': min std within groups\n",
    "# We can fill missing values with median of each group\n",
    "def na(x): return x.isnull().sum()\n",
    "def zero(x): return (x == 0).sum()\n",
    "def mode(x): return x.value_counts().index[0]\n",
    "agg_funcs = ('size','mean','median',mode,'std',na,zero)\n",
    "display(train_data.groupby('HasContractPhone')['ClientPeriod'].agg(agg_funcs))\n",
    "display(test_data.groupby('HasContractPhone')['ClientPeriod'].agg(agg_funcs))\n",
    "train_data.hist(column='ClientPeriod', by='HasContractPhone', layout=(1,3), figsize=(8,1))\n",
    "test_data.hist(column='ClientPeriod', by='HasContractPhone', layout=(1,3), figsize=(8,1));"
   ]
  },
  {
   "cell_type": "code",
   "execution_count": 136,
   "id": "breathing-vietnamese",
   "metadata": {},
   "outputs": [],
   "source": [
    "def check_filling_zeros(data):\n",
    "    # x.mean(), x.median(), stats.mode(x)[0][0]\n",
    "    replace = lambda x: x.replace(0, x.median())\n",
    "    idx = data[data['ClientPeriod'] == 0].index\n",
    "    data['ClientPeriod'] = data.groupby('HasContractPhone')['ClientPeriod'].apply(replace)\n",
    "    display(data.loc[idx,['ClientPeriod','HasContractPhone']])"
   ]
  },
  {
   "cell_type": "code",
   "execution_count": 140,
   "id": "competitive-nature",
   "metadata": {},
   "outputs": [
    {
     "data": {
      "text/html": [
       "<div>\n",
       "<style scoped>\n",
       "    .dataframe tbody tr th:only-of-type {\n",
       "        vertical-align: middle;\n",
       "    }\n",
       "\n",
       "    .dataframe tbody tr th {\n",
       "        vertical-align: top;\n",
       "    }\n",
       "\n",
       "    .dataframe thead th {\n",
       "        text-align: right;\n",
       "    }\n",
       "</style>\n",
       "<table border=\"1\" class=\"dataframe\">\n",
       "  <thead>\n",
       "    <tr style=\"text-align: right;\">\n",
       "      <th></th>\n",
       "      <th>ClientPeriod</th>\n",
       "      <th>HasContractPhone</th>\n",
       "    </tr>\n",
       "  </thead>\n",
       "  <tbody>\n",
       "    <tr>\n",
       "      <th>1048</th>\n",
       "      <td>65.0</td>\n",
       "      <td>Two year</td>\n",
       "    </tr>\n",
       "    <tr>\n",
       "      <th>1707</th>\n",
       "      <td>65.0</td>\n",
       "      <td>Two year</td>\n",
       "    </tr>\n",
       "    <tr>\n",
       "      <th>2543</th>\n",
       "      <td>44.0</td>\n",
       "      <td>One year</td>\n",
       "    </tr>\n",
       "    <tr>\n",
       "      <th>3078</th>\n",
       "      <td>65.0</td>\n",
       "      <td>Two year</td>\n",
       "    </tr>\n",
       "    <tr>\n",
       "      <th>3697</th>\n",
       "      <td>65.0</td>\n",
       "      <td>Two year</td>\n",
       "    </tr>\n",
       "    <tr>\n",
       "      <th>4002</th>\n",
       "      <td>65.0</td>\n",
       "      <td>Two year</td>\n",
       "    </tr>\n",
       "    <tr>\n",
       "      <th>4326</th>\n",
       "      <td>65.0</td>\n",
       "      <td>Two year</td>\n",
       "    </tr>\n",
       "    <tr>\n",
       "      <th>4551</th>\n",
       "      <td>65.0</td>\n",
       "      <td>Two year</td>\n",
       "    </tr>\n",
       "    <tr>\n",
       "      <th>4598</th>\n",
       "      <td>65.0</td>\n",
       "      <td>Two year</td>\n",
       "    </tr>\n",
       "  </tbody>\n",
       "</table>\n",
       "</div>"
      ],
      "text/plain": [
       "      ClientPeriod HasContractPhone\n",
       "1048          65.0         Two year\n",
       "1707          65.0         Two year\n",
       "2543          44.0         One year\n",
       "3078          65.0         Two year\n",
       "3697          65.0         Two year\n",
       "4002          65.0         Two year\n",
       "4326          65.0         Two year\n",
       "4551          65.0         Two year\n",
       "4598          65.0         Two year"
      ]
     },
     "metadata": {},
     "output_type": "display_data"
    }
   ],
   "source": [
    "# ClientPeriod: checking strategy (train)\n",
    "check_filling_zeros(train_data.copy())"
   ]
  },
  {
   "cell_type": "code",
   "execution_count": 139,
   "id": "indie-bikini",
   "metadata": {},
   "outputs": [
    {
     "data": {
      "text/html": [
       "<div>\n",
       "<style scoped>\n",
       "    .dataframe tbody tr th:only-of-type {\n",
       "        vertical-align: middle;\n",
       "    }\n",
       "\n",
       "    .dataframe tbody tr th {\n",
       "        vertical-align: top;\n",
       "    }\n",
       "\n",
       "    .dataframe thead th {\n",
       "        text-align: right;\n",
       "    }\n",
       "</style>\n",
       "<table border=\"1\" class=\"dataframe\">\n",
       "  <thead>\n",
       "    <tr style=\"text-align: right;\">\n",
       "      <th></th>\n",
       "      <th>ClientPeriod</th>\n",
       "      <th>HasContractPhone</th>\n",
       "    </tr>\n",
       "  </thead>\n",
       "  <tbody>\n",
       "    <tr>\n",
       "      <th>177</th>\n",
       "      <td>63.0</td>\n",
       "      <td>Two year</td>\n",
       "    </tr>\n",
       "    <tr>\n",
       "      <th>767</th>\n",
       "      <td>63.0</td>\n",
       "      <td>Two year</td>\n",
       "    </tr>\n",
       "  </tbody>\n",
       "</table>\n",
       "</div>"
      ],
      "text/plain": [
       "     ClientPeriod HasContractPhone\n",
       "177          63.0         Two year\n",
       "767          63.0         Two year"
      ]
     },
     "metadata": {},
     "output_type": "display_data"
    }
   ],
   "source": [
    "# ClientPeriod: checking strategy (test)\n",
    "check_filling_zeros(test_data.copy())"
   ]
  },
  {
   "cell_type": "code",
   "execution_count": 153,
   "id": "contrary-river",
   "metadata": {},
   "outputs": [
    {
     "data": {
      "image/png": "[encoded data removed]",
      "text/plain": [
       "<Figure size 1080x144 with 3 Axes>"
      ]
     },
     "metadata": {
      "needs_background": "light"
     },
     "output_type": "display_data"
    },
    {
     "data": {
      "image/png": "[encoded data removed]",
      "text/plain": [
       "<Figure size 1080x144 with 3 Axes>"
      ]
     },
     "metadata": {
      "needs_background": "light"
     },
     "output_type": "display_data"
    }
   ],
   "source": [
    "# MonthlySpending: multimodal normal distribution\n",
    "# We can cut this feature accordingly into bins\n",
    "\n",
    "def show_num_distributions(data):\n",
    "    data['TotalSpent'] = pd.to_numeric(data['TotalSpent'], errors='coerce')\n",
    "    fig, axes = plt.subplots(1,3,figsize=(15,2))\n",
    "    sns.histplot(data['MonthlySpending'], bins=250, ax=axes[0])\n",
    "    sns.histplot(data['ClientPeriod'], bins=30, ax=axes[1])\n",
    "    sns.histplot(data['TotalSpent'], bins=30, ax=axes[2]);\n",
    "\n",
    "show_num_distributions(train_data.copy())\n",
    "show_num_distributions(test_data.copy())"
   ]
  },
  {
   "cell_type": "code",
   "execution_count": 117,
   "id": "tamil-driver",
   "metadata": {},
   "outputs": [
    {
     "data": {
      "image/png": "[encoded data removed]",
      "text/plain": [
       "<Figure size 864x216 with 3 Axes>"
      ]
     },
     "metadata": {
      "needs_background": "light"
     },
     "output_type": "display_data"
    }
   ],
   "source": [
    "# Looking for outliers\n",
    "# ClientPeriod: there are some (Churn = 1)\n",
    "# TotalSpent: there are some (Churn = 1)\n",
    "fig, axes = plt.subplots(1,3,figsize=(12,3))\n",
    "train_data['TotalSpent'] = pd.to_numeric(train_data['TotalSpent'], errors='coerce')\n",
    "sns.boxplot(x='Churn', y='MonthlySpending', data=train_data, ax=axes.flat[0])\n",
    "sns.boxplot(x='Churn', y='ClientPeriod', data=train_data, ax=axes.flat[1])\n",
    "sns.boxplot(x='Churn', y='TotalSpent', data=train_data, ax=axes.flat[2]);"
   ]
  },
  {
   "cell_type": "code",
   "execution_count": 106,
   "id": "sublime-video",
   "metadata": {},
   "outputs": [],
   "source": [
    "def check_outliers(c):\n",
    "    Q1 = c.quantile(0.25)\n",
    "    Q3 = c.quantile(0.75)\n",
    "    IQR = Q3 - Q1\n",
    "    low = Q1 - 1.5 * IQR\n",
    "    high = Q3 + 1.5 * IQR\n",
    "    print(f'Q1: {Q1:.2f}, Q3: {Q3:.2f}, IQR: {IQR:.2f}')\n",
    "    print(f'low: {low:.2f}, high: {high:.2f}')\n",
    "    print(f'outliers: {((c < low) | (c > high)).sum()}')"
   ]
  },
  {
   "cell_type": "code",
   "execution_count": 113,
   "id": "prerequisite-insured",
   "metadata": {},
   "outputs": [
    {
     "name": "stdout",
     "output_type": "stream",
     "text": [
      "Q1: 2.00, Q3: 29.00, IQR: 27.00\n",
      "low: -38.50, high: 69.50\n",
      "outliers: 18\n"
     ]
    }
   ],
   "source": [
    "check_outliers(train_data[train_data['Churn'] == 1]['ClientPeriod'])"
   ]
  },
  {
   "cell_type": "code",
   "execution_count": 104,
   "id": "cutting-candy",
   "metadata": {},
   "outputs": [
    {
     "name": "stdout",
     "output_type": "stream",
     "text": [
      "Q1: 134.65, Q3: 2352.55, IQR: 2217.90\n",
      "low: -3192.20, high: 5679.40\n",
      "outliers: 74\n"
     ]
    }
   ],
   "source": [
    "check_outliers(train_data[train_data['Churn'] == 1]['TotalSpent'])"
   ]
  },
  {
   "cell_type": "code",
   "execution_count": 110,
   "id": "exceptional-million",
   "metadata": {},
   "outputs": [
    {
     "data": {
      "text/plain": [
       "(18, 20)"
      ]
     },
     "execution_count": 110,
     "metadata": {},
     "output_type": "execute_result"
    }
   ],
   "source": [
    "train_data[(train_data['ClientPeriod'] > 69.5) & (train_data['Churn'] == 1)].shape"
   ]
  },
  {
   "cell_type": "code",
   "execution_count": 111,
   "id": "another-battle",
   "metadata": {},
   "outputs": [
    {
     "data": {
      "text/plain": [
       "(74, 20)"
      ]
     },
     "execution_count": 111,
     "metadata": {},
     "output_type": "execute_result"
    }
   ],
   "source": [
    "train_data[(train_data['TotalSpent'] > 5679.4) & (train_data['Churn'] == 1)].shape"
   ]
  }
 ],
 "metadata": {
  "kernelspec": {
   "display_name": "Python 3",
   "language": "python",
   "name": "python3"
  },
  "language_info": {
   "codemirror_mode": {
    "name": "ipython",
    "version": 3
   },
   "file_extension": ".py",
   "mimetype": "text/x-python",
   "name": "python",
   "nbconvert_exporter": "python",
   "pygments_lexer": "ipython3",
   "version": "3.9.2"
  }
 },
 "nbformat": 4,
 "nbformat_minor": 5
}
