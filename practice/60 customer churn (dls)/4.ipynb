{
 "cells": [
  {
   "cell_type": "markdown",
   "id": "australian-disaster",
   "metadata": {},
   "source": [
    "https://stepik.org/lesson/501479/step/1?unit=493164  \n",
    "https://drive.google.com/drive/folders/15UoRIwvCOZ-6c624m5NTDfbFizOs-C0N  \n",
    "https://www.kaggle.com/c/advanced-dls-spring-2021/  \n",
    "\n",
    "https://github.com/yurkai/churn/blob/master/week07.ipynb  \n",
    "https://www.kaggle.com/chrisbss1/cramer-s-v-correlation-matrix  \n",
    "https://github.com/yurkai/churn/blob/master/week07.ipynb  \n",
    "https://stackoverflow.com/questions/52356473/how-to-print-categories-in-pandas-cut  \n",
    "https://stackoverflow.com/questions/44511636/matplotlib-plot-feature-importance-with-feature-names  \n",
    "https://stackoverflow.com/questions/23455728/scikit-learn-balanced-subsampling  "
   ]
  },
  {
   "cell_type": "code",
   "execution_count": 4,
   "id": "reported-router",
   "metadata": {},
   "outputs": [],
   "source": [
    "import numpy as np\n",
    "import pandas as pd\n",
    "import seaborn as sns\n",
    "from scipy import stats\n",
    "import matplotlib.pyplot as plt\n",
    "from catboost import CatBoostClassifier\n",
    "from sklearn.pipeline import Pipeline\n",
    "from sklearn.compose import ColumnTransformer\n",
    "from sklearn.preprocessing import StandardScaler\n",
    "from sklearn.preprocessing import OneHotEncoder\n",
    "from sklearn.metrics import roc_auc_score\n",
    "from sklearn.model_selection import cross_val_score\n",
    "from sklearn.model_selection import train_test_split\n",
    "from sklearn.model_selection import StratifiedKFold\n",
    "from sklearn.model_selection import KFold\n",
    "from sklearn.model_selection import GridSearchCV\n",
    "from sklearn.linear_model import LogisticRegression\n",
    "from sklearn.ensemble import RandomForestClassifier\n",
    "from sklearn.neighbors import KNeighborsClassifier\n",
    "from sklearn.metrics import confusion_matrix\n",
    "from sklearn.metrics import accuracy_score\n",
    "from sklearn.metrics import f1_score\n",
    "from sklearn.metrics import roc_curve\n",
    "from sklearn.metrics import precision_recall_curve\n",
    "from sklearn.preprocessing import PolynomialFeatures\n",
    "from sklearn.preprocessing import KBinsDiscretizer\n",
    "from sklearn.impute import SimpleImputer\n",
    "from sklearn.preprocessing import FunctionTransformer"
   ]
  },
  {
   "cell_type": "code",
   "execution_count": null,
   "id": "amended-realtor",
   "metadata": {},
   "outputs": [],
   "source": [
    "coef = np.abs(model['clf'].coef_[0])\n",
    "cols = model['pre'].transformers_[0][1].get_feature_names(feature_cols)\n",
    "idx = np.argsort(coef)\n",
    "cols = [cols[i] for i in idx]\n",
    "plt.figure(figsize=(6,4))\n",
    "plt.barh(cols, np.abs(coef)[idx]);"
   ]
  },
  {
   "cell_type": "code",
   "execution_count": 5,
   "id": "parental-encounter",
   "metadata": {},
   "outputs": [],
   "source": [
    "num_cols = [\n",
    "    'ClientPeriod',\n",
    "    'MonthlySpending',\n",
    "    'TotalSpent'\n",
    "]\n",
    "\n",
    "cat_cols = [\n",
    "    'Sex',\n",
    "    'IsSeniorCitizen',\n",
    "    'HasPartner',\n",
    "    'HasChild',\n",
    "    'HasPhoneService',\n",
    "    'HasMultiplePhoneNumbers',\n",
    "    'HasInternetService',\n",
    "    'HasOnlineSecurityService',\n",
    "    'HasOnlineBackup',\n",
    "    'HasDeviceProtection',\n",
    "    'HasTechSupportAccess',\n",
    "    'HasOnlineTV',\n",
    "    'HasMovieSubscription',\n",
    "    'HasContractPhone',\n",
    "    'IsBillingPaperless',\n",
    "    'PaymentMethod'\n",
    "]\n",
    "\n",
    "target_col = 'Churn'"
   ]
  },
  {
   "cell_type": "code",
   "execution_count": 43,
   "id": "faced-mobility",
   "metadata": {
    "scrolled": false
   },
   "outputs": [
    {
     "name": "stdout",
     "output_type": "stream",
     "text": [
      "Sex: ['Male' 'Female']\n",
      "IsSeniorCitizen: [0 1]\n",
      "HasPartner: ['Yes' 'No']\n",
      "HasChild: ['Yes' 'No']\n",
      "HasPhoneService: ['Yes' 'No']\n",
      "HasMultiplePhoneNumbers: ['No' 'Yes' 'No phone service']\n",
      "HasInternetService: ['No' 'Fiber optic' 'DSL']\n",
      "HasOnlineSecurityService: ['No internet service' 'No' 'Yes']\n",
      "HasOnlineBackup: ['No internet service' 'No' 'Yes']\n",
      "HasDeviceProtection: ['No internet service' 'No' 'Yes']\n",
      "HasTechSupportAccess: ['No internet service' 'Yes' 'No']\n",
      "HasOnlineTV: ['No internet service' 'No' 'Yes']\n",
      "HasMovieSubscription: ['No internet service' 'No' 'Yes']\n",
      "HasContractPhone: ['One year' 'Two year' 'Month-to-month']\n",
      "IsBillingPaperless: ['No' 'Yes']\n",
      "PaymentMethod: ['Mailed check' 'Credit card (automatic)' 'Electronic check'\n",
      " 'Bank transfer (automatic)']\n"
     ]
    }
   ],
   "source": [
    "# no missing values in cat_cols (the same for test.csv)\n",
    "data = pd.read_csv('./train.csv')\n",
    "for c in cat_cols: print(f'{c}: {data[c].unique()}')"
   ]
  },
  {
   "cell_type": "code",
   "execution_count": 94,
   "id": "known-gregory",
   "metadata": {},
   "outputs": [
    {
     "data": {
      "text/plain": [
       "(22,)"
      ]
     },
     "execution_count": 94,
     "metadata": {},
     "output_type": "execute_result"
    }
   ],
   "source": [
    "np.arange(17.5,125,5).shape"
   ]
  },
  {
   "cell_type": "code",
   "execution_count": 107,
   "id": "flexible-heritage",
   "metadata": {},
   "outputs": [],
   "source": [
    "def create_age_bins(col):\n",
    "\n",
    "    # Defining / instantiating the necessary variables\n",
    "    age_bins = np.arange(17.5,125,5)\n",
    "    age_labels = range(len(age_bins))\n",
    "    age_imputer = SimpleImputer(strategy = 'median')\n",
    "    age_ohe = OneHotEncoder()\n",
    "\n",
    "    # Performing basic imputation for nulls\n",
    "    imputed = age_imputer.fit_transform(col)\n",
    "    ages_filled = pd.DataFrame(data = imputed, columns = ['MonthlySpending'])\n",
    "\n",
    "    # Segregating ages into age bins\n",
    "    age_cat_cols = pd.cut(ages_filled['MonthlySpending'], bins = age_bins, labels = age_labels)\n",
    "    age_cats = pd.DataFrame(data = age_cat_cols, columns = ['MonthlySpending'])\n",
    "\n",
    "    # One hot encoding new age bins\n",
    "    ages_encoded = age_ohe.fit_transform(age_cats[['MonthlySpending']])\n",
    "    ages_encoded = pd.DataFrame(data = ages_encoded.toarray())\n",
    "\n",
    "    return ages_encoded"
   ]
  },
  {
   "cell_type": "code",
   "execution_count": 169,
   "id": "pressed-auction",
   "metadata": {},
   "outputs": [
    {
     "data": {
      "text/html": [
       "<div>\n",
       "<style scoped>\n",
       "    .dataframe tbody tr th:only-of-type {\n",
       "        vertical-align: middle;\n",
       "    }\n",
       "\n",
       "    .dataframe tbody tr th {\n",
       "        vertical-align: top;\n",
       "    }\n",
       "\n",
       "    .dataframe thead th {\n",
       "        text-align: right;\n",
       "    }\n",
       "</style>\n",
       "<table border=\"1\" class=\"dataframe\">\n",
       "  <thead>\n",
       "    <tr style=\"text-align: right;\">\n",
       "      <th></th>\n",
       "      <th>0</th>\n",
       "      <th>1</th>\n",
       "      <th>2</th>\n",
       "      <th>3</th>\n",
       "      <th>4</th>\n",
       "      <th>5</th>\n",
       "      <th>6</th>\n",
       "      <th>7</th>\n",
       "      <th>8</th>\n",
       "      <th>9</th>\n",
       "      <th>...</th>\n",
       "      <th>11</th>\n",
       "      <th>12</th>\n",
       "      <th>13</th>\n",
       "      <th>14</th>\n",
       "      <th>15</th>\n",
       "      <th>16</th>\n",
       "      <th>17</th>\n",
       "      <th>18</th>\n",
       "      <th>19</th>\n",
       "      <th>20</th>\n",
       "    </tr>\n",
       "  </thead>\n",
       "  <tbody>\n",
       "    <tr>\n",
       "      <th>0</th>\n",
       "      <td>1.0</td>\n",
       "      <td>0.0</td>\n",
       "      <td>0.0</td>\n",
       "      <td>0.0</td>\n",
       "      <td>0.0</td>\n",
       "      <td>0.0</td>\n",
       "      <td>0.0</td>\n",
       "      <td>0.0</td>\n",
       "      <td>0.0</td>\n",
       "      <td>0.0</td>\n",
       "      <td>...</td>\n",
       "      <td>0.0</td>\n",
       "      <td>0.0</td>\n",
       "      <td>0.0</td>\n",
       "      <td>0.0</td>\n",
       "      <td>0.0</td>\n",
       "      <td>0.0</td>\n",
       "      <td>0.0</td>\n",
       "      <td>0.0</td>\n",
       "      <td>0.0</td>\n",
       "      <td>0.0</td>\n",
       "    </tr>\n",
       "    <tr>\n",
       "      <th>1</th>\n",
       "      <td>0.0</td>\n",
       "      <td>1.0</td>\n",
       "      <td>0.0</td>\n",
       "      <td>0.0</td>\n",
       "      <td>0.0</td>\n",
       "      <td>0.0</td>\n",
       "      <td>0.0</td>\n",
       "      <td>0.0</td>\n",
       "      <td>0.0</td>\n",
       "      <td>0.0</td>\n",
       "      <td>...</td>\n",
       "      <td>0.0</td>\n",
       "      <td>0.0</td>\n",
       "      <td>0.0</td>\n",
       "      <td>0.0</td>\n",
       "      <td>0.0</td>\n",
       "      <td>0.0</td>\n",
       "      <td>0.0</td>\n",
       "      <td>0.0</td>\n",
       "      <td>0.0</td>\n",
       "      <td>0.0</td>\n",
       "    </tr>\n",
       "    <tr>\n",
       "      <th>2</th>\n",
       "      <td>0.0</td>\n",
       "      <td>0.0</td>\n",
       "      <td>0.0</td>\n",
       "      <td>0.0</td>\n",
       "      <td>0.0</td>\n",
       "      <td>0.0</td>\n",
       "      <td>0.0</td>\n",
       "      <td>0.0</td>\n",
       "      <td>0.0</td>\n",
       "      <td>0.0</td>\n",
       "      <td>...</td>\n",
       "      <td>1.0</td>\n",
       "      <td>0.0</td>\n",
       "      <td>0.0</td>\n",
       "      <td>0.0</td>\n",
       "      <td>0.0</td>\n",
       "      <td>0.0</td>\n",
       "      <td>0.0</td>\n",
       "      <td>0.0</td>\n",
       "      <td>0.0</td>\n",
       "      <td>0.0</td>\n",
       "    </tr>\n",
       "    <tr>\n",
       "      <th>3</th>\n",
       "      <td>0.0</td>\n",
       "      <td>0.0</td>\n",
       "      <td>0.0</td>\n",
       "      <td>0.0</td>\n",
       "      <td>0.0</td>\n",
       "      <td>0.0</td>\n",
       "      <td>0.0</td>\n",
       "      <td>0.0</td>\n",
       "      <td>0.0</td>\n",
       "      <td>0.0</td>\n",
       "      <td>...</td>\n",
       "      <td>0.0</td>\n",
       "      <td>1.0</td>\n",
       "      <td>0.0</td>\n",
       "      <td>0.0</td>\n",
       "      <td>0.0</td>\n",
       "      <td>0.0</td>\n",
       "      <td>0.0</td>\n",
       "      <td>0.0</td>\n",
       "      <td>0.0</td>\n",
       "      <td>0.0</td>\n",
       "    </tr>\n",
       "    <tr>\n",
       "      <th>4</th>\n",
       "      <td>0.0</td>\n",
       "      <td>0.0</td>\n",
       "      <td>0.0</td>\n",
       "      <td>0.0</td>\n",
       "      <td>0.0</td>\n",
       "      <td>0.0</td>\n",
       "      <td>0.0</td>\n",
       "      <td>0.0</td>\n",
       "      <td>0.0</td>\n",
       "      <td>0.0</td>\n",
       "      <td>...</td>\n",
       "      <td>0.0</td>\n",
       "      <td>0.0</td>\n",
       "      <td>0.0</td>\n",
       "      <td>0.0</td>\n",
       "      <td>0.0</td>\n",
       "      <td>0.0</td>\n",
       "      <td>0.0</td>\n",
       "      <td>0.0</td>\n",
       "      <td>1.0</td>\n",
       "      <td>0.0</td>\n",
       "    </tr>\n",
       "    <tr>\n",
       "      <th>...</th>\n",
       "      <td>...</td>\n",
       "      <td>...</td>\n",
       "      <td>...</td>\n",
       "      <td>...</td>\n",
       "      <td>...</td>\n",
       "      <td>...</td>\n",
       "      <td>...</td>\n",
       "      <td>...</td>\n",
       "      <td>...</td>\n",
       "      <td>...</td>\n",
       "      <td>...</td>\n",
       "      <td>...</td>\n",
       "      <td>...</td>\n",
       "      <td>...</td>\n",
       "      <td>...</td>\n",
       "      <td>...</td>\n",
       "      <td>...</td>\n",
       "      <td>...</td>\n",
       "      <td>...</td>\n",
       "      <td>...</td>\n",
       "      <td>...</td>\n",
       "    </tr>\n",
       "    <tr>\n",
       "      <th>5277</th>\n",
       "      <td>0.0</td>\n",
       "      <td>0.0</td>\n",
       "      <td>1.0</td>\n",
       "      <td>0.0</td>\n",
       "      <td>0.0</td>\n",
       "      <td>0.0</td>\n",
       "      <td>0.0</td>\n",
       "      <td>0.0</td>\n",
       "      <td>0.0</td>\n",
       "      <td>0.0</td>\n",
       "      <td>...</td>\n",
       "      <td>0.0</td>\n",
       "      <td>0.0</td>\n",
       "      <td>0.0</td>\n",
       "      <td>0.0</td>\n",
       "      <td>0.0</td>\n",
       "      <td>0.0</td>\n",
       "      <td>0.0</td>\n",
       "      <td>0.0</td>\n",
       "      <td>0.0</td>\n",
       "      <td>0.0</td>\n",
       "    </tr>\n",
       "    <tr>\n",
       "      <th>5278</th>\n",
       "      <td>0.0</td>\n",
       "      <td>0.0</td>\n",
       "      <td>0.0</td>\n",
       "      <td>0.0</td>\n",
       "      <td>0.0</td>\n",
       "      <td>1.0</td>\n",
       "      <td>0.0</td>\n",
       "      <td>0.0</td>\n",
       "      <td>0.0</td>\n",
       "      <td>0.0</td>\n",
       "      <td>...</td>\n",
       "      <td>0.0</td>\n",
       "      <td>0.0</td>\n",
       "      <td>0.0</td>\n",
       "      <td>0.0</td>\n",
       "      <td>0.0</td>\n",
       "      <td>0.0</td>\n",
       "      <td>0.0</td>\n",
       "      <td>0.0</td>\n",
       "      <td>0.0</td>\n",
       "      <td>0.0</td>\n",
       "    </tr>\n",
       "    <tr>\n",
       "      <th>5279</th>\n",
       "      <td>0.0</td>\n",
       "      <td>0.0</td>\n",
       "      <td>0.0</td>\n",
       "      <td>0.0</td>\n",
       "      <td>0.0</td>\n",
       "      <td>0.0</td>\n",
       "      <td>0.0</td>\n",
       "      <td>1.0</td>\n",
       "      <td>0.0</td>\n",
       "      <td>0.0</td>\n",
       "      <td>...</td>\n",
       "      <td>0.0</td>\n",
       "      <td>0.0</td>\n",
       "      <td>0.0</td>\n",
       "      <td>0.0</td>\n",
       "      <td>0.0</td>\n",
       "      <td>0.0</td>\n",
       "      <td>0.0</td>\n",
       "      <td>0.0</td>\n",
       "      <td>0.0</td>\n",
       "      <td>0.0</td>\n",
       "    </tr>\n",
       "    <tr>\n",
       "      <th>5280</th>\n",
       "      <td>0.0</td>\n",
       "      <td>0.0</td>\n",
       "      <td>0.0</td>\n",
       "      <td>0.0</td>\n",
       "      <td>0.0</td>\n",
       "      <td>0.0</td>\n",
       "      <td>0.0</td>\n",
       "      <td>0.0</td>\n",
       "      <td>0.0</td>\n",
       "      <td>0.0</td>\n",
       "      <td>...</td>\n",
       "      <td>1.0</td>\n",
       "      <td>0.0</td>\n",
       "      <td>0.0</td>\n",
       "      <td>0.0</td>\n",
       "      <td>0.0</td>\n",
       "      <td>0.0</td>\n",
       "      <td>0.0</td>\n",
       "      <td>0.0</td>\n",
       "      <td>0.0</td>\n",
       "      <td>0.0</td>\n",
       "    </tr>\n",
       "    <tr>\n",
       "      <th>5281</th>\n",
       "      <td>0.0</td>\n",
       "      <td>0.0</td>\n",
       "      <td>0.0</td>\n",
       "      <td>0.0</td>\n",
       "      <td>0.0</td>\n",
       "      <td>0.0</td>\n",
       "      <td>0.0</td>\n",
       "      <td>0.0</td>\n",
       "      <td>0.0</td>\n",
       "      <td>0.0</td>\n",
       "      <td>...</td>\n",
       "      <td>1.0</td>\n",
       "      <td>0.0</td>\n",
       "      <td>0.0</td>\n",
       "      <td>0.0</td>\n",
       "      <td>0.0</td>\n",
       "      <td>0.0</td>\n",
       "      <td>0.0</td>\n",
       "      <td>0.0</td>\n",
       "      <td>0.0</td>\n",
       "      <td>0.0</td>\n",
       "    </tr>\n",
       "  </tbody>\n",
       "</table>\n",
       "<p>5282 rows × 21 columns</p>\n",
       "</div>"
      ],
      "text/plain": [
       "       0    1    2    3    4    5    6    7    8    9   ...   11   12   13  \\\n",
       "0     1.0  0.0  0.0  0.0  0.0  0.0  0.0  0.0  0.0  0.0  ...  0.0  0.0  0.0   \n",
       "1     0.0  1.0  0.0  0.0  0.0  0.0  0.0  0.0  0.0  0.0  ...  0.0  0.0  0.0   \n",
       "2     0.0  0.0  0.0  0.0  0.0  0.0  0.0  0.0  0.0  0.0  ...  1.0  0.0  0.0   \n",
       "3     0.0  0.0  0.0  0.0  0.0  0.0  0.0  0.0  0.0  0.0  ...  0.0  1.0  0.0   \n",
       "4     0.0  0.0  0.0  0.0  0.0  0.0  0.0  0.0  0.0  0.0  ...  0.0  0.0  0.0   \n",
       "...   ...  ...  ...  ...  ...  ...  ...  ...  ...  ...  ...  ...  ...  ...   \n",
       "5277  0.0  0.0  1.0  0.0  0.0  0.0  0.0  0.0  0.0  0.0  ...  0.0  0.0  0.0   \n",
       "5278  0.0  0.0  0.0  0.0  0.0  1.0  0.0  0.0  0.0  0.0  ...  0.0  0.0  0.0   \n",
       "5279  0.0  0.0  0.0  0.0  0.0  0.0  0.0  1.0  0.0  0.0  ...  0.0  0.0  0.0   \n",
       "5280  0.0  0.0  0.0  0.0  0.0  0.0  0.0  0.0  0.0  0.0  ...  1.0  0.0  0.0   \n",
       "5281  0.0  0.0  0.0  0.0  0.0  0.0  0.0  0.0  0.0  0.0  ...  1.0  0.0  0.0   \n",
       "\n",
       "       14   15   16   17   18   19   20  \n",
       "0     0.0  0.0  0.0  0.0  0.0  0.0  0.0  \n",
       "1     0.0  0.0  0.0  0.0  0.0  0.0  0.0  \n",
       "2     0.0  0.0  0.0  0.0  0.0  0.0  0.0  \n",
       "3     0.0  0.0  0.0  0.0  0.0  0.0  0.0  \n",
       "4     0.0  0.0  0.0  0.0  0.0  1.0  0.0  \n",
       "...   ...  ...  ...  ...  ...  ...  ...  \n",
       "5277  0.0  0.0  0.0  0.0  0.0  0.0  0.0  \n",
       "5278  0.0  0.0  0.0  0.0  0.0  0.0  0.0  \n",
       "5279  0.0  0.0  0.0  0.0  0.0  0.0  0.0  \n",
       "5280  0.0  0.0  0.0  0.0  0.0  0.0  0.0  \n",
       "5281  0.0  0.0  0.0  0.0  0.0  0.0  0.0  \n",
       "\n",
       "[5282 rows x 21 columns]"
      ]
     },
     "execution_count": 169,
     "metadata": {},
     "output_type": "execute_result"
    }
   ],
   "source": [
    "data = pd.read_csv('./train.csv')\n",
    "bins = np.arange(17.5,125,5)\n",
    "labels = range(len(bins)-1)\n",
    "pd.cut(data['MonthlySpending'], bins=bins, labels=labels)\n",
    "data['MonthlySpending'] = pd.cut(data['MonthlySpending'], bins=bins, labels=labels)\n",
    "pd.DataFrame(OneHotEncoder(handle_unknown='ignore').fit_transform(data[['MonthlySpending']]).toarray())"
   ]
  },
  {
   "cell_type": "code",
   "execution_count": 201,
   "id": "mexican-modem",
   "metadata": {},
   "outputs": [],
   "source": [
    "# https://towardsdatascience.com/data-science-quick-tip-004-using-custom-transformers-in-scikit-learn-pipelines-89c28c72f22a\n",
    "# ('0', StandardScaler(), ['MonthlySpending']),\n",
    "# ('0', SimpleImputer(missing_values=np.nan, strategy='most_frequent'), cat_cols),\n",
    "# df = pd.DataFrame(OneHotEncoder(handle_unknown='ignore').fit_transform(df[['MonthlySpending']]).toarray())\n",
    "# ('1', FunctionTransformer(cut_, kw_args={'bins': np.arange(17.5,125,5)}), ['MonthlySpending']),\n",
    "# ('2', OneHotEncoder(handle_unknown='ignore'), cat_cols + ['MonthlySpending']),\n",
    "\n",
    "def cut_(df, bins):\n",
    "    for c in df.columns:\n",
    "        df[c] = pd.cut(df[c], bins=bins, labels=range(len(bins)-1))\n",
    "    return df"
   ]
  },
  {
   "cell_type": "code",
   "execution_count": 252,
   "id": "adjustable-weight",
   "metadata": {},
   "outputs": [
    {
     "name": "stdout",
     "output_type": "stream",
     "text": [
      "train roc_auc score: 0.8446 (0.0301)\n",
      "test roc_auc score: 0.8496\n"
     ]
    }
   ],
   "source": [
    "data = pd.read_csv('./train.csv')\n",
    "train_data, test_data = train_test_split(data, test_size=0.2, stratify=data[target_col], random_state=42)\n",
    "\n",
    "preprocessor = ColumnTransformer([\n",
    "    # ('1', StandardScaler(), ['MonthlySpending']),\n",
    "    # ('1', KBinsDiscretizer(n_bins=11, encode='onehot', strategy='quantile'), ['MonthlySpending']),\n",
    "    ('1', FunctionTransformer(cut_, kw_args={'bins': np.arange(17.5,125,5)}), ['MonthlySpending']),\n",
    "    ('2', OneHotEncoder(handle_unknown='ignore'), cat_cols + ['MonthlySpending']),\n",
    "    # ('2', OneHotEncoder(handle_unknown='ignore'), cat_cols),\n",
    "    ('3', SimpleImputer(missing_values=0, strategy='median'), ['ClientPeriod']),\n",
    "    ('4', KBinsDiscretizer(n_bins=11, encode='onehot', strategy='quantile'), ['ClientPeriod'])\n",
    "])\n",
    "\n",
    "classifier = LogisticRegression(C=1, penalty='l1', solver='liblinear')\n",
    "model = Pipeline([('pre', preprocessor), ('clf', classifier)])\n",
    "\n",
    "feature_cols = cat_cols + ['ClientPeriod','MonthlySpending']\n",
    "shuffle = StratifiedKFold(n_splits=30, shuffle=True, random_state=42)\n",
    "s = cross_val_score(model, train_data[feature_cols], train_data[target_col], scoring='roc_auc', cv=shuffle)\n",
    "print(f'train roc_auc score: {s.mean():.4f} ({s.std():.4f})')\n",
    "\n",
    "model.fit(train_data[feature_cols], train_data[target_col])\n",
    "score = roc_auc_score(test_data[target_col], model.predict_proba(test_data[feature_cols])[:,1])\n",
    "print(f'test roc_auc score: {score:.4f}')\n",
    "\n",
    "data = pd.read_csv('./test.csv')\n",
    "submission = pd.read_csv('./submission.csv')\n",
    "submission['Churn'] = model.predict_proba(data[feature_cols])[:,1]\n",
    "submission.to_csv('./my_submission.csv', index=False)"
   ]
  },
  {
   "cell_type": "code",
   "execution_count": 246,
   "id": "discrete-tattoo",
   "metadata": {},
   "outputs": [
    {
     "data": {
      "text/plain": [
       "(0.7000000000000001, 'l1')"
      ]
     },
     "execution_count": 246,
     "metadata": {},
     "output_type": "execute_result"
    }
   ],
   "source": [
    "grid = {'clf__C': np.arange(0.1,1.1,0.1), 'clf__penalty': ['l1']}\n",
    "shuffle = StratifiedKFold(n_splits=30, shuffle=True, random_state=42)\n",
    "cv = GridSearchCV(model, grid, scoring='roc_auc', cv=shuffle)\n",
    "cv.fit(train_data[feature_cols], train_data[target_col])\n",
    "params = cv.best_estimator_.get_params()\n",
    "params['clf__C'], params['clf__penalty']"
   ]
  },
  {
   "cell_type": "code",
   "execution_count": 379,
   "id": "vertical-moment",
   "metadata": {},
   "outputs": [
    {
     "data": {
      "image/png": "[encoded data removed]",
      "text/plain": [
       "<Figure size 432x288 with 1 Axes>"
      ]
     },
     "metadata": {
      "needs_background": "light"
     },
     "output_type": "display_data"
    }
   ],
   "source": [
    "y = train_data[target_col]\n",
    "p = model.predict(train_data[feature_cols])\n",
    "scores = model.predict_proba(train_data[feature_cols])[:,1]\n",
    "precision, recall, thresholds = precision_recall_curve(y, scores)\n",
    "fpr, tpr, thresholds = roc_curve(y, scores)\n",
    "plt.plot(precision, recall, label='prc curve')\n",
    "plt.plot(fpr, tpr, label='roc curve')\n",
    "plt.legend();"
   ]
  },
  {
   "cell_type": "code",
   "execution_count": 381,
   "id": "wanted-slide",
   "metadata": {},
   "outputs": [
    {
     "data": {
      "image/png": "[encoded data removed]",
      "text/plain": [
       "<Figure size 432x288 with 2 Axes>"
      ]
     },
     "metadata": {
      "needs_background": "light"
     },
     "output_type": "display_data"
    }
   ],
   "source": [
    "mat = confusion_matrix(y, p)\n",
    "sns.heatmap(mat.T, annot=True)\n",
    "plt.xlabel('true label')\n",
    "plt.ylabel('predicted label')\n",
    "plt.title('confusion matrix');"
   ]
  },
  {
   "cell_type": "code",
   "execution_count": null,
   "id": "french-report",
   "metadata": {},
   "outputs": [],
   "source": []
  },
  {
   "cell_type": "code",
   "execution_count": null,
   "id": "disturbed-factory",
   "metadata": {},
   "outputs": [],
   "source": []
  },
  {
   "cell_type": "code",
   "execution_count": null,
   "id": "greater-genome",
   "metadata": {},
   "outputs": [],
   "source": []
  },
  {
   "cell_type": "code",
   "execution_count": null,
   "id": "objective-monitor",
   "metadata": {},
   "outputs": [],
   "source": []
  },
  {
   "cell_type": "code",
   "execution_count": 189,
   "id": "educational-guarantee",
   "metadata": {},
   "outputs": [
    {
     "name": "stdout",
     "output_type": "stream",
     "text": [
      "train roc_auc score: 0.8420 (std: 0.017770)\n",
      "[0.803843   0.82605356 0.84492294 0.87139638 0.8402376  0.84528138\n",
      " 0.86492122 0.83668005 0.84186747 0.844682  ]\n",
      "test roc_auc score: 0.8594\n"
     ]
    },
    {
     "data": {
      "text/plain": [
       "(0.0, 1.7043963144944307, 14, 67)"
      ]
     },
     "execution_count": 189,
     "metadata": {},
     "output_type": "execute_result"
    }
   ],
   "source": [
    "num_cols_ = [\n",
    "    #'TotalSpent',\n",
    "    #'ClientPeriod',\n",
    "    #'MonthlySpending'\n",
    "]\n",
    "\n",
    "cat_cols_ = [\n",
    "    'Sex',\n",
    "    'IsSeniorCitizen',\n",
    "    'HasPartner',\n",
    "    'HasChild',\n",
    "    'HasPhoneService',\n",
    "    #'HasMultiplePhoneNumbers',\n",
    "    'HasInternetService',\n",
    "    'HasOnlineSecurityService',\n",
    "    'HasOnlineBackup',\n",
    "    #'HasDeviceProtection',\n",
    "    'HasTechSupportAccess',\n",
    "    'HasOnlineTV',\n",
    "    'HasMovieSubscription',\n",
    "    'HasContractPhone',\n",
    "    #'IsBillingPaperless',\n",
    "    'PaymentMethod',\n",
    "    #'TotalSpentG',\n",
    "    'ClientPeriodG',\n",
    "    'MonthlySpendingG'\n",
    "]\n",
    "\n",
    "target_col = 'Churn'\n",
    "feature_cols_ = cat_cols_ + num_cols_\n",
    "\n",
    "data = pd.read_csv('./train.csv')\n",
    "\n",
    "data['TotalSpent'] = pd.to_numeric(data['TotalSpent'], errors='coerce')\n",
    "data['TotalSpent'] = data.groupby('HasContractPhone')['TotalSpent'].apply(lambda x: x.fillna(x.median()))\n",
    "data['ClientPeriod'] = data.groupby('HasContractPhone')['ClientPeriod'].apply(lambda x: x.replace(0, x.mean()))\n",
    "\n",
    "data['ClientPeriodG'] = pd.cut(data['ClientPeriod'], bins=[-1,0,2,5,10,17,25,33,43,53,62,70,72,100]).astype(str)\n",
    "data['MonthlySpendingG'] = pd.cut(data['MonthlySpending'], bins=np.arange(17.5,125,5)).astype(str)\n",
    "data['TotalSpentG'] = pd.cut(data['TotalSpent'], 5).astype(str)\n",
    "\n",
    "train_data, test_data = train_test_split(data, test_size=0.15, stratify=data[target_col], random_state=42)\n",
    "\n",
    "preprocessor = ColumnTransformer([\n",
    "    ('cat', OneHotEncoder(handle_unknown='ignore'), cat_cols_),\n",
    "    ('sca', StandardScaler(), num_cols_),\n",
    "    ('pol', PolynomialFeatures(), num_cols_)\n",
    "])\n",
    "\n",
    "classifier = LogisticRegression(C=1, penalty='l1', solver='liblinear')\n",
    "model = Pipeline([('pre', preprocessor), ('clf', classifier)])\n",
    "shuffle = StratifiedKFold(n_splits=10, shuffle=True, random_state=42)\n",
    "scores = cross_val_score(model, train_data[feature_cols_], train_data[target_col], scoring='roc_auc', cv=shuffle)\n",
    "print(f'train roc_auc score: {scores.mean():.4f} (std: {scores.std():.6f})')\n",
    "print(f'{scores}')\n",
    "\n",
    "model.fit(train_data[feature_cols_], train_data[target_col])\n",
    "score = roc_auc_score(test_data[target_col], model.predict_proba(test_data[feature_cols_])[:,1])\n",
    "print(f'test roc_auc score: {score:.4f}')\n",
    "\n",
    "c = model['clf'].coef_\n",
    "np.abs(c).min(), np.abs(c).max(), (c == 0).sum(), len(c[0])"
   ]
  },
  {
   "cell_type": "code",
   "execution_count": 188,
   "id": "confirmed-hygiene",
   "metadata": {},
   "outputs": [
    {
     "data": {
      "text/plain": [
       "(0.5, 'l1')"
      ]
     },
     "execution_count": 188,
     "metadata": {},
     "output_type": "execute_result"
    }
   ],
   "source": [
    "grid = {'clf__C':[0.5,1,10], 'clf__penalty':['l1','l2']}\n",
    "cv = GridSearchCV(model, grid, scoring='roc_auc', cv=StratifiedKFold(10))\n",
    "cv.fit(train_data[feature_cols_], train_data[target_col])\n",
    "params = cv.best_estimator_.get_params()\n",
    "params['clf__C'], params['clf__penalty']"
   ]
  },
  {
   "cell_type": "code",
   "execution_count": 173,
   "id": "dressed-blowing",
   "metadata": {},
   "outputs": [],
   "source": [
    "data = pd.read_csv('./test.csv')\n",
    "\n",
    "data['TotalSpent'] = pd.to_numeric(data['TotalSpent'], errors='coerce')\n",
    "data['TotalSpent'] = data.groupby('HasContractPhone')['TotalSpent'].apply(lambda x: x.fillna(x.median()))\n",
    "data['ClientPeriod'] = data.groupby('HasContractPhone')['ClientPeriod'].apply(lambda x: x.replace(0, x.mean()))\n",
    "\n",
    "data['ClientPeriodG'] = pd.cut(data['ClientPeriod'], bins=[-1,0,2,5,10,17,25,33,43,53,62,70,72,100]).astype(str)\n",
    "data['MonthlySpendingG'] = pd.cut(data['MonthlySpending'], bins=np.arange(17.5,125,5)).astype(str)\n",
    "data['TotalSpentG'] = pd.cut(data['TotalSpent'], 5).astype(str)\n",
    "\n",
    "submission = pd.read_csv('./submission.csv')\n",
    "submission['Churn'] = model.predict_proba(data[feature_cols_])[:,1]\n",
    "submission.to_csv('./my_submission.csv', index=False)"
   ]
  },
  {
   "cell_type": "code",
   "execution_count": 176,
   "id": "successful-swimming",
   "metadata": {},
   "outputs": [
    {
     "data": {
      "text/plain": [
       "(5282, 23)"
      ]
     },
     "execution_count": 176,
     "metadata": {},
     "output_type": "execute_result"
    }
   ],
   "source": [
    "data.shape"
   ]
  },
  {
   "cell_type": "code",
   "execution_count": 216,
   "id": "czech-grenada",
   "metadata": {},
   "outputs": [
    {
     "data": {
      "image/png": "[encoded data removed]",
      "text/plain": [
       "<Figure size 432x288 with 1 Axes>"
      ]
     },
     "metadata": {
      "needs_background": "light"
     },
     "output_type": "display_data"
    }
   ],
   "source": [
    "data['ClientPeriod'].plot.hist(bins=30);"
   ]
  },
  {
   "cell_type": "code",
   "execution_count": 210,
   "id": "straight-ordinary",
   "metadata": {},
   "outputs": [],
   "source": [
    "def client_period(data):\n",
    "    def na(x): return x.isnull().sum()\n",
    "    def mode(x): return x.value_counts().index[0]\n",
    "    funcs = ('size','mean','median',mode,'std','min','max',na)\n",
    "    data['TotalSpent'] = pd.to_numeric(data['TotalSpent'], errors='coerce')\n",
    "    data['TotalSpent'] = data.groupby('HasContractPhone')['TotalSpent'].apply(lambda x: x.fillna(x.median()))\n",
    "    display(data.groupby('HasContractPhone')['TotalSpent'].agg(funcs))\n",
    "    data.hist(column='TotalSpent', by='HasContractPhone', layout=(1,3), figsize=(8,1));"
   ]
  },
  {
   "cell_type": "code",
   "execution_count": 211,
   "id": "excellent-bunny",
   "metadata": {},
   "outputs": [
    {
     "data": {
      "text/html": [
       "<div>\n",
       "<style scoped>\n",
       "    .dataframe tbody tr th:only-of-type {\n",
       "        vertical-align: middle;\n",
       "    }\n",
       "\n",
       "    .dataframe tbody tr th {\n",
       "        vertical-align: top;\n",
       "    }\n",
       "\n",
       "    .dataframe thead th {\n",
       "        text-align: right;\n",
       "    }\n",
       "</style>\n",
       "<table border=\"1\" class=\"dataframe\">\n",
       "  <thead>\n",
       "    <tr style=\"text-align: right;\">\n",
       "      <th></th>\n",
       "      <th>size</th>\n",
       "      <th>mean</th>\n",
       "      <th>median</th>\n",
       "      <th>mode</th>\n",
       "      <th>std</th>\n",
       "      <th>min</th>\n",
       "      <th>max</th>\n",
       "      <th>na</th>\n",
       "    </tr>\n",
       "    <tr>\n",
       "      <th>HasContractPhone</th>\n",
       "      <th></th>\n",
       "      <th></th>\n",
       "      <th></th>\n",
       "      <th></th>\n",
       "      <th></th>\n",
       "      <th></th>\n",
       "      <th></th>\n",
       "      <th></th>\n",
       "    </tr>\n",
       "  </thead>\n",
       "  <tbody>\n",
       "    <tr>\n",
       "      <th>Month-to-month</th>\n",
       "      <td>2920</td>\n",
       "      <td>1380.004469</td>\n",
       "      <td>693.125</td>\n",
       "      <td>19.75</td>\n",
       "      <td>1618.852061</td>\n",
       "      <td>18.90</td>\n",
       "      <td>8061.50</td>\n",
       "      <td>0.0</td>\n",
       "    </tr>\n",
       "    <tr>\n",
       "      <th>One year</th>\n",
       "      <td>1082</td>\n",
       "      <td>3024.781701</td>\n",
       "      <td>2681.150</td>\n",
       "      <td>2681.15</td>\n",
       "      <td>2213.496736</td>\n",
       "      <td>18.80</td>\n",
       "      <td>8684.80</td>\n",
       "      <td>0.0</td>\n",
       "    </tr>\n",
       "    <tr>\n",
       "      <th>Two year</th>\n",
       "      <td>1280</td>\n",
       "      <td>3759.323594</td>\n",
       "      <td>3647.250</td>\n",
       "      <td>3647.25</td>\n",
       "      <td>2569.683224</td>\n",
       "      <td>20.45</td>\n",
       "      <td>8672.45</td>\n",
       "      <td>0.0</td>\n",
       "    </tr>\n",
       "  </tbody>\n",
       "</table>\n",
       "</div>"
      ],
      "text/plain": [
       "                  size         mean    median     mode          std    min  \\\n",
       "HasContractPhone                                                             \n",
       "Month-to-month    2920  1380.004469   693.125    19.75  1618.852061  18.90   \n",
       "One year          1082  3024.781701  2681.150  2681.15  2213.496736  18.80   \n",
       "Two year          1280  3759.323594  3647.250  3647.25  2569.683224  20.45   \n",
       "\n",
       "                      max   na  \n",
       "HasContractPhone                \n",
       "Month-to-month    8061.50  0.0  \n",
       "One year          8684.80  0.0  \n",
       "Two year          8672.45  0.0  "
      ]
     },
     "metadata": {},
     "output_type": "display_data"
    },
    {
     "data": {
      "image/png": "[encoded data removed]",
      "text/plain": [
       "<Figure size 576x72 with 3 Axes>"
      ]
     },
     "metadata": {
      "needs_background": "light"
     },
     "output_type": "display_data"
    }
   ],
   "source": [
    "client_period(pd.read_csv('./train.csv'))"
   ]
  },
  {
   "cell_type": "code",
   "execution_count": 307,
   "id": "tested-ratio",
   "metadata": {},
   "outputs": [
    {
     "name": "stdout",
     "output_type": "stream",
     "text": [
      "train roc_auc score: 0.8458 (std: 0.023927)\n",
      "[0.84363553 0.83064332 0.83264652 0.86589973 0.8891369  0.84118664\n",
      " 0.87557604 0.83945221 0.85582751 0.83158508 0.85979021 0.80506993\n",
      " 0.85407925 0.78519814 0.83088578 0.85716783 0.8266317  0.87540793\n",
      " 0.8534965  0.86188811]\n",
      "test roc_auc score: 0.8573\n"
     ]
    }
   ],
   "source": [
    "target_col = 'Churn'\n",
    "\n",
    "cat_cols = [\n",
    "    'Sex',\n",
    "    'IsSeniorCitizen',\n",
    "    'HasPartner',\n",
    "    'HasChild',\n",
    "    'HasPhoneService',\n",
    "    'HasMultiplePhoneNumbers',\n",
    "    'HasInternetService',\n",
    "    'HasOnlineSecurityService',\n",
    "    'HasOnlineBackup',\n",
    "    'HasDeviceProtection',\n",
    "    'HasTechSupportAccess',\n",
    "    'HasOnlineTV',\n",
    "    'HasMovieSubscription',\n",
    "    'HasContractPhone',\n",
    "    'IsBillingPaperless',\n",
    "    'PaymentMethod',\n",
    "    'ClientPeriodG',\n",
    "    'MonthlySpendingG'\n",
    "]\n",
    "\n",
    "cols_to_drop = [\n",
    "    'HasMultiplePhoneNumbers_No phone service',\n",
    "    'HasOnlineSecurityService_No internet service',\n",
    "    'HasOnlineBackup_No internet service',\n",
    "    'HasDeviceProtection_No internet service',\n",
    "    'HasTechSupportAccess_No internet service',\n",
    "    'HasOnlineTV_No internet service',\n",
    "    'HasMovieSubscription_No internet service',\n",
    "    'ClientPeriod',\n",
    "    'MonthlySpending',\n",
    "    'TotalSpent'\n",
    "]\n",
    "\n",
    "data = pd.read_csv('./train.csv')\n",
    "data['ClientPeriod'] = data.groupby('HasContractPhone')['ClientPeriod'].apply(lambda x: x.replace(0, x.median()))\n",
    "data['ClientPeriodG'] = pd.cut(data['ClientPeriod'], bins=[-1,0,2,5,10,17,25,33,43,53,62,70,72,100]).astype(str)\n",
    "data['MonthlySpendingG'] = pd.cut(data['MonthlySpending'], bins=np.arange(17.5,125,5)).astype(str)\n",
    "# data['TotalSpent'] = pd.to_numeric(data['TotalSpent'], errors='coerce')\n",
    "# data['TotalSpent'] = data.groupby('HasContractPhone')['TotalSpent'].apply(lambda x: x.fillna(x.median()))\n",
    "# data['Period'] = data['TotalSpent'] / data['MonthlySpending']\n",
    "\n",
    "data = pd.get_dummies(data, columns=cat_cols)\n",
    "data.drop(cols_to_drop, axis=1, inplace=True)\n",
    "\n",
    "train_data, test_data = train_test_split(data, test_size=0.2, stratify=data[target_col], random_state=42)\n",
    "\n",
    "model = LogisticRegression(C=0.2, penalty='l1', solver='liblinear')\n",
    "shuffle = StratifiedKFold(n_splits=20, shuffle=True, random_state=42)\n",
    "scores = cross_val_score(model, train_data.drop(target_col,axis=1), train_data[target_col], scoring='roc_auc', cv=shuffle)\n",
    "print(f'train roc_auc score: {scores.mean():.4f} (std: {scores.std():.6f})')\n",
    "print(f'{scores}')\n",
    "\n",
    "model.fit(train_data.drop(target_col,axis=1), train_data[target_col])\n",
    "score = roc_auc_score(test_data[target_col], model.predict_proba(test_data.drop(target_col,axis=1))[:,1])\n",
    "print(f'test roc_auc score: {score:.4f}')\n",
    "\n",
    "# c = model['clf'].coef_\n",
    "# np.abs(c).min(), np.abs(c).max(), (c == 0).sum(), len(c[0])"
   ]
  },
  {
   "cell_type": "code",
   "execution_count": 306,
   "id": "elegant-ocean",
   "metadata": {},
   "outputs": [
    {
     "data": {
      "text/plain": [
       "(0.2, 'l1')"
      ]
     },
     "execution_count": 306,
     "metadata": {},
     "output_type": "execute_result"
    }
   ],
   "source": [
    "grid = {'C':[0.1,0.2,0.4,0.4,0.5,0.6,1], 'penalty':['l1','l2']}\n",
    "cv = GridSearchCV(model, grid, scoring='roc_auc', cv=StratifiedKFold(30))\n",
    "cv.fit(train_data.drop(target_col,axis=1), train_data[target_col])\n",
    "params = cv.best_estimator_.get_params()\n",
    "params['C'], params['penalty']"
   ]
  }
 ],
 "metadata": {
  "kernelspec": {
   "display_name": "Python 3",
   "language": "python",
   "name": "python3"
  },
  "language_info": {
   "codemirror_mode": {
    "name": "ipython",
    "version": 3
   },
   "file_extension": ".py",
   "mimetype": "text/x-python",
   "name": "python",
   "nbconvert_exporter": "python",
   "pygments_lexer": "ipython3",
   "version": "3.9.2"
  }
 },
 "nbformat": 4,
 "nbformat_minor": 5
}
