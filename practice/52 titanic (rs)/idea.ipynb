{
 "cells": [
  {
   "cell_type": "markdown",
   "metadata": {},
   "source": [
    "https://neurohive.io/ru/osnovy-data-science/razbor-resheniya-zadachi-titanik-na-kaggle-dlya-nachinajushhih/  \n",
    "https://github.com/sumitmukhija/Titanic/blob/master/Tip%20of%20the%20Iceberg.ipynb  \n",
    "https://www.kaggle.com/konstantinmasich/titanic-0-82-0-83/notebook  \n",
    "https://github.com/ramansah/kaggle-titanic/blob/master/Analysis.ipynb  \n",
    "https://www.kaggle.com/startupsci/titanic-data-science-solutions  \n",
    "https://www.kaggle.com/makarevich/missing-values-that-you-can-t-miss-in-titanic  \n",
    "https://www.kaggle.com/vradore/titanic-survival-analysis-with-missing-values  \n",
    "https://www.kaggle.com/c/titanic/discussion/62321  \n",
    "https://www.kaggle.com/jack89roberts/titanic-using-ticket-groupings  \n",
    "http://rstudio-pubs-static.s3.amazonaws.com/227239_a42941af5d7d457398ed3721f9ad0f6f.html  \n",
    "https://www.encyclopedia-titanica.org/titanic-victims/  \n",
    "https://www.kaggle.com/amypeniston/titanic-simple-gender-family-group-model  "
   ]
  },
  {
   "cell_type": "code",
   "execution_count": 48,
   "metadata": {},
   "outputs": [],
   "source": [
    "import numpy as np\n",
    "import pandas as pd\n",
    "import seaborn as sns\n",
    "import matplotlib.pyplot as plt\n",
    "from sklearn.decomposition import PCA\n",
    "from sklearn.preprocessing import LabelEncoder"
   ]
  },
  {
   "cell_type": "code",
   "execution_count": 237,
   "metadata": {},
   "outputs": [
    {
     "data": {
      "text/html": [
       "<div>\n",
       "<style scoped>\n",
       "    .dataframe tbody tr th:only-of-type {\n",
       "        vertical-align: middle;\n",
       "    }\n",
       "\n",
       "    .dataframe tbody tr th {\n",
       "        vertical-align: top;\n",
       "    }\n",
       "\n",
       "    .dataframe thead th {\n",
       "        text-align: right;\n",
       "    }\n",
       "</style>\n",
       "<table border=\"1\" class=\"dataframe\">\n",
       "  <thead>\n",
       "    <tr style=\"text-align: right;\">\n",
       "      <th></th>\n",
       "      <th>Survived</th>\n",
       "      <th>Pclass</th>\n",
       "      <th>Age</th>\n",
       "      <th>Fare</th>\n",
       "      <th>Embarked</th>\n",
       "      <th>Family</th>\n",
       "      <th>Female</th>\n",
       "      <th>Boy</th>\n",
       "      <th>Group</th>\n",
       "    </tr>\n",
       "  </thead>\n",
       "  <tbody>\n",
       "    <tr>\n",
       "      <th>0</th>\n",
       "      <td>0</td>\n",
       "      <td>3</td>\n",
       "      <td>(20, 30]</td>\n",
       "      <td>(0, 10]</td>\n",
       "      <td>S</td>\n",
       "      <td>1</td>\n",
       "      <td>0</td>\n",
       "      <td>0</td>\n",
       "      <td>3S7.25</td>\n",
       "    </tr>\n",
       "    <tr>\n",
       "      <th>1</th>\n",
       "      <td>1</td>\n",
       "      <td>1</td>\n",
       "      <td>(30, 100]</td>\n",
       "      <td>(30, 100]</td>\n",
       "      <td>C</td>\n",
       "      <td>1</td>\n",
       "      <td>1</td>\n",
       "      <td>0</td>\n",
       "      <td>1C71.2833</td>\n",
       "    </tr>\n",
       "    <tr>\n",
       "      <th>2</th>\n",
       "      <td>1</td>\n",
       "      <td>3</td>\n",
       "      <td>(20, 30]</td>\n",
       "      <td>(0, 10]</td>\n",
       "      <td>S</td>\n",
       "      <td>0</td>\n",
       "      <td>1</td>\n",
       "      <td>0</td>\n",
       "      <td>3S7.925</td>\n",
       "    </tr>\n",
       "    <tr>\n",
       "      <th>3</th>\n",
       "      <td>1</td>\n",
       "      <td>1</td>\n",
       "      <td>(30, 100]</td>\n",
       "      <td>(20, 30]</td>\n",
       "      <td>S</td>\n",
       "      <td>1</td>\n",
       "      <td>1</td>\n",
       "      <td>0</td>\n",
       "      <td>1S26.55</td>\n",
       "    </tr>\n",
       "    <tr>\n",
       "      <th>4</th>\n",
       "      <td>0</td>\n",
       "      <td>3</td>\n",
       "      <td>(30, 100]</td>\n",
       "      <td>(0, 10]</td>\n",
       "      <td>S</td>\n",
       "      <td>0</td>\n",
       "      <td>0</td>\n",
       "      <td>0</td>\n",
       "      <td>3S8.05</td>\n",
       "    </tr>\n",
       "    <tr>\n",
       "      <th>...</th>\n",
       "      <td>...</td>\n",
       "      <td>...</td>\n",
       "      <td>...</td>\n",
       "      <td>...</td>\n",
       "      <td>...</td>\n",
       "      <td>...</td>\n",
       "      <td>...</td>\n",
       "      <td>...</td>\n",
       "      <td>...</td>\n",
       "    </tr>\n",
       "    <tr>\n",
       "      <th>886</th>\n",
       "      <td>0</td>\n",
       "      <td>2</td>\n",
       "      <td>(20, 30]</td>\n",
       "      <td>(10, 20]</td>\n",
       "      <td>S</td>\n",
       "      <td>0</td>\n",
       "      <td>0</td>\n",
       "      <td>0</td>\n",
       "      <td>2S13.0</td>\n",
       "    </tr>\n",
       "    <tr>\n",
       "      <th>887</th>\n",
       "      <td>1</td>\n",
       "      <td>1</td>\n",
       "      <td>(9, 20]</td>\n",
       "      <td>(20, 30]</td>\n",
       "      <td>S</td>\n",
       "      <td>0</td>\n",
       "      <td>1</td>\n",
       "      <td>0</td>\n",
       "      <td>1S30.0</td>\n",
       "    </tr>\n",
       "    <tr>\n",
       "      <th>888</th>\n",
       "      <td>0</td>\n",
       "      <td>3</td>\n",
       "      <td>(20, 30]</td>\n",
       "      <td>(10, 20]</td>\n",
       "      <td>S</td>\n",
       "      <td>3</td>\n",
       "      <td>1</td>\n",
       "      <td>0</td>\n",
       "      <td>3S11.725</td>\n",
       "    </tr>\n",
       "    <tr>\n",
       "      <th>889</th>\n",
       "      <td>1</td>\n",
       "      <td>1</td>\n",
       "      <td>(20, 30]</td>\n",
       "      <td>(20, 30]</td>\n",
       "      <td>C</td>\n",
       "      <td>0</td>\n",
       "      <td>0</td>\n",
       "      <td>0</td>\n",
       "      <td>1C30.0</td>\n",
       "    </tr>\n",
       "    <tr>\n",
       "      <th>890</th>\n",
       "      <td>0</td>\n",
       "      <td>3</td>\n",
       "      <td>(30, 100]</td>\n",
       "      <td>(0, 10]</td>\n",
       "      <td>Q</td>\n",
       "      <td>0</td>\n",
       "      <td>0</td>\n",
       "      <td>0</td>\n",
       "      <td>3Q7.75</td>\n",
       "    </tr>\n",
       "  </tbody>\n",
       "</table>\n",
       "<p>891 rows × 9 columns</p>\n",
       "</div>"
      ],
      "text/plain": [
       "     Survived  Pclass        Age       Fare Embarked  Family  Female  Boy  \\\n",
       "0           0       3   (20, 30]    (0, 10]        S       1       0    0   \n",
       "1           1       1  (30, 100]  (30, 100]        C       1       1    0   \n",
       "2           1       3   (20, 30]    (0, 10]        S       0       1    0   \n",
       "3           1       1  (30, 100]   (20, 30]        S       1       1    0   \n",
       "4           0       3  (30, 100]    (0, 10]        S       0       0    0   \n",
       "..        ...     ...        ...        ...      ...     ...     ...  ...   \n",
       "886         0       2   (20, 30]   (10, 20]        S       0       0    0   \n",
       "887         1       1    (9, 20]   (20, 30]        S       0       1    0   \n",
       "888         0       3   (20, 30]   (10, 20]        S       3       1    0   \n",
       "889         1       1   (20, 30]   (20, 30]        C       0       0    0   \n",
       "890         0       3  (30, 100]    (0, 10]        Q       0       0    0   \n",
       "\n",
       "         Group  \n",
       "0       3S7.25  \n",
       "1    1C71.2833  \n",
       "2      3S7.925  \n",
       "3      1S26.55  \n",
       "4       3S8.05  \n",
       "..         ...  \n",
       "886     2S13.0  \n",
       "887     1S30.0  \n",
       "888   3S11.725  \n",
       "889     1C30.0  \n",
       "890     3Q7.75  \n",
       "\n",
       "[891 rows x 9 columns]"
      ]
     },
     "execution_count": 237,
     "metadata": {},
     "output_type": "execute_result"
    }
   ],
   "source": [
    "# train_data = pd.read_csv('train.csv')\n",
    "# test_data = pd.read_csv('my_test.csv')\n",
    "# df = pd.concat([train_data, test_data])\n",
    "df = pd.read_csv('train.csv')\n",
    "# X, y = df.drop('Survived', axis=1), df['Survived']\n",
    "X, y = df, df['Survived']\n",
    "X['Family'] = X['SibSp'] + X['Parch']\n",
    "X['Female'] = (X['Sex'] == 'female').astype(int)\n",
    "X['Title'] = X['Name'].str.extract('([A-Za-z]+)\\.').fillna('NA')\n",
    "X['Age'] = X.groupby(['Title'])['Age'].transform(lambda g: g.fillna(g.median()))\n",
    "X['Fare'] = X['Fare'].fillna(X['Fare'].median())\n",
    "X['Fare'] = X.groupby('Ticket')['Fare'].transform(lambda x: x / len(x))\n",
    "X['Embarked'] = df['Embarked'].fillna(df['Embarked'].mode()[0])\n",
    "X['Boy'] = ((X['Age'] < 14) & (X['Sex'] == 'male')).astype(int)\n",
    "X['Group'] = X['Pclass'].astype(str) + X['Embarked'] + X['Fare'].astype(str)\n",
    "# X['Group'] = LabelEncoder().fit_transform(X['Group'])\n",
    "# X['Embarked'] = LabelEncoder().fit_transform(X['Embarked'])\n",
    "X['Age'] = pd.cut(X['Age'], bins=[0,9,20,30,100])\n",
    "#X['Age'] = LabelEncoder().fit_transform(X['Age'])\n",
    "#X['Family'] = pd.cut(X['Family'], bins=[0,1,6,20])\n",
    "#X['Family'] = LabelEncoder().fit_transform(X['Family'])\n",
    "X['Fare'] = pd.cut(X['Fare'], bins=[0,10,20,30,100])\n",
    "#X['Fare'] = LabelEncoder().fit_transform(X['Fare'])\n",
    "X = X.drop(['PassengerId','Name','Title','Cabin','SibSp','Parch','Sex','Ticket','Name'], axis=1)\n",
    "X"
   ]
  },
  {
   "cell_type": "code",
   "execution_count": 191,
   "metadata": {},
   "outputs": [
    {
     "data": {
      "text/plain": [
       "(0      3\n",
       " 4      3\n",
       " 5      3\n",
       " 6      1\n",
       " 7      3\n",
       "       ..\n",
       " 884    3\n",
       " 885    3\n",
       " 886    2\n",
       " 888    3\n",
       " 890    3\n",
       " Name: Pclass, Length: 549, dtype: int64,\n",
       " 0      0\n",
       " 4      0\n",
       " 5      0\n",
       " 6      0\n",
       " 7      0\n",
       "       ..\n",
       " 884    0\n",
       " 885    0\n",
       " 886    0\n",
       " 888    0\n",
       " 890    0\n",
       " Name: Survived, Length: 549, dtype: int64)"
      ]
     },
     "execution_count": 191,
     "metadata": {},
     "output_type": "execute_result"
    }
   ],
   "source": [
    "X.loc[y == 0, 'Pclass'], y[y == 0]"
   ]
  },
  {
   "cell_type": "code",
   "execution_count": 193,
   "metadata": {},
   "outputs": [
    {
     "data": {
      "text/plain": [
       "<AxesSubplot:>"
      ]
     },
     "execution_count": 193,
     "metadata": {},
     "output_type": "execute_result"
    },
    {
     "data": {
      "image/png": "[encoded data removed]",
      "text/plain": [
       "<Figure size 432x288 with 1 Axes>"
      ]
     },
     "metadata": {
      "needs_background": "light"
     },
     "output_type": "display_data"
    }
   ],
   "source": [
    "X.loc[y == 1, 'Pclass'].hist()"
   ]
  },
  {
   "cell_type": "code",
   "execution_count": 195,
   "metadata": {},
   "outputs": [
    {
     "data": {
      "text/plain": [
       "0.6296296296296297"
      ]
     },
     "execution_count": 195,
     "metadata": {},
     "output_type": "execute_result"
    }
   ],
   "source": [
    "((X['Pclass'] == 1) & (y == 1)).sum() / (X['Pclass'] == 1).sum()"
   ]
  },
  {
   "cell_type": "code",
   "execution_count": 198,
   "metadata": {},
   "outputs": [
    {
     "data": {
      "text/plain": [
       "0.47282608695652173"
      ]
     },
     "execution_count": 198,
     "metadata": {},
     "output_type": "execute_result"
    }
   ],
   "source": [
    "((X['Pclass'] == 2) & (y == 1)).sum() / (X['Pclass'] == 2).sum()"
   ]
  },
  {
   "cell_type": "code",
   "execution_count": 199,
   "metadata": {},
   "outputs": [
    {
     "data": {
      "text/plain": [
       "0.24236252545824846"
      ]
     },
     "execution_count": 199,
     "metadata": {},
     "output_type": "execute_result"
    }
   ],
   "source": [
    "((X['Pclass'] == 3) & (y == 1)).sum() / (X['Pclass'] == 3).sum()"
   ]
  },
  {
   "cell_type": "code",
   "execution_count": 200,
   "metadata": {},
   "outputs": [
    {
     "data": {
      "text/plain": [
       "0.7420382165605095"
      ]
     },
     "execution_count": 200,
     "metadata": {},
     "output_type": "execute_result"
    }
   ],
   "source": [
    "((X['Female'] == 1) & (y == 1)).sum() / (X['Female'] == 1).sum()"
   ]
  },
  {
   "cell_type": "code",
   "execution_count": 201,
   "metadata": {},
   "outputs": [
    {
     "data": {
      "text/plain": [
       "0.18890814558058924"
      ]
     },
     "execution_count": 201,
     "metadata": {},
     "output_type": "execute_result"
    }
   ],
   "source": [
    "((X['Female'] == 0) & (y == 1)).sum() / (X['Female'] == 0).sum()"
   ]
  },
  {
   "cell_type": "code",
   "execution_count": 204,
   "metadata": {},
   "outputs": [
    {
     "data": {
      "text/plain": [
       "0.5441941074523396"
      ]
     },
     "execution_count": 204,
     "metadata": {},
     "output_type": "execute_result"
    }
   ],
   "source": [
    "(X['Female'] == 1).sum() / (X['Female'] == 0).sum()"
   ]
  },
  {
   "cell_type": "code",
   "execution_count": 209,
   "metadata": {},
   "outputs": [
    {
     "data": {
      "text/plain": [
       "0.5609756097560976"
      ]
     },
     "execution_count": 209,
     "metadata": {},
     "output_type": "execute_result"
    }
   ],
   "source": [
    "((X['Boy'] == 1) & (y == 1)).sum() / (X['Boy'] == 1).sum()"
   ]
  },
  {
   "cell_type": "code",
   "execution_count": 211,
   "metadata": {},
   "outputs": [
    {
     "data": {
      "text/plain": [
       "Pclass\n",
       "1    0.629630\n",
       "2    0.472826\n",
       "3    0.242363\n",
       "Name: Survived, dtype: float64"
      ]
     },
     "execution_count": 211,
     "metadata": {},
     "output_type": "execute_result"
    }
   ],
   "source": [
    "X.groupby('Pclass')['Survived'].mean()"
   ]
  },
  {
   "cell_type": "code",
   "execution_count": 214,
   "metadata": {},
   "outputs": [
    {
     "data": {
      "text/plain": [
       "Age\n",
       "(0, 9]       0.606061\n",
       "(9, 20]      0.376068\n",
       "(20, 30]     0.311688\n",
       "(30, 100]    0.427245\n",
       "Name: Survived, dtype: float64"
      ]
     },
     "execution_count": 214,
     "metadata": {},
     "output_type": "execute_result"
    }
   ],
   "source": [
    "X.groupby('Age')['Survived'].mean()"
   ]
  },
  {
   "cell_type": "code",
   "execution_count": 242,
   "metadata": {},
   "outputs": [
    {
     "data": {
      "text/plain": [
       "Fare\n",
       "(0, 10]      0.256356\n",
       "(10, 20]     0.413793\n",
       "(20, 30]     0.647059\n",
       "(30, 100]    0.638655\n",
       "Name: Survived, dtype: float64"
      ]
     },
     "execution_count": 242,
     "metadata": {},
     "output_type": "execute_result"
    }
   ],
   "source": [
    "X.groupby('Fare')['Survived'].mean()"
   ]
  },
  {
   "cell_type": "code",
   "execution_count": 241,
   "metadata": {},
   "outputs": [
    {
     "data": {
      "text/plain": [
       "Embarked\n",
       "C    0.553571\n",
       "Q    0.389610\n",
       "S    0.339009\n",
       "Name: Survived, dtype: float64"
      ]
     },
     "execution_count": 241,
     "metadata": {},
     "output_type": "execute_result"
    }
   ],
   "source": [
    "X.groupby('Embarked')['Survived'].mean()"
   ]
  },
  {
   "cell_type": "code",
   "execution_count": 240,
   "metadata": {},
   "outputs": [
    {
     "data": {
      "text/plain": [
       "{'1C123.7604': 0.5,\n",
       " '1C131.1875': 1.0,\n",
       " '1C15.5': 1.0,\n",
       " '1C170.7764': 1.0,\n",
       " '1C211.5': 0.0,\n",
       " '1C25.576400000000003': 1.0,\n",
       " '1C26.55': 1.0,\n",
       " '1C27.7208': 0.25,\n",
       " '1C27.720825': 0.75,\n",
       " '1C27.75': 0.0,\n",
       " '1C28.4646': 1.0,\n",
       " '1C28.7125': 0.0,\n",
       " '1C28.9896': 1.0,\n",
       " '1C29.7': 0.3333333333333333,\n",
       " '1C30.0': 1.0,\n",
       " '1C30.5': 1.0,\n",
       " '1C30.6958': 0.0,\n",
       " '1C31.0': 1.0,\n",
       " '1C34.65': 1.0,\n",
       " '1C34.6542': 0.0,\n",
       " '1C35.5': 1.0,\n",
       " '1C37.75833333333333': 0.6666666666666666,\n",
       " '1C39.13335': 1.0,\n",
       " '1C39.6': 0.25,\n",
       " '1C40.125': 0.0,\n",
       " '1C41.0854': 0.5,\n",
       " '1C41.57915': 1.0,\n",
       " '1C44.5521': 1.0,\n",
       " '1C45.211099999999995': 0.5,\n",
       " '1C45.5396': 1.0,\n",
       " '1C49.5': 1.0,\n",
       " '1C49.5042': 0.5,\n",
       " '1C53.2125': 0.5,\n",
       " '1C54.45': 0.5,\n",
       " '1C55.4417': 1.0,\n",
       " '1C56.88125': 0.75,\n",
       " '1C59.4': 1.0,\n",
       " '1C61.3792': 0.0,\n",
       " '1C61.9792': 0.0,\n",
       " '1C63.3583': 1.0,\n",
       " '1C67.25': 1.0,\n",
       " '1C71.2833': 1.0,\n",
       " '1C73.2604': 1.0,\n",
       " '1C75.25': 1.0,\n",
       " '1C76.2917': 1.0,\n",
       " '1C79.2': 1.0,\n",
       " '1C83.1583': 1.0,\n",
       " '1Q45.0': 0.5,\n",
       " '1S0.0': 0.0,\n",
       " '1S15.5': 0.0,\n",
       " '1S221.7792': 0.0,\n",
       " '1S25.5875': 0.0,\n",
       " '1S25.925': 0.0,\n",
       " '1S25.9292': 1.0,\n",
       " '1S25.986099999999997': 1.0,\n",
       " '1S26.0': 0.375,\n",
       " '1S26.2771': 1.0,\n",
       " '1S26.2833': 1.0,\n",
       " '1S26.2875': 1.0,\n",
       " '1S26.3875': 1.0,\n",
       " '1S26.55': 0.5714285714285714,\n",
       " '1S27.5': 1.0,\n",
       " '1S27.95': 0.5,\n",
       " '1S28.5': 0.6666666666666666,\n",
       " '1S28.833333333333332': 1.0,\n",
       " '1S30.0': 0.875,\n",
       " '1S30.5': 0.75,\n",
       " '1S32.3208': 0.0,\n",
       " '1S33.3': 0.5,\n",
       " '1S33.5': 0.0,\n",
       " '1S34.0208': 0.0,\n",
       " '1S35.0': 0.0,\n",
       " '1S35.5': 0.6,\n",
       " '1S37.8875': 0.5,\n",
       " '1S38.5': 0.0,\n",
       " '1S38.64375': 0.0,\n",
       " '1S39.4': 1.0,\n",
       " '1S39.425': 0.5,\n",
       " '1S40.0': 1.0,\n",
       " '1S41.7375': 0.5,\n",
       " '1S42.4': 0.0,\n",
       " '1S45.0': 1.0,\n",
       " '1S45.211099999999995': 1.0,\n",
       " '1S46.75': 1.0,\n",
       " '1S47.1': 0.0,\n",
       " '1S5.0': 0.0,\n",
       " '1S50.0': 0.0,\n",
       " '1S50.4958': 0.0,\n",
       " '1S51.15416666666667': 0.6666666666666666,\n",
       " '1S51.4792': 1.0,\n",
       " '1S51.8625': 0.5,\n",
       " '1S52.0': 0.0,\n",
       " '1S52.5542': 1.0,\n",
       " '1S53.1': 0.0,\n",
       " '1S61.175': 0.0,\n",
       " '1S65.75': 0.5,\n",
       " '1S66.825': 1.0,\n",
       " '1S70.44583333333334': 1.0,\n",
       " '1S81.8583': 1.0,\n",
       " '1S82.43335': 1.0,\n",
       " '2C12.0': 0.6666666666666666,\n",
       " '2C12.875': 0.0,\n",
       " '2C13.7917': 1.0,\n",
       " '2C13.8583': 1.0,\n",
       " '2C13.859733333333333': 0.6666666666666666,\n",
       " '2C13.8625': 1.0,\n",
       " '2C15.0354': 0.5,\n",
       " '2C15.0458': 0.0,\n",
       " '2C15.05': 0.0,\n",
       " '2C18.5021': 0.5,\n",
       " '2C27.7208': 0.0,\n",
       " '2Q12.35': 0.6666666666666666,\n",
       " '2S0.0': 0.0,\n",
       " '2S10.5': 0.38461538461538464,\n",
       " '2S11.0': 0.6666666666666666,\n",
       " '2S11.5': 0.3333333333333333,\n",
       " '2S12.275': 0.0,\n",
       " '2S12.525': 0.0,\n",
       " '2S12.65': 1.0,\n",
       " '2S13.0': 0.42857142857142855,\n",
       " '2S13.5': 0.3333333333333333,\n",
       " '2S14.0': 0.0,\n",
       " '2S14.5': 1.0,\n",
       " '2S14.7': 0.0,\n",
       " '2S15.0': 0.0,\n",
       " '2S15.75': 1.0,\n",
       " '2S16.0': 1.0,\n",
       " '2S18.375': 0.5,\n",
       " '2S19.5': 0.75,\n",
       " '2S21.0': 0.5,\n",
       " '2S23.0': 1.0,\n",
       " '2S26.0': 0.5,\n",
       " '2S30.0': 1.0,\n",
       " '2S32.5': 1.0,\n",
       " '2S5.25': 0.0,\n",
       " '2S6.25': 1.0,\n",
       " '2S6.5': 0.0,\n",
       " '2S7.25': 1.0,\n",
       " '2S8.666666666666666': 0.6666666666666666,\n",
       " '2S8.75': 0.6666666666666666,\n",
       " '2S9.25': 0.6666666666666666,\n",
       " '2S9.75': 1.0,\n",
       " '3C11.17915': 1.0,\n",
       " '3C13.4167': 1.0,\n",
       " '3C14.4542': 0.0,\n",
       " '3C14.4583': 0.0,\n",
       " '3C15.2458': 1.0,\n",
       " '3C21.6792': 0.0,\n",
       " '3C4.0125': 0.0,\n",
       " '3C4.814575': 1.0,\n",
       " '3C5.62085': 1.0,\n",
       " '3C6.4375': 0.0,\n",
       " '3C7.225': 0.25,\n",
       " '3C7.2271': 0.16666666666666666,\n",
       " '3C7.22915': 0.0,\n",
       " '3C7.2292': 0.26666666666666666,\n",
       " '3C7.6229': 0.5,\n",
       " '3C7.87085': 1.0,\n",
       " '3C7.8958': 0.2,\n",
       " '3C8.5167': 1.0,\n",
       " '3C8.6625': 0.0,\n",
       " '3C8.7125': 0.0,\n",
       " '3C9.39375': 0.5,\n",
       " '3Q11.625': 1.0,\n",
       " '3Q15.5': 0.0,\n",
       " '3Q5.825': 0.0,\n",
       " '3Q6.75': 0.0,\n",
       " '3Q6.8583': 0.0,\n",
       " '3Q6.95': 0.0,\n",
       " '3Q7.6292': 0.0,\n",
       " '3Q7.725': 0.0,\n",
       " '3Q7.7292': 0.0,\n",
       " '3Q7.7333': 0.5,\n",
       " '3Q7.7375': 0.5,\n",
       " '3Q7.7417': 0.0,\n",
       " '3Q7.75': 0.3888888888888889,\n",
       " '3Q7.7875': 1.0,\n",
       " '3Q7.8292': 0.5,\n",
       " '3Q7.8792': 1.0,\n",
       " '3Q8.0292': 1.0,\n",
       " '3Q8.049999999999999': 0.3333333333333333,\n",
       " '3Q8.1375': 0.0,\n",
       " '3Q8.4583': 0.0,\n",
       " '3S0.0': 0.25,\n",
       " '3S10.10625': 0.0,\n",
       " '3S10.125': 0.5,\n",
       " '3S10.1708': 0.0,\n",
       " '3S10.2875': 0.5,\n",
       " '3S10.5167': 0.0,\n",
       " '3S11.725': 0.0,\n",
       " '3S12.075': 0.0,\n",
       " '3S12.2875': 1.0,\n",
       " '3S14.1083': 0.0,\n",
       " '3S14.5': 0.0,\n",
       " '3S15.1': 0.0,\n",
       " '3S15.55': 0.0,\n",
       " '3S16.1': 0.3333333333333333,\n",
       " '3S17.4': 1.0,\n",
       " '3S18.0': 0.0,\n",
       " '3S19.9667': 0.0,\n",
       " '3S22.025': 1.0,\n",
       " '3S22.525': 0.0,\n",
       " '3S3.7111': 1.0,\n",
       " '3S4.4678571428571425': 0.0,\n",
       " '3S4.60835': 0.0,\n",
       " '3S4.6499999999999995': 0.0,\n",
       " '3S4.9229': 0.0,\n",
       " '3S5.23125': 0.0,\n",
       " '3S5.26875': 0.0,\n",
       " '3S6.2375': 0.8,\n",
       " '3S6.366675': 0.0,\n",
       " '3S6.45': 0.0,\n",
       " '3S6.4958': 0.0,\n",
       " '3S6.614583333333333': 0.0,\n",
       " '3S6.841666666666666': 0.6666666666666666,\n",
       " '3S6.975': 0.5,\n",
       " '3S7.0458': 0.0,\n",
       " '3S7.05': 0.0,\n",
       " '3S7.0542': 0.0,\n",
       " '3S7.125': 0.0,\n",
       " '3S7.1417': 1.0,\n",
       " '3S7.2': 0.0,\n",
       " '3S7.25': 0.06666666666666667,\n",
       " '3S7.3125': 0.0,\n",
       " '3S7.4958': 0.3333333333333333,\n",
       " '3S7.5208': 0.0,\n",
       " '3S7.55': 0.25,\n",
       " '3S7.65': 0.25,\n",
       " '3S7.75': 0.25,\n",
       " '3S7.775': 0.1875,\n",
       " '3S7.7958': 0.3333333333333333,\n",
       " '3S7.8': 0.0,\n",
       " '3S7.816666666666666': 0.0,\n",
       " '3S7.846875': 0.75,\n",
       " '3S7.8542': 0.23076923076923078,\n",
       " '3S7.875': 0.0,\n",
       " '3S7.8875': 0.0,\n",
       " '3S7.8958': 0.0,\n",
       " '3S7.925': 0.45454545454545453,\n",
       " '3S7.95': 1.0,\n",
       " '3S8.049999999999999': 0.0,\n",
       " '3S8.05': 0.12244897959183673,\n",
       " '3S8.070828571428573': 0.7142857142857143,\n",
       " '3S8.1125': 1.0,\n",
       " '3S8.1583': 0.0,\n",
       " '3S8.3': 0.0,\n",
       " '3S8.35': 1.0,\n",
       " '3S8.3625': 0.0,\n",
       " '3S8.4042': 0.0,\n",
       " '3S8.4333': 0.0,\n",
       " '3S8.59375': 0.0,\n",
       " '3S8.6542': 0.0,\n",
       " '3S8.6625': 0.08333333333333333,\n",
       " '3S8.6833': 1.0,\n",
       " '3S8.85': 0.0,\n",
       " '3S8.9': 0.0,\n",
       " '3S9.0': 0.0,\n",
       " '3S9.225': 0.0,\n",
       " '3S9.35': 0.5,\n",
       " '3S9.475': 0.0,\n",
       " '3S9.4833': 0.0,\n",
       " '3S9.5': 0.2222222222222222,\n",
       " '3S9.5875': 0.5,\n",
       " '3S9.825': 0.0,\n",
       " '3S9.8375': 0.0,\n",
       " '3S9.8417': 1.0,\n",
       " '3S9.935714285714285': 0.0}"
      ]
     },
     "execution_count": 240,
     "metadata": {},
     "output_type": "execute_result"
    }
   ],
   "source": [
    "X.groupby('Group')['Survived'].mean().to_dict()"
   ]
  },
  {
   "cell_type": "code",
   "execution_count": 244,
   "metadata": {},
   "outputs": [
    {
     "data": {
      "text/plain": [
       "Boy\n",
       "0    0.375294\n",
       "1    0.560976\n",
       "Name: Survived, dtype: float64"
      ]
     },
     "execution_count": 244,
     "metadata": {},
     "output_type": "execute_result"
    }
   ],
   "source": [
    "X.groupby('Boy')['Survived'].mean()"
   ]
  },
  {
   "cell_type": "code",
   "execution_count": 245,
   "metadata": {},
   "outputs": [
    {
     "data": {
      "text/plain": [
       "Female\n",
       "0    0.188908\n",
       "1    0.742038\n",
       "Name: Survived, dtype: float64"
      ]
     },
     "execution_count": 245,
     "metadata": {},
     "output_type": "execute_result"
    }
   ],
   "source": [
    "X.groupby('Female')['Survived'].mean()"
   ]
  },
  {
   "cell_type": "code",
   "execution_count": 173,
   "metadata": {},
   "outputs": [
    {
     "data": {
      "text/plain": [
       "<matplotlib.colorbar.Colorbar at 0x7f47665251c0>"
      ]
     },
     "execution_count": 173,
     "metadata": {},
     "output_type": "execute_result"
    },
    {
     "data": {
      "image/png": "[encoded data removed]",
      "text/plain": [
       "<Figure size 1296x720 with 2 Axes>"
      ]
     },
     "metadata": {
      "needs_background": "light"
     },
     "output_type": "display_data"
    }
   ],
   "source": [
    "pca = PCA(n_components=2)\n",
    "X2 = pca.fit_transform(X)\n",
    "plt.figure(figsize=(18,10))\n",
    "plt.scatter(X2[:,0], X2[:,1], c=y) # c=X['Age'], c=y\n",
    "plt.colorbar()"
   ]
  },
  {
   "cell_type": "code",
   "execution_count": 122,
   "metadata": {},
   "outputs": [
    {
     "data": {
      "text/plain": [
       "<matplotlib.collections.PathCollection at 0x7f476746a340>"
      ]
     },
     "execution_count": 122,
     "metadata": {},
     "output_type": "execute_result"
    },
    {
     "data": {
      "image/png": "[encoded data removed]",
      "text/plain": [
       "<Figure size 936x720 with 1 Axes>"
      ]
     },
     "metadata": {
      "needs_background": "light"
     },
     "output_type": "display_data"
    }
   ],
   "source": [
    "plt.figure(figsize=(13,10))\n",
    "plt.scatter(X['Pclass'], X['Fare'])"
   ]
  },
  {
   "cell_type": "code",
   "execution_count": 178,
   "metadata": {},
   "outputs": [
    {
     "name": "stderr",
     "output_type": "stream",
     "text": [
      "/usr/local/lib/python3.9/dist-packages/seaborn/_decorators.py:36: FutureWarning: Pass the following variables as keyword args: x, y. From version 0.12, the only valid positional argument will be `data`, and passing other arguments without an explicit keyword will result in an error or misinterpretation.\n",
      "  warnings.warn(\n"
     ]
    },
    {
     "data": {
      "text/plain": [
       "<seaborn.axisgrid.FacetGrid at 0x7f47661e3a30>"
      ]
     },
     "execution_count": 178,
     "metadata": {},
     "output_type": "execute_result"
    },
    {
     "data": {
      "image/png": "[encoded data removed]",
      "text/plain": [
       "<Figure size 402.375x360 with 1 Axes>"
      ]
     },
     "metadata": {
      "needs_background": "light"
     },
     "output_type": "display_data"
    }
   ],
   "source": [
    "data = pd.DataFrame({'x1':X2[:,0], 'x2':X2[:,1], 'y':y}) # X['Pclass']\n",
    "sns.lmplot('x1', 'x2', data=data, hue='y', fit_reg=False)"
   ]
  },
  {
   "cell_type": "code",
   "execution_count": 181,
   "metadata": {},
   "outputs": [
    {
     "name": "stderr",
     "output_type": "stream",
     "text": [
      "/home/vaaliferov/.local/lib/python3.9/site-packages/matplotlib/collections.py:922: RuntimeWarning: invalid value encountered in sqrt\n",
      "  scale = np.sqrt(self._sizes) * dpi / 72.0 * self._factor\n"
     ]
    },
    {
     "data": {
      "text/plain": [
       "<mpl_toolkits.mplot3d.art3d.Path3DCollection at 0x7f476602d880>"
      ]
     },
     "execution_count": 181,
     "metadata": {},
     "output_type": "execute_result"
    },
    {
     "data": {
      "image/png": "[encoded data removed]",
      "text/plain": [
       "<Figure size 936x720 with 1 Axes>"
      ]
     },
     "metadata": {
      "needs_background": "light"
     },
     "output_type": "display_data"
    }
   ],
   "source": [
    "from mpl_toolkits.mplot3d import Axes3D\n",
    "pca = PCA(n_components=3)\n",
    "X3 = pca.fit_transform(X)\n",
    "fig = plt.figure(figsize=(13,10))\n",
    "ax = fig.add_subplot(111, projection='3d')\n",
    "plt.scatter(X3[:,0], X3[:,1], X3[:,2], c=X['Pclass'])"
   ]
  },
  {
   "cell_type": "code",
   "execution_count": null,
   "metadata": {},
   "outputs": [],
   "source": [
    "import numpy as np\n",
    "import pandas as pd\n",
    "X = pd.read_csv('train.csv')\n",
    "X['Embarked'] = X['Embarked'].fillna(X['Embarked'].mode()[0])\n",
    "X['Fare'] = X.groupby('Ticket')['Fare'].transform(lambda x: x / len(x))\n",
    "X['Group'] = X['Pclass'].astype(str) + X['Ticket'].str[:-1] + X['Embarked'] + X['Fare'].astype(str)\n",
    "X['Group'] = X.groupby('Group')['Group'].transform(lambda x: '-' if len(x) < 2 else x)\n",
    "# X.loc[(X['Sex'] == 'male') & (X['Age'] >= 14), 'Group'] = '-'\n",
    "X['Family'] = X['SibSp'] + X['Parch']\n",
    "\n",
    "# X['Rate'] = X.groupby('Group')['Survived'].transform(lambda g: g.mean())\n",
    "# group_survive_rate = X[['Group','Rate']].drop_duplicates().set_index('Group')['Rate'].to_dict()\n",
    "# X['Rate2'] = X['Group'].apply(lambda x: group_survive_rate[x])\n",
    "# X.sort_values(by='Group').drop(['PassengerId','Ticket'], axis=1)\n",
    "# X.loc[X['Sex'] == 'male', 'Sex'] = '---'\n",
    "\n",
    "X['Group'].isnull().sum()"
   ]
  },
  {
   "cell_type": "code",
   "execution_count": null,
   "metadata": {},
   "outputs": [],
   "source": [
    "# X_train.columns.values\n",
    "# X_train.shape"
   ]
  },
  {
   "cell_type": "code",
   "execution_count": null,
   "metadata": {},
   "outputs": [],
   "source": [
    "# pd.set_option('display.max_rows', 500)\n",
    "test_data[y_test != m.predict(X_test)].sort_values(by='Survived')"
   ]
  },
  {
   "cell_type": "code",
   "execution_count": null,
   "metadata": {},
   "outputs": [],
   "source": [
    "from sklearn.model_selection import GridSearchCV\n",
    "m = LogisticRegression()\n",
    "grid = {'C':[0.001,0.01,0.1,1,10,100,1000],'penalty':['l1','l2'],'solver': ['liblinear']}\n",
    "cv = GridSearchCV(m, grid, scoring='accuracy', cv=3)\n",
    "cv.fit(X_train, y_train)\n",
    "cv.best_estimator_, cv.best_score_"
   ]
  },
  {
   "cell_type": "code",
   "execution_count": null,
   "metadata": {},
   "outputs": [],
   "source": [
    "# X_train.columns.values[np.argsort(np.abs(m.coef_[0]))].tolist()\n",
    "sorted(zip(X_train.columns.values, np.abs(m.coef_[0])), key=lambda x: x[1], reverse=True)"
   ]
  },
  {
   "cell_type": "code",
   "execution_count": null,
   "metadata": {},
   "outputs": [],
   "source": [
    "import matplotlib.pyplot as plt\n",
    "plt.figure(figsize=(8,5))\n",
    "plt.barh(X_train.columns.values, m.coef_[0]);"
   ]
  },
  {
   "cell_type": "code",
   "execution_count": null,
   "metadata": {},
   "outputs": [],
   "source": [
    "import numpy as np\n",
    "import pandas as pd\n",
    "from sklearn.linear_model import LogisticRegression\n",
    "from sklearn.neighbors import KNeighborsClassifier\n",
    "from sklearn.ensemble import RandomForestClassifier\n",
    "from sklearn.model_selection import cross_val_score\n",
    "from sklearn.metrics import accuracy_score\n",
    "from sklearn.preprocessing import MinMaxScaler\n",
    "from sklearn.preprocessing import LabelEncoder\n",
    "\n",
    "train_data = pd.read_csv('train.csv')\n",
    "test_data = pd.read_csv('my_test.csv') #@!\n",
    "train_len = len(train_data)\n",
    "\n",
    "df = pd.concat([train_data, test_data])\n",
    "df['Title'] = df['Name'].str.extract('([A-Za-z]+)\\.').fillna('NA')\n",
    "df['Last_Name'] = df['Name'].str.split(\",\").str.get(0)\n",
    "df['Age'] = df.groupby(['Title'])['Age'].transform(lambda g: g.fillna(g.median()))\n",
    "df['Fare'] = df['Fare'].fillna(df['Fare'].median())\n",
    "df['Fare'] = df.groupby('Ticket')['Fare'].transform(lambda x: x / len(x))\n",
    "df['Embarked'] = df['Embarked'].fillna(df['Embarked'].mode()[0])\n",
    "df['Ticket'] = df.groupby('Ticket')['Ticket'].transform(lambda x: '< 3' if len(x) < 3 else x)\n",
    "df = df.drop(['PassengerId','Name','Title','Last_Name','Cabin','SibSp','Parch'], axis=1)\n",
    "\n",
    "df['Fare'] = pd.cut(df['Fare'], bins=[0,10,20,30,100])\n",
    "df['Age'] = pd.cut(df['Age'], bins=[0,8,14,31,100])\n",
    "df = pd.get_dummies(df, columns=['Pclass','Sex','Age','Embarked','Fare','Ticket'])\n",
    "\n",
    "y_train = df[:train_len]['Survived']\n",
    "y_test = df[train_len:]['Survived'] #@!\n",
    "X_train = df[:train_len].drop(['Survived'], axis=1)\n",
    "X_test = df[train_len:].drop(['Survived'], axis=1)\n",
    "\n",
    "m = LogisticRegression()\n",
    "# m = KNeighborsClassifier(n_neighbors=3, weights='distance')\n",
    "# m = RandomForestClassifier()\n",
    "m.fit(X_train, y_train)\n",
    "\n",
    "out = pd.DataFrame()\n",
    "out['PassengerId'] = test_data.PassengerId\n",
    "out['Survived'] = m.predict(X_test)\n",
    "out.to_csv('my_submission.csv', index=False)\n",
    "\n",
    "# cross_val_score(m, X_train, y_train, scoring='accuracy', cv=3).mean()\n",
    "accuracy_score(y_test, m.predict(X_test)) #@!"
   ]
  },
  {
   "cell_type": "code",
   "execution_count": null,
   "metadata": {},
   "outputs": [],
   "source": [
    "train_data = pd.read_csv('train.csv')\n",
    "test_data = pd.read_csv('my_test.csv') #@!\n",
    "train_len = len(train_data)\n",
    "\n",
    "df = pd.concat([train_data, test_data])\n",
    "df['Title'] = df['Name'].str.extract('([A-Za-z]+)\\.').fillna('NA')\n",
    "df['Last_Name'] = df['Name'].str.split(\",\").str.get(0)\n",
    "df['Age'] = df.groupby(['Title'])['Age'].transform(lambda g: g.fillna(g.median()))\n",
    "df['Fare'] = df['Fare'].fillna(df['Fare'].median())\n",
    "df['Fare'] = df.groupby('Ticket')['Fare'].transform(lambda x: x / len(x))\n",
    "df['Embarked'] = df['Embarked'].fillna(df['Embarked'].mode()[0])\n",
    "# df['Ticket'] = df.groupby('Ticket')['Ticket'].transform(lambda x: '< 3' if len(x) < 3 else x)\n",
    "df = df.drop(['PassengerId','Name','Title','Last_Name','Cabin','SibSp','Parch'], axis=1)\n",
    "\n",
    "df['Fare'] = pd.cut(df['Fare'], bins=[0,10,20,30,100])\n",
    "df['Age'] = pd.cut(df['Age'], bins=[0,8,15,30,100]) #[0,7.90,14.45,31.28,120]\n",
    "# df = pd.get_dummies(df, columns=['Pclass','Sex','Age','Embarked','Fare','Ticket'])\n",
    "# df['Ticket'].unique()"
   ]
  },
  {
   "cell_type": "code",
   "execution_count": null,
   "metadata": {},
   "outputs": [],
   "source": [
    "def extract_survive_rate(data):\n",
    "    X = data.copy()\n",
    "    X['Embarked'] = X['Embarked'].fillna(X['Embarked'].mode()[0])\n",
    "    X['Fare'] = X.groupby('Ticket')['Fare'].transform(lambda x: x / len(x))\n",
    "    X['Group'] = X['Pclass'].astype(str) + X['Ticket'].str[:-1] + X['Embarked'] + X['Fare'].astype(str)\n",
    "    X['Group'] = X.groupby('Group')['Group'].transform(lambda x: '-' if len(x) < 2 else x)\n",
    "    X['Rate'] = X.groupby('Group')['Survived'].transform(lambda g: g.mean() if len(g) > 1 else 0.5)\n",
    "    return X[['Group','Rate']].drop_duplicates().set_index('Group')['Rate'].to_dict()\n",
    "\n",
    "X['Rate'] = X['Group'].apply(lambda x: rate.get(x, 0.5))\n",
    "\n",
    "rate = extract_survive_rate(train_data)\n",
    "X_train = extract_features(train_data, rate)\n",
    "X_test = extract_features(test_data, rate)\n",
    "X_train, X_test = align_features(X_train, X_test)"
   ]
  },
  {
   "cell_type": "raw",
   "metadata": {},
   "source": [
    "1. использовать все категории (mr, miss...)\n",
    "2. группировать по sex и title\n",
    "3. title как фича\n",
    "4. убрать sibs и parch\n",
    "5. get_dummies - отдельная функция\n",
    "6. заполнять пропуски по всем данным - train + test\n",
    "7. family by last_name -> cabin.fillna\n",
    "8. убрать cabin\n",
    "9. NA ticket => crew member\n",
    "10. все женщины и дети в семьях\n",
    "11. label encoder - hash ?\n",
    "12. survival rate for each group (доля выживших в группе) = новая фича (вместо групп)\n",
    "    если в группе один человек, то rate = 0.5 ! эту фичу нужно будет масштабировать"
   ]
  },
  {
   "cell_type": "code",
   "execution_count": 18,
   "metadata": {},
   "outputs": [
    {
     "data": {
      "image/png": "[encoded data removed]",
      "text/plain": [
       "<Figure size 432x288 with 1 Axes>"
      ]
     },
     "metadata": {
      "needs_background": "light"
     },
     "output_type": "display_data"
    }
   ],
   "source": [
    "import numpy as np\n",
    "import pandas as pd\n",
    "import seaborn as sns\n",
    "train_data = pd.read_csv('train.csv')\n",
    "train_data['Fare'] = train_data['Fare'].fillna(train_data['Fare'].median())\n",
    "train_data['Fare'] = train_data.groupby('Ticket')['Fare'].transform(lambda x: x / len(x))\n",
    "train_data['Family'] = train_data['SibSp'] + train_data['Parch']\n",
    "sns.histplot(np.log1p(train_data['Fare']));"
   ]
  },
  {
   "cell_type": "code",
   "execution_count": null,
   "metadata": {},
   "outputs": [],
   "source": [
    "from sklearn.model_selection import GridSearchCV\n",
    "m = LogisticRegression()\n",
    "grid = {'C':[0.001,0.01,0.1,1,10,100,1000],'penalty':['l1','l2'],'solver': ['liblinear']}\n",
    "cv = GridSearchCV(m, grid, scoring='accuracy', cv=3)\n",
    "cv.fit(X_train, y_train)\n",
    "cv.best_estimator_, cv.best_score_"
   ]
  },
  {
   "cell_type": "code",
   "execution_count": null,
   "metadata": {},
   "outputs": [],
   "source": [
    "# scaler, scaled = MinMaxScaler(), ['SibSp','Parch']\n",
    "# X_train[scaled] = scaler.fit_transform(X_train[scaled])\n",
    "# X_test[scaled] = scaler.transform(X_test[scaled])"
   ]
  },
  {
   "cell_type": "code",
   "execution_count": null,
   "metadata": {},
   "outputs": [],
   "source": [
    "# label = LabelEncoder()\n",
    "# df['Fare'] = label.fit_transform(df['Fare'])\n",
    "# df['Sex'] = label.fit_transform(df['Sex'])\n",
    "# df['Ticket'] = label.fit_transform(df['Ticket'])\n",
    "# df['Age'] = label.fit_transform(df['Age'])\n",
    "# df['Embarked'] = label.fit_transform(df['Embarked'])"
   ]
  },
  {
   "cell_type": "code",
   "execution_count": null,
   "metadata": {},
   "outputs": [],
   "source": [
    "import numpy as np\n",
    "import pandas as pd\n",
    "train_data = pd.read_csv('train.csv')\n",
    "test_data = pd.read_csv('test.csv')\n",
    "train_len = len(train_data)\n",
    "df = pd.concat([train_data, test_data])\n",
    "df['Ticket'] = df.groupby(['Ticket']).ngroup()\n",
    "df['Ticket'] = df.groupby('Ticket')['Ticket'].transform(lambda x: -1 if len(x) < 3 else x)\n",
    "df.sort_values(by='Ticket')\n",
    "len(df['Ticket'].unique())"
   ]
  },
  {
   "cell_type": "code",
   "execution_count": null,
   "metadata": {},
   "outputs": [],
   "source": [
    "import numpy as np\n",
    "import pandas as pd\n",
    "train_data = pd.read_csv('train.csv')\n",
    "test_data = pd.read_csv('test.csv')\n",
    "train_len = len(train_data)\n",
    "df = pd.concat([train_data, test_data])\n",
    "df['Last_Name'] = df['Name'].str.split(\",\").str.get(0)\n",
    "df['Family'] = df.groupby(['Ticket','Last_Name']).ngroup()\n",
    "df['Family'] = df.groupby('Family')['Family'].transform(lambda x: -1 if len(x) < 3 else x)\n",
    "df.sort_values(by='Family')\n",
    "len(df['Family'].unique())"
   ]
  },
  {
   "cell_type": "code",
   "execution_count": null,
   "metadata": {},
   "outputs": [],
   "source": [
    "import numpy as np\n",
    "import pandas as pd\n",
    "train_data = pd.read_csv('train.csv')\n",
    "test_data = pd.read_csv('test.csv')\n",
    "train_len = len(train_data)\n",
    "df = pd.concat([train_data, test_data])\n",
    "df['Ticket'] = df.groupby('Ticket')['Ticket'].transform(lambda x: '< 3' if len(x) < 3 else x)\n",
    "df.sort_values(by='Ticket')\n",
    "len(df['Ticket'].unique())"
   ]
  },
  {
   "cell_type": "code",
   "execution_count": null,
   "metadata": {},
   "outputs": [],
   "source": [
    "import numpy as np\n",
    "import pandas as pd\n",
    "\n",
    "train_data = pd.read_csv('train.csv')\n",
    "test_data = pd.read_csv('test.csv')\n",
    "df = pd.concat([train_data, test_data])\n",
    "\n",
    "for name, group in df.groupby(['Ticket']):\n",
    "    if len(group) > 1: \n",
    "        print(group[['Cabin','Ticket','Survived']])\n",
    "        print(len(group))"
   ]
  },
  {
   "cell_type": "code",
   "execution_count": null,
   "metadata": {},
   "outputs": [],
   "source": [
    "import numpy as np\n",
    "import pandas as pd\n",
    "\n",
    "train_data = pd.read_csv('train.csv')\n",
    "test_data = pd.read_csv('test.csv')\n",
    "train_len = len(train_data)\n",
    "df = pd.concat([train_data, test_data])\n",
    "df['Last_Name'] = df['Name'].str.split(\",\").str.get(0)\n",
    "\n",
    "for name, group in df.groupby(['Ticket','Last_Name']):\n",
    "    if len(group) > 1: \n",
    "        print(group[['Last_Name','Cabin','Ticket','Survived']])\n",
    "        print(len(group))"
   ]
  },
  {
   "cell_type": "code",
   "execution_count": null,
   "metadata": {},
   "outputs": [],
   "source": [
    "train_data['Ticket'].isnull().sum()"
   ]
  },
  {
   "cell_type": "code",
   "execution_count": null,
   "metadata": {},
   "outputs": [],
   "source": [
    "# df['Family'] = df['SibSp'] + df['Parch']\n",
    "# df['Alone'] = (df['SibSp'] + df['Parch'] == 0).astype(int)\n",
    "# df['Cabin'] = df['Cabin'].fillna('NA')\n",
    "# df['Family'] = df.groupby(['Ticket','Last_Name']).ngroup()\n",
    "# df['Family'] = df.groupby('Family')['Family'].transform(lambda x: -1 if len(x) < 3 else x)\n",
    "# df['Ticket'] = df.groupby(['Ticket']).ngroup()\n",
    "# df['Ticket'] = df.groupby('Ticket')['Ticket'].transform(lambda x: -1 if len(x) < 3 else x)"
   ]
  },
  {
   "cell_type": "code",
   "execution_count": null,
   "metadata": {},
   "outputs": [],
   "source": [
    "import numpy as np\n",
    "import pandas as pd\n",
    "\n",
    "train_data = pd.read_csv('train.csv')\n",
    "test_data = pd.read_csv('test.csv')\n",
    "train_len = len(train_data)\n",
    "df = pd.concat([train_data, test_data])\n",
    "df['Last_Name'] = df['Name'].str.split(\",\").str.get(0)\n",
    "\n",
    "for name, group in df.groupby(['Pclass','Last_Name']):\n",
    "    if len(group) > 9: \n",
    "        print(group[['Last_Name','Cabin','Ticket']])\n",
    "        print(len(group))"
   ]
  },
  {
   "cell_type": "code",
   "execution_count": null,
   "metadata": {},
   "outputs": [],
   "source": [
    "one_hot_encoded = ['Pclass','Sex','Age','SibSp','Parch','Cabin','Embarked','Fare','Alone']\n",
    "X_train = pd.get_dummies(X_train, columns=one_hot_encoded)\n",
    "X_test = pd.get_dummies(X_test, columns=one_hot_encoded)\n",
    "X_train, X_test = X_train.align(X_test, join='outer', axis=1, fill_value=0)"
   ]
  },
  {
   "cell_type": "code",
   "execution_count": 17,
   "metadata": {},
   "outputs": [],
   "source": [
    "import pandas as pd\n",
    "df1 = pd.read_csv('titanic.csv')\n",
    "df2 = pd.read_csv('test.csv')\n",
    "df1 = df1.drop(['Boat','Body','Home.dest'], axis=1)\n",
    "df = pd.concat([df1, df2])\n",
    "df = df[df.duplicated(['Name'], keep=False)]\n",
    "df = df.sort_values(by='Name')\n",
    "df = df[df['Survived'].notnull()]\n",
    "df.to_csv('my_test.csv', index=False)"
   ]
  },
  {
   "cell_type": "code",
   "execution_count": null,
   "metadata": {},
   "outputs": [],
   "source": [
    "df1 = pd.read_csv('titanic.csv')\n",
    "df2 = pd.read_csv('train.csv')\n",
    "df3 = pd.read_csv('test.csv')\n",
    "df4 = pd.concat([df1,df2]).drop_duplicates(subset='Name', keep=\"last\")\n",
    "df1.shape, df2.shape, df3.shape, df4.shape"
   ]
  },
  {
   "cell_type": "code",
   "execution_count": null,
   "metadata": {},
   "outputs": [],
   "source": [
    "from sklearn.model_selection import GridSearchCV\n",
    "m = LogisticRegression()\n",
    "grid = {'C':[0.001,0.01,0.1,1,10,100,1000],'penalty':['l1','l2'],'solver': ['liblinear']}\n",
    "cv = GridSearchCV(m, grid, scoring='accuracy', cv=3)\n",
    "cv.fit(X_train, y_train)\n",
    "cv.best_estimator_, cv.best_score_"
   ]
  },
  {
   "cell_type": "code",
   "execution_count": null,
   "metadata": {},
   "outputs": [],
   "source": [
    "train_data['Name'].str.contains('Don').sum()"
   ]
  },
  {
   "cell_type": "code",
   "execution_count": null,
   "metadata": {},
   "outputs": [],
   "source": [
    "(train_data['Fare'] / (train_data['SibSp'] + train_data['Parch'] + 1) < 1).sum()"
   ]
  },
  {
   "cell_type": "code",
   "execution_count": null,
   "metadata": {},
   "outputs": [],
   "source": [
    "train_data['Pclass'].isnull().sum()"
   ]
  },
  {
   "cell_type": "code",
   "execution_count": null,
   "metadata": {},
   "outputs": [],
   "source": [
    "train_data.groupby('Sex').apply(lambda x: x['Survived'].sum() / len(x))"
   ]
  },
  {
   "cell_type": "code",
   "execution_count": null,
   "metadata": {},
   "outputs": [],
   "source": [
    "train_data.Survived[train_data['Sex'] == 'male'].value_counts().plot(kind='pie')"
   ]
  },
  {
   "cell_type": "code",
   "execution_count": null,
   "metadata": {},
   "outputs": [],
   "source": [
    "train_data.Survived[train_data['Sex'] == 'female'].value_counts().plot(kind='pie')"
   ]
  },
  {
   "cell_type": "code",
   "execution_count": null,
   "metadata": {},
   "outputs": [],
   "source": [
    "train_data.loc[train_data['Sex'] == 'male', 'Survived'].mean()\n",
    "train_data.loc[train_data['Sex'] == 'female', 'Survived'].mean()"
   ]
  },
  {
   "cell_type": "code",
   "execution_count": null,
   "metadata": {},
   "outputs": [],
   "source": [
    "train_data['Age_c'] = pd.cut(train_data['Age'], 4)\n",
    "# train_data['Age_c'] = pd.cut(train_data['Age'], bins=[0,7.90,14.45,31.28,120])\n",
    "s = train_data.groupby('Age_c').apply(lambda x: x['Survived'].sum() / len(x))\n",
    "plt.bar(s.index.astype(str), s.values)\n",
    "plt.xticks(rotation=45);"
   ]
  },
  {
   "cell_type": "code",
   "execution_count": null,
   "metadata": {},
   "outputs": [],
   "source": [
    "women = train_data[train_data['Sex']=='female']\n",
    "men = train_data[train_data['Sex']=='male']\n",
    "# women[women['Survived']==0].Age.dropna().hist()\n",
    "women[women['Survived']==1].Age.dropna().hist()"
   ]
  },
  {
   "cell_type": "code",
   "execution_count": null,
   "metadata": {},
   "outputs": [],
   "source": [
    "#women = train_data[train_data['Sex']=='female']\n",
    "#men = train_data[train_data['Sex']=='male']\n",
    "#sns.displot(men[men['Survived']==1].Age.dropna(), bins=18)\n",
    "#sns.displot(men[men['Survived']==0].Age.dropna(), bins=18)\n",
    "#sns.displot(women[women['Survived']==1].Age.dropna(), bins=18)\n",
    "#sns.displot(women[women['Survived']==0].Age.dropna(), bins=18)"
   ]
  },
  {
   "cell_type": "code",
   "execution_count": null,
   "metadata": {},
   "outputs": [],
   "source": [
    "s = train_data.groupby('Sex').apply(lambda x: x['Survived'].sum() / len(x))\n",
    "plt.bar(s.index.astype(str), s.values);"
   ]
  },
  {
   "cell_type": "code",
   "execution_count": null,
   "metadata": {},
   "outputs": [],
   "source": [
    "train_data['Age_c'] = pd.cut(train_data['Age'], 5)\n",
    "train_data.groupby('Age_c').apply(lambda x: x['Survived'].sum() / len(x))"
   ]
  },
  {
   "cell_type": "code",
   "execution_count": null,
   "metadata": {},
   "outputs": [],
   "source": [
    "s = train_data.groupby('Pclass').apply(lambda x: x['Survived'].sum() / len(x))\n",
    "plt.bar(s.index.astype(str), s.values);"
   ]
  },
  {
   "cell_type": "code",
   "execution_count": null,
   "metadata": {},
   "outputs": [],
   "source": [
    "train_data['n'] = train_data.groupby('Ticket')['Fare'].transform(lambda x: len(x))\n",
    "train_data['Fare1'] = train_data.groupby('Ticket')['Fare'].transform(lambda x: x / len(x))\n",
    "train_data['Fare1'] = pd.cut(train_data['Fare1'], bins=[0,10,20,30,100])"
   ]
  },
  {
   "cell_type": "code",
   "execution_count": null,
   "metadata": {},
   "outputs": [],
   "source": [
    "import matplotlib.pyplot as plt\n",
    "s = train_data.groupby('Fare1').apply(lambda x: x['Survived'].sum() / len(x))\n",
    "plt.bar(s.index.astype(str), s.values);\n",
    "s"
   ]
  },
  {
   "cell_type": "code",
   "execution_count": null,
   "metadata": {},
   "outputs": [],
   "source": [
    "# train_data['Age'].isnull().sum()\n",
    "# train_data['Title'].isnull().sum()\n",
    "# X['Age'] = X['Age'].fillna(X['Age'].mean())\n",
    "train_data['Title'] = train_data['Name'].str.extract('(Mrs|Mr|Miss)').fillna('NA')\n",
    "train_data['Age'] = train_data.groupby('Title').transform(lambda g: g.fillna(g.mean()))\n",
    "# train_data['Age'] = train_data.groupby('Title')['Age'].apply(lambda g: g.fillna(g.median()))"
   ]
  },
  {
   "cell_type": "code",
   "execution_count": null,
   "metadata": {},
   "outputs": [],
   "source": [
    "X = train_data\n",
    "X['Title'] = X['Name'].str.extract('([A-Za-z]+)\\.').fillna('NA')\n",
    "# X['Title'] = X['Title'].map({'Mlle':'Miss','Major':'Mr','Col':'Mr','Sir':'Mr','Don':'Mr','Mme':'Miss','Lady':'Mrs','Jonkheer':'Mr','Capt':'Mr','Countess':'Mrs','Ms':'Miss','Dona':'Mrs'})           \n",
    "\n",
    "X['Title'].unique()\n",
    "\n",
    "X['Title'].replace({'Mlle':'Miss','Major':'Mr','Col':'Mr','Sir':'Mr','Don':'Mr','Mme':'Miss','Lady':'Mrs','Jonkheer':'Mr','Capt':'Mr','Countess':'Mrs','Ms':'Miss','Dona':'Mrs'})\n",
    "X['Age'] = X.groupby(['Pclass','Title'])['Age'].transform(lambda g: g.fillna(g.mean()))\n",
    "X['Age']"
   ]
  },
  {
   "cell_type": "code",
   "execution_count": null,
   "metadata": {},
   "outputs": [],
   "source": [
    "X['Age'] = pd.cut(X['Age'], bins=[0,7.90,14.45,31.28,120])\n",
    "X['Fare'] = pd.cut(X['Fare'], bins=[0,10,20,30,100])\n",
    "\n",
    "pd.qcut(train_data['Fare'], 5, labels=[1,2,3,4,5]) # without one hot\n",
    "pd.qcut(train_data['Age'], 4, labels=[1,2,3,4]) # without one hot\n",
    "train_data['Sex'].map({'male':0,'female':1}) # without one hot\n",
    "\n",
    "from sklearn.preprocessing import LabelEncoder\n",
    "#label = LabelEncoder()\n",
    "#train_data['Fare'] = label.fit_transform(train_data['Fare'])\n",
    "#train_data['Fare']"
   ]
  },
  {
   "cell_type": "code",
   "execution_count": null,
   "metadata": {},
   "outputs": [],
   "source": [
    "import matplotlib.pyplot as plt\n",
    "\n",
    "train_data = pd.read_csv('train.csv')\n",
    "\n",
    "train_data['Title'] = train_data['Name'].str.extract('([A-Za-z]+)\\.').fillna('NA')\n",
    "train_data['Title'] = train_data['Title'].replace({'Mlle':'Miss','Major':'Mr','Col':'Mr','Sir':'Mr','Don':'Mr',\n",
    "       'Mme':'Miss','Lady':'Mrs','Jonkheer':'Mr','Capt':'Mr','Countess':'Mrs','Ms':'Miss','Dona':'Mrs'})\n",
    "\n",
    "train_data['Age'] = train_data.groupby(['Pclass','Title'])['Age'].transform(lambda g: g.fillna(g.mean()))\n",
    "train_data['Age'] = pd.cut(train_data['Age'], 10) # bins=[0,7.90,14.45,31.28,120]\n",
    "\n",
    "s = train_data.groupby('Age').apply(lambda x: x['Survived'].sum() / len(x))\n",
    "plt.bar(s.index.astype(str), s.values);"
   ]
  },
  {
   "cell_type": "code",
   "execution_count": null,
   "metadata": {},
   "outputs": [],
   "source": [
    "import numpy as np\n",
    "import pandas as pd\n",
    "import seaborn as sns\n",
    "import matplotlib.pyplot as plt\n",
    "from sklearn.linear_model import LogisticRegression\n",
    "from sklearn.neighbors import KNeighborsClassifier\n",
    "from sklearn.model_selection import cross_val_score\n",
    "from sklearn.metrics import accuracy_score\n",
    "from sklearn.metrics import confusion_matrix\n",
    "from sklearn.preprocessing import StandardScaler\n",
    "from sklearn.preprocessing import MinMaxScaler\n",
    "from sklearn.preprocessing import LabelEncoder\n",
    "from sklearn.model_selection import GridSearchCV\n",
    "\n",
    "train_data = pd.read_csv(\"/kaggle/input/titanic/train.csv\")\n",
    "test_data = pd.read_csv(\"/kaggle/input/titanic/test.csv\")\n",
    "\n",
    "y_train = train_data['Survived'].copy()\n",
    "X_train = train_data[['Pclass','Sex','SibSp','Parch','Age','Fare','Embarked','Cabin']].copy()\n",
    "X_test = test_data[['Pclass','Sex','SibSp','Parch','Age','Fare','Embarked','Cabin']].copy()\n",
    "\n",
    "X_train['Age'] = X_train['Age'].fillna(X_train['Age'].mean())\n",
    "X_test['Age'] = X_test['Age'].fillna(X_test['Age'].mean())\n",
    "X_train['Fare'] = X_train['Fare'].fillna(X_train['Fare'].mean())\n",
    "X_test['Fare'] = X_test['Fare'].fillna(X_test['Fare'].mean())\n",
    "X_train['Embarked'] = X_train['Fare'].fillna(X_train['Embarked'].mode()[0])\n",
    "X_test['Embarked'] = X_test['Fare'].fillna(X_test['Embarked'].mode()[0])\n",
    "X_train['Cabin'] = X_train['Cabin'].fillna('NA')\n",
    "X_test['Cabin'] = X_test['Cabin'].fillna('NA')\n",
    "\n",
    "X_train['Family'] = X_train['Parch'] + X_train['SibSp']\n",
    "X_train['Is_Alone'] = (X_train['Family'] == 0)\n",
    "\n",
    "X_train['Age'] = pd.cut(X_train['Age'], 80, labels=range(80))\n",
    "X_test['Age'] = pd.cut(X_test['Age'], 80, labels=range(80))\n",
    "X_train['Fare'] = pd.cut(X_train['Fare'], bins=[0,7.90,14.45,31.28,120], labels=range(4))\n",
    "X_test['Fare'] = pd.cut(X_test['Fare'], bins=[0,7.90,14.45,31.28,120], labels=range(4))\n",
    "\n",
    "# X_train['Sex'] = X_train['Sex'].map({'male':0,'female':1})\n",
    "# X_test['Sex'] = X_test['Sex'].map({'male':0,'female':1})\n",
    "X_train['Sex'] = LabelEncoder().fit_transform(X_train['Sex'])\n",
    "X_test['Sex'] = LabelEncoder().fit_transform(X_test['Sex'])\n",
    "X_train['Embarked'] = LabelEncoder().fit_transform(X_train['Embarked'])\n",
    "X_test['Embarked'] = LabelEncoder().fit_transform(X_test['Embarked'])\n",
    "X_train['Cabin'] = LabelEncoder().fit_transform(X_train['Cabin'])\n",
    "X_test['Cabin'] = LabelEncoder().fit_transform(X_test['Cabin'])\n",
    "\n",
    "# scaler = StandardScaler()\n",
    "# X_train[['Age']] = scaler.fit_transform(X_train[['Age']])\n",
    "# X_test[['Age']] = scaler.transform(X_test[['Age']])\n",
    "\n",
    "# scaler = MinMaxScaler()\n",
    "# X_train[['Fare']] = scaler.fit_transform(X_train[['Fare']])\n",
    "# X_test[['Fare']] = scaler.transform(X_test[['Fare']])\n",
    "\n",
    "X_train = pd.get_dummies(X_train, columns=['Pclass','Sex','SibSp','Parch','Age','Fare','Embarked','Cabin'])\n",
    "X_test = pd.get_dummies(X_test, columns=['Pclass','Sex','SibSp','Parch', 'Age', 'Fare','Embarked','Cabin'])\n",
    "X_train, X_test = X_train.align(X_test, join='outer', axis=1, fill_value=0)\n",
    "\n",
    "lr = LogisticRegression(C=1, solver='liblinear')\n",
    "lr.fit(X_train, y_train)\n",
    "\n",
    "output = pd.DataFrame()\n",
    "output['PassengerId'] = test_data.PassengerId\n",
    "output['Survived'] = lr.predict(X_test)\n",
    "output.to_csv('my_submission.csv', index=False)\n",
    "\n",
    "cross_val_score(lr, X_train, y_train, scoring='accuracy', cv=3).mean()\n",
    "# accuracy_score(y_train, lr.predict(X_train))\n",
    "\n",
    "output.shape"
   ]
  },
  {
   "cell_type": "code",
   "execution_count": null,
   "metadata": {},
   "outputs": [],
   "source": [
    "X_test.shape"
   ]
  },
  {
   "cell_type": "code",
   "execution_count": null,
   "metadata": {},
   "outputs": [],
   "source": [
    "lr = LogisticRegression()\n",
    "\n",
    "grid = {\n",
    "    'C': [0.001, 0.01, 0.1, 1, 10, 100, 1000],\n",
    "    'penalty': ['l1','l2'],\n",
    "    'solver': ['liblinear']\n",
    "}\n",
    "\n",
    "cv = GridSearchCV(lr, grid, scoring='accuracy', cv=3)\n",
    "cv.fit(X_train, y_train)\n",
    "cv.best_estimator_, cv.best_score_"
   ]
  },
  {
   "cell_type": "code",
   "execution_count": null,
   "metadata": {},
   "outputs": [],
   "source": [
    "plt.plot(train_data['Survived'], train_data['Fare'], '.')"
   ]
  },
  {
   "cell_type": "code",
   "execution_count": null,
   "metadata": {},
   "outputs": [],
   "source": [
    "train_data['Fare'].hist()"
   ]
  },
  {
   "cell_type": "code",
   "execution_count": null,
   "metadata": {},
   "outputs": [],
   "source": [
    "train_data.groupby('Fare')['Survived'].sum()"
   ]
  },
  {
   "cell_type": "code",
   "execution_count": null,
   "metadata": {},
   "outputs": [],
   "source": [
    "# X_test = X_test.drop('Parch_9', axis=1)\n",
    "# train_data[train_data['Age'].isnull()]\n",
    "# train_data['Cabin'].unique()\n",
    "# (test_data['Fare'] == 0).sum()\n",
    "# X_train['Age'].mean()\n",
    "# pd.cut(train_data['Age'], 5, labels=[1,2,3,4,5])\n",
    "# X_train.isnull().sum()"
   ]
  },
  {
   "cell_type": "code",
   "execution_count": null,
   "metadata": {},
   "outputs": [],
   "source": [
    "def age_category(age):\n",
    "    if age < 16: return 1\n",
    "    if age < 35: return 2\n",
    "    return 3\n",
    "\n",
    "# train_data['Age'].apply(age_category)"
   ]
  },
  {
   "cell_type": "code",
   "execution_count": null,
   "metadata": {},
   "outputs": [],
   "source": [
    "'''\n",
    "def age_category(age):\n",
    "    if age < 18: return 1\n",
    "    if age < 35: return 2\n",
    "    return 3\n",
    "\n",
    "X_train['Age'] = X_train['Age'].apply(age_category)\n",
    "X_test['Age'] = X_test['Age'].apply(age_category)\n",
    "'''"
   ]
  },
  {
   "cell_type": "code",
   "execution_count": null,
   "metadata": {},
   "outputs": [],
   "source": [
    "# X_train[:5]"
   ]
  },
  {
   "cell_type": "code",
   "execution_count": null,
   "metadata": {},
   "outputs": [],
   "source": [
    "'''\n",
    "train_data = pd.read_csv(\"/kaggle/input/titanic/train.csv\")\n",
    "test_data = pd.read_csv(\"/kaggle/input/titanic/test.csv\")\n",
    "\n",
    "features = ['Pclass','Sex','SibSp','Parch']\n",
    "y_train = train_data['Survived'].copy()\n",
    "\n",
    "X_train = train_data[features].copy()\n",
    "X_train['Sex'] = X_train['Sex'].map({'male':0,'female':1})\n",
    "X_train = pd.get_dummies(X_train, columns=features)\n",
    "\n",
    "X_test = test_data[features].copy()\n",
    "X_test['Sex'] = X_test['Sex'].map({'male':0,'female':1})\n",
    "X_test = pd.get_dummies(X_test, columns=features)\n",
    "X_test = X_test.drop('Parch_9', axis=1)\n",
    "\n",
    "knn = KNeighborsClassifier()\n",
    "knn.fit(X_train, y_train)\n",
    "output = pd.DataFrame()\n",
    "output['PassengerId'] = test_data.PassengerId\n",
    "output['Survived'] = knn.predict(X_test)\n",
    "output.to_csv('my_submission.csv', index=False)\n",
    "'''"
   ]
  },
  {
   "cell_type": "code",
   "execution_count": null,
   "metadata": {},
   "outputs": [],
   "source": [
    "# train_data[:5]"
   ]
  },
  {
   "cell_type": "code",
   "execution_count": null,
   "metadata": {},
   "outputs": [],
   "source": [
    "# train_data.groupby('Age').size().sort_index().plot()\n",
    "# plt.plot(s.index, s.values)"
   ]
  },
  {
   "cell_type": "code",
   "execution_count": null,
   "metadata": {},
   "outputs": [],
   "source": [
    "# train_data.groupby('Sex').size()"
   ]
  },
  {
   "cell_type": "code",
   "execution_count": null,
   "metadata": {},
   "outputs": [],
   "source": [
    "'''\n",
    "accuracy_score(y_train, knn.predict(X_train))\n",
    "accuracy_score(y_train, lr.predict(X_train))\n",
    "sns.pairplot(train_data, hue='Survived')\n",
    "plt.scatter(x=train_data['SibSp'], y=train_data['Pclass'])\n",
    "train_data['Sex'].hist()\n",
    "cross_val_score(lr, X_train, y_train, scoring='accuracy', cv=3)\n",
    "confusion_matrix(y_train, lr.predict(X_train))\n",
    "cat my_submission.csv\n",
    "lr.coef_\n",
    "X_train.isnull().sum()\n",
    "X_train.info()\n",
    "X_train = X_train.replace(['male','female'], [0,1])\n",
    "X_train['Sex'] = X_train['Sex'].replace(['male','female'], [0,1])\n",
    "X_train['Sex'] = X_train['Sex'].replace({'male':0,'female':1})\n",
    "X_train['Sex'] = X_train['Sex'].map({'male':0,'female':1})\n",
    "X_train['Sex'] = 1 #X_train['Sex'].apply(lambda x: {'male':0,'female':1}[x])\n",
    "X_train['Sex'].isnull().sum()\n",
    "train_data[:5]\n",
    "'''"
   ]
  },
  {
   "cell_type": "code",
   "execution_count": null,
   "metadata": {},
   "outputs": [],
   "source": [
    "'''\n",
    "from sklearn.ensemble import RandomForestClassifier\n",
    "y = train_data[\"Survived\"]\n",
    "features = [\"Pclass\", \"Sex\", \"SibSp\", \"Parch\"]\n",
    "X = pd.get_dummies(train_data[features])\n",
    "X_test = pd.get_dummies(test_data[features])\n",
    "model = RandomForestClassifier(n_estimators=100, max_depth=5, random_state=1)\n",
    "model.fit(X, y)\n",
    "predictions = model.predict(X_test)\n",
    "output = pd.DataFrame({'PassengerId': test_data.PassengerId, 'Survived': predictions})\n",
    "output.to_csv('my_submission.csv', index=False)\n",
    "print(\"Your submission was successfully saved!\")\n",
    "'''"
   ]
  },
  {
   "cell_type": "code",
   "execution_count": null,
   "metadata": {},
   "outputs": [],
   "source": [
    "import numpy as np\n",
    "import pandas as pd\n",
    "import seaborn as sns\n",
    "import matplotlib.pyplot as plt\n",
    "from sklearn.linear_model import LogisticRegression\n",
    "from sklearn.neighbors import KNeighborsClassifier\n",
    "from sklearn.model_selection import cross_val_score\n",
    "from sklearn.metrics import accuracy_score\n",
    "from sklearn.metrics import confusion_matrix\n",
    "from sklearn.preprocessing import StandardScaler\n",
    "from sklearn.preprocessing import MinMaxScaler\n",
    "from sklearn.preprocessing import LabelEncoder\n",
    "from sklearn.model_selection import GridSearchCV\n",
    "\n",
    "train_data = pd.read_csv(\"/kaggle/input/titanic/train.csv\")\n",
    "test_data = pd.read_csv(\"/kaggle/input/titanic/test.csv\")\n",
    "\n",
    "y_train = train_data['Survived'].copy()\n",
    "X_train = train_data[['Pclass','Sex','SibSp','Parch','Age','Fare','Embarked','Cabin']].copy()\n",
    "X_test = test_data[['Pclass','Sex','SibSp','Parch','Age','Fare','Embarked','Cabin']].copy()\n",
    "\n",
    "X_train['Age'] = X_train['Age'].fillna(X_train['Age'].mean())\n",
    "X_test['Age'] = X_test['Age'].fillna(X_test['Age'].mean())\n",
    "X_train['Fare'] = X_train['Fare'].fillna(X_train['Fare'].mean())\n",
    "X_test['Fare'] = X_test['Fare'].fillna(X_test['Fare'].mean())\n",
    "X_train['Embarked'] = X_train['Embarked'].fillna(X_train['Embarked'].mode()[0])\n",
    "X_test['Embarked'] = X_test['Embarked'].fillna(X_test['Embarked'].mode()[0])\n",
    "X_train['Cabin'] = X_train['Cabin'].fillna('NA')\n",
    "X_test['Cabin'] = X_test['Cabin'].fillna('NA')\n",
    "\n",
    "X_train['Family'] = X_train['Parch'] + X_train['SibSp']\n",
    "X_train['Is_Alone'] = (X_train['Family'] == 0)\n",
    "\n",
    "X_train['Age'] = pd.cut(X_train['Age'], 80, labels=range(80))\n",
    "X_test['Age'] = pd.cut(X_test['Age'], 80, labels=range(80))\n",
    "X_train['Fare'] = pd.cut(X_train['Fare'], bins=[0,7.90,14.45,31.28,120], labels=range(4))\n",
    "X_test['Fare'] = pd.cut(X_test['Fare'], bins=[0,7.90,14.45,31.28,120], labels=range(4))\n",
    "\n",
    "# X_train['Sex'] = X_train['Sex'].map({'male':0,'female':1})\n",
    "# X_test['Sex'] = X_test['Sex'].map({'male':0,'female':1})\n",
    "X_train['Sex'] = LabelEncoder().fit_transform(X_train['Sex'])\n",
    "X_test['Sex'] = LabelEncoder().fit_transform(X_test['Sex'])\n",
    "X_train['Embarked'] = LabelEncoder().fit_transform(X_train['Embarked'])\n",
    "X_test['Embarked'] = LabelEncoder().fit_transform(X_test['Embarked'])\n",
    "X_train['Cabin'] = LabelEncoder().fit_transform(X_train['Cabin'])\n",
    "X_test['Cabin'] = LabelEncoder().fit_transform(X_test['Cabin'])\n",
    "\n",
    "# scaler = StandardScaler()\n",
    "# X_train[['Age']] = scaler.fit_transform(X_train[['Age']])\n",
    "# X_test[['Age']] = scaler.transform(X_test[['Age']])\n",
    "\n",
    "# scaler = MinMaxScaler()\n",
    "# X_train[['Fare']] = scaler.fit_transform(X_train[['Fare']])\n",
    "# X_test[['Fare']] = scaler.transform(X_test[['Fare']])\n",
    "\n",
    "X_train = pd.get_dummies(X_train, columns=['Pclass','Sex','SibSp','Parch','Age','Fare','Embarked','Cabin'])\n",
    "X_test = pd.get_dummies(X_test, columns=['Pclass','Sex','SibSp','Parch', 'Age', 'Fare','Embarked','Cabin'])\n",
    "X_train, X_test = X_train.align(X_test, join='outer', axis=1, fill_value=0)\n",
    "\n",
    "lr = LogisticRegression(C=1, solver='liblinear')\n",
    "lr.fit(X_train, y_train)\n",
    "\n",
    "output = pd.DataFrame()\n",
    "output['PassengerId'] = test_data.PassengerId\n",
    "output['Survived'] = lr.predict(X_test)\n",
    "output.to_csv('my_submission.csv', index=False)\n",
    "\n",
    "cross_val_score(lr, X_train, y_train, scoring='accuracy', cv=3).mean()\n",
    "# accuracy_score(y_train, lr.predict(X_train))\n",
    "\n",
    "output.shape"
   ]
  }
 ],
 "metadata": {
  "kernelspec": {
   "display_name": "Python 3",
   "language": "python",
   "name": "python3"
  },
  "language_info": {
   "codemirror_mode": {
    "name": "ipython",
    "version": 3
   },
   "file_extension": ".py",
   "mimetype": "text/x-python",
   "name": "python",
   "nbconvert_exporter": "python",
   "pygments_lexer": "ipython3",
   "version": "3.9.2"
  }
 },
 "nbformat": 4,
 "nbformat_minor": 4
}
