{
 "cells": [
  {
   "cell_type": "markdown",
   "id": "yellow-choice",
   "metadata": {},
   "source": [
    "https://sql-ex.ru/help/select13.php  \n",
    "https://sql-ex.ru/learn_exercises.php  "
   ]
  },
  {
   "cell_type": "markdown",
   "id": "southeast-hometown",
   "metadata": {},
   "source": [
    "**[001]** Find the model number, speed and hard drive capacity for all the PCs with prices below $500.\n",
    "Result set: model, speed, hd."
   ]
  },
  {
   "cell_type": "raw",
   "id": "attractive-banking",
   "metadata": {},
   "source": [
    "select model, speed, hd from PC where price < 500"
   ]
  },
  {
   "cell_type": "markdown",
   "id": "broadband-swedish",
   "metadata": {},
   "source": [
    "**[002]** List all printer makers. Result set: maker."
   ]
  },
  {
   "cell_type": "raw",
   "id": "portuguese-charleston",
   "metadata": {},
   "source": [
    "select distinct maker from Product where type = 'Printer'"
   ]
  },
  {
   "cell_type": "markdown",
   "id": "healthy-updating",
   "metadata": {},
   "source": [
    "**[003]** Find the model number, RAM and screen size of the laptops with prices over $1000."
   ]
  },
  {
   "cell_type": "raw",
   "id": "neither-spanking",
   "metadata": {},
   "source": [
    "select model, ram, screen from Laptop where price > 1000"
   ]
  },
  {
   "cell_type": "markdown",
   "id": "ordinary-carroll",
   "metadata": {},
   "source": [
    "**[004]** Find all records from the Printer table containing data about color printers."
   ]
  },
  {
   "cell_type": "raw",
   "id": "french-moore",
   "metadata": {},
   "source": [
    "select * from Printer where color = 'y'"
   ]
  },
  {
   "cell_type": "markdown",
   "id": "latest-furniture",
   "metadata": {},
   "source": [
    "**[005]** Find the model number, speed and hard drive capacity of PCs cheaper than $600 having a 12x or a 24x CD drive."
   ]
  },
  {
   "cell_type": "raw",
   "id": "necessary-mentor",
   "metadata": {},
   "source": [
    "select model, speed, hd from PC where price < 600 and cd in ('12x','24x')"
   ]
  },
  {
   "cell_type": "markdown",
   "id": "finite-session",
   "metadata": {},
   "source": [
    "**[006]** For each maker producing laptops with a hard drive capacity of 10 Gb or higher, find the speed of such laptops. Result set: maker, speed."
   ]
  },
  {
   "cell_type": "raw",
   "id": "united-bridge",
   "metadata": {},
   "source": [
    "select distinct maker, speed\n",
    "from product inner join laptop\n",
    "on product.type = 'Laptop' and product.model = laptop.model\n",
    "where laptop.hd >= 10"
   ]
  },
  {
   "cell_type": "markdown",
   "id": "express-quick",
   "metadata": {},
   "source": [
    "**[007]** Get the models and prices for all commercially available products (of any type) produced by maker B."
   ]
  },
  {
   "cell_type": "raw",
   "id": "formal-lafayette",
   "metadata": {},
   "source": [
    "select Product.model, price from Product, PC where Product.model = PC.model and maker='B' union select Product.model, price from Product, Laptop where Product.model = Laptop.model and maker='B' union select Product.model, price from Product, Printer where Product.model = Printer.model and maker='B'"
   ]
  },
  {
   "cell_type": "markdown",
   "id": "swiss-infrastructure",
   "metadata": {},
   "source": [
    "**[008]** Find the makers producing PCs but not laptops."
   ]
  },
  {
   "cell_type": "raw",
   "id": "immediate-bahamas",
   "metadata": {},
   "source": [
    "select distinct maker from Product where type='PC' and maker not in \n",
    "(select maker from Product where type='Laptop')"
   ]
  },
  {
   "cell_type": "markdown",
   "id": "supported-oliver",
   "metadata": {},
   "source": [
    "**[009]** Find the makers of PCs with a processor speed of 450 MHz or more. Result set: maker."
   ]
  },
  {
   "cell_type": "raw",
   "id": "artistic-multiple",
   "metadata": {},
   "source": [
    "select distinct maker from Product inner join PC on Product.model = PC.model where speed >= 450"
   ]
  },
  {
   "cell_type": "markdown",
   "id": "unique-calibration",
   "metadata": {},
   "source": [
    "**[010]** Find the printer models having the highest price. Result set: model, price."
   ]
  },
  {
   "cell_type": "raw",
   "id": "willing-ecuador",
   "metadata": {},
   "source": [
    "select model, price from Printer where price = (select max(price) from Printer)"
   ]
  },
  {
   "cell_type": "markdown",
   "id": "acting-audit",
   "metadata": {},
   "source": [
    "**[011]** Find out the average speed of PCs."
   ]
  },
  {
   "cell_type": "markdown",
   "id": "biblical-boutique",
   "metadata": {},
   "source": [
    "select avg(speed) from PC"
   ]
  },
  {
   "cell_type": "markdown",
   "id": "initial-gender",
   "metadata": {},
   "source": [
    "**[012]** Find out the average speed of the laptops priced over $1000."
   ]
  },
  {
   "cell_type": "raw",
   "id": "republican-speaking",
   "metadata": {},
   "source": [
    "select avg(speed) from laptop where price > 1000"
   ]
  },
  {
   "cell_type": "markdown",
   "id": "electrical-hundred",
   "metadata": {},
   "source": [
    "**[013]** Find out the average speed of the PCs produced by maker A."
   ]
  },
  {
   "cell_type": "raw",
   "id": "sophisticated-cooling",
   "metadata": {},
   "source": [
    "select avg(speed) \n",
    "from pc inner join product \n",
    "on pc.model = product.model\n",
    "where maker = 'A'"
   ]
  },
  {
   "cell_type": "markdown",
   "id": "ongoing-northern",
   "metadata": {},
   "source": [
    "**[014]** For the ships in the Ships table that have at least 10 guns, get the class, name, and country."
   ]
  },
  {
   "cell_type": "raw",
   "id": "vocational-stick",
   "metadata": {},
   "source": [
    "select ships.class, name, country \n",
    "from ships inner join classes \n",
    "on ships.class = classes.class \n",
    "where numguns >= 10"
   ]
  },
  {
   "cell_type": "markdown",
   "id": "unnecessary-outline",
   "metadata": {},
   "source": [
    "**[015]** Get hard drive capacities that are identical for two or more PCs.\n",
    "Result set: hd."
   ]
  },
  {
   "cell_type": "raw",
   "id": "thermal-olympus",
   "metadata": {},
   "source": [
    "select hd from pc group by hd having count(hd) >= 2"
   ]
  },
  {
   "cell_type": "markdown",
   "id": "worldwide-buddy",
   "metadata": {},
   "source": [
    "**[016]** Get pairs of PC models with identical speeds and the same RAM capacity. Each resulting pair should be displayed only once, i.e. (i, j) but not (j, i).\n",
    "Result set: model with the bigger number, model with the smaller number, speed, and RAM."
   ]
  },
  {
   "cell_type": "raw",
   "id": "complete-banner",
   "metadata": {},
   "source": [
    "select distinct p1.model, p2.model, p2.speed, p2.ram \n",
    "from pc as p1 inner join pc as p2 \n",
    "on p1.model > p2.model \n",
    "and p1.speed = p2.speed \n",
    "and p1.ram = p2.ram"
   ]
  },
  {
   "cell_type": "markdown",
   "id": "decent-swimming",
   "metadata": {},
   "source": [
    "**[017]** Get the laptop models that have a speed smaller than the speed of any PC.\n",
    "Result set: type, model, speed."
   ]
  },
  {
   "cell_type": "raw",
   "id": "portuguese-alaska",
   "metadata": {},
   "source": [
    "select distinct 'laptop' as type, model, speed from laptop where speed < all (select speed from pc)"
   ]
  },
  {
   "cell_type": "markdown",
   "id": "outer-ambassador",
   "metadata": {},
   "source": [
    "**[018]** Find the makers of the cheapest color printers.\n",
    "Result set: maker, price."
   ]
  },
  {
   "cell_type": "raw",
   "id": "lyric-profit",
   "metadata": {},
   "source": [
    "select distinct maker, price from printer left join product\n",
    "on printer.model = product.model where color = 'y' and \n",
    "price = (select min(price) from printer where color = 'y')"
   ]
  },
  {
   "cell_type": "markdown",
   "id": "smoking-israel",
   "metadata": {},
   "source": [
    "**[019]** For each maker having models in the Laptop table, find out the average screen size of the laptops he produces. Result set: maker, average screen size."
   ]
  },
  {
   "cell_type": "raw",
   "id": "hazardous-registrar",
   "metadata": {},
   "source": [
    "select maker, avg(screen)\n",
    "from laptop inner join product\n",
    "on laptop.model = product.model\n",
    "group by maker order by maker"
   ]
  }
 ],
 "metadata": {
  "kernelspec": {
   "display_name": "Python 3",
   "language": "python",
   "name": "python3"
  },
  "language_info": {
   "codemirror_mode": {
    "name": "ipython",
    "version": 3
   },
   "file_extension": ".py",
   "mimetype": "text/x-python",
   "name": "python",
   "nbconvert_exporter": "python",
   "pygments_lexer": "ipython3",
   "version": "3.9.2"
  }
 },
 "nbformat": 4,
 "nbformat_minor": 5
}
