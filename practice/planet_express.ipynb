{
  "nbformat": 4,
  "nbformat_minor": 0,
  "metadata": {
    "colab": {
      "name": "planet_express.ipynb",
      "provenance": [],
      "collapsed_sections": []
    },
    "kernelspec": {
      "name": "python3",
      "display_name": "Python 3"
    }
  },
  "cells": [
    {
      "cell_type": "markdown",
      "metadata": {
        "id": "zb2GLbpPgzU-"
      },
      "source": [
        "https://en.m.wikibooks.org/wiki/SQL_Exercises/Planet_Express  "
      ]
    },
    {
      "cell_type": "code",
      "metadata": {
        "id": "iJWGVmt2gxV9"
      },
      "source": [
        "%load_ext sql\n",
        "%sql sqlite:///db.db3"
      ],
      "execution_count": null,
      "outputs": []
    },
    {
      "cell_type": "code",
      "metadata": {
        "id": "I4MX2TPHgfxm"
      },
      "source": [
        "%%sql sqlite://\n",
        "\n",
        "CREATE TABLE Employee (\n",
        "   EmployeeID INTEGER PRIMARY KEY NOT NULL,\n",
        "   Name TEXT NOT NULL,\n",
        "   Position TEXT NOT NULL,\n",
        "   Salary REAL NOT NULL,\n",
        "   Remarks TEXT\n",
        ");\n",
        " \n",
        "CREATE TABLE Planet (\n",
        "   PlanetID INTEGER PRIMARY KEY NOT NULL,\n",
        "   Name TEXT NOT NULL,\n",
        "   Coordinates REAL NOT NULL\n",
        ");\n",
        " \n",
        "CREATE TABLE Shipment (\n",
        "   ShipmentID INTEGER PRIMARY KEY NOT NULL,\n",
        "   Date TEXT,\n",
        "   Manager INTEGER NOT NULL\n",
        "     CONSTRAINT fk_Employee_EmployeeID REFERENCES Employee(EmployeeID),\n",
        "   Planet INTEGER NOT NULL\n",
        "     CONSTRAINT fk_Planet_PlanetID REFERENCES Planet(PlanetID)\n",
        ");\n",
        " \n",
        "CREATE TABLE Has_Clearance (\n",
        "   Employee INTEGER NOT NULL\n",
        "     CONSTRAINT fk_Employee_EmployeeID REFERENCES Employee(EmployeeID),\n",
        "   Planet INTEGER NOT NULL\n",
        "     CONSTRAINT fk_Planet_PlanetID REFERENCES Planet(PlanetID),\n",
        "   Level INTEGER NOT NULL,\n",
        "   PRIMARY KEY(Employee, Planet)\n",
        ");\n",
        " \n",
        "CREATE TABLE Client (\n",
        "   AccountNumber INTEGER PRIMARY KEY NOT NULL,\n",
        "   Name TEXT NOT NULL\n",
        ");\n",
        " \n",
        "CREATE TABLE Package (\n",
        "   Shipment INTEGER NOT NULL\n",
        "     CONSTRAINT fk_Shipment_ShipmentID REFERENCES Shipment(ShipmentID),\n",
        "   PackageNumber INTEGER NOT NULL,\n",
        "   Contents TEXT NOT NULL,\n",
        "   Weight REAL NOT NULL,\n",
        "   Sender INTEGER NOT NULL\n",
        "     CONSTRAINT fk_Client_AccountNumber REFERENCES Client(AccountNumber),\n",
        "   Recipient INTEGER NOT NULL\n",
        "     CONSTRAINT fk_Client_AccountNumber REFERENCES Client(AccountNumber),\n",
        "   PRIMARY KEY(Shipment, PackageNumber)\n",
        ");\n",
        "\n",
        "INSERT INTO Client VALUES(1, 'Zapp Brannigan');\n",
        "INSERT INTO Client VALUES(2, \"Al Gore's Head\");\n",
        "INSERT INTO Client VALUES(3, 'Barbados Slim');\n",
        "INSERT INTO Client VALUES(4, 'Ogden Wernstrom');\n",
        "INSERT INTO Client VALUES(5, 'Leo Wong');\n",
        "INSERT INTO Client VALUES(6, 'Lrrr');\n",
        "INSERT INTO Client VALUES(7, 'John Zoidberg');\n",
        "INSERT INTO Client VALUES(8, 'John Zoidfarb');\n",
        "INSERT INTO Client VALUES(9, 'Morbo');\n",
        "INSERT INTO Client VALUES(10, 'Judge John Whitey');\n",
        "INSERT INTO Client VALUES(11, 'Calculon');\n",
        "INSERT INTO Employee VALUES(1, 'Phillip J. Fry', 'Delivery boy', 7500.0, 'Not to be confused with the Philip J. Fry from Hovering Squid World 97a');\n",
        "INSERT INTO Employee VALUES(2, 'Turanga Leela', 'Captain', 10000.0, NULL);\n",
        "INSERT INTO Employee VALUES(3, 'Bender Bending Rodriguez', 'Robot', 7500.0, NULL);\n",
        "INSERT INTO Employee VALUES(4, 'Hubert J. Farnsworth', 'CEO', 20000.0, NULL);\n",
        "INSERT INTO Employee VALUES(5, 'John A. Zoidberg', 'Physician', 25.0, NULL);\n",
        "INSERT INTO Employee VALUES(6, 'Amy Wong', 'Intern', 5000.0, NULL);\n",
        "INSERT INTO Employee VALUES(7, 'Hermes Conrad', 'Bureaucrat', 10000.0, NULL);\n",
        "INSERT INTO Employee VALUES(8, 'Scruffy Scruffington', 'Janitor', 5000.0, NULL);\n",
        "INSERT INTO Planet VALUES(1, 'Omicron Persei 8', 89475345.3545);\n",
        "INSERT INTO Planet VALUES(2, 'Decapod X', 65498463216.3466);\n",
        "INSERT INTO Planet VALUES(3, 'Mars', 32435021.65468);\n",
        "INSERT INTO Planet VALUES(4, 'Omega III', 98432121.5464);\n",
        "INSERT INTO Planet VALUES(5, 'Tarantulon VI', 849842198.354654);\n",
        "INSERT INTO Planet VALUES(6, 'Cannibalon', 654321987.21654);\n",
        "INSERT INTO Planet VALUES(7, 'DogDoo VII', 65498721354.688);\n",
        "INSERT INTO Planet VALUES(8, 'Nintenduu 64', 6543219894.1654);\n",
        "INSERT INTO Planet VALUES(9, 'Amazonia', 65432135979.6547);\n",
        "INSERT INTO Has_Clearance VALUES(1, 1, 2);\n",
        "INSERT INTO Has_Clearance VALUES(1, 2, 3);\n",
        "INSERT INTO Has_Clearance VALUES(2, 3, 2);\n",
        "INSERT INTO Has_Clearance VALUES(2, 4, 4);\n",
        "INSERT INTO Has_Clearance VALUES(3, 5, 2);\n",
        "INSERT INTO Has_Clearance VALUES(3, 6, 4);\n",
        "INSERT INTO Has_Clearance VALUES(4, 7, 1);\n",
        "INSERT INTO Shipment VALUES(1, '3004/05/11', 1, 1);\n",
        "INSERT INTO Shipment VALUES(2, '3004/05/11', 1, 2);\n",
        "INSERT INTO Shipment VALUES(3, NULL, 2, 3);\n",
        "INSERT INTO Shipment VALUES(4, NULL, 2, 4);\n",
        "INSERT INTO Shipment VALUES(5, NULL, 7, 5);\n",
        "INSERT INTO Package VALUES(1, 1, 'Undeclared', 1.5, 1, 2);\n",
        "INSERT INTO Package VALUES(2, 1, 'Undeclared', 10.0, 2, 3);\n",
        "INSERT INTO Package VALUES(2, 2, 'A bucket of krill', 2.0, 8, 7);\n",
        "INSERT INTO Package VALUES(3, 1, 'Undeclared', 15.0, 3, 4);\n",
        "INSERT INTO Package VALUES(3, 2, 'Undeclared', 3.0, 5, 1);\n",
        "INSERT INTO Package VALUES(3, 3, 'Undeclared', 7.0, 2, 3);\n",
        "INSERT INTO Package VALUES(4, 1, 'Undeclared', 5.0, 4, 5);\n",
        "INSERT INTO Package VALUES(4, 2, 'Undeclared', 27.0, 1, 2);\n",
        "INSERT INTO Package VALUES(5, 1, 'Undeclared', 100.0, 5, 1);"
      ],
      "execution_count": null,
      "outputs": []
    },
    {
      "cell_type": "code",
      "metadata": {
        "id": "htNGOF1Vg5aq"
      },
      "source": [
        "# 1. Who received a 1.5kg package?\n",
        "%sql select name from client where accountnumber in (select recipient from package where weight = 1.5);"
      ],
      "execution_count": null,
      "outputs": []
    },
    {
      "cell_type": "code",
      "metadata": {
        "id": "Qlhm5PMqBJzw"
      },
      "source": [
        "%sql select client.name from client join package on client.accountnumber = package.recipient where package.weight = 1.5;"
      ],
      "execution_count": null,
      "outputs": []
    },
    {
      "cell_type": "code",
      "metadata": {
        "id": "HGwJJN9nhAke"
      },
      "source": [
        "# 2. What is the total weight of all the packages that he sent?\n",
        "%sql select sum(weight) from package where sender in (select accountnumber from client where name = \"Al Gore's Head\");"
      ],
      "execution_count": null,
      "outputs": []
    },
    {
      "cell_type": "code",
      "metadata": {
        "id": "9jYEi7oEByrg"
      },
      "source": [
        "%sql select sum(p.weight) from client as c join package as p on p.sender = c.accountnumber where c.name = \"Al Gore's Head\";"
      ],
      "execution_count": null,
      "outputs": []
    },
    {
      "cell_type": "code",
      "metadata": {
        "id": "0O0vL6RaCXB1"
      },
      "source": [
        "%sql select sum(p.weight), count(1) from client as c join package as p on c.accountnumber = p.sender where c.accountnumber = (select client.accountnumber from client join package on client.accountnumber = package.recipient where package.weight = 1.5);"
      ],
      "execution_count": null,
      "outputs": []
    },
    {
      "cell_type": "code",
      "metadata": {
        "id": "rdpg1hOThCtf"
      },
      "source": [
        "# 3. Which pilots transported those packages?\n",
        "%sql select employee.name from employee join shipment on shipment.manager = employee.employeeid join package on package.shipment = shipment.shipmentid where shipment.shipmentid in (select p.shipment from client as c join package as p on c.accountnumber = p.sender where c.accountnumber = (select client.accountnumber from client join package on client.accountnumber = package.recipient where package.weight = 1.5)) group by (employee.name);"
      ],
      "execution_count": null,
      "outputs": []
    },
    {
      "cell_type": "code",
      "metadata": {
        "id": "dfADxy44EWak"
      },
      "source": [
        "%sql select name from employee where employeeid in (select manager from shipment where shipmentid in (2,3));"
      ],
      "execution_count": null,
      "outputs": []
    },
    {
      "cell_type": "code",
      "metadata": {
        "id": "1scSSIDSHIuN"
      },
      "source": [
        "%sql select name from employee where employeeid in (select manager from shipment where shipmentid in (select shipment from package where sender = 2));"
      ],
      "execution_count": null,
      "outputs": []
    },
    {
      "cell_type": "code",
      "metadata": {
        "id": "F4tji4eZHd8i"
      },
      "source": [
        "%sql select name from employee where employeeid in (select manager from shipment where shipmentid in (select shipment from package where sender in (select sender from package where weight = 1.5)));"
      ],
      "execution_count": null,
      "outputs": []
    }
  ]
}