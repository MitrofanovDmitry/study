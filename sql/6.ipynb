{
  "nbformat": 4,
  "nbformat_minor": 0,
  "metadata": {
    "colab": {
      "name": "pieces_and_providers.ipynb",
      "provenance": [],
      "collapsed_sections": []
    },
    "kernelspec": {
      "name": "python3",
      "display_name": "Python 3"
    }
  },
  "cells": [
    {
      "cell_type": "markdown",
      "metadata": {
        "id": "E8cmzCBHfXcI"
      },
      "source": [
        "https://en.m.wikibooks.org/wiki/SQL_Exercises/Pieces_and_providers  "
      ]
    },
    {
      "cell_type": "code",
      "metadata": {
        "id": "tbbtbZCPfUMq"
      },
      "source": [
        "%load_ext sql\n",
        "%sql sqlite:///db.db3"
      ],
      "execution_count": null,
      "outputs": []
    },
    {
      "cell_type": "code",
      "metadata": {
        "id": "6F34XBvgfbLp"
      },
      "source": [
        "%%sql sqlite://\n",
        "\n",
        "CREATE TABLE Pieces (\n",
        "   Code INTEGER PRIMARY KEY NOT NULL,\n",
        "   Name TEXT NOT NULL\n",
        ");\n",
        " \n",
        "CREATE TABLE Providers (\n",
        "  Code TEXT PRIMARY KEY NOT NULL,\n",
        "  Name TEXT NOT NULL\n",
        ");\n",
        " \n",
        "CREATE TABLE Provides (\n",
        "   Piece INTEGER  \n",
        "     CONSTRAINT fk_Pieces_Code REFERENCES Pieces(Code),\n",
        "   Provider TEXT\n",
        "     CONSTRAINT fk_Providers_Code REFERENCES Providers(Code),\n",
        "   Price INTEGER NOT NULL,\n",
        "   PRIMARY KEY(Piece, Provider)\n",
        ");\n",
        "\n",
        "INSERT INTO Providers(Code, Name) VALUES('HAL','Clarke Enterprises');\n",
        "INSERT INTO Providers(Code, Name) VALUES('RBT','Susan Calvin Corp.');\n",
        "INSERT INTO Providers(Code, Name) VALUES('TNBC','Skellington Supplies');\n",
        "\n",
        "INSERT INTO Pieces(Code, Name) VALUES(1,'Sprocket');\n",
        "INSERT INTO Pieces(Code, Name) VALUES(2,'Screw');\n",
        "INSERT INTO Pieces(Code, Name) VALUES(3,'Nut');\n",
        "INSERT INTO Pieces(Code, Name) VALUES(4,'Bolt');\n",
        " \n",
        "INSERT INTO Provides(Piece, Provider, Price) VALUES(1,'HAL',10);\n",
        "INSERT INTO Provides(Piece, Provider, Price) VALUES(1,'RBT',15);\n",
        "INSERT INTO Provides(Piece, Provider, Price) VALUES(2,'HAL',20);\n",
        "INSERT INTO Provides(Piece, Provider, Price) VALUES(2,'RBT',15);\n",
        "INSERT INTO Provides(Piece, Provider, Price) VALUES(2,'TNBC',14);\n",
        "INSERT INTO Provides(Piece, Provider, Price) VALUES(3,'RBT',50);\n",
        "INSERT INTO Provides(Piece, Provider, Price) VALUES(3,'TNBC',45);\n",
        "INSERT INTO Provides(Piece, Provider, Price) VALUES(4,'HAL',5);\n",
        "INSERT INTO Provides(Piece, Provider, Price) VALUES(4,'RBT',7);"
      ],
      "execution_count": null,
      "outputs": []
    },
    {
      "cell_type": "code",
      "metadata": {
        "id": "rwRb31itfn_k"
      },
      "source": [
        "# 1. Select the name of all the pieces. (Seleccione el nombre de todas las piezas).\n",
        "%sql select name from pieces;"
      ],
      "execution_count": null,
      "outputs": []
    },
    {
      "cell_type": "code",
      "metadata": {
        "id": "7JTVPFOPfqrE"
      },
      "source": [
        "# 2. Select all the providers' data. (Seleccione todos los datos de los proveedores (providers)).\n",
        "%sql select * from providers;"
      ],
      "execution_count": null,
      "outputs": []
    },
    {
      "cell_type": "code",
      "metadata": {
        "id": "5UOaH0bGfskt"
      },
      "source": [
        "# 3. Obtain the average price of each piece (show only the piece code and the average price).\n",
        "%sql select piece, avg(price) from provides group by piece;"
      ],
      "execution_count": null,
      "outputs": []
    },
    {
      "cell_type": "code",
      "metadata": {
        "id": "hPEsV0i-fuQl"
      },
      "source": [
        "# 4. Obtain the names of all providers who supply piece 1.\n",
        "%sql select name from provides inner join providers on provides.provider = providers.code where provides.piece = 1;"
      ],
      "execution_count": null,
      "outputs": []
    },
    {
      "cell_type": "code",
      "metadata": {
        "id": "JTMgdaQw8tnr"
      },
      "source": [
        "%sql select name from provides inner join providers on provides.provider = providers.code and provides.piece = 1;"
      ],
      "execution_count": null,
      "outputs": []
    },
    {
      "cell_type": "code",
      "metadata": {
        "id": "m1FHU1W9fxIu"
      },
      "source": [
        "# 5. Select the name of pieces provided by provider with code \"HAL\".\n",
        "%sql select name from pieces where code in (select piece from provides where provider = 'HAL');"
      ],
      "execution_count": null,
      "outputs": []
    },
    {
      "cell_type": "code",
      "metadata": {
        "id": "CgBdkAbz8_1d"
      },
      "source": [
        "%sql select pieces.name from pieces inner join provides on pieces.code = provides.piece where provides.provider = 'HAL';"
      ],
      "execution_count": null,
      "outputs": []
    },
    {
      "cell_type": "code",
      "metadata": {
        "id": "4aAjAsza9gFP"
      },
      "source": [
        "%sql select pieces.name from pieces inner join provides on pieces.code = provides.piece and provides.provider = 'HAL';"
      ],
      "execution_count": null,
      "outputs": []
    },
    {
      "cell_type": "code",
      "metadata": {
        "id": "fW8pXP119m9f"
      },
      "source": [
        "%sql select name from pieces where exists (select * from provides where provider = 'HAL' and piece = pieces.code);"
      ],
      "execution_count": null,
      "outputs": []
    },
    {
      "cell_type": "code",
      "metadata": {
        "id": "7NvCjfKJfyCF"
      },
      "source": [
        "# 6. For each piece, find the most expensive offering of that piece and include the piece name, provider name, and price (note that there could be two providers who supply the same piece at the most expensive price).\n",
        "%sql select pieces.name, providers.name, price from pieces inner join provides on pieces.code = piece inner join providers on providers.code = provider where price = (select max(price) from provides where piece = pieces.code);"
      ],
      "execution_count": null,
      "outputs": []
    },
    {
      "cell_type": "code",
      "metadata": {
        "id": "49DwpQyCf1WO"
      },
      "source": [
        "# 7. Add an entry to the database to indicate that \"Skellington Supplies\" (code \"TNBC\") will provide sprockets (code \"1\") for 7 cents each.\n",
        "%sql insert into provides values (1, 'TNBC', 7);"
      ],
      "execution_count": null,
      "outputs": []
    },
    {
      "cell_type": "code",
      "metadata": {
        "id": "XMLxtpTlf26m"
      },
      "source": [
        "# 8. Increase all prices by one cent.\n",
        "%sql update provides set price = price + 1;"
      ],
      "execution_count": null,
      "outputs": []
    },
    {
      "cell_type": "code",
      "metadata": {
        "id": "hZ96-y9gf4ln"
      },
      "source": [
        "# 9. Update the database to reflect that \"Susan Calvin Corp.\" (code \"RBT\") will not supply bolts (code 4).\n",
        "%sql delete from provides where provider = 'RBT' and piece = 4;"
      ],
      "execution_count": null,
      "outputs": []
    },
    {
      "cell_type": "code",
      "metadata": {
        "id": "HRAgpSGSf6F-"
      },
      "source": [
        "# 10. Update the database to reflect that \"Susan Calvin Corp.\" (code \"RBT\") will not supply any pieces (the provider should still remain in the database).\n",
        "%sql delete from provides where provider = 'RBT';"
      ],
      "execution_count": null,
      "outputs": []
    }
  ]
}