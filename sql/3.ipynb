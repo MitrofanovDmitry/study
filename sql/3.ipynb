{
  "nbformat": 4,
  "nbformat_minor": 0,
  "metadata": {
    "colab": {
      "name": "employee_management.ipynb",
      "provenance": [],
      "collapsed_sections": []
    },
    "kernelspec": {
      "name": "python3",
      "display_name": "Python 3"
    }
  },
  "cells": [
    {
      "cell_type": "markdown",
      "metadata": {
        "id": "z66dbG25cTPC"
      },
      "source": [
        "https://en.m.wikibooks.org/wiki/SQL_Exercises/Employee_management   "
      ]
    },
    {
      "cell_type": "code",
      "metadata": {
        "id": "ramLoyZdb2v6"
      },
      "source": [
        "%load_ext sql\n",
        "%sql sqlite:///db.db3"
      ],
      "execution_count": null,
      "outputs": []
    },
    {
      "cell_type": "code",
      "metadata": {
        "id": "cLtnQAPCbbha"
      },
      "source": [
        "%%sql sqlite://\n",
        " \n",
        "CREATE TABLE Departments (\n",
        "   Code INTEGER PRIMARY KEY NOT NULL,\n",
        "   Name NVARCHAR NOT NULL ,\n",
        "   Budget REAL NOT NULL \n",
        ");\n",
        " \n",
        "CREATE TABLE Employees (\n",
        "   SSN INTEGER PRIMARY KEY NOT NULL,\n",
        "   Name TEXT NOT NULL ,\n",
        "   LastName VARCHAR NOT NULL ,\n",
        "   Department INTEGER NOT NULL , \n",
        "   CONSTRAINT fk_Departments_Code FOREIGN KEY(Department) \n",
        "   REFERENCES Departments(Code)\n",
        ");\n",
        "\n",
        "INSERT INTO Departments(Code,Name,Budget) VALUES(14,'IT',65000);\n",
        "INSERT INTO Departments(Code,Name,Budget) VALUES(37,'Accounting',15000);\n",
        "INSERT INTO Departments(Code,Name,Budget) VALUES(59,'Human Resources',240000);\n",
        "INSERT INTO Departments(Code,Name,Budget) VALUES(77,'Research',55000);\n",
        "\n",
        "INSERT INTO Employees(SSN,Name,LastName,Department) VALUES('123234877','Michael','Rogers',14);\n",
        "INSERT INTO Employees(SSN,Name,LastName,Department) VALUES('152934485','Anand','Manikutty',14);\n",
        "INSERT INTO Employees(SSN,Name,LastName,Department) VALUES('222364883','Carol','Smith',37);\n",
        "INSERT INTO Employees(SSN,Name,LastName,Department) VALUES('326587417','Joe','Stevens',37);\n",
        "INSERT INTO Employees(SSN,Name,LastName,Department) VALUES('332154719','Mary-Anne','Foster',14);\n",
        "INSERT INTO Employees(SSN,Name,LastName,Department) VALUES('332569843','George','O''Donnell',77);\n",
        "INSERT INTO Employees(SSN,Name,LastName,Department) VALUES('546523478','John','Doe',59);\n",
        "INSERT INTO Employees(SSN,Name,LastName,Department) VALUES('631231482','David','Smith',77);\n",
        "INSERT INTO Employees(SSN,Name,LastName,Department) VALUES('654873219','Zacary','Efron',59);\n",
        "INSERT INTO Employees(SSN,Name,LastName,Department) VALUES('745685214','Eric','Goldsmith',59);\n",
        "INSERT INTO Employees(SSN,Name,LastName,Department) VALUES('845657245','Elizabeth','Doe',14);\n",
        "INSERT INTO Employees(SSN,Name,LastName,Department) VALUES('845657246','Kumar','Swamy',14);"
      ],
      "execution_count": null,
      "outputs": []
    },
    {
      "cell_type": "code",
      "metadata": {
        "id": "2BBleLyUcebQ"
      },
      "source": [
        "# 1. Select the last name of all employees.\n",
        "%sql select lastname from employees;"
      ],
      "execution_count": null,
      "outputs": []
    },
    {
      "cell_type": "code",
      "metadata": {
        "id": "gf8D6LDNchEB"
      },
      "source": [
        "# 2. Select the last name of all employees, without duplicates.\n",
        "%sql select distinct lastname from employees;"
      ],
      "execution_count": null,
      "outputs": []
    },
    {
      "cell_type": "code",
      "metadata": {
        "id": "NHjmamBnci2p"
      },
      "source": [
        "# 3. Select all the data of employees whose last name is \"Smith\".\n",
        "%sql select * from employees where lastname = 'Smith';"
      ],
      "execution_count": null,
      "outputs": []
    },
    {
      "cell_type": "code",
      "metadata": {
        "id": "be7wKWhCclMj"
      },
      "source": [
        "# 4. Select all the data of employees whose last name is \"Smith\" or \"Doe\".\n",
        "%sql select * from employees where lastname = 'Smith' or lastname = 'Doe';"
      ],
      "execution_count": null,
      "outputs": []
    },
    {
      "cell_type": "code",
      "metadata": {
        "id": "EqzmMsc5pqJr"
      },
      "source": [
        "%sql select * from employees where lastname in ('Smith','Doe');"
      ],
      "execution_count": null,
      "outputs": []
    },
    {
      "cell_type": "code",
      "metadata": {
        "id": "3-pnr2ifcn3S"
      },
      "source": [
        "# 5. Select all the data of employees that work in department 14.\n",
        "%sql select * from employees where department = 14;"
      ],
      "execution_count": null,
      "outputs": []
    },
    {
      "cell_type": "code",
      "metadata": {
        "id": "YYppwjzecqCS"
      },
      "source": [
        "# 6. Select all the data of employees that work in department 37 or department 77.\n",
        "%sql select * from employees where department = 37 or department = 77;"
      ],
      "execution_count": null,
      "outputs": []
    },
    {
      "cell_type": "code",
      "metadata": {
        "id": "sCj6_R0fqE1S"
      },
      "source": [
        "%sql select * from employees where department in (37,77);"
      ],
      "execution_count": null,
      "outputs": []
    },
    {
      "cell_type": "code",
      "metadata": {
        "id": "kE4KH4bycthL"
      },
      "source": [
        "# 7. Select all the data of employees whose last name begins with an \"S\".\n",
        "%sql select * from employees where substr(lastname,1,1) = 'S';"
      ],
      "execution_count": null,
      "outputs": []
    },
    {
      "cell_type": "code",
      "metadata": {
        "id": "OHkvZC17qVEf"
      },
      "source": [
        "%sql select * from employees where lastname like 'S%';"
      ],
      "execution_count": null,
      "outputs": []
    },
    {
      "cell_type": "code",
      "metadata": {
        "id": "TM_p_M0-cvhu"
      },
      "source": [
        "# 8. Select the sum of all the departments' budgets.\n",
        "%sql select sum(budget) from departments;"
      ],
      "execution_count": null,
      "outputs": []
    },
    {
      "cell_type": "code",
      "metadata": {
        "id": "oD2sqtiVcy_M"
      },
      "source": [
        "# 9. Select the number of employees in each department (you only need to show the department code and the number of employees).\n",
        "%sql select department, count(*) from employees group by department;"
      ],
      "execution_count": null,
      "outputs": []
    },
    {
      "cell_type": "code",
      "metadata": {
        "id": "i9y0tMk2cz_0"
      },
      "source": [
        "# 10. Select all the data of employees, including each employee's department's data.\n",
        "%sql select * from employees, departments where employees.department = departments.code;"
      ],
      "execution_count": null,
      "outputs": []
    },
    {
      "cell_type": "code",
      "metadata": {
        "id": "kYDkqQClq8gD"
      },
      "source": [
        "%sql select * from employees inner join departments on employees.department = departments.code;"
      ],
      "execution_count": null,
      "outputs": []
    },
    {
      "cell_type": "code",
      "metadata": {
        "id": "ZwuYc8UZc1ns"
      },
      "source": [
        "# 11. Select the name and last name of each employee, along with the name and budget of the employee's department.\n",
        "%sql select e.name, e.lastname, d.name, d.budget from employees as e inner join departments as d on e.department = d.code;"
      ],
      "execution_count": null,
      "outputs": []
    },
    {
      "cell_type": "code",
      "metadata": {
        "id": "jV86PDz7c3yX"
      },
      "source": [
        "# 12. Select the name and last name of employees working for departments with a budget greater than $60,000.\n",
        "%sql select e.name, e.lastname from employees as e inner join departments as d on e.department = d.code where d.budget > 60000;"
      ],
      "execution_count": null,
      "outputs": []
    },
    {
      "cell_type": "code",
      "metadata": {
        "id": "yO4Nc9Lary7e"
      },
      "source": [
        "%sql select e.name, e.lastname from employees as e inner join departments as d on e.department = d.code and d.budget > 60000;"
      ],
      "execution_count": null,
      "outputs": []
    },
    {
      "cell_type": "code",
      "metadata": {
        "id": "BVQq93ebr9Bq"
      },
      "source": [
        "%sql select name, lastname from employees where department in (select code from departments where budget > 60000);"
      ],
      "execution_count": null,
      "outputs": []
    },
    {
      "cell_type": "code",
      "metadata": {
        "id": "pqvHJzJCc5i4"
      },
      "source": [
        "# 13. Select the departments with a budget larger than the average budget of all the departments.\n",
        "%sql select * from departments where budget > (select avg(budget) from departments);"
      ],
      "execution_count": null,
      "outputs": []
    },
    {
      "cell_type": "code",
      "metadata": {
        "id": "RTvl3T3kc7Nu"
      },
      "source": [
        "# 14. Select the names of departments with more than two employees.\n",
        "%sql select name from departments where code in (select department from employees group by department having count(*) > 2); "
      ],
      "execution_count": null,
      "outputs": []
    },
    {
      "cell_type": "code",
      "metadata": {
        "id": "LMiTZEl4tQ7Q"
      },
      "source": [
        "%sql select d.name from employees as e inner join departments as d on e.department = d.code group by d.code having count(*) > 2;"
      ],
      "execution_count": null,
      "outputs": []
    },
    {
      "cell_type": "code",
      "metadata": {
        "id": "cnQMvzPYtkIc"
      },
      "source": [
        "%sql select d.name from departments as d where 2 < (select count(*) from employees where department = d.code);"
      ],
      "execution_count": null,
      "outputs": []
    },
    {
      "cell_type": "code",
      "metadata": {
        "id": "gCBgUoHwc8um"
      },
      "source": [
        "# 15. Select the name and last name of employees working for departments with second lowest budget.\n",
        "%sql select name, lastname from employees where department = (select code from departments order by budget limit 1 offset 1);"
      ],
      "execution_count": null,
      "outputs": []
    },
    {
      "cell_type": "code",
      "metadata": {
        "id": "f5UQwSJtuGGk"
      },
      "source": [
        "%sql select name, lastname from employees where department in (select code from departments where budget = (select top 1 budget from departments where budget in (select distinct top 2 budget from departments order by budget asc) order by budget desc));"
      ],
      "execution_count": null,
      "outputs": []
    },
    {
      "cell_type": "code",
      "metadata": {
        "id": "NpWXAo04c_UJ"
      },
      "source": [
        "# 16. Add a new department called \"Quality Assurance\", with a budget of $40,000 and departmental code 11. Add an employee called \"Mary Moore\" in that department, with SSN 847-21-9811.\n",
        "%sql insert into departments values (11, 'Quality Assurance', 40000);"
      ],
      "execution_count": null,
      "outputs": []
    },
    {
      "cell_type": "code",
      "metadata": {
        "id": "xjz6x1qWdByg"
      },
      "source": [
        "# 17. Reduce the budget of all departments by 10%.\n",
        "%sql update departments set budget = budget * 0.9;"
      ],
      "execution_count": null,
      "outputs": []
    },
    {
      "cell_type": "code",
      "metadata": {
        "id": "ZMfw18vTdES5"
      },
      "source": [
        "# 18. Reassign all employees from the Research department (code 77) to the IT department (code 14).\n",
        "%sql update employees set department = 14 where department = 77;"
      ],
      "execution_count": null,
      "outputs": []
    },
    {
      "cell_type": "code",
      "metadata": {
        "id": "l2VX_sY9dF7q"
      },
      "source": [
        "# 19. Delete from the table all employees in the IT department (code 14).\n",
        "%sql delete from employees where department = 14;"
      ],
      "execution_count": null,
      "outputs": []
    },
    {
      "cell_type": "code",
      "metadata": {
        "id": "v7bth1DHdIwV"
      },
      "source": [
        "# 20. Delete from the table all employees who work in departments with a budget greater than or equal to $60,000.\n",
        "%sql delete from employees where department in (select code from departments where budget >= 60000);"
      ],
      "execution_count": null,
      "outputs": []
    },
    {
      "cell_type": "code",
      "metadata": {
        "id": "qxQ7tGazdKhK"
      },
      "source": [
        "# 21. Delete from the table all employees.\n",
        "%sql delete from employees;"
      ],
      "execution_count": null,
      "outputs": []
    }
  ]
}