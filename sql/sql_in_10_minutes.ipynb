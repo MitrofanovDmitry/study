{
  "nbformat": 4,
  "nbformat_minor": 0,
  "metadata": {
    "colab": {
      "name": "sql in 10 mins.ipynb",
      "provenance": [],
      "collapsed_sections": []
    },
    "kernelspec": {
      "name": "python3",
      "display_name": "Python 3"
    }
  },
  "cells": [
    {
      "cell_type": "markdown",
      "metadata": {
        "id": "1BM9dtKMweOU"
      },
      "source": [
        "Sams Teach Yourself SQL in 10 Minutes (Fifth Edition)  \n",
        "https://forta.com/books/0135182794/  \n",
        "https://forta.com/books/0135182794/challenges/  \n",
        "https://t.me/c/1348434213/72  "
      ]
    },
    {
      "cell_type": "code",
      "metadata": {
        "id": "YVNKQ_qQurTE"
      },
      "source": [
        "%load_ext sql\n",
        "%sql sqlite:///db.db3"
      ],
      "execution_count": null,
      "outputs": []
    },
    {
      "cell_type": "code",
      "metadata": {
        "id": "qFhTUH8o8LoQ"
      },
      "source": [
        "%%sql sqlite://\n",
        "\n",
        "CREATE TABLE Customers\n",
        "(\n",
        "  cust_id      char(10)  NOT NULL ,\n",
        "  cust_name    char(50)  NOT NULL ,\n",
        "  cust_address char(50)  NULL ,\n",
        "  cust_city    char(50)  NULL ,\n",
        "  cust_state   char(5)   NULL ,\n",
        "  cust_zip     char(10)  NULL ,\n",
        "  cust_country char(50)  NULL ,\n",
        "  cust_contact char(50)  NULL ,\n",
        "  cust_email   char(255) NULL ,\n",
        "  PRIMARY KEY (cust_id)\n",
        ");\n",
        "\n",
        "CREATE TABLE OrderItems\n",
        "(\n",
        "  order_num  int          NOT NULL                      ,\n",
        "  order_item int          NOT NULL                      ,\n",
        "  prod_id    char(10)     NOT NULL                      ,\n",
        "  quantity   int          NOT NULL                      ,\n",
        "  item_price decimal(8,2) NOT NULL                      ,\n",
        "  PRIMARY KEY (order_num, order_item)                   ,\n",
        "  FOREIGN KEY (order_num) REFERENCES Orders (order_num) ,\n",
        "  FOREIGN KEY (prod_id) REFERENCES Products (prod_id)\n",
        ");\n",
        "\n",
        "CREATE TABLE Orders\n",
        "(\n",
        "  order_num  int      NOT NULL ,\n",
        "  order_date datetime NOT NULL ,\n",
        "  cust_id    char(10) NOT NULL ,\n",
        "  PRIMARY KEY (order_num)      ,\n",
        "  FOREIGN KEY (cust_id) REFERENCES Customers (cust_id)\n",
        ");\n",
        "\n",
        "CREATE TABLE Products\n",
        "(\n",
        "  prod_id    char(10)      NOT NULL ,\n",
        "  vend_id    char(10)      NOT NULL ,\n",
        "  prod_name  char(255)     NOT NULL ,\n",
        "  prod_price decimal(8,2)  NOT NULL ,\n",
        "  prod_desc  text          NULL     ,\n",
        "  PRIMARY KEY (prod_id)             ,\n",
        "  FOREIGN KEY (vend_id) REFERENCES Vendors (vend_id)\n",
        ");\n",
        "\n",
        "CREATE TABLE Vendors\n",
        "(\n",
        "  vend_id      char(10) NOT NULL ,\n",
        "  vend_name    char(50) NOT NULL ,\n",
        "  vend_address char(50) NULL     ,\n",
        "  vend_city    char(50) NULL     ,\n",
        "  vend_state   char(5)  NULL     ,\n",
        "  vend_zip     char(10) NULL     ,\n",
        "  vend_country char(50) NULL     ,\n",
        "  PRIMARY KEY (vend_id)\n",
        ");\n",
        "\n",
        "CREATE TABLE CustNew\n",
        "(\n",
        "  cust_id      char(10)  NOT NULL ,\n",
        "  cust_name    char(50)  NOT NULL ,\n",
        "  cust_address char(50)  NULL ,\n",
        "  cust_city    char(50)  NULL ,\n",
        "  cust_state   char(5)   NULL ,\n",
        "  cust_zip     char(10)  NULL ,\n",
        "  cust_country char(50)  NULL ,\n",
        "  cust_contact char(50)  NULL ,\n",
        "  cust_email   char(255) NULL ,\n",
        "  PRIMARY KEY (cust_id)\n",
        ");"
      ],
      "execution_count": null,
      "outputs": []
    },
    {
      "cell_type": "code",
      "metadata": {
        "id": "zj6rsGoe8kdf"
      },
      "source": [
        "%%sql sqlite://\n",
        "\n",
        "INSERT INTO Customers(cust_id, cust_name, cust_address, cust_city, cust_state, cust_zip, cust_country, cust_contact, cust_email)\n",
        "VALUES('1000000001', 'Village Toys', '200 Maple Lane', 'Detroit', 'MI', '44444', 'USA', 'John Smith', 'sales@villagetoys.com');\n",
        "INSERT INTO Customers(cust_id, cust_name, cust_address, cust_city, cust_state, cust_zip, cust_country, cust_contact)\n",
        "VALUES('1000000002', 'Kids Place', '333 South Lake Drive', 'Columbus', 'OH', '43333', 'USA', 'Michelle Green');\n",
        "INSERT INTO Customers(cust_id, cust_name, cust_address, cust_city, cust_state, cust_zip, cust_country, cust_contact, cust_email)\n",
        "VALUES('1000000003', 'Fun4All', '1 Sunny Place', 'Muncie', 'IN', '42222', 'USA', 'Jim Jones', 'jjones@fun4all.com');\n",
        "INSERT INTO Customers(cust_id, cust_name, cust_address, cust_city, cust_state, cust_zip, cust_country, cust_contact, cust_email)\n",
        "VALUES('1000000004', 'Fun4All', '829 Riverside Drive', 'Phoenix', 'AZ', '88888', 'USA', 'Denise L. Stephens', 'dstephens@fun4all.com');\n",
        "INSERT INTO Customers(cust_id, cust_name, cust_address, cust_city, cust_state, cust_zip, cust_country, cust_contact)\n",
        "VALUES('1000000005', 'The Toy Store', '4545 53rd Street', 'Chicago', 'IL', '54545', 'USA', 'Kim Howard');\n",
        "\n",
        "INSERT INTO Vendors(vend_id, vend_name, vend_address, vend_city, vend_state, vend_zip, vend_country)\n",
        "VALUES('BRS01','Bears R Us','123 Main Street','Bear Town','MI','44444', 'USA');\n",
        "INSERT INTO Vendors(vend_id, vend_name, vend_address, vend_city, vend_state, vend_zip, vend_country)\n",
        "VALUES('BRE02','Bear Emporium','500 Park Street','Anytown','OH','44333', 'USA');\n",
        "INSERT INTO Vendors(vend_id, vend_name, vend_address, vend_city, vend_state, vend_zip, vend_country)\n",
        "VALUES('DLL01','Doll House Inc.','555 High Street','Dollsville','CA','99999', 'USA');\n",
        "INSERT INTO Vendors(vend_id, vend_name, vend_address, vend_city, vend_state, vend_zip, vend_country)\n",
        "VALUES('FRB01','Furball Inc.','1000 5th Avenue','New York','NY','11111', 'USA');\n",
        "INSERT INTO Vendors(vend_id, vend_name, vend_address, vend_city, vend_state, vend_zip, vend_country)\n",
        "VALUES('FNG01','Fun and Games','42 Galaxy Road','London', NULL,'N16 6PS', 'England');\n",
        "INSERT INTO Vendors(vend_id, vend_name, vend_address, vend_city, vend_state, vend_zip, vend_country)\n",
        "VALUES('JTS01','Jouets et ours','1 Rue Amusement','Paris', NULL,'45678', 'France');\n",
        "\n",
        "INSERT INTO Products(prod_id, vend_id, prod_name, prod_price, prod_desc)\n",
        "VALUES('BR01', 'BRS01', '8 inch teddy bear', 5.99, '8 inch teddy bear, comes with cap and jacket');\n",
        "INSERT INTO Products(prod_id, vend_id, prod_name, prod_price, prod_desc)\n",
        "VALUES('BR02', 'BRS01', '12 inch teddy bear', 8.99, '12 inch teddy bear, comes with cap and jacket');\n",
        "INSERT INTO Products(prod_id, vend_id, prod_name, prod_price, prod_desc)\n",
        "VALUES('BR03', 'BRS01', '18 inch teddy bear', 11.99, '18 inch teddy bear, comes with cap and jacket');\n",
        "INSERT INTO Products(prod_id, vend_id, prod_name, prod_price, prod_desc)\n",
        "VALUES('BNBG01', 'DLL01', 'Fish bean bag toy', 3.49, 'Fish bean bag toy, complete with bean bag worms with which to feed it');\n",
        "INSERT INTO Products(prod_id, vend_id, prod_name, prod_price, prod_desc)\n",
        "VALUES('BNBG02', 'DLL01', 'Bird bean bag toy', 3.49, 'Bird bean bag toy, eggs are not included');\n",
        "INSERT INTO Products(prod_id, vend_id, prod_name, prod_price, prod_desc)\n",
        "VALUES('BNBG03', 'DLL01', 'Rabbit bean bag toy', 3.49, 'Rabbit bean bag toy, comes with bean bag carrots');\n",
        "INSERT INTO Products(prod_id, vend_id, prod_name, prod_price, prod_desc)\n",
        "VALUES('RGAN01', 'DLL01', 'Raggedy Ann', 4.99, '18 inch Raggedy Ann doll');\n",
        "INSERT INTO Products(prod_id, vend_id, prod_name, prod_price, prod_desc)\n",
        "VALUES('RYL01', 'FNG01', 'King doll', 9.49, '12 inch king doll with royal garments and crown');\n",
        "INSERT INTO Products(prod_id, vend_id, prod_name, prod_price, prod_desc)\n",
        "VALUES('RYL02', 'FNG01', 'Queen doll', 9.49, '12 inch queen doll with royal garments and crown');\n",
        "\n",
        "INSERT INTO Orders(order_num, order_date, cust_id)\n",
        "VALUES(20005, '2020-05-01', '1000000001');\n",
        "INSERT INTO Orders(order_num, order_date, cust_id)\n",
        "VALUES(20006, '2020-01-12', '1000000003');\n",
        "INSERT INTO Orders(order_num, order_date, cust_id)\n",
        "VALUES(20007, '2020-01-30', '1000000004');\n",
        "INSERT INTO Orders(order_num, order_date, cust_id)\n",
        "VALUES(20008, '2020-02-03', '1000000005');\n",
        "INSERT INTO Orders(order_num, order_date, cust_id)\n",
        "VALUES(20009, '2020-02-08', '1000000001');\n",
        "\n",
        "INSERT INTO OrderItems(order_num, order_item, prod_id, quantity, item_price)\n",
        "VALUES(20005, 1, 'BR01', 100, 5.49);\n",
        "INSERT INTO OrderItems(order_num, order_item, prod_id, quantity, item_price)\n",
        "VALUES(20005, 2, 'BR03', 100, 10.99);\n",
        "INSERT INTO OrderItems(order_num, order_item, prod_id, quantity, item_price)\n",
        "VALUES(20006, 1, 'BR01', 20, 5.99);\n",
        "INSERT INTO OrderItems(order_num, order_item, prod_id, quantity, item_price)\n",
        "VALUES(20006, 2, 'BR02', 10, 8.99);\n",
        "INSERT INTO OrderItems(order_num, order_item, prod_id, quantity, item_price)\n",
        "VALUES(20006, 3, 'BR03', 10, 11.99);\n",
        "INSERT INTO OrderItems(order_num, order_item, prod_id, quantity, item_price)\n",
        "VALUES(20007, 1, 'BR03', 50, 11.49);\n",
        "INSERT INTO OrderItems(order_num, order_item, prod_id, quantity, item_price)\n",
        "VALUES(20007, 2, 'BNBG01', 100, 2.99);\n",
        "INSERT INTO OrderItems(order_num, order_item, prod_id, quantity, item_price)\n",
        "VALUES(20007, 3, 'BNBG02', 100, 2.99);\n",
        "INSERT INTO OrderItems(order_num, order_item, prod_id, quantity, item_price)\n",
        "VALUES(20007, 4, 'BNBG03', 100, 2.99);\n",
        "INSERT INTO OrderItems(order_num, order_item, prod_id, quantity, item_price)\n",
        "VALUES(20007, 5, 'RGAN01', 50, 4.49);\n",
        "INSERT INTO OrderItems(order_num, order_item, prod_id, quantity, item_price)\n",
        "VALUES(20008, 1, 'RGAN01', 5, 4.99);\n",
        "INSERT INTO OrderItems(order_num, order_item, prod_id, quantity, item_price)\n",
        "VALUES(20008, 2, 'BR03', 5, 11.99);\n",
        "INSERT INTO OrderItems(order_num, order_item, prod_id, quantity, item_price)\n",
        "VALUES(20008, 3, 'BNBG01', 10, 3.49);\n",
        "INSERT INTO OrderItems(order_num, order_item, prod_id, quantity, item_price)\n",
        "VALUES(20008, 4, 'BNBG02', 10, 3.49);\n",
        "INSERT INTO OrderItems(order_num, order_item, prod_id, quantity, item_price)\n",
        "VALUES(20008, 5, 'BNBG03', 10, 3.49);\n",
        "INSERT INTO OrderItems(order_num, order_item, prod_id, quantity, item_price)\n",
        "VALUES(20009, 1, 'BNBG01', 250, 2.49);\n",
        "INSERT INTO OrderItems(order_num, order_item, prod_id, quantity, item_price)\n",
        "VALUES(20009, 2, 'BNBG02', 250, 2.49);\n",
        "INSERT INTO OrderItems(order_num, order_item, prod_id, quantity, item_price)\n",
        "VALUES(20009, 3, 'BNBG03', 250, 2.49);\n",
        "\n",
        "INSERT INTO CustNew(cust_id, cust_name, cust_address, cust_city, cust_state, cust_zip, cust_country, cust_contact, cust_email)\n",
        "VALUES('1000000008', 'Village Toys', '200 Maple Lane', 'Detroit', 'MI', '44444', 'USA', 'John Smith', 'sales@villagetoys.com');\n",
        "INSERT INTO CustNew(cust_id, cust_name, cust_address, cust_city, cust_state, cust_zip, cust_country, cust_contact)\n",
        "VALUES('1000000009', 'Kids Place', '333 South Lake Drive', 'Columbus', 'OH', '43333', 'USA', 'Michelle Green');"
      ],
      "execution_count": null,
      "outputs": []
    },
    {
      "cell_type": "code",
      "metadata": {
        "id": "cffzM-q37Z63"
      },
      "source": [
        "%sql select prod_name from products;"
      ],
      "execution_count": null,
      "outputs": []
    },
    {
      "cell_type": "code",
      "metadata": {
        "id": "HyoonVXm7lMf"
      },
      "source": [
        "%sql select prod_id, prod_name, prod_price from products;"
      ],
      "execution_count": null,
      "outputs": []
    },
    {
      "cell_type": "code",
      "metadata": {
        "id": "jYx6uwdu9uw6"
      },
      "source": [
        "%sql select * from products;"
      ],
      "execution_count": null,
      "outputs": []
    },
    {
      "cell_type": "code",
      "metadata": {
        "id": "P_X_Ojc_-m2x"
      },
      "source": [
        "%sql select vend_id from products;"
      ],
      "execution_count": null,
      "outputs": []
    },
    {
      "cell_type": "code",
      "metadata": {
        "id": "poWKtFxe-LdI"
      },
      "source": [
        "%sql select distinct vend_id from products;"
      ],
      "execution_count": null,
      "outputs": []
    },
    {
      "cell_type": "code",
      "metadata": {
        "id": "8K8VYZX7-VSq"
      },
      "source": [
        "%sql select vend_id, prod_price from products;"
      ],
      "execution_count": null,
      "outputs": []
    },
    {
      "cell_type": "code",
      "metadata": {
        "id": "rEpP0IzD-xIB"
      },
      "source": [
        "%sql select distinct vend_id, prod_price from products;"
      ],
      "execution_count": null,
      "outputs": []
    },
    {
      "cell_type": "code",
      "metadata": {
        "id": "7twUyqIU_DzZ"
      },
      "source": [
        "%sql select prod_name from products limit 5;"
      ],
      "execution_count": null,
      "outputs": []
    },
    {
      "cell_type": "code",
      "metadata": {
        "id": "A8VJ-62b_gYX"
      },
      "source": [
        "%sql select prod_name from products limit 5 offset 5;"
      ],
      "execution_count": null,
      "outputs": []
    },
    {
      "cell_type": "code",
      "metadata": {
        "id": "uaCqHrZ4AcAc"
      },
      "source": [
        "%sql select cust_id from customers;"
      ],
      "execution_count": null,
      "outputs": []
    },
    {
      "cell_type": "code",
      "metadata": {
        "id": "ITem60P-BuIy"
      },
      "source": [
        "%sql select distinct prod_id from orderitems;"
      ],
      "execution_count": null,
      "outputs": []
    },
    {
      "cell_type": "code",
      "metadata": {
        "id": "L13r9LiUCF7-"
      },
      "source": [
        "%sql select * from customers;"
      ],
      "execution_count": null,
      "outputs": []
    },
    {
      "cell_type": "code",
      "metadata": {
        "id": "YQAY1PU5CMK_"
      },
      "source": [
        "%sql select cust_id from customers;"
      ],
      "execution_count": null,
      "outputs": []
    },
    {
      "cell_type": "code",
      "metadata": {
        "id": "WLDvelP8CcJv"
      },
      "source": [
        "%sql select prod_name from products order by prod_name;"
      ],
      "execution_count": null,
      "outputs": []
    },
    {
      "cell_type": "code",
      "metadata": {
        "id": "45ucBf-lCidG"
      },
      "source": [
        "%sql select prod_id, prod_price, prod_name from products order by prod_price, prod_name;"
      ],
      "execution_count": null,
      "outputs": []
    },
    {
      "cell_type": "code",
      "metadata": {
        "id": "sW0vzbHpDEjH"
      },
      "source": [
        "%sql select prod_id, prod_price, prod_name from products order by 2, 3;"
      ],
      "execution_count": null,
      "outputs": []
    },
    {
      "cell_type": "code",
      "metadata": {
        "id": "qZtBb6rSDcEj"
      },
      "source": [
        "%sql select prod_id, prod_price, prod_name from products order by prod_price desc;"
      ],
      "execution_count": null,
      "outputs": []
    },
    {
      "cell_type": "code",
      "metadata": {
        "id": "YGn32EkHDxoQ"
      },
      "source": [
        "%sql select prod_id, prod_price, prod_name from products order by prod_price desc, prod_name;"
      ],
      "execution_count": null,
      "outputs": []
    },
    {
      "cell_type": "code",
      "metadata": {
        "id": "yam_ytjuG7Zm"
      },
      "source": [
        "%sql select cust_name from customers order by cust_name desc;"
      ],
      "execution_count": null,
      "outputs": []
    },
    {
      "cell_type": "code",
      "metadata": {
        "id": "6hre8bAqHMvy"
      },
      "source": [
        "%sql select cust_id, order_num from orders order by cust_id, order_date desc;"
      ],
      "execution_count": null,
      "outputs": []
    },
    {
      "cell_type": "code",
      "metadata": {
        "id": "DXT-B_XJHuNK"
      },
      "source": [
        "%sql select quantity, item_price from orderitems order by quantity desc, item_price desc;"
      ],
      "execution_count": null,
      "outputs": []
    },
    {
      "cell_type": "code",
      "metadata": {
        "id": "5Cc0QOKqJDxK"
      },
      "source": [
        "%sql select prod_name, prod_price from products where prod_price = 3.49;"
      ],
      "execution_count": null,
      "outputs": []
    },
    {
      "cell_type": "code",
      "metadata": {
        "id": "haCM7-hcJrt4"
      },
      "source": [
        "%sql select prod_name, prod_price from products where prod_price < 10;"
      ],
      "execution_count": null,
      "outputs": []
    },
    {
      "cell_type": "code",
      "metadata": {
        "id": "V9OXr3DTKcmt"
      },
      "source": [
        "%sql select vend_id, prod_name from products where vend_id <> 'DLL01';"
      ],
      "execution_count": null,
      "outputs": []
    },
    {
      "cell_type": "code",
      "metadata": {
        "id": "0wXqNkEWK1Mr"
      },
      "source": [
        "%sql select prod_name, prod_price from products where prod_price between 5 and 10;"
      ],
      "execution_count": null,
      "outputs": []
    },
    {
      "cell_type": "code",
      "metadata": {
        "id": "tjkDWmubLHNv"
      },
      "source": [
        "%sql select prod_name from products where prod_price is null;"
      ],
      "execution_count": null,
      "outputs": []
    },
    {
      "cell_type": "code",
      "metadata": {
        "id": "Ne7cwcczLfAB"
      },
      "source": [
        "%sql select cust_name from customers where cust_email is null;"
      ],
      "execution_count": null,
      "outputs": []
    },
    {
      "cell_type": "code",
      "metadata": {
        "id": "n1iXRgSmLqr5"
      },
      "source": [
        "%sql select prod_id, prod_name from products where prod_price == 9.49;"
      ],
      "execution_count": null,
      "outputs": []
    },
    {
      "cell_type": "code",
      "metadata": {
        "id": "lvfwBSl4MJIe"
      },
      "source": [
        "%sql select prod_id, prod_name from products where prod_price >= 9;"
      ],
      "execution_count": null,
      "outputs": []
    },
    {
      "cell_type": "code",
      "metadata": {
        "id": "bhwAV_GHMZgE"
      },
      "source": [
        "%sql select distinct order_num from orderitems where quantity >= 100;"
      ],
      "execution_count": null,
      "outputs": []
    },
    {
      "cell_type": "code",
      "metadata": {
        "id": "csniRYUQM_F0"
      },
      "source": [
        "%sql select prod_name, prod_price from products where prod_price between 3 and 6 order by prod_price;"
      ],
      "execution_count": null,
      "outputs": []
    },
    {
      "cell_type": "code",
      "metadata": {
        "id": "I9iwRBWjNWAE"
      },
      "source": [
        "%sql select prod_id, prod_price, prod_name from products where vend_id = 'DLL01' and prod_price <= 4;"
      ],
      "execution_count": null,
      "outputs": []
    },
    {
      "cell_type": "code",
      "metadata": {
        "id": "jfKvu19TN1tw"
      },
      "source": [
        "%sql select prod_id, prod_price, prod_name from products where vend_id = 'DLL01' or vend_id = 'BRS01';"
      ],
      "execution_count": null,
      "outputs": []
    },
    {
      "cell_type": "code",
      "metadata": {
        "id": "NsAJXEwcOvah"
      },
      "source": [
        "%sql select prod_name, prod_price from products where (vend_id = 'DLL01' or vend_id = 'BRS01') and prod_price >= 10;"
      ],
      "execution_count": null,
      "outputs": []
    },
    {
      "cell_type": "code",
      "metadata": {
        "id": "qG477vF6PYt5"
      },
      "source": [
        "%sql select prod_name, prod_price from products where vend_id in ('DLL01','BRS01') order by prod_name;"
      ],
      "execution_count": null,
      "outputs": []
    },
    {
      "cell_type": "code",
      "metadata": {
        "id": "z9t6D7RsQAhS"
      },
      "source": [
        "%sql select prod_name, prod_price from products where vend_id = 'DLL01' or vend_id = 'BRS01' order by prod_name;"
      ],
      "execution_count": null,
      "outputs": []
    },
    {
      "cell_type": "code",
      "metadata": {
        "id": "KiuGdK3pQUVN"
      },
      "source": [
        "%sql select prod_name from products where not vend_id = 'DLL01' order by prod_name;"
      ],
      "execution_count": null,
      "outputs": []
    },
    {
      "cell_type": "code",
      "metadata": {
        "id": "68DWH9flQtec"
      },
      "source": [
        "%sql select prod_name from products where vend_id <> 'DLL01' order by prod_name;"
      ],
      "execution_count": null,
      "outputs": []
    },
    {
      "cell_type": "code",
      "metadata": {
        "id": "Hl6DpFeBQ4qt"
      },
      "source": [
        "%sql select vend_name from vendors where vend_country = 'USA' and vend_state = 'CA';"
      ],
      "execution_count": null,
      "outputs": []
    },
    {
      "cell_type": "code",
      "metadata": {
        "id": "mwdu2fjUV2rE"
      },
      "source": [
        "%sql select order_num, prod_id, quantity from orderitems where prod_id in ('BR01','BR02','BR03') and quantity >= 100;"
      ],
      "execution_count": null,
      "outputs": []
    },
    {
      "cell_type": "code",
      "metadata": {
        "id": "flzDiZ8ZYcgz"
      },
      "source": [
        "%sql select prod_name, prod_price from products where prod_price >= 3 and prod_price <= 6 order by prod_price;"
      ],
      "execution_count": null,
      "outputs": []
    },
    {
      "cell_type": "code",
      "metadata": {
        "id": "lGnRQ3V6ZH3E"
      },
      "source": [
        "%sql select prod_id, prod_name from products where prod_name like 'Fish%';"
      ],
      "execution_count": null,
      "outputs": []
    },
    {
      "cell_type": "code",
      "metadata": {
        "id": "fbFhWtdcZn9V"
      },
      "source": [
        "%sql select prod_id, prod_name from products where prod_name like '%bean bag%';"
      ],
      "execution_count": null,
      "outputs": []
    },
    {
      "cell_type": "code",
      "metadata": {
        "id": "DMJ9x4gQZ_JJ"
      },
      "source": [
        "%sql select prod_name from products where prod_name like 'F%y';"
      ],
      "execution_count": null,
      "outputs": []
    },
    {
      "cell_type": "code",
      "metadata": {
        "id": "odge6zQkaLS8"
      },
      "source": [
        "%sql select prod_id, prod_name from products where prod_name like '__ inch teddy bear';"
      ],
      "execution_count": null,
      "outputs": []
    },
    {
      "cell_type": "code",
      "metadata": {
        "id": "CiR_mFZ8ay1Z"
      },
      "source": [
        "%sql select prod_id, prod_name from products where prod_name like '% inch teddy bear';"
      ],
      "execution_count": null,
      "outputs": []
    },
    {
      "cell_type": "code",
      "metadata": {
        "id": "p5jxncDybPWM"
      },
      "source": [
        "%sql select cust_contact from customers where cust_contact like '[JM]%' order by cust_contact;"
      ],
      "execution_count": null,
      "outputs": []
    },
    {
      "cell_type": "code",
      "metadata": {
        "id": "nmbduHqGbyNV"
      },
      "source": [
        "%sql select prod_name, prod_desc from products where prod_desc like '%toy%';"
      ],
      "execution_count": null,
      "outputs": []
    },
    {
      "cell_type": "code",
      "metadata": {
        "id": "rEJcvpZNciFk"
      },
      "source": [
        "%sql select prod_name, prod_desc from products where not prod_desc like '%toy%' order by prod_name; "
      ],
      "execution_count": null,
      "outputs": []
    },
    {
      "cell_type": "code",
      "metadata": {
        "id": "uGjQz1Q6c5ll"
      },
      "source": [
        "%sql select prod_name, prod_desc from products where prod_desc like '%toy%' and prod_desc like '%carrots%';"
      ],
      "execution_count": null,
      "outputs": []
    },
    {
      "cell_type": "code",
      "metadata": {
        "id": "48LY5K_mdeG6"
      },
      "source": [
        "%sql select prod_name, prod_desc from products where prod_desc like '%toy%carrots%';"
      ],
      "execution_count": null,
      "outputs": []
    },
    {
      "cell_type": "code",
      "metadata": {
        "id": "NJ8ZA3tQeR8D"
      },
      "source": [
        "%sql select vend_name || '(' || vend_country || ')' from vendors order by vend_name;"
      ],
      "execution_count": null,
      "outputs": []
    },
    {
      "cell_type": "code",
      "metadata": {
        "id": "D6sThH4tem6Q"
      },
      "source": [
        "%sql select rtrim(vend_name) || ' (' || rtrim(vend_country) || ')' from vendors order by vend_name;"
      ],
      "execution_count": null,
      "outputs": []
    },
    {
      "cell_type": "code",
      "metadata": {
        "id": "1IJmoq8-fij_"
      },
      "source": [
        "%sql select rtrim(vend_name) || ' (' || rtrim(vend_country) || ')' as vend_title from vendors order by vend_name;"
      ],
      "execution_count": null,
      "outputs": []
    },
    {
      "cell_type": "code",
      "metadata": {
        "id": "8vhT23p-fzDt"
      },
      "source": [
        "%sql select prod_id, quantity, item_price from orderitems where order_num = 20008;"
      ],
      "execution_count": null,
      "outputs": []
    },
    {
      "cell_type": "code",
      "metadata": {
        "id": "IV3rukGHgV2M"
      },
      "source": [
        "%sql select prod_id, quantity, item_price, quantity*item_price as expanded_price from orderitems where order_num = 20008;"
      ],
      "execution_count": null,
      "outputs": []
    },
    {
      "cell_type": "code",
      "metadata": {
        "id": "jV98uBW4hA0u"
      },
      "source": [
        "%sql select 3*2, trim('  abc  '), date('now');"
      ],
      "execution_count": null,
      "outputs": []
    },
    {
      "cell_type": "code",
      "metadata": {
        "id": "GR75Zd4rhYzA"
      },
      "source": [
        "%sql select vend_id, vend_name as vname, vend_address as vaddress, vend_city as vcity from vendors order by vname;"
      ],
      "execution_count": null,
      "outputs": []
    },
    {
      "cell_type": "code",
      "metadata": {
        "id": "O80zUBNliTkS"
      },
      "source": [
        "%sql select prod_id, prod_price, 0.9*prod_price as sale_price from products;"
      ],
      "execution_count": null,
      "outputs": []
    },
    {
      "cell_type": "code",
      "metadata": {
        "id": "YGLxTr0xiujI"
      },
      "source": [
        "%sql select vend_name, upper(vend_name) as vend_name_upcase from vendors order by vend_name;"
      ],
      "execution_count": null,
      "outputs": []
    },
    {
      "cell_type": "code",
      "metadata": {
        "id": "5jW8kgQjMNFc"
      },
      "source": [
        "%sql select cust_name, cust_contact from customers where soundex(cust_contact) = soundex('Michael Green');"
      ],
      "execution_count": null,
      "outputs": []
    },
    {
      "cell_type": "code",
      "metadata": {
        "id": "peJ6K3wjNwLR"
      },
      "source": [
        "%sql select order_num from orders where strftime('%Y', order_date) = '2020';"
      ],
      "execution_count": null,
      "outputs": []
    },
    {
      "cell_type": "code",
      "metadata": {
        "id": "eCYKQ_iyPqDn"
      },
      "source": [
        "%sql select cust_id, cust_name, upper(substr(cust_contact,1,2)||substr(cust_city,1,3)) as user_login from customers;"
      ],
      "execution_count": null,
      "outputs": []
    },
    {
      "cell_type": "code",
      "metadata": {
        "id": "NMJz7l3mRX3I"
      },
      "source": [
        "%sql select order_num, order_date from orders where strftime('%Y-%m', order_date) = '2020-01' order by order_date;"
      ],
      "execution_count": null,
      "outputs": []
    },
    {
      "cell_type": "code",
      "metadata": {
        "id": "kAnEoTjRS4q1"
      },
      "source": [
        "%sql select avg(prod_price) as avg_price from products;"
      ],
      "execution_count": null,
      "outputs": []
    },
    {
      "cell_type": "code",
      "metadata": {
        "id": "3Wr35_JdTJmH"
      },
      "source": [
        "%sql select avg(prod_price) as avg_price from products where vend_id = 'DLL01';"
      ],
      "execution_count": null,
      "outputs": []
    },
    {
      "cell_type": "code",
      "metadata": {
        "id": "P1-1KCbmTwk6"
      },
      "source": [
        "%sql select count(*) as num_cust from customers;"
      ],
      "execution_count": null,
      "outputs": []
    },
    {
      "cell_type": "code",
      "metadata": {
        "id": "wr2vApiqT3sY"
      },
      "source": [
        "%sql select count(cust_email) as num_cust from customers;"
      ],
      "execution_count": null,
      "outputs": []
    },
    {
      "cell_type": "code",
      "metadata": {
        "id": "_M17E1LAULv4"
      },
      "source": [
        "%sql select max(prod_price) as max_price from products;"
      ],
      "execution_count": null,
      "outputs": []
    },
    {
      "cell_type": "code",
      "metadata": {
        "id": "FDfhbhqiUf2k"
      },
      "source": [
        "%sql select min(prod_price) as min_price from products;"
      ],
      "execution_count": null,
      "outputs": []
    },
    {
      "cell_type": "code",
      "metadata": {
        "id": "ta1JuL3BUt_L"
      },
      "source": [
        "%sql select sum(quantity) as items_ordered from orderitems where order_num = 20005;"
      ],
      "execution_count": null,
      "outputs": []
    },
    {
      "cell_type": "code",
      "metadata": {
        "id": "1bM98NanVFFX"
      },
      "source": [
        "%sql select sum(item_price*quantity) as total_price from orderitems where order_num = 20005;"
      ],
      "execution_count": null,
      "outputs": []
    },
    {
      "cell_type": "code",
      "metadata": {
        "id": "pSHQjLDxVRiB"
      },
      "source": [
        "%sql select avg(distinct prod_price) as avg_price from products where vend_id = 'DLL01';"
      ],
      "execution_count": null,
      "outputs": []
    },
    {
      "cell_type": "code",
      "metadata": {
        "id": "CccZNrGIVtXQ"
      },
      "source": [
        "%sql select count(*) as num_items, min(prod_price) as price_min, max(prod_price) as price_max, avg(prod_price) as price_avg from products;"
      ],
      "execution_count": null,
      "outputs": []
    },
    {
      "cell_type": "code",
      "metadata": {
        "id": "wzc7ozlTWji_"
      },
      "source": [
        "%sql select sum(quantity) as items_ordered from orderitems;"
      ],
      "execution_count": null,
      "outputs": []
    },
    {
      "cell_type": "code",
      "metadata": {
        "id": "14i6VdfjW7C_"
      },
      "source": [
        "%sql select sum(quantity) as items_ordered from orderitems where prod_id = 'BR01';"
      ],
      "execution_count": null,
      "outputs": []
    },
    {
      "cell_type": "code",
      "metadata": {
        "id": "VNFxc6rGXoGq"
      },
      "source": [
        "%sql select max(prod_price) as max_price from products where prod_price <= 10;"
      ],
      "execution_count": null,
      "outputs": []
    },
    {
      "cell_type": "code",
      "metadata": {
        "id": "yMU7UJpiYKod"
      },
      "source": [
        "%sql select count(*) as num_prods from products where vend_id = 'DLL01';"
      ],
      "execution_count": null,
      "outputs": []
    },
    {
      "cell_type": "code",
      "metadata": {
        "id": "MzhjDdv_YZ15"
      },
      "source": [
        "%sql select vend_id, count(*) as num_prods from products group by vend_id;"
      ],
      "execution_count": null,
      "outputs": []
    },
    {
      "cell_type": "code",
      "metadata": {
        "id": "fg9C-8ClYsMG"
      },
      "source": [
        "%sql select cust_id, count(*) as orders from orders group by cust_id having count(*) >= 2;"
      ],
      "execution_count": null,
      "outputs": []
    },
    {
      "cell_type": "code",
      "metadata": {
        "id": "AWrQhfZndZfF"
      },
      "source": [
        "%sql select vend_id, count(*) as num_prods from products where prod_price >= 4 group by vend_id having count(*) >= 2;"
      ],
      "execution_count": null,
      "outputs": []
    },
    {
      "cell_type": "code",
      "metadata": {
        "id": "8Z2sAfcDeRdj"
      },
      "source": [
        "%sql select vend_id, count(*) as num_prods from products group by vend_id having count(*) >= 2;"
      ],
      "execution_count": null,
      "outputs": []
    },
    {
      "cell_type": "code",
      "metadata": {
        "id": "kEeZnKzbe_ng"
      },
      "source": [
        "%sql select order_num, count(*) as items from orderitems group by order_num having count(*) >= 3;"
      ],
      "execution_count": null,
      "outputs": []
    },
    {
      "cell_type": "code",
      "metadata": {
        "id": "1r77oa6ufxMy"
      },
      "source": [
        "%sql select order_num, count(*) as items from orderitems group by order_num having count(*) >= 3 order by items, order_num;"
      ],
      "execution_count": null,
      "outputs": []
    },
    {
      "cell_type": "code",
      "metadata": {
        "id": "GOVT3zNUgCOw"
      },
      "source": [
        "%sql select order_num, count(*) as order_lines from orderitems group by order_num order by order_lines;"
      ],
      "execution_count": null,
      "outputs": []
    },
    {
      "cell_type": "code",
      "metadata": {
        "id": "UINfqUC3hEvw"
      },
      "source": [
        "%sql select vend_id, min(prod_price) as cheapest_item from products group by vend_id order by cheapest_item;"
      ],
      "execution_count": null,
      "outputs": []
    },
    {
      "cell_type": "code",
      "metadata": {
        "id": "LIpXkptJhlo7"
      },
      "source": [
        "%sql select order_num from orderitems group by order_num having sum(quantity) >= 100;"
      ],
      "execution_count": null,
      "outputs": []
    },
    {
      "cell_type": "code",
      "metadata": {
        "id": "UoxtcSQCjki4"
      },
      "source": [
        "%sql select order_num, sum(item_price*quantity) as total_price from orderitems group by order_num having total_price >= 1000 order by order_num;"
      ],
      "execution_count": null,
      "outputs": []
    },
    {
      "cell_type": "code",
      "metadata": {
        "id": "ZfOc8Mc_k45s"
      },
      "source": [
        "%sql select order_num from orderitems where prod_id = 'RGAN01';"
      ],
      "execution_count": null,
      "outputs": []
    },
    {
      "cell_type": "code",
      "metadata": {
        "id": "nI0yf6QPlixD"
      },
      "source": [
        "%sql select cust_id from orders where order_num in (20007,20008);"
      ],
      "execution_count": null,
      "outputs": []
    },
    {
      "cell_type": "code",
      "metadata": {
        "id": "Jvg7E4Otl0d5"
      },
      "source": [
        "%sql select cust_id from orders where order_num in (select order_num from orderitems where prod_id = 'RGAN01');"
      ],
      "execution_count": null,
      "outputs": []
    },
    {
      "cell_type": "code",
      "metadata": {
        "id": "kg4DLseAmOLd"
      },
      "source": [
        "%sql select cust_name, cust_contact from customers where cust_id in (1000000004, 1000000005);"
      ],
      "execution_count": null,
      "outputs": []
    },
    {
      "cell_type": "code",
      "metadata": {
        "id": "Ke7qHi_nmnEl"
      },
      "source": [
        "%sql select cust_name, cust_contact from customers where cust_id in (select cust_id from orders where order_num in (select order_num from orderitems where prod_id = 'RGAN01'));"
      ],
      "execution_count": null,
      "outputs": []
    },
    {
      "cell_type": "code",
      "metadata": {
        "id": "G9RxFYwBncfj"
      },
      "source": [
        "%sql select count(*) as orders from orders where cust_id = 1000000001;"
      ],
      "execution_count": null,
      "outputs": []
    },
    {
      "cell_type": "code",
      "metadata": {
        "id": "KvP-qaTVn-lS"
      },
      "source": [
        "%sql select cust_name, cust_state, (select count(*) from orders where orders.cust_id = customers.cust_id) as orders from customers order by cust_name;"
      ],
      "execution_count": null,
      "outputs": []
    },
    {
      "cell_type": "code",
      "metadata": {
        "id": "rhShv4RzojhJ"
      },
      "source": [
        "%sql select cust_id from orders where order_num in (select order_num from orderitems where item_price >= 10);"
      ],
      "execution_count": null,
      "outputs": []
    },
    {
      "cell_type": "code",
      "metadata": {
        "id": "quZBDvcoqN0X"
      },
      "source": [
        "%sql select cust_id, order_date from orders where order_num in (select order_num from orderitems where prod_id = 'BR01');"
      ],
      "execution_count": null,
      "outputs": []
    },
    {
      "cell_type": "code",
      "metadata": {
        "id": "YReSFtSzq7K5"
      },
      "source": [
        "%sql select cust_email from customers where cust_id in (select cust_id from orders where order_num in (select order_num from orderitems where prod_id = 'BR01'));"
      ],
      "execution_count": null,
      "outputs": []
    },
    {
      "cell_type": "code",
      "metadata": {
        "id": "36oI5HIPrgwf"
      },
      "source": [
        "%sql select cust_id, (select sum(item_price*quantity) from orderitems where orders.order_num = orderitems.order_num) as total_ordered from orders order by total_ordered desc;"
      ],
      "execution_count": null,
      "outputs": []
    },
    {
      "cell_type": "code",
      "metadata": {
        "id": "VSSaEWLVvFl3"
      },
      "source": [
        "%sql select prod_name, (select sum(quantity) from orderitems where orderitems.prod_id = products.prod_id) as quant_sold from products;"
      ],
      "execution_count": null,
      "outputs": []
    },
    {
      "cell_type": "code",
      "metadata": {
        "id": "R_v5oP3dv3xw"
      },
      "source": [
        "%sql select vend_name, prod_name, prod_price from vendors, products where vendors.vend_id = products.vend_id;"
      ],
      "execution_count": null,
      "outputs": []
    },
    {
      "cell_type": "code",
      "metadata": {
        "id": "5jGTl-n11bxh"
      },
      "source": [
        "%sql select vend_name, prod_name, prod_price from vendors, products;"
      ],
      "execution_count": null,
      "outputs": []
    },
    {
      "cell_type": "code",
      "metadata": {
        "id": "L4yFmJHW2BVk"
      },
      "source": [
        "%sql select vend_name, prod_name, prod_price from vendors inner join products on vendors.vend_id = products.vend_id;"
      ],
      "execution_count": null,
      "outputs": []
    },
    {
      "cell_type": "code",
      "metadata": {
        "id": "-gp7bJeR2hlY"
      },
      "source": [
        "%sql select prod_name, vend_name, prod_price, quantity from orderitems, products, vendors where products.vend_id = vendors.vend_id and orderitems.prod_id = products.prod_id and order_num = 20007;"
      ],
      "execution_count": null,
      "outputs": []
    },
    {
      "cell_type": "code",
      "metadata": {
        "id": "UpjkphP23gW6"
      },
      "source": [
        "%sql select cust_name, cust_contact from customers, orders, orderitems where customers.cust_id = orders.cust_id and orderitems.order_num = orders.order_num and prod_id = 'RGAN01';"
      ],
      "execution_count": null,
      "outputs": []
    },
    {
      "cell_type": "code",
      "metadata": {
        "id": "6sGisQu44b6s"
      },
      "source": [
        "%sql select cust_name, order_num from customers, orders where customers.cust_id = orders.cust_id order by cust_name, order_num;"
      ],
      "execution_count": null,
      "outputs": []
    },
    {
      "cell_type": "code",
      "metadata": {
        "id": "xOE0TlmY5a21"
      },
      "source": [
        "%sql select cust_name, order_num from customers inner join orders on customers.cust_id = orders.cust_id order by cust_name, order_num;"
      ],
      "execution_count": null,
      "outputs": []
    },
    {
      "cell_type": "code",
      "metadata": {
        "id": "dN3GBSTg5o3N"
      },
      "source": [
        "%sql select cust_name, order_num, (select sum(item_price*quantity) from orderitems where orders.order_num = orderitems.order_num) as order_total from customers, orders where customers.cust_id = orders.cust_id order by cust_name, order_num;"
      ],
      "execution_count": null,
      "outputs": []
    },
    {
      "cell_type": "code",
      "metadata": {
        "id": "49fVw1s27k9i"
      },
      "source": [
        "%sql select customers.cust_name, orders.order_num, sum(item_price*quantity) as order_total from customers, orders, orderitems where customers.cust_id = orders.cust_id and orders.order_num = orderitems.order_num group by orderitems.order_num order by customers.cust_name, orderitems.order_num;"
      ],
      "execution_count": null,
      "outputs": []
    },
    {
      "cell_type": "code",
      "metadata": {
        "id": "ZxUS0oGd9iZP"
      },
      "source": [
        "%sql select cust_id, order_date, prod_id from orders, orderitems where orders.order_num = orderitems.order_num and orderitems.prod_id = 'BR01' order by order_date;"
      ],
      "execution_count": null,
      "outputs": []
    },
    {
      "cell_type": "code",
      "metadata": {
        "id": "ntrQmfHT-nMd"
      },
      "source": [
        "%sql select cust_email from customers inner join orders on customers.cust_id = orders.cust_id inner join orderitems on orders.order_num = orderitems.order_num where prod_id = 'BR01';"
      ],
      "execution_count": null,
      "outputs": []
    },
    {
      "cell_type": "code",
      "metadata": {
        "id": "EUmxnpl8_nEG"
      },
      "source": [
        "%sql select cust_name, sum(item_price*quantity) as total_price from customers, orders, orderitems where customers.cust_id = orders.cust_id and orders.order_num = orderitems.order_num group by cust_name having total_price >= 1000 order by cust_name;"
      ],
      "execution_count": null,
      "outputs": []
    },
    {
      "cell_type": "code",
      "metadata": {
        "id": "KJ16JGdnAwXM"
      },
      "source": [
        "%sql select cust_name, sum(item_price*quantity) as total_price from customers inner join orders on customers.cust_id = orders.cust_id inner join orderitems on orders.order_num = orderitems.order_num group by cust_name having total_price >= 1000 order by cust_name;"
      ],
      "execution_count": null,
      "outputs": []
    },
    {
      "cell_type": "code",
      "metadata": {
        "id": "64pJ1-weBdIi"
      },
      "source": [
        "%sql select c1.cust_id, c1.cust_name, c1.cust_contact from customers as c1, customers as c2 where c1.cust_name = c2.cust_name and c2.cust_contact = 'Jim Jones';"
      ],
      "execution_count": null,
      "outputs": []
    },
    {
      "cell_type": "code",
      "metadata": {
        "id": "418FxZf2DGdL"
      },
      "source": [
        "%sql select cust_id, cust_name, cust_contact from customers where cust_contact = 'Jim Jones';"
      ],
      "execution_count": null,
      "outputs": []
    },
    {
      "cell_type": "code",
      "metadata": {
        "id": "iUwEiJ2DEhew"
      },
      "source": [
        "%sql select c.*, o.order_num, o.order_date, oi.prod_id, oi.quantity, oi.item_price from customers as c, orders as o, orderitems as oi where c.cust_id = o.cust_id and oi.order_num = o.order_num and prod_id = 'RGAN01';"
      ],
      "execution_count": null,
      "outputs": []
    },
    {
      "cell_type": "code",
      "metadata": {
        "id": "09jOINv2GELT"
      },
      "source": [
        "%sql select customers.cust_id, orders.order_num from customers inner join orders on customers.cust_id = orders.cust_id;"
      ],
      "execution_count": null,
      "outputs": []
    },
    {
      "cell_type": "code",
      "metadata": {
        "id": "mL3TReJnKo26"
      },
      "source": [
        "%sql select customers.cust_id, orders.order_num from customers left outer join orders on customers.cust_id = orders.cust_id;"
      ],
      "execution_count": null,
      "outputs": []
    },
    {
      "cell_type": "code",
      "metadata": {
        "id": "WcFgLJaxK-4c"
      },
      "source": [
        "%sql select customers.cust_id, orders.order_num from customers right outer join orders on customers.cust_id = orders.cust_id;"
      ],
      "execution_count": null,
      "outputs": []
    },
    {
      "cell_type": "code",
      "metadata": {
        "id": "jXR_9si8LaDL"
      },
      "source": [
        "%sql select customers.cust_id, orders.order_num from customers full outer join orders on customers.cust_id = orders.cust_id; "
      ],
      "execution_count": null,
      "outputs": []
    },
    {
      "cell_type": "code",
      "metadata": {
        "id": "WeaDWrYILz4Q"
      },
      "source": [
        "%sql select customers.cust_id, count(orders.order_num) as num_ord from customers inner join orders on customers.cust_id = orders.cust_id group by customers.cust_id;"
      ],
      "execution_count": null,
      "outputs": []
    },
    {
      "cell_type": "code",
      "metadata": {
        "id": "B9GHU7flMVpP"
      },
      "source": [
        "%sql select customers.cust_id, count(orders.order_num) as num_ord from customers left outer join orders on customers.cust_id = orders.cust_id group by customers.cust_id;"
      ],
      "execution_count": null,
      "outputs": []
    },
    {
      "cell_type": "code",
      "metadata": {
        "id": "UzVf--S9MiZ7"
      },
      "source": [
        "%sql select cust_name, order_num from customers inner join orders on customers.cust_id = orders.cust_id order by cust_name;"
      ],
      "execution_count": null,
      "outputs": []
    },
    {
      "cell_type": "code",
      "metadata": {
        "id": "rLRXJQr-Nep-"
      },
      "source": [
        "%sql select cust_name, order_num from customers left outer join orders on customers.cust_id = orders.cust_id order by cust_name;"
      ],
      "execution_count": null,
      "outputs": []
    },
    {
      "cell_type": "code",
      "metadata": {
        "id": "qrmfE3SDNtF9"
      },
      "source": [
        "%sql select prod_name, order_num from products left outer join orderitems on products.prod_id = orderitems.prod_id order by prod_name;"
      ],
      "execution_count": null,
      "outputs": []
    },
    {
      "cell_type": "code",
      "metadata": {
        "id": "YJTqgLPjO0p8"
      },
      "source": [
        "%sql select prod_name, count(order_num) as orders from products left outer join orderitems on products.prod_id = orderitems.prod_id group by prod_name order by prod_name;"
      ],
      "execution_count": null,
      "outputs": []
    },
    {
      "cell_type": "code",
      "metadata": {
        "id": "o8R1t_2EQHCM"
      },
      "source": [
        "%sql select vendors.vend_name, count(products.prod_id) as products from vendors left outer join products on vendors.vend_id = products.vend_id group by vendors.vend_id;"
      ],
      "execution_count": null,
      "outputs": []
    },
    {
      "cell_type": "code",
      "metadata": {
        "id": "if1ZFDs5RbCC"
      },
      "source": [
        "%sql select cust_name, cust_contact, cust_email from customers where cust_state in ('IL','IN','MI') union select cust_name, cust_contact, cust_email from customers where cust_name = 'Fun4All';"
      ],
      "execution_count": null,
      "outputs": []
    },
    {
      "cell_type": "code",
      "metadata": {
        "id": "TQksVWfdSkKQ"
      },
      "source": [
        "%sql select cust_name, cust_contact, cust_email from customers where cust_state in ('IL','IN','MI') union all select cust_name, cust_contact, cust_email from customers where cust_name = 'Fun4All';"
      ],
      "execution_count": null,
      "outputs": []
    },
    {
      "cell_type": "code",
      "metadata": {
        "id": "_VvO2PRKTH6V"
      },
      "source": [
        "%sql select cust_name, cust_contact, cust_email from customers where cust_state in ('IL','IN','MI') union all select cust_name, cust_contact, cust_email from customers where cust_name = 'Fun4All' order by cust_name, cust_contact;"
      ],
      "execution_count": null,
      "outputs": []
    },
    {
      "cell_type": "code",
      "metadata": {
        "id": "9dEIfzEkTQ-B"
      },
      "source": [
        "%sql select prod_id, quantity from orderitems where quantity = 100 union select prod_id, quantity from orderitems where prod_id like 'BNBG%' order by prod_id;"
      ],
      "execution_count": null,
      "outputs": []
    },
    {
      "cell_type": "code",
      "metadata": {
        "id": "CK0UPNojT4Wv"
      },
      "source": [
        "%sql select prod_id, quantity from orderitems where quantity = 100 or prod_id like 'BNBG%' order by prod_id;"
      ],
      "execution_count": null,
      "outputs": []
    },
    {
      "cell_type": "code",
      "metadata": {
        "id": "KknBYXQ6UJD6"
      },
      "source": [
        "%sql select prod_name from products union select cust_name from customers order by prod_name;"
      ],
      "execution_count": null,
      "outputs": []
    },
    {
      "cell_type": "code",
      "metadata": {
        "id": "_SnMct9VUkX5"
      },
      "source": [
        "%sql insert into customers values (1000000006,'Toy Land','123 Any Street','New York','NY','11111','USA',NULL,NULL);"
      ],
      "execution_count": null,
      "outputs": []
    },
    {
      "cell_type": "code",
      "metadata": {
        "id": "0FibDoV5XkHp"
      },
      "source": [
        "%sql insert into customers (cust_id,cust_name,cust_address,cust_city,cust_state,cust_zip,cust_country,cust_contact,cust_email) values (1000000006,'Toy Land','123 Any Street','New York','NY','11111','USA',NULL,NULL);"
      ],
      "execution_count": null,
      "outputs": []
    },
    {
      "cell_type": "code",
      "metadata": {
        "id": "NHEt1JYMYsSi"
      },
      "source": [
        "%sql INSERT INTO customers(cust_id,cust_contact,cust_email,cust_name,cust_address,cust_city,cust_state,cust_zip,cust_country) SELECT cust_id,cust_contact,cust_email,cust_name,cust_address,cust_city,cust_state,cust_zip,cust_country FROM CustNew;"
      ],
      "execution_count": null,
      "outputs": []
    },
    {
      "cell_type": "code",
      "metadata": {
        "id": "8pds5zPdb676"
      },
      "source": [
        "%sql create table custcopy as select * from customers;"
      ],
      "execution_count": null,
      "outputs": []
    },
    {
      "cell_type": "code",
      "metadata": {
        "id": "vhaZoRZqcJrt"
      },
      "source": [
        "%sql create table ordersbackup as select * from orders;"
      ],
      "execution_count": null,
      "outputs": []
    },
    {
      "cell_type": "code",
      "metadata": {
        "id": "R2QSVBtncipV"
      },
      "source": [
        "%sql create table orderitemsbackup as select * from orderitems;"
      ],
      "execution_count": null,
      "outputs": []
    },
    {
      "cell_type": "code",
      "metadata": {
        "id": "GwBjhIV2cvPm"
      },
      "source": [
        "%sql update customers set cust_email = 'kim@thetoystore.com' where cust_id = 1000000005;"
      ],
      "execution_count": null,
      "outputs": []
    },
    {
      "cell_type": "code",
      "metadata": {
        "id": "2WavoQVHc_dX"
      },
      "source": [
        "%sql update customers set cust_email = null where cust_id = 1000000005;"
      ],
      "execution_count": null,
      "outputs": []
    },
    {
      "cell_type": "code",
      "metadata": {
        "id": "WCdshUaedXvT"
      },
      "source": [
        "%sql delete from customers where cust_id = 1000000006;"
      ],
      "execution_count": null,
      "outputs": []
    },
    {
      "cell_type": "code",
      "metadata": {
        "id": "WB5gNPhodfrJ"
      },
      "source": [
        "%sql update vendors set vend_state = upper(vend_state) where vend_country = 'USA';"
      ],
      "execution_count": null,
      "outputs": []
    },
    {
      "cell_type": "code",
      "metadata": {
        "id": "ioG7MGIYeOmz"
      },
      "source": [
        "%sql update customers set cust_state = upper(cust_state) where cust_country = 'USA';"
      ],
      "execution_count": null,
      "outputs": []
    },
    {
      "cell_type": "code",
      "metadata": {
        "id": "DJTibnziehCx"
      },
      "source": [
        "%sql select * from customers where cust_id = 1000000042;"
      ],
      "execution_count": null,
      "outputs": []
    },
    {
      "cell_type": "code",
      "metadata": {
        "id": "aR2WfrZEezoG"
      },
      "source": [
        "%sql delete from customers where cust_id = 1000000042;"
      ],
      "execution_count": null,
      "outputs": []
    },
    {
      "cell_type": "code",
      "metadata": {
        "id": "-ZvX4uKEfMuY"
      },
      "source": [
        "%sql alter table vendors add vend_phone char(20);"
      ],
      "execution_count": null,
      "outputs": []
    },
    {
      "cell_type": "code",
      "metadata": {
        "id": "RiyjlM4af3tP"
      },
      "source": [
        "%sql alter table vendors drop column vend_phone;"
      ],
      "execution_count": null,
      "outputs": []
    },
    {
      "cell_type": "code",
      "metadata": {
        "id": "aMT77hHNgjFt"
      },
      "source": [
        "%sql drop table custcopy;"
      ],
      "execution_count": null,
      "outputs": []
    },
    {
      "cell_type": "code",
      "metadata": {
        "id": "C23vvXGTgr3O"
      },
      "source": [
        "%sql create view productcustomers as select cust_name, cust_contact, prod_id from customers, orders, orderitems where customers.cust_id = orders.cust_id and orderitems.order_num = orders.order_num;"
      ],
      "execution_count": null,
      "outputs": []
    },
    {
      "cell_type": "code",
      "metadata": {
        "id": "QpKuScCEiEbo"
      },
      "source": [
        "%sql select * from productcustomers where prod_id = 'RGAN01';"
      ],
      "execution_count": null,
      "outputs": []
    },
    {
      "cell_type": "code",
      "metadata": {
        "id": "hc7q7kQwiTxN"
      },
      "source": [
        "%sql create view vendorlocations as select rtrim(vend_name)||' ('||rtrim(vend_country)||')' as vend_title from vendors;"
      ],
      "execution_count": null,
      "outputs": []
    },
    {
      "cell_type": "code",
      "metadata": {
        "id": "M2X8DV9li6ee"
      },
      "source": [
        "%sql select * from vendorlocations;"
      ],
      "execution_count": null,
      "outputs": []
    },
    {
      "cell_type": "code",
      "metadata": {
        "id": "zqzMWAcJjEAI"
      },
      "source": [
        "%sql create view customeremaillist as select cust_id, cust_name, cust_email from customers where cust_email is not null;"
      ],
      "execution_count": null,
      "outputs": []
    },
    {
      "cell_type": "code",
      "metadata": {
        "id": "otlQTF5KjReX"
      },
      "source": [
        "%sql select * from customeremaillist;"
      ],
      "execution_count": null,
      "outputs": []
    },
    {
      "cell_type": "code",
      "metadata": {
        "id": "Yc2ujXgkjWwI"
      },
      "source": [
        "%sql create view orderitemsexpanded as select order_num, prod_id, quantity, item_price, quantity*item_price as expanded_price from orderitems;"
      ],
      "execution_count": null,
      "outputs": []
    },
    {
      "cell_type": "code",
      "metadata": {
        "id": "iJbn9rFIj3Sd"
      },
      "source": [
        "%sql select * from orderitemsexpanded where order_num = 20008;"
      ],
      "execution_count": null,
      "outputs": []
    },
    {
      "cell_type": "code",
      "metadata": {
        "id": "PBjKEUhdmplY"
      },
      "source": [
        "%sql select case cust_state when 'MI' then 1 else 0 end as c from customers;"
      ],
      "execution_count": null,
      "outputs": []
    }
  ]
}