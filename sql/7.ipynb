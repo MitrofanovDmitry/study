{
  "nbformat": 4,
  "nbformat_minor": 0,
  "metadata": {
    "colab": {
      "name": "scientists.ipynb",
      "provenance": [],
      "collapsed_sections": []
    },
    "kernelspec": {
      "name": "python3",
      "display_name": "Python 3"
    }
  },
  "cells": [
    {
      "cell_type": "markdown",
      "metadata": {
        "id": "aZGh4PXwgFnj"
      },
      "source": [
        "https://en.m.wikibooks.org/wiki/SQL_Exercises/Scientists  "
      ]
    },
    {
      "cell_type": "code",
      "metadata": {
        "id": "0xkyathsgCm4"
      },
      "source": [
        "%load_ext sql\n",
        "%sql sqlite:///db.db3"
      ],
      "execution_count": null,
      "outputs": []
    },
    {
      "cell_type": "code",
      "metadata": {
        "id": "6H57uXJagEbG"
      },
      "source": [
        "%%sql sqlite://\n",
        "\n",
        "create table Scientists (\n",
        "  SSN int,\n",
        "  Name Char(30) not null,\n",
        "  Primary Key (SSN)\n",
        ");\n",
        "\n",
        "Create table Projects (\n",
        "  Code Char(4),\n",
        "  Name Char(50) not null,\n",
        "  Hours int,\n",
        "  Primary Key (Code)\n",
        ");\n",
        "\t\n",
        "create table AssignedTo (\n",
        "  Scientist int not null,\n",
        "  Project char(4) not null,\n",
        "  Primary Key (Scientist, Project),\n",
        "  Foreign Key (Scientist) references Scientists (SSN),\n",
        "  Foreign Key (Project) references Projects (Code)\n",
        ");\n",
        "\n",
        "INSERT INTO Scientists(SSN,Name) \n",
        "  VALUES(123234877,'Michael Rogers'),\n",
        "    (152934485,'Anand Manikutty'),\n",
        "    (222364883, 'Carol Smith'),\n",
        "    (326587417,'Joe Stevens'),\n",
        "    (332154719,'Mary-Anne Foster'),\t\n",
        "    (332569843,'George ODonnell'),\n",
        "    (546523478,'John Doe'),\n",
        "    (631231482,'David Smith'),\n",
        "    (654873219,'Zacary Efron'),\n",
        "    (745685214,'Eric Goldsmith'),\n",
        "    (845657245,'Elizabeth Doe'),\n",
        "    (845657246,'Kumar Swamy');\n",
        "\n",
        "INSERT INTO Projects ( Code,Name,Hours)\n",
        " VALUES ('AeH1','Winds: Studying Bernoullis Principle', 156),\n",
        "       ('AeH2','Aerodynamics and Bridge Design',189),\n",
        "       ('AeH3','Aerodynamics and Gas Mileage', 256),\n",
        "       ('AeH4','Aerodynamics and Ice Hockey', 789),\n",
        "       ('AeH5','Aerodynamics of a Football', 98),\n",
        "       ('AeH6','Aerodynamics of Air Hockey',89),\n",
        "       ('Ast1','A Matter of Time',112),\n",
        "       ('Ast2','A Puzzling Parallax', 299),\n",
        "       ('Ast3','Build Your Own Telescope', 6546),\n",
        "       ('Bte1','Juicy: Extracting Apple Juice with Pectinase', 321),\n",
        "       ('Bte2','A Magnetic Primer Designer', 9684),\n",
        "       ('Bte3','Bacterial Transformation Efficiency', 321),\n",
        "       ('Che1','A Silver-Cleaning Battery', 545),\n",
        "       ('Che2','A Soluble Separation Solution', 778);\n",
        "\n",
        "INSERT INTO AssignedTo ( Scientist, Project)\n",
        "   VALUES (123234877,'AeH1'),\n",
        "    (152934485,'AeH3'),\n",
        "    (222364883,'Ast3'),\t   \n",
        "    (326587417,'Ast3'),\n",
        "    (332154719,'Bte1'),\n",
        "    (546523478,'Che1'),\n",
        "    (631231482,'Ast3'),\n",
        "    (654873219,'Che1'),\n",
        "    (745685214,'AeH3'),\n",
        "    (845657245,'Ast1'),\n",
        "    (845657246,'Ast2'),\n",
        "    (332569843,'AeH4');"
      ],
      "execution_count": null,
      "outputs": []
    },
    {
      "cell_type": "code",
      "metadata": {
        "id": "UrA7qz3WgVIz"
      },
      "source": [
        "# 1. List all the scientists' names, their projects' names, and the hours worked by that scientist on each project, in alphabetical order of project name, then scientist name.\n",
        "%sql select s.name, p.name, p.hours from scientists as s inner join assignedto as a on s.ssn = a.scientist inner join projects as p on a.project = p.code order by p.name, s.name;"
      ],
      "execution_count": null,
      "outputs": []
    }
  ]
}