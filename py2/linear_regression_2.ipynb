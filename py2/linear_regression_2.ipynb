{
  "nbformat": 4,
  "nbformat_minor": 0,
  "metadata": {
    "colab": {
      "name": "linear_regression_2.ipynb",
      "provenance": [],
      "collapsed_sections": []
    },
    "kernelspec": {
      "name": "python3",
      "display_name": "Python 3"
    }
  },
  "cells": [
    {
      "cell_type": "markdown",
      "metadata": {
        "id": "6vlVsPVunMzf"
      },
      "source": [
        "**Linear Regression Using One Variable**\n",
        "\n",
        "https://www.youtube.com/watch?v=8jazNUpO3lQ\n",
        "\n",
        "https://github.com/codebasics/py/blob/master/ML/1_linear_reg/"
      ]
    },
    {
      "cell_type": "code",
      "metadata": {
        "id": "055JRTsBA20A"
      },
      "source": [
        "!pip install pandas matplotlib sklearn"
      ],
      "execution_count": null,
      "outputs": []
    },
    {
      "cell_type": "code",
      "metadata": {
        "id": "_Mcv1WOF3Hsm"
      },
      "source": [
        "import pandas as pd\n",
        "import matplotlib.pyplot as plt\n",
        "from sklearn import linear_model\n",
        "from io import StringIO"
      ],
      "execution_count": null,
      "outputs": []
    },
    {
      "cell_type": "code",
      "metadata": {
        "id": "PwLTuVJo24fa",
        "colab": {
          "base_uri": "https://localhost:8080/",
          "height": 204
        },
        "outputId": "5883d7e0-e4fa-4e68-8f3a-567c9c96aec7"
      },
      "source": [
        "INCOME_CSV_STR = \"\"\"\n",
        "year,income\n",
        "1970,3399.299037\n",
        "1971,3768.297935\n",
        "1972,4251.175484\n",
        "1973,4804.463248\n",
        "1974,5576.514583\n",
        "1975,5998.144346\n",
        "1976,7062.131392\n",
        "1977,7100.12617\n",
        "1978,7247.967035\n",
        "1979,7602.912681\n",
        "1980,8355.96812\n",
        "1981,9434.390652\n",
        "1982,9619.438377\n",
        "1983,10416.53659\n",
        "1984,10790.32872\n",
        "1985,11018.95585\n",
        "1986,11482.89153\n",
        "1987,12974.80662\n",
        "1988,15080.28345\n",
        "1989,16426.72548\n",
        "1990,16838.6732\n",
        "1991,17266.09769\n",
        "1992,16412.08309\n",
        "1993,15875.58673\n",
        "1994,15755.82027\n",
        "1995,16369.31725\n",
        "1996,16699.82668\n",
        "1997,17310.75775\n",
        "1998,16622.67187\n",
        "1999,17581.02414\n",
        "2000,18987.38241\n",
        "2001,18601.39724\n",
        "2002,19232.17556\n",
        "2003,22739.42628\n",
        "2004,25719.14715\n",
        "2005,29198.05569\n",
        "2006,32738.2629\n",
        "2007,36144.48122\n",
        "2008,37446.48609\n",
        "2009,32755.17682\n",
        "2010,38420.52289\n",
        "2011,42334.71121\n",
        "2012,42665.25597\n",
        "2013,42676.46837\n",
        "2014,41039.8936\n",
        "2015,35175.18898\n",
        "2016,34229.19363\n",
        "\"\"\"\n",
        "\n",
        "df = pd.read_csv(StringIO(INCOME_CSV_STR))\n",
        "df.head()"
      ],
      "execution_count": null,
      "outputs": [
        {
          "output_type": "execute_result",
          "data": {
            "text/html": [
              "<div>\n",
              "<style scoped>\n",
              "    .dataframe tbody tr th:only-of-type {\n",
              "        vertical-align: middle;\n",
              "    }\n",
              "\n",
              "    .dataframe tbody tr th {\n",
              "        vertical-align: top;\n",
              "    }\n",
              "\n",
              "    .dataframe thead th {\n",
              "        text-align: right;\n",
              "    }\n",
              "</style>\n",
              "<table border=\"1\" class=\"dataframe\">\n",
              "  <thead>\n",
              "    <tr style=\"text-align: right;\">\n",
              "      <th></th>\n",
              "      <th>year</th>\n",
              "      <th>income</th>\n",
              "    </tr>\n",
              "  </thead>\n",
              "  <tbody>\n",
              "    <tr>\n",
              "      <th>0</th>\n",
              "      <td>1970</td>\n",
              "      <td>3399.299037</td>\n",
              "    </tr>\n",
              "    <tr>\n",
              "      <th>1</th>\n",
              "      <td>1971</td>\n",
              "      <td>3768.297935</td>\n",
              "    </tr>\n",
              "    <tr>\n",
              "      <th>2</th>\n",
              "      <td>1972</td>\n",
              "      <td>4251.175484</td>\n",
              "    </tr>\n",
              "    <tr>\n",
              "      <th>3</th>\n",
              "      <td>1973</td>\n",
              "      <td>4804.463248</td>\n",
              "    </tr>\n",
              "    <tr>\n",
              "      <th>4</th>\n",
              "      <td>1974</td>\n",
              "      <td>5576.514583</td>\n",
              "    </tr>\n",
              "  </tbody>\n",
              "</table>\n",
              "</div>"
            ],
            "text/plain": [
              "   year       income\n",
              "0  1970  3399.299037\n",
              "1  1971  3768.297935\n",
              "2  1972  4251.175484\n",
              "3  1973  4804.463248\n",
              "4  1974  5576.514583"
            ]
          },
          "metadata": {
            "tags": []
          },
          "execution_count": 11
        }
      ]
    },
    {
      "cell_type": "code",
      "metadata": {
        "id": "rbccg9ZR4wRX",
        "colab": {
          "base_uri": "https://localhost:8080/",
          "height": 34
        },
        "outputId": "b5c22cc3-6d11-48e0-df7e-dc2f493e69bb"
      },
      "source": [
        "reg = linear_model.LinearRegression()\n",
        "reg.fit(df[['year']], df.income)"
      ],
      "execution_count": null,
      "outputs": [
        {
          "output_type": "execute_result",
          "data": {
            "text/plain": [
              "LinearRegression(copy_X=True, fit_intercept=True, n_jobs=None, normalize=False)"
            ]
          },
          "metadata": {
            "tags": []
          },
          "execution_count": 12
        }
      ]
    },
    {
      "cell_type": "code",
      "metadata": {
        "id": "U39_EsbN47_n",
        "colab": {
          "base_uri": "https://localhost:8080/",
          "height": 34
        },
        "outputId": "2226c61f-1333-424e-db7a-42c992f04eab"
      },
      "source": [
        "reg.predict([[2020]])"
      ],
      "execution_count": null,
      "outputs": [
        {
          "output_type": "execute_result",
          "data": {
            "text/plain": [
              "array([41288.69409442])"
            ]
          },
          "metadata": {
            "tags": []
          },
          "execution_count": 13
        }
      ]
    },
    {
      "cell_type": "code",
      "metadata": {
        "id": "d56FOqDc32oh",
        "colab": {
          "base_uri": "https://localhost:8080/",
          "height": 305
        },
        "outputId": "b136c034-9691-426a-bdd0-dd292a33d76d"
      },
      "source": [
        "%matplotlib inline\n",
        "plt.xlabel('year', fontsize=20)\n",
        "plt.ylabel('income', fontsize=20)\n",
        "plt.scatter(df.year, df.income, color='red', marker='+')\n",
        "plt.plot(df.year, reg.predict(df[['year']]), color='blue')"
      ],
      "execution_count": null,
      "outputs": [
        {
          "output_type": "execute_result",
          "data": {
            "text/plain": [
              "[<matplotlib.lines.Line2D at 0x7f2fa1b1e080>]"
            ]
          },
          "metadata": {
            "tags": []
          },
          "execution_count": 14
        },
        {
          "output_type": "display_data",
          "data": {
            "image/png": "[encoded data removed]",
            "text/plain": [
              "<Figure size 432x288 with 1 Axes>"
            ]
          },
          "metadata": {
            "tags": [],
            "needs_background": "light"
          }
        }
      ]
    }
  ]
}