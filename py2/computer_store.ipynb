{
 "cells": [
  {
   "cell_type": "markdown",
   "metadata": {
    "id": "M8rgUE2QlVC2"
   },
   "source": [
    "https://en.m.wikibooks.org/wiki/SQL_Exercises/The_computer_store"
   ]
  },
  {
   "cell_type": "code",
   "execution_count": null,
   "metadata": {
    "id": "ICiCmixKXqXF"
   },
   "outputs": [],
   "source": [
    "%load_ext sql\n",
    "%sql sqlite:///db.db3"
   ]
  },
  {
   "cell_type": "code",
   "execution_count": null,
   "metadata": {
    "id": "tyH0FHQiXvnf"
   },
   "outputs": [],
   "source": [
    "%%sql sqlite://\n",
    " \n",
    "CREATE TABLE Manufacturers (\n",
    "    Code INTEGER PRIMARY KEY NOT NULL,\n",
    "    Name CHAR(50) NOT NULL \n",
    ");\n",
    " \n",
    "CREATE TABLE Products (\n",
    "    Code INTEGER PRIMARY KEY NOT NULL,\n",
    "    Name CHAR(50) NOT NULL ,\n",
    "    Price REAL NOT NULL ,\n",
    "    Manufacturer INTEGER NOT NULL \n",
    "        CONSTRAINT fk_Manufacturers_Code REFERENCES Manufacturers(Code)\n",
    ");\n",
    "\n",
    "INSERT INTO Manufacturers(Code,Name) VALUES(1,'Sony');\n",
    "INSERT INTO Manufacturers(Code,Name) VALUES(2,'Creative Labs');\n",
    "INSERT INTO Manufacturers(Code,Name) VALUES(3,'Hewlett-Packard');\n",
    "INSERT INTO Manufacturers(Code,Name) VALUES(4,'Iomega');\n",
    "INSERT INTO Manufacturers(Code,Name) VALUES(5,'Fujitsu');\n",
    "INSERT INTO Manufacturers(Code,Name) VALUES(6,'Winchester');\n",
    " \n",
    "INSERT INTO Products(Code,Name,Price,Manufacturer) VALUES(1,'Hard drive',240,5);\n",
    "INSERT INTO Products(Code,Name,Price,Manufacturer) VALUES(2,'Memory',120,6);\n",
    "INSERT INTO Products(Code,Name,Price,Manufacturer) VALUES(3,'ZIP drive',150,4);\n",
    "INSERT INTO Products(Code,Name,Price,Manufacturer) VALUES(4,'Floppy disk',5,6);\n",
    "INSERT INTO Products(Code,Name,Price,Manufacturer) VALUES(5,'Monitor',240,1);\n",
    "INSERT INTO Products(Code,Name,Price,Manufacturer) VALUES(6,'DVD drive',180,2);\n",
    "INSERT INTO Products(Code,Name,Price,Manufacturer) VALUES(7,'CD drive',90,2);\n",
    "INSERT INTO Products(Code,Name,Price,Manufacturer) VALUES(8,'Printer',270,3);\n",
    "INSERT INTO Products(Code,Name,Price,Manufacturer) VALUES(9,'Toner cartridge',66,3);\n",
    "INSERT INTO Products(Code,Name,Price,Manufacturer) VALUES(10,'DVD burner',180,2);"
   ]
  },
  {
   "cell_type": "code",
   "execution_count": null,
   "metadata": {
    "id": "Yk_7nYs4aD9h"
   },
   "outputs": [],
   "source": [
    "# 1. Select the names of all the products in the store.\n",
    "%sql select name from products;"
   ]
  },
  {
   "cell_type": "code",
   "execution_count": null,
   "metadata": {
    "id": "oqGsa9kVaR-k"
   },
   "outputs": [],
   "source": [
    "# 2. Select the names and the prices of all the products in the store.\n",
    "%sql select name, price from products;"
   ]
  },
  {
   "cell_type": "code",
   "execution_count": null,
   "metadata": {
    "id": "MLaHvVYGaUU7"
   },
   "outputs": [],
   "source": [
    "# 3. Select the name of the products with a price less than or equal to $200.\n",
    "%sql select name from products where price <= 200;"
   ]
  },
  {
   "cell_type": "code",
   "execution_count": null,
   "metadata": {
    "id": "KgvP58F0aWqr"
   },
   "outputs": [],
   "source": [
    "# 4. Select all the products with a price between $60 and $120.\n",
    "%sql select name from products where price between 60 and 120;"
   ]
  },
  {
   "cell_type": "code",
   "execution_count": null,
   "metadata": {
    "id": "xPePkdGGaYu8"
   },
   "outputs": [],
   "source": [
    "# 5. Select the name and price in cents (i.e., the price must be multiplied by 100).\n",
    "%sql select name, price*100 as cents from products;"
   ]
  },
  {
   "cell_type": "code",
   "execution_count": null,
   "metadata": {
    "id": "2B6BrIHwabSt"
   },
   "outputs": [],
   "source": [
    "# 6. Compute the average price of all the products.\n",
    "%sql select avg(price) from products;"
   ]
  },
  {
   "cell_type": "code",
   "execution_count": null,
   "metadata": {
    "id": "J12Zpr-saeJl"
   },
   "outputs": [],
   "source": [
    "# 7. Compute the average price of all products with manufacturer code equal to 2.\n",
    "%sql select avg(price) from products where manufacturer = 2;"
   ]
  },
  {
   "cell_type": "code",
   "execution_count": null,
   "metadata": {
    "id": "yWVYtsOxagJ9"
   },
   "outputs": [],
   "source": [
    "# 8. Compute the number of products with a price larger than or equal to $180.\n",
    "%sql select count(*) from products where price >= 180;"
   ]
  },
  {
   "cell_type": "code",
   "execution_count": null,
   "metadata": {
    "id": "9TuWMo0Eaiku"
   },
   "outputs": [],
   "source": [
    "# 9. Select the name and price of all products with a price larger than or equal to $180, and sort first by price (in descending order), and then by name (in ascending order).\n",
    "%sql select name, price from products where price >= 180 order by price desc, name;"
   ]
  },
  {
   "cell_type": "code",
   "execution_count": null,
   "metadata": {
    "id": "Ce-wE-Upal-v"
   },
   "outputs": [],
   "source": [
    "# 10. Select all the data from the products, including all the data for each product's manufacturer.\n",
    "%sql select * from products inner join manufacturers on products.manufacturer = manufacturers.code;"
   ]
  },
  {
   "cell_type": "code",
   "execution_count": null,
   "metadata": {
    "id": "UZY9kFnNan23"
   },
   "outputs": [],
   "source": [
    "# 11. Select the product name, price, and manufacturer name of all the products.\n",
    "%sql select p.name, p.price, m.name from products as p inner join manufacturers as m on p.manufacturer = m.code;"
   ]
  },
  {
   "cell_type": "code",
   "execution_count": null,
   "metadata": {
    "id": "ATjwRyzSape3"
   },
   "outputs": [],
   "source": [
    "# 12. Select the average price of each manufacturer's products, showing only the manufacturer's code.\n",
    "%sql select manufacturer, avg(price) from products group by manufacturer;"
   ]
  },
  {
   "cell_type": "code",
   "execution_count": null,
   "metadata": {
    "id": "UmsXeQNsarkp"
   },
   "outputs": [],
   "source": [
    "# 13. Select the average price of each manufacturer's products, showing the manufacturer's name.\n",
    "%sql select m.name, avg(p.price) from products as p, manufacturers as m where p.manufacturer = m.code group by m.name;"
   ]
  },
  {
   "cell_type": "code",
   "execution_count": null,
   "metadata": {
    "id": "XMTGl02nmrUq"
   },
   "outputs": [],
   "source": [
    "%sql select m.name, avg(p.price) from products as p inner join manufacturers as m on p.manufacturer = m.code group by m.name;"
   ]
  },
  {
   "cell_type": "code",
   "execution_count": null,
   "metadata": {
    "id": "qWsm5GrIat3R"
   },
   "outputs": [],
   "source": [
    "# 14. Select the names of manufacturer whose products have an average price larger than or equal to $150.\n",
    "%sql select m.name, avg(p.price) from products as p inner join manufacturers as m on p.manufacturer = m.code group by m.name having avg(p.price) >= 150;"
   ]
  },
  {
   "cell_type": "code",
   "execution_count": null,
   "metadata": {
    "id": "du_K2b-Gav2j"
   },
   "outputs": [],
   "source": [
    "# 15. Select the name and price of the cheapest product.\n",
    "%sql select name, price from products where price = (select min(price) from products);"
   ]
  },
  {
   "cell_type": "code",
   "execution_count": null,
   "metadata": {
    "id": "7ORfBXoJn31A"
   },
   "outputs": [],
   "source": [
    "%sql select name, price from products order by price asc limit 1;"
   ]
  },
  {
   "cell_type": "code",
   "execution_count": null,
   "metadata": {
    "id": "OkJ7cKucZUL4"
   },
   "outputs": [],
   "source": [
    "# 16. Select the name of each manufacturer along with the name and price of its most expensive product.\n",
    "%sql select distinct m.name, p.price from products as p inner join manufacturers as m on p.manufacturer = m.code and p.price = (select max(price) from products where products.manufacturer = m.code) order by m.name;"
   ]
  },
  {
   "cell_type": "code",
   "execution_count": null,
   "metadata": {
    "id": "OZrri1B1aeet"
   },
   "outputs": [],
   "source": [
    "%sql select name, (select max(price) from products where products.manufacturer = manufacturers.code) as max_price from manufacturers order by name;"
   ]
  },
  {
   "cell_type": "code",
   "execution_count": null,
   "metadata": {
    "id": "i6cDtkqTbMEc"
   },
   "outputs": [],
   "source": [
    "%sql select m.name, max(p.price) from products as p inner join manufacturers as m on p.manufacturer = m.code group by m.code order by m.name;"
   ]
  },
  {
   "cell_type": "code",
   "execution_count": null,
   "metadata": {
    "id": "8ChxJCw-b5tL"
   },
   "outputs": [],
   "source": [
    "# 17. Select the name of each manufacturer which have an average price above $145 and contain at least 2 different products.\n",
    "%sql select m.name, avg(p.price), count(*) from products as p inner join manufacturers as m on p.manufacturer = m.code group by m.name having avg(p.price) >= 145 and count(*) >= 2;"
   ]
  },
  {
   "cell_type": "code",
   "execution_count": null,
   "metadata": {
    "id": "XAIXu8r1bAFk"
   },
   "outputs": [],
   "source": [
    "# 18. Add a new product: Loudspeakers, $70, manufacturer 2.\n",
    "%sql insert into products (name, price, manufacturer) values ('Loudspeakers', 70, 2);"
   ]
  },
  {
   "cell_type": "code",
   "execution_count": null,
   "metadata": {
    "id": "Q_Oyg5TgbB5B"
   },
   "outputs": [],
   "source": [
    "# 19. Update the name of product 8 to \"Laser Printer\".\n",
    "%sql update products set name = 'Laser Printer' where code = 8;"
   ]
  },
  {
   "cell_type": "code",
   "execution_count": null,
   "metadata": {
    "id": "WMm9JbT7bDv-"
   },
   "outputs": [],
   "source": [
    "# 20. Apply a 10% discount to all products.\n",
    "%sql update products set price = price * 0.9;"
   ]
  },
  {
   "cell_type": "code",
   "execution_count": null,
   "metadata": {
    "id": "GXAUL-RZbdwM"
   },
   "outputs": [],
   "source": [
    "# 21. Apply a 10% discount to all products with a price larger than or equal to $120.\n",
    "%sql update products set price = price * 0.9 where price >= 120;"
   ]
  }
 ],
 "metadata": {
  "colab": {
   "collapsed_sections": [],
   "name": "the_computer_store.ipynb",
   "provenance": []
  },
  "kernelspec": {
   "display_name": "Python 3",
   "language": "python",
   "name": "python3"
  },
  "language_info": {
   "codemirror_mode": {
    "name": "ipython",
    "version": 3
   },
   "file_extension": ".py",
   "mimetype": "text/x-python",
   "name": "python",
   "nbconvert_exporter": "python",
   "pygments_lexer": "ipython3",
   "version": "3.8.5"
  }
 },
 "nbformat": 4,
 "nbformat_minor": 1
}
